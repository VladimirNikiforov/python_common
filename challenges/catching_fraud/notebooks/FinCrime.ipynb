{
 "cells": [
  {
   "cell_type": "markdown",
   "metadata": {},
   "source": [
    "# Vladimir Nikiforov"
   ]
  },
  {
   "cell_type": "markdown",
   "metadata": {},
   "source": [
    "### PART 0 - PREPARE ENV"
   ]
  },
  {
   "cell_type": "code",
   "execution_count": 1,
   "metadata": {},
   "outputs": [
    {
     "name": "stdout",
     "output_type": "stream",
     "text": [
      "ht_pg_server\n",
      "74c19080eb4c\n",
      "Untagged: postgres:11\n",
      "Untagged: postgres@sha256:68b49a280d2fbe9330c0031970ebb72015e1272dfa25f0ed7557514f9e5ad7b7\n",
      "Deleted: sha256:53912975086f1470f877922e3eb79c4f17c403fcb0b51b1f45df9b623987600e\n",
      "Deleted: sha256:859135cc89a4161becb56082dc95772d26d157bc67622be28ccab159cee9c520\n",
      "Deleted: sha256:85d5ba072f703aed8ed136ee24ef0a5c22fb818e307db40be0637df1691546fe\n",
      "Deleted: sha256:44bc37a16317acf120ebcb0b8aa2cf8738f0dcc40ca47f18d9d5789099089cd0\n",
      "Deleted: sha256:050e2fbc4c511fff109624929dcc24d61f4565052ffd6e30e3d46d42ce65c576\n",
      "Deleted: sha256:6e7901ce413d382c6544cf07b5370341507a4734525947ecef28944c041e39b6\n",
      "Deleted: sha256:c0d5a0e28851bc9a301c0cb92e03c036c1a4b0d8da1efc4a16a921abdd641e3e\n",
      "Deleted: sha256:21cf04dd5b4e7ddbe4a7f122b532038c351eef9057ff71940a1a0a36069fabd5\n",
      "Deleted: sha256:5eba02d7eb8edfd2d0c4503cd6976cfb526e96c4f62960bac5efdf86a1e71e4f\n",
      "Deleted: sha256:0e0ff67afa7921baa6b3c7afd83664752663b5b8704c5236941359003e6f8887\n",
      "Deleted: sha256:915e9e2c13848dc5933cea4c23b53649971b434b1dc1a8ca208f3f47f86ceab1\n",
      "Deleted: sha256:b36245f574fc056b60e016e9db27440a7daac357cf2cc1eb2407a791b01d5ea0\n",
      "Deleted: sha256:33caa0d1d5a95acf62a0767e830c2f656d652771edd7b8c7b04bf97af98ba40f\n",
      "Deleted: sha256:c2c9479f4b920b4454d1b077424280197a3ee03a4c157fec41427af7683dce95\n",
      "Deleted: sha256:d56055da3352f918f4d8a42350385ea5b10d0906e746a8fbb4b850f9284deee5\n"
     ]
    }
   ],
   "source": [
    "# Stop previously runned server\n",
    "!docker stop ht_pg_server\n",
    "!docker rm $(docker ps -a -q)\n",
    "!docker rmi $(docker images -q)"
   ]
  },
  {
   "cell_type": "code",
   "execution_count": 2,
   "metadata": {},
   "outputs": [
    {
     "name": "stdout",
     "output_type": "stream",
     "text": [
      "Unable to find image 'postgres:11' locally\n",
      "11: Pulling from library/postgres\n",
      "\n",
      "\u001b[1B\n",
      "\u001b[1B\n",
      "\u001b[1B\n",
      "\u001b[1B\n",
      "\u001b[1B\n",
      "\u001b[1B\n",
      "\u001b[1B\n",
      "\u001b[1B\n",
      "\u001b[1B\n",
      "\u001b[1B\n",
      "\u001b[1B\n",
      "\u001b[8B\n",
      "\u001b[8B\n",
      "\u001b[1BDigest: sha256:68b49a280d2fbe9330c0031970ebb72015e1272dfa25f0ed7557514f9e5ad7b7\n",
      "Status: Downloaded newer image for postgres:11\n",
      "e72c914ed97202ccf7801714d9c566844e4cbab2e7b84292a41a1eaf8aeb78b2\n"
     ]
    }
   ],
   "source": [
    "# Run the server:\n",
    "!docker run -d --name ht_pg_server -v ht_dbdata:/var/lib/postgresql/data -p 54320:5432 postgres:11"
   ]
  },
  {
   "cell_type": "code",
   "execution_count": 3,
   "metadata": {},
   "outputs": [
    {
     "name": "stdout",
     "output_type": "stream",
     "text": [
      "2019-07-21 14:19:36.820 UTC [1] LOG:  listening on IPv4 address \"0.0.0.0\", port 5432\n",
      "2019-07-21 14:19:36.820 UTC [1] LOG:  listening on IPv6 address \"::\", port 5432\n",
      "2019-07-21 14:19:36.830 UTC [1] LOG:  listening on Unix socket \"/var/run/postgresql/.s.PGSQL.5432\"\n",
      "2019-07-21 14:19:36.863 UTC [26] LOG:  database system was interrupted; last known up at 2019-07-20 16:15:15 UTC\n"
     ]
    }
   ],
   "source": [
    "# Checking the logs to see if it is running:\n",
    "!docker logs ht_pg_server"
   ]
  },
  {
   "cell_type": "code",
   "execution_count": 4,
   "metadata": {},
   "outputs": [
    {
     "name": "stdout",
     "output_type": "stream",
     "text": [
      "DROP DATABASE\n",
      "CREATE DATABASE\n"
     ]
    }
   ],
   "source": [
    "# Creating the database:\n",
    "!docker exec -it ht_pg_server psql -U postgres -c \"drop database ht_db\"\n",
    "!docker exec -it ht_pg_server psql -U postgres -c \"create database ht_db\""
   ]
  },
  {
   "cell_type": "code",
   "execution_count": 5,
   "metadata": {},
   "outputs": [
    {
     "name": "stdout",
     "output_type": "stream",
     "text": [
      "import psycopg2 as pg\n",
      "import yaml\n",
      "from pathlib import Path\n",
      "import os\n",
      "import pandas as pd\n",
      "\n",
      "def create_tables(config, connection):\n",
      "    cur = connection.cursor()\n",
      "    for table in config:\n",
      "        name = table.get('name')\n",
      "        schema = table.get('schema')\n",
      "        ddl = f\"\"\"CREATE TABLE IF NOT EXISTS {name} ({schema})\"\"\"\n",
      "        cur.execute(ddl)\n",
      "\n",
      "    connection.commit()\n",
      "    cur.close()\n",
      "\n",
      "def transform_tables(config):\n",
      "\n",
      "    data_path = \"../data/\"\n",
      "\n",
      "    for table in config:\n",
      "        table_name = table.get('name')\n",
      "        table_source = os.path.join(data_path,f\"{table_name}.csv\")\n",
      "        table_cols = []\n",
      "        for i in table.get('columns'):\n",
      "            table_cols.append(str.upper(i))\n",
      "        df = pd.read_csv(table_source)\n",
      "        df_reorder = df[table_cols]  # rearrange column here\n",
      "        df_reorder.to_csv(table_source, index=False)\n",
      "\n",
      "def load_tables(config, connection):\n",
      "\n",
      "    # iterate and load\n",
      "    cur = connection.cursor()\n",
      "    data_path = \"../data/\"\n",
      "\n",
      "    for table in config:\n",
      "        table_name = table.get('name')\n",
      "        table_source = os.path.join(data_path,f\"{table_name}.csv\")\n",
      "        with open(table_source, 'r') as f:\n",
      "            next(f)\n",
      "            cur.copy_expert(f\"COPY {table_name} FROM STDIN CSV NULL AS ''\", f)\n",
      "        connection.commit()\n",
      "    cur.close()\n",
      "\n",
      "\n",
      "connection = pg.connect(\n",
      "    host='localhost',\n",
      "    port=54320,\n",
      "    dbname='ht_db',\n",
      "    user='postgres'\n",
      ")\n",
      "\n",
      "with open(\"../misc/schemas.yaml\") as schema_file:\n",
      "    config = yaml.load(schema_file)\n",
      "create_tables(config, connection)\n",
      "transform_tables(config)\n",
      "load_tables(config, connection)\n",
      "\n",
      "connection.close()"
     ]
    }
   ],
   "source": [
    "!cat ../code/etl.py"
   ]
  },
  {
   "cell_type": "code",
   "execution_count": 6,
   "metadata": {},
   "outputs": [
    {
     "name": "stdout",
     "output_type": "stream",
     "text": [
      "/home/truename/anaconda3/lib/python3.7/site-packages/psycopg2/__init__.py:144: UserWarning: The psycopg2 wheel package will be renamed from release 2.8; in order to keep installing from binary please use \"pip install psycopg2-binary\" instead. For details see: <http://initd.org/psycopg/docs/install.html#binary-install-from-pypi>.\n",
      "  \"\"\")\n"
     ]
    }
   ],
   "source": [
    "!python ../code/etl.py"
   ]
  },
  {
   "cell_type": "markdown",
   "metadata": {},
   "source": [
    "### PART I - DATABASES"
   ]
  },
  {
   "cell_type": "code",
   "execution_count": 7,
   "metadata": {},
   "outputs": [
    {
     "name": "stderr",
     "output_type": "stream",
     "text": [
      "/home/truename/anaconda3/lib/python3.7/site-packages/psycopg2/__init__.py:144: UserWarning: The psycopg2 wheel package will be renamed from release 2.8; in order to keep installing from binary please use \"pip install psycopg2-binary\" instead. For details see: <http://initd.org/psycopg/docs/install.html#binary-install-from-pypi>.\n",
      "  \"\"\")\n"
     ]
    }
   ],
   "source": [
    "import psycopg2"
   ]
  },
  {
   "cell_type": "code",
   "execution_count": 8,
   "metadata": {},
   "outputs": [],
   "source": [
    "def get_values(table, connection: psycopg2.extensions.connection):\n",
    "    c = connection.cursor()\n",
    "    c.execute(f\"SELECT * FROM {table};\")\n",
    "    result = c.fetchone()\n",
    "    print(result)\n",
    "    c.close()"
   ]
  },
  {
   "cell_type": "code",
   "execution_count": 9,
   "metadata": {},
   "outputs": [],
   "source": [
    "# Create connection to DB\n",
    "connection = psycopg2.connect(\n",
    "    host='localhost',\n",
    "    port=54320,\n",
    "    dbname='ht_db',\n",
    "    user='postgres',\n",
    ")"
   ]
  },
  {
   "cell_type": "code",
   "execution_count": 10,
   "metadata": {},
   "outputs": [
    {
     "name": "stdout",
     "output_type": "stream",
     "text": [
      "('1872820f-e3ac-4c02-bdc7-727897b60043', True, 'GB||JE||IM||GG', False, datetime.date(2018, 5, 25), datetime.datetime(2017, 8, 6, 7, 33, 33, 341000), 'ACTIVE', 'GB', 1971, 'PASSED', 0)\n"
     ]
    }
   ],
   "source": [
    "# Test table Users\n",
    "get_values(\"users\", connection)"
   ]
  },
  {
   "cell_type": "code",
   "execution_count": 11,
   "metadata": {},
   "outputs": [
    {
     "name": "stdout",
     "output_type": "stream",
     "text": [
      "('GBP', 175, 'COMPLETED', datetime.datetime(2017, 12, 20, 12, 46, 20, 294000), 'cafe', 'GBR', 'cont', '8f99c254-7cf2-4e35-b7e4-53804d42445d', 'CARD_PAYMENT', 'GAIA', 'b3332e6f-7865-4d6e-b6a5-370bc75568d8')\n"
     ]
    }
   ],
   "source": [
    "# Test table Transactions\n",
    "get_values(\"transactions\", connection)"
   ]
  },
  {
   "cell_type": "code",
   "execution_count": 12,
   "metadata": {},
   "outputs": [
    {
     "name": "stdout",
     "output_type": "stream",
     "text": [
      "('AF', 'Afghanistan', 'AFG', 4, 93)\n"
     ]
    }
   ],
   "source": [
    "# Test table Countries\n",
    "get_values(\"countries\", connection)"
   ]
  },
  {
   "cell_type": "code",
   "execution_count": 13,
   "metadata": {},
   "outputs": [
    {
     "name": "stdout",
     "output_type": "stream",
     "text": [
      "('AED', 2, False)\n"
     ]
    }
   ],
   "source": [
    "# Test table Currency_details\n",
    "get_values(\"currency_details\", connection)"
   ]
  },
  {
   "cell_type": "code",
   "execution_count": 14,
   "metadata": {},
   "outputs": [
    {
     "name": "stdout",
     "output_type": "stream",
     "text": [
      "('5270b0f4-2e4a-4ec9-8648-2135312ac1c4',)\n"
     ]
    }
   ],
   "source": [
    "# Test table Fraudsters\n",
    "get_values(\"fraudsters\", connection)"
   ]
  },
  {
   "cell_type": "code",
   "execution_count": 15,
   "metadata": {},
   "outputs": [],
   "source": [
    "# Close connection to DB\n",
    "connection.close()"
   ]
  },
  {
   "cell_type": "markdown",
   "metadata": {},
   "source": [
    "Database created and filled by data."
   ]
  },
  {
   "cell_type": "markdown",
   "metadata": {},
   "source": [
    "### PART II - EXPLORATION, ANALYSIS, MODELLING & OPERATIONALIZATION"
   ]
  },
  {
   "cell_type": "markdown",
   "metadata": {},
   "source": [
    "The fraudsters table indicates some individuals who have been marked as fraudsters. The goal is to use the data and your knowledge of Revolut to design an ML algorithm to identify fraudsters and conduct necessary actions. You should be considering the consequential impact of the model and its decisions on all domains (e.g. customers, revolut brand, internal processes, etc.).\n",
    "\n",
    "Unless explicitly stated, you do not have the read/write the data from/to the PostgreSQL database. Instead you may just utilize read_csv() methods in Pandas/Dask/anything else.\n",
    "\n",
    "    a) Explore the data for identified fraudsters and other users. What are your preliminary observations? \n",
    "\n",
    "    b) Feature Engineering\n",
    "        i) Utilizing your findings from part a) and some creativity, create some features. Explain your reasoning behind the features.\n",
    "        ii) Make a features.py script which when executed will create these features and store them in the DB. \n",
    "\n",
    "    c) Model Selection/Validation\n",
    "        i) Create an ML model which identifies fraudsters. Assess the quality of your model and explain.\n",
    "        ii) Make a train.py file which generates the fitted model artifact (it should be stored under the artifacts sub-directory).\n",
    "\n",
    "    d) Operationalization\n",
    "        i) How will you utilize this model to catch fraudsters? If a fraudster is identified, what should be the resulting action: LOCK_USER, ALERT_AGENT, or BOTH? Explain.\n",
    "        ii) Make a patrol.py file and write a simple function which implements your logic from above. The function should accept a user_id and yield the suggested action(s) (e.g. patrol(user_id) = [‘LOCK_USER’, ‘ALERT_AGENT’])\n",
    "\n",
    "LOCK_USER - Current transaction is blocked and user’s account is LOCKED. This prevents the user from performing any transactions with their Revolut account. Access can only be restored after contacting an agent.\n",
    "\n",
    "ALERT_AGENT - Current transaction is not blocked. An alert is sent to a transaction monitoring agent for further review."
   ]
  },
  {
   "cell_type": "markdown",
   "metadata": {},
   "source": [
    "## Data\n",
    "1. countries.csv\n",
    "\t- a table with all alpha-numeric representations of countries. You may need to use this to standardise country codes to one format\n",
    "2. fraudsters.csv\n",
    "\t- this just holds a list of IDs of users who have been identified as fraudsters for this problem\n",
    "\t- there are others in the users table who are fraudsters, the challenge is to identify them as well\n",
    "3. users.csv\n",
    "\t- a table of user data\n",
    "\t- **kyc** column indicates the status of the user's identity verification process\n",
    "\t- **terms_version** column indiciates the user's current version of the Revolut app\n",
    "\t- **state**\n",
    "\t\tLOCKED - the user's account is locked and they cannot perform any transactions. If there are transactions for this user, they occurred before the user was LOCKED.\n",
    "\n",
    "4. transactions.csv\n",
    "\t- all transactions conducted by users\n",
    "\t- **amount** and **amount_usd** is denominated in integers at the lowest unit. e.g. 5000 USD => 50 USD (because the lowest unit in USD is a cent, w/ 100 cents = 1 dollar)\n",
    "\t- **entry_method** is only relevant for card transactions (CARD_PAYMENT, ATM); you may ignore it for other transactions. The values are:\n",
    "\t\tmisc - unknown\n",
    "\t\tchip - chip on card\n",
    "\t\tmags - magstripe on card\n",
    "\t\tmanu - manual entry of card details\n",
    "\t\tcont - contactless/tap \n",
    "\t\tmcon - special case of magstripe & contactless\n",
    "\t- **source** is associated with an external party we use for handling this type of transaction. (e.g. all {CARD_PAYMENT, ATM} use GAIA)\n",
    "\t- **type**\n",
    "\t\tP2P - sending money internally through the Revolut platform (e.g. send money without bank account)\n",
    "\t\tBANK_TRANSFER - sending money externally to a bank account\n",
    "\t\tATM - withdrawing money from an ATM. Revolut does not support ATM deposits at the moment\n",
    "\n",
    "\t- **state** \n",
    "\t\tCOMPLETED - the transaction was completed and the user's balance was changed\n",
    "\t\tDECLINED/FAILED - the transaction was declined for some reason, usually pertains to insufficient balance \n",
    "\t\tREVERTED - the associated transaction was completed first but was then rolled back later in time potentially due to customer reaching out to Revolut\n",
    "\n",
    "5. currency_details.csv\n",
    "\t- a table with iso codes and exponents for currencies\n",
    "\t- **exponent** column can be used to convert the integer amounts in the transactions table into cash amounts. (e.g for 5000 GBP, exponent = 2, so we apply: 5000/(10^2) = 50 GBP)"
   ]
  },
  {
   "cell_type": "code",
   "execution_count": 16,
   "metadata": {},
   "outputs": [],
   "source": [
    "import pandas as pd\n",
    "import matplotlib.pyplot as plt\n",
    "import seaborn as sns\n",
    "\n",
    "from datetime import datetime\n",
    "import dateutil\n",
    "\n",
    "%matplotlib inline"
   ]
  },
  {
   "cell_type": "markdown",
   "metadata": {},
   "source": [
    "### Check all datasets"
   ]
  },
  {
   "cell_type": "code",
   "execution_count": 17,
   "metadata": {},
   "outputs": [
    {
     "name": "stdout",
     "output_type": "stream",
     "text": [
      "(688651, 11)\n"
     ]
    },
    {
     "data": {
      "text/html": [
       "<div>\n",
       "<style scoped>\n",
       "    .dataframe tbody tr th:only-of-type {\n",
       "        vertical-align: middle;\n",
       "    }\n",
       "\n",
       "    .dataframe tbody tr th {\n",
       "        vertical-align: top;\n",
       "    }\n",
       "\n",
       "    .dataframe thead th {\n",
       "        text-align: right;\n",
       "    }\n",
       "</style>\n",
       "<table border=\"1\" class=\"dataframe\">\n",
       "  <thead>\n",
       "    <tr style=\"text-align: right;\">\n",
       "      <th></th>\n",
       "      <th>CURRENCY</th>\n",
       "      <th>AMOUNT</th>\n",
       "      <th>STATE</th>\n",
       "      <th>CREATED_DATE</th>\n",
       "      <th>MERCHANT_CATEGORY</th>\n",
       "      <th>MERCHANT_COUNTRY</th>\n",
       "      <th>ENTRY_METHOD</th>\n",
       "      <th>USER_ID</th>\n",
       "      <th>TYPE</th>\n",
       "      <th>SOURCE</th>\n",
       "      <th>ID</th>\n",
       "    </tr>\n",
       "  </thead>\n",
       "  <tbody>\n",
       "    <tr>\n",
       "      <th>0</th>\n",
       "      <td>GBP</td>\n",
       "      <td>175</td>\n",
       "      <td>COMPLETED</td>\n",
       "      <td>2017-12-20 12:46:20.294</td>\n",
       "      <td>cafe</td>\n",
       "      <td>GBR</td>\n",
       "      <td>cont</td>\n",
       "      <td>8f99c254-7cf2-4e35-b7e4-53804d42445d</td>\n",
       "      <td>CARD_PAYMENT</td>\n",
       "      <td>GAIA</td>\n",
       "      <td>b3332e6f-7865-4d6e-b6a5-370bc75568d8</td>\n",
       "    </tr>\n",
       "    <tr>\n",
       "      <th>1</th>\n",
       "      <td>EUR</td>\n",
       "      <td>2593</td>\n",
       "      <td>COMPLETED</td>\n",
       "      <td>2017-12-20 12:38:47.232</td>\n",
       "      <td>bar</td>\n",
       "      <td>AUS</td>\n",
       "      <td>cont</td>\n",
       "      <td>ed773c34-2b83-4f70-a691-6a7aa1cb9f11</td>\n",
       "      <td>CARD_PAYMENT</td>\n",
       "      <td>GAIA</td>\n",
       "      <td>853d9ff8-a007-40ef-91a2-7d81e29a309a</td>\n",
       "    </tr>\n",
       "    <tr>\n",
       "      <th>2</th>\n",
       "      <td>EUR</td>\n",
       "      <td>1077</td>\n",
       "      <td>COMPLETED</td>\n",
       "      <td>2017-12-20 12:34:39.668</td>\n",
       "      <td>NaN</td>\n",
       "      <td>CZE</td>\n",
       "      <td>cont</td>\n",
       "      <td>eb349cc1-e986-4bf4-bb75-72280a7b8680</td>\n",
       "      <td>CARD_PAYMENT</td>\n",
       "      <td>GAIA</td>\n",
       "      <td>04de8238-7828-4e46-91f1-050a9aa7a9df</td>\n",
       "    </tr>\n",
       "    <tr>\n",
       "      <th>3</th>\n",
       "      <td>GBP</td>\n",
       "      <td>198</td>\n",
       "      <td>COMPLETED</td>\n",
       "      <td>2017-12-20 12:45:50.555</td>\n",
       "      <td>supermarket</td>\n",
       "      <td>GBR</td>\n",
       "      <td>cont</td>\n",
       "      <td>dc78fbc4-c936-45d3-a813-e2477ac6d74b</td>\n",
       "      <td>CARD_PAYMENT</td>\n",
       "      <td>GAIA</td>\n",
       "      <td>2b790b9b-c312-4098-a4b3-4830fc8cda53</td>\n",
       "    </tr>\n",
       "    <tr>\n",
       "      <th>4</th>\n",
       "      <td>EUR</td>\n",
       "      <td>990</td>\n",
       "      <td>COMPLETED</td>\n",
       "      <td>2017-12-20 12:45:32.722</td>\n",
       "      <td>NaN</td>\n",
       "      <td>FRA</td>\n",
       "      <td>cont</td>\n",
       "      <td>32958a5c-2532-42f7-94f9-127f2a812a55</td>\n",
       "      <td>CARD_PAYMENT</td>\n",
       "      <td>GAIA</td>\n",
       "      <td>6469fc3a-e535-41e9-91b9-acb46d1cc65d</td>\n",
       "    </tr>\n",
       "  </tbody>\n",
       "</table>\n",
       "</div>"
      ],
      "text/plain": [
       "  CURRENCY  AMOUNT      STATE             CREATED_DATE MERCHANT_CATEGORY  \\\n",
       "0      GBP     175  COMPLETED  2017-12-20 12:46:20.294              cafe   \n",
       "1      EUR    2593  COMPLETED  2017-12-20 12:38:47.232               bar   \n",
       "2      EUR    1077  COMPLETED  2017-12-20 12:34:39.668               NaN   \n",
       "3      GBP     198  COMPLETED  2017-12-20 12:45:50.555       supermarket   \n",
       "4      EUR     990  COMPLETED  2017-12-20 12:45:32.722               NaN   \n",
       "\n",
       "  MERCHANT_COUNTRY ENTRY_METHOD                               USER_ID  \\\n",
       "0              GBR         cont  8f99c254-7cf2-4e35-b7e4-53804d42445d   \n",
       "1              AUS         cont  ed773c34-2b83-4f70-a691-6a7aa1cb9f11   \n",
       "2              CZE         cont  eb349cc1-e986-4bf4-bb75-72280a7b8680   \n",
       "3              GBR         cont  dc78fbc4-c936-45d3-a813-e2477ac6d74b   \n",
       "4              FRA         cont  32958a5c-2532-42f7-94f9-127f2a812a55   \n",
       "\n",
       "           TYPE SOURCE                                    ID  \n",
       "0  CARD_PAYMENT   GAIA  b3332e6f-7865-4d6e-b6a5-370bc75568d8  \n",
       "1  CARD_PAYMENT   GAIA  853d9ff8-a007-40ef-91a2-7d81e29a309a  \n",
       "2  CARD_PAYMENT   GAIA  04de8238-7828-4e46-91f1-050a9aa7a9df  \n",
       "3  CARD_PAYMENT   GAIA  2b790b9b-c312-4098-a4b3-4830fc8cda53  \n",
       "4  CARD_PAYMENT   GAIA  6469fc3a-e535-41e9-91b9-acb46d1cc65d  "
      ]
     },
     "execution_count": 17,
     "metadata": {},
     "output_type": "execute_result"
    }
   ],
   "source": [
    "trn_df = pd.read_csv('../data/transactions.csv')\n",
    "print(trn_df.shape)\n",
    "trn_df.head()"
   ]
  },
  {
   "cell_type": "code",
   "execution_count": 18,
   "metadata": {},
   "outputs": [
    {
     "name": "stdout",
     "output_type": "stream",
     "text": [
      "(226, 5)\n"
     ]
    },
    {
     "data": {
      "text/html": [
       "<div>\n",
       "<style scoped>\n",
       "    .dataframe tbody tr th:only-of-type {\n",
       "        vertical-align: middle;\n",
       "    }\n",
       "\n",
       "    .dataframe tbody tr th {\n",
       "        vertical-align: top;\n",
       "    }\n",
       "\n",
       "    .dataframe thead th {\n",
       "        text-align: right;\n",
       "    }\n",
       "</style>\n",
       "<table border=\"1\" class=\"dataframe\">\n",
       "  <thead>\n",
       "    <tr style=\"text-align: right;\">\n",
       "      <th></th>\n",
       "      <th>CODE</th>\n",
       "      <th>NAME</th>\n",
       "      <th>CODE3</th>\n",
       "      <th>NUMCODE</th>\n",
       "      <th>PHONECODE</th>\n",
       "    </tr>\n",
       "  </thead>\n",
       "  <tbody>\n",
       "    <tr>\n",
       "      <th>0</th>\n",
       "      <td>AF</td>\n",
       "      <td>Afghanistan</td>\n",
       "      <td>AFG</td>\n",
       "      <td>4</td>\n",
       "      <td>93</td>\n",
       "    </tr>\n",
       "    <tr>\n",
       "      <th>1</th>\n",
       "      <td>AL</td>\n",
       "      <td>Albania</td>\n",
       "      <td>ALB</td>\n",
       "      <td>8</td>\n",
       "      <td>355</td>\n",
       "    </tr>\n",
       "    <tr>\n",
       "      <th>2</th>\n",
       "      <td>DZ</td>\n",
       "      <td>Algeria</td>\n",
       "      <td>DZA</td>\n",
       "      <td>12</td>\n",
       "      <td>213</td>\n",
       "    </tr>\n",
       "    <tr>\n",
       "      <th>3</th>\n",
       "      <td>AS</td>\n",
       "      <td>American Samoa</td>\n",
       "      <td>ASM</td>\n",
       "      <td>16</td>\n",
       "      <td>1684</td>\n",
       "    </tr>\n",
       "    <tr>\n",
       "      <th>4</th>\n",
       "      <td>AO</td>\n",
       "      <td>Angola</td>\n",
       "      <td>AGO</td>\n",
       "      <td>24</td>\n",
       "      <td>244</td>\n",
       "    </tr>\n",
       "  </tbody>\n",
       "</table>\n",
       "</div>"
      ],
      "text/plain": [
       "  CODE            NAME CODE3  NUMCODE  PHONECODE\n",
       "0   AF     Afghanistan   AFG        4         93\n",
       "1   AL         Albania   ALB        8        355\n",
       "2   DZ         Algeria   DZA       12        213\n",
       "3   AS  American Samoa   ASM       16       1684\n",
       "4   AO          Angola   AGO       24        244"
      ]
     },
     "execution_count": 18,
     "metadata": {},
     "output_type": "execute_result"
    }
   ],
   "source": [
    "cntr_df = pd.read_csv('../data/countries.csv')\n",
    "print(cntr_df.shape)\n",
    "cntr_df.head()"
   ]
  },
  {
   "cell_type": "code",
   "execution_count": 19,
   "metadata": {},
   "outputs": [
    {
     "name": "stdout",
     "output_type": "stream",
     "text": [
      "(184, 3)\n"
     ]
    },
    {
     "data": {
      "text/html": [
       "<div>\n",
       "<style scoped>\n",
       "    .dataframe tbody tr th:only-of-type {\n",
       "        vertical-align: middle;\n",
       "    }\n",
       "\n",
       "    .dataframe tbody tr th {\n",
       "        vertical-align: top;\n",
       "    }\n",
       "\n",
       "    .dataframe thead th {\n",
       "        text-align: right;\n",
       "    }\n",
       "</style>\n",
       "<table border=\"1\" class=\"dataframe\">\n",
       "  <thead>\n",
       "    <tr style=\"text-align: right;\">\n",
       "      <th></th>\n",
       "      <th>CCY</th>\n",
       "      <th>EXPONENT</th>\n",
       "      <th>IS_CRYPTO</th>\n",
       "    </tr>\n",
       "  </thead>\n",
       "  <tbody>\n",
       "    <tr>\n",
       "      <th>0</th>\n",
       "      <td>AED</td>\n",
       "      <td>2</td>\n",
       "      <td>False</td>\n",
       "    </tr>\n",
       "    <tr>\n",
       "      <th>1</th>\n",
       "      <td>AFN</td>\n",
       "      <td>2</td>\n",
       "      <td>False</td>\n",
       "    </tr>\n",
       "    <tr>\n",
       "      <th>2</th>\n",
       "      <td>ALL</td>\n",
       "      <td>2</td>\n",
       "      <td>False</td>\n",
       "    </tr>\n",
       "    <tr>\n",
       "      <th>3</th>\n",
       "      <td>AMD</td>\n",
       "      <td>2</td>\n",
       "      <td>False</td>\n",
       "    </tr>\n",
       "    <tr>\n",
       "      <th>4</th>\n",
       "      <td>ANG</td>\n",
       "      <td>2</td>\n",
       "      <td>False</td>\n",
       "    </tr>\n",
       "  </tbody>\n",
       "</table>\n",
       "</div>"
      ],
      "text/plain": [
       "   CCY  EXPONENT  IS_CRYPTO\n",
       "0  AED         2      False\n",
       "1  AFN         2      False\n",
       "2  ALL         2      False\n",
       "3  AMD         2      False\n",
       "4  ANG         2      False"
      ]
     },
     "execution_count": 19,
     "metadata": {},
     "output_type": "execute_result"
    }
   ],
   "source": [
    "cur_df = pd.read_csv('../data/currency_details.csv')\n",
    "print(cur_df.shape)\n",
    "cur_df.head()"
   ]
  },
  {
   "cell_type": "code",
   "execution_count": 20,
   "metadata": {},
   "outputs": [
    {
     "name": "stdout",
     "output_type": "stream",
     "text": [
      "(298, 1)\n"
     ]
    },
    {
     "data": {
      "text/html": [
       "<div>\n",
       "<style scoped>\n",
       "    .dataframe tbody tr th:only-of-type {\n",
       "        vertical-align: middle;\n",
       "    }\n",
       "\n",
       "    .dataframe tbody tr th {\n",
       "        vertical-align: top;\n",
       "    }\n",
       "\n",
       "    .dataframe thead th {\n",
       "        text-align: right;\n",
       "    }\n",
       "</style>\n",
       "<table border=\"1\" class=\"dataframe\">\n",
       "  <thead>\n",
       "    <tr style=\"text-align: right;\">\n",
       "      <th></th>\n",
       "      <th>USER_ID</th>\n",
       "    </tr>\n",
       "  </thead>\n",
       "  <tbody>\n",
       "    <tr>\n",
       "      <th>0</th>\n",
       "      <td>5270b0f4-2e4a-4ec9-8648-2135312ac1c4</td>\n",
       "    </tr>\n",
       "    <tr>\n",
       "      <th>1</th>\n",
       "      <td>848fc1b1-096c-40f7-b04a-1399c469e421</td>\n",
       "    </tr>\n",
       "    <tr>\n",
       "      <th>2</th>\n",
       "      <td>27c76eda-e159-4df3-845a-e13f4e28a8b5</td>\n",
       "    </tr>\n",
       "    <tr>\n",
       "      <th>3</th>\n",
       "      <td>a27088ef-9452-403d-9bbb-f7b10180cdda</td>\n",
       "    </tr>\n",
       "    <tr>\n",
       "      <th>4</th>\n",
       "      <td>fb23710b-609a-49bf-8a9a-be49c59ce6de</td>\n",
       "    </tr>\n",
       "  </tbody>\n",
       "</table>\n",
       "</div>"
      ],
      "text/plain": [
       "                                USER_ID\n",
       "0  5270b0f4-2e4a-4ec9-8648-2135312ac1c4\n",
       "1  848fc1b1-096c-40f7-b04a-1399c469e421\n",
       "2  27c76eda-e159-4df3-845a-e13f4e28a8b5\n",
       "3  a27088ef-9452-403d-9bbb-f7b10180cdda\n",
       "4  fb23710b-609a-49bf-8a9a-be49c59ce6de"
      ]
     },
     "execution_count": 20,
     "metadata": {},
     "output_type": "execute_result"
    }
   ],
   "source": [
    "fraud_df = pd.read_csv('../data/fraudsters.csv')\n",
    "print(fraud_df.shape)\n",
    "fraud_df.head()"
   ]
  },
  {
   "cell_type": "code",
   "execution_count": 21,
   "metadata": {},
   "outputs": [
    {
     "name": "stdout",
     "output_type": "stream",
     "text": [
      "(9944, 11)\n"
     ]
    },
    {
     "data": {
      "text/html": [
       "<div>\n",
       "<style scoped>\n",
       "    .dataframe tbody tr th:only-of-type {\n",
       "        vertical-align: middle;\n",
       "    }\n",
       "\n",
       "    .dataframe tbody tr th {\n",
       "        vertical-align: top;\n",
       "    }\n",
       "\n",
       "    .dataframe thead th {\n",
       "        text-align: right;\n",
       "    }\n",
       "</style>\n",
       "<table border=\"1\" class=\"dataframe\">\n",
       "  <thead>\n",
       "    <tr style=\"text-align: right;\">\n",
       "      <th></th>\n",
       "      <th>ID</th>\n",
       "      <th>HAS_EMAIL</th>\n",
       "      <th>PHONE_COUNTRY</th>\n",
       "      <th>IS_FRAUDSTER</th>\n",
       "      <th>TERMS_VERSION</th>\n",
       "      <th>CREATED_DATE</th>\n",
       "      <th>STATE</th>\n",
       "      <th>COUNTRY</th>\n",
       "      <th>BIRTH_YEAR</th>\n",
       "      <th>KYC</th>\n",
       "      <th>FAILED_SIGN_IN_ATTEMPTS</th>\n",
       "    </tr>\n",
       "  </thead>\n",
       "  <tbody>\n",
       "    <tr>\n",
       "      <th>0</th>\n",
       "      <td>1872820f-e3ac-4c02-bdc7-727897b60043</td>\n",
       "      <td>1</td>\n",
       "      <td>GB||JE||IM||GG</td>\n",
       "      <td>False</td>\n",
       "      <td>2018-05-25</td>\n",
       "      <td>2017-08-06 07:33:33.341000</td>\n",
       "      <td>ACTIVE</td>\n",
       "      <td>GB</td>\n",
       "      <td>1971</td>\n",
       "      <td>PASSED</td>\n",
       "      <td>0</td>\n",
       "    </tr>\n",
       "    <tr>\n",
       "      <th>1</th>\n",
       "      <td>545ff94d-66f8-4bea-b398-84425fb2301e</td>\n",
       "      <td>1</td>\n",
       "      <td>GB||JE||IM||GG</td>\n",
       "      <td>False</td>\n",
       "      <td>2018-01-01</td>\n",
       "      <td>2017-03-07 10:18:59.427000</td>\n",
       "      <td>ACTIVE</td>\n",
       "      <td>GB</td>\n",
       "      <td>1982</td>\n",
       "      <td>PASSED</td>\n",
       "      <td>0</td>\n",
       "    </tr>\n",
       "    <tr>\n",
       "      <th>2</th>\n",
       "      <td>10376f1a-a28a-4885-8daa-c8ca496026bb</td>\n",
       "      <td>1</td>\n",
       "      <td>ES</td>\n",
       "      <td>False</td>\n",
       "      <td>2018-09-20</td>\n",
       "      <td>2018-05-31 04:41:24.672000</td>\n",
       "      <td>ACTIVE</td>\n",
       "      <td>ES</td>\n",
       "      <td>1973</td>\n",
       "      <td>PASSED</td>\n",
       "      <td>0</td>\n",
       "    </tr>\n",
       "    <tr>\n",
       "      <th>3</th>\n",
       "      <td>fd308db7-0753-4377-879f-6ecf2af14e4f</td>\n",
       "      <td>1</td>\n",
       "      <td>FR</td>\n",
       "      <td>False</td>\n",
       "      <td>2018-05-25</td>\n",
       "      <td>2018-06-01 17:24:23.852000</td>\n",
       "      <td>ACTIVE</td>\n",
       "      <td>FR</td>\n",
       "      <td>1986</td>\n",
       "      <td>PASSED</td>\n",
       "      <td>0</td>\n",
       "    </tr>\n",
       "    <tr>\n",
       "      <th>4</th>\n",
       "      <td>755fe256-a34d-4853-b7ca-d9bb991a86d3</td>\n",
       "      <td>1</td>\n",
       "      <td>GB||JE||IM||GG</td>\n",
       "      <td>False</td>\n",
       "      <td>2018-09-20</td>\n",
       "      <td>2017-08-09 15:03:33.945000</td>\n",
       "      <td>ACTIVE</td>\n",
       "      <td>GB</td>\n",
       "      <td>1989</td>\n",
       "      <td>PASSED</td>\n",
       "      <td>0</td>\n",
       "    </tr>\n",
       "  </tbody>\n",
       "</table>\n",
       "</div>"
      ],
      "text/plain": [
       "                                     ID  HAS_EMAIL   PHONE_COUNTRY  \\\n",
       "0  1872820f-e3ac-4c02-bdc7-727897b60043          1  GB||JE||IM||GG   \n",
       "1  545ff94d-66f8-4bea-b398-84425fb2301e          1  GB||JE||IM||GG   \n",
       "2  10376f1a-a28a-4885-8daa-c8ca496026bb          1              ES   \n",
       "3  fd308db7-0753-4377-879f-6ecf2af14e4f          1              FR   \n",
       "4  755fe256-a34d-4853-b7ca-d9bb991a86d3          1  GB||JE||IM||GG   \n",
       "\n",
       "   IS_FRAUDSTER TERMS_VERSION                CREATED_DATE   STATE COUNTRY  \\\n",
       "0         False    2018-05-25  2017-08-06 07:33:33.341000  ACTIVE      GB   \n",
       "1         False    2018-01-01  2017-03-07 10:18:59.427000  ACTIVE      GB   \n",
       "2         False    2018-09-20  2018-05-31 04:41:24.672000  ACTIVE      ES   \n",
       "3         False    2018-05-25  2018-06-01 17:24:23.852000  ACTIVE      FR   \n",
       "4         False    2018-09-20  2017-08-09 15:03:33.945000  ACTIVE      GB   \n",
       "\n",
       "   BIRTH_YEAR     KYC  FAILED_SIGN_IN_ATTEMPTS  \n",
       "0        1971  PASSED                        0  \n",
       "1        1982  PASSED                        0  \n",
       "2        1973  PASSED                        0  \n",
       "3        1986  PASSED                        0  \n",
       "4        1989  PASSED                        0  "
      ]
     },
     "execution_count": 21,
     "metadata": {},
     "output_type": "execute_result"
    }
   ],
   "source": [
    "user_df = pd.read_csv('../data/users.csv')\n",
    "print(user_df.shape)\n",
    "user_df.head()"
   ]
  },
  {
   "cell_type": "markdown",
   "metadata": {},
   "source": [
    "### Let's start with USERS"
   ]
  },
  {
   "cell_type": "code",
   "execution_count": 22,
   "metadata": {},
   "outputs": [
    {
     "name": "stdout",
     "output_type": "stream",
     "text": [
      "<class 'pandas.core.frame.DataFrame'>\n",
      "RangeIndex: 9944 entries, 0 to 9943\n",
      "Data columns (total 11 columns):\n",
      "ID                         9944 non-null object\n",
      "HAS_EMAIL                  9944 non-null int64\n",
      "PHONE_COUNTRY              9944 non-null object\n",
      "IS_FRAUDSTER               9944 non-null bool\n",
      "TERMS_VERSION              8417 non-null object\n",
      "CREATED_DATE               9944 non-null object\n",
      "STATE                      9944 non-null object\n",
      "COUNTRY                    9944 non-null object\n",
      "BIRTH_YEAR                 9944 non-null int64\n",
      "KYC                        9944 non-null object\n",
      "FAILED_SIGN_IN_ATTEMPTS    9944 non-null int64\n",
      "dtypes: bool(1), int64(3), object(7)\n",
      "memory usage: 786.7+ KB\n"
     ]
    }
   ],
   "source": [
    "user_df.info()"
   ]
  },
  {
   "cell_type": "code",
   "execution_count": 23,
   "metadata": {},
   "outputs": [],
   "source": [
    "# There are NaN in TERMS_VERSION - fill it by \"Undefined\" version\n",
    "user_df['TERMS_VERSION'] = user_df['TERMS_VERSION'].fillna(\"Undefined\")"
   ]
  },
  {
   "cell_type": "code",
   "execution_count": 24,
   "metadata": {},
   "outputs": [
    {
     "data": {
      "text/plain": [
       "False    9646\n",
       "True      298\n",
       "Name: IS_FRAUDSTER, dtype: int64"
      ]
     },
     "execution_count": 24,
     "metadata": {},
     "output_type": "execute_result"
    }
   ],
   "source": [
    "user_df['IS_FRAUDSTER'].value_counts()"
   ]
  },
  {
   "cell_type": "code",
   "execution_count": 25,
   "metadata": {},
   "outputs": [
    {
     "data": {
      "text/plain": [
       "True"
      ]
     },
     "execution_count": 25,
     "metadata": {},
     "output_type": "execute_result"
    }
   ],
   "source": [
    "# Check that we have the same users as fraudsters in two datasets\n",
    "set(user_df[user_df['IS_FRAUDSTER']==True]['ID'].values).issubset(set(fraud_df['USER_ID'].values)) and set(fraud_df['USER_ID'].values).issubset(set(user_df[user_df['IS_FRAUDSTER']==True]['ID'].values))"
   ]
  },
  {
   "cell_type": "code",
   "execution_count": 26,
   "metadata": {},
   "outputs": [
    {
     "data": {
      "text/html": [
       "<div>\n",
       "<style scoped>\n",
       "    .dataframe tbody tr th:only-of-type {\n",
       "        vertical-align: middle;\n",
       "    }\n",
       "\n",
       "    .dataframe tbody tr th {\n",
       "        vertical-align: top;\n",
       "    }\n",
       "\n",
       "    .dataframe thead th {\n",
       "        text-align: right;\n",
       "    }\n",
       "</style>\n",
       "<table border=\"1\" class=\"dataframe\">\n",
       "  <thead>\n",
       "    <tr style=\"text-align: right;\">\n",
       "      <th></th>\n",
       "      <th>ID</th>\n",
       "      <th>HAS_EMAIL</th>\n",
       "      <th>PHONE_COUNTRY</th>\n",
       "      <th>IS_FRAUDSTER</th>\n",
       "      <th>TERMS_VERSION</th>\n",
       "      <th>CREATED_DATE</th>\n",
       "      <th>STATE</th>\n",
       "      <th>COUNTRY</th>\n",
       "      <th>BIRTH_YEAR</th>\n",
       "      <th>KYC</th>\n",
       "      <th>FAILED_SIGN_IN_ATTEMPTS</th>\n",
       "    </tr>\n",
       "  </thead>\n",
       "  <tbody>\n",
       "    <tr>\n",
       "      <th>8166</th>\n",
       "      <td>5270b0f4-2e4a-4ec9-8648-2135312ac1c4</td>\n",
       "      <td>1</td>\n",
       "      <td>GB||JE||IM||GG</td>\n",
       "      <td>True</td>\n",
       "      <td>Undefined</td>\n",
       "      <td>2017-09-19 01:55:22.376000</td>\n",
       "      <td>LOCKED</td>\n",
       "      <td>GB</td>\n",
       "      <td>1988</td>\n",
       "      <td>NONE</td>\n",
       "      <td>0</td>\n",
       "    </tr>\n",
       "    <tr>\n",
       "      <th>8167</th>\n",
       "      <td>848fc1b1-096c-40f7-b04a-1399c469e421</td>\n",
       "      <td>1</td>\n",
       "      <td>PL</td>\n",
       "      <td>True</td>\n",
       "      <td>2018-05-25</td>\n",
       "      <td>2018-06-16 15:55:43.800000</td>\n",
       "      <td>LOCKED</td>\n",
       "      <td>GB</td>\n",
       "      <td>1994</td>\n",
       "      <td>PASSED</td>\n",
       "      <td>0</td>\n",
       "    </tr>\n",
       "    <tr>\n",
       "      <th>8168</th>\n",
       "      <td>27c76eda-e159-4df3-845a-e13f4e28a8b5</td>\n",
       "      <td>1</td>\n",
       "      <td>GB||JE||IM||GG</td>\n",
       "      <td>True</td>\n",
       "      <td>2018-05-25</td>\n",
       "      <td>2018-05-11 18:20:45.608000</td>\n",
       "      <td>LOCKED</td>\n",
       "      <td>GB</td>\n",
       "      <td>1997</td>\n",
       "      <td>PASSED</td>\n",
       "      <td>0</td>\n",
       "    </tr>\n",
       "    <tr>\n",
       "      <th>8169</th>\n",
       "      <td>a27088ef-9452-403d-9bbb-f7b10180cdda</td>\n",
       "      <td>1</td>\n",
       "      <td>IN</td>\n",
       "      <td>True</td>\n",
       "      <td>2018-05-25</td>\n",
       "      <td>2018-05-18 16:41:12.267000</td>\n",
       "      <td>LOCKED</td>\n",
       "      <td>BE</td>\n",
       "      <td>1989</td>\n",
       "      <td>PASSED</td>\n",
       "      <td>0</td>\n",
       "    </tr>\n",
       "    <tr>\n",
       "      <th>8170</th>\n",
       "      <td>fb23710b-609a-49bf-8a9a-be49c59ce6de</td>\n",
       "      <td>1</td>\n",
       "      <td>LT</td>\n",
       "      <td>True</td>\n",
       "      <td>2018-03-20</td>\n",
       "      <td>2018-03-29 13:37:29.736000</td>\n",
       "      <td>LOCKED</td>\n",
       "      <td>LT</td>\n",
       "      <td>1992</td>\n",
       "      <td>PASSED</td>\n",
       "      <td>0</td>\n",
       "    </tr>\n",
       "  </tbody>\n",
       "</table>\n",
       "</div>"
      ],
      "text/plain": [
       "                                        ID  HAS_EMAIL   PHONE_COUNTRY  \\\n",
       "8166  5270b0f4-2e4a-4ec9-8648-2135312ac1c4          1  GB||JE||IM||GG   \n",
       "8167  848fc1b1-096c-40f7-b04a-1399c469e421          1              PL   \n",
       "8168  27c76eda-e159-4df3-845a-e13f4e28a8b5          1  GB||JE||IM||GG   \n",
       "8169  a27088ef-9452-403d-9bbb-f7b10180cdda          1              IN   \n",
       "8170  fb23710b-609a-49bf-8a9a-be49c59ce6de          1              LT   \n",
       "\n",
       "      IS_FRAUDSTER TERMS_VERSION                CREATED_DATE   STATE COUNTRY  \\\n",
       "8166          True     Undefined  2017-09-19 01:55:22.376000  LOCKED      GB   \n",
       "8167          True    2018-05-25  2018-06-16 15:55:43.800000  LOCKED      GB   \n",
       "8168          True    2018-05-25  2018-05-11 18:20:45.608000  LOCKED      GB   \n",
       "8169          True    2018-05-25  2018-05-18 16:41:12.267000  LOCKED      BE   \n",
       "8170          True    2018-03-20  2018-03-29 13:37:29.736000  LOCKED      LT   \n",
       "\n",
       "      BIRTH_YEAR     KYC  FAILED_SIGN_IN_ATTEMPTS  \n",
       "8166        1988    NONE                        0  \n",
       "8167        1994  PASSED                        0  \n",
       "8168        1997  PASSED                        0  \n",
       "8169        1989  PASSED                        0  \n",
       "8170        1992  PASSED                        0  "
      ]
     },
     "execution_count": 26,
     "metadata": {},
     "output_type": "execute_result"
    }
   ],
   "source": [
    "user_df[user_df['IS_FRAUDSTER']==True].head()"
   ]
  },
  {
   "cell_type": "code",
   "execution_count": 27,
   "metadata": {},
   "outputs": [
    {
     "data": {
      "text/plain": [
       "LOCKED    298\n",
       "Name: STATE, dtype: int64"
      ]
     },
     "execution_count": 27,
     "metadata": {},
     "output_type": "execute_result"
    }
   ],
   "source": [
    "# Check that only fraudsters are locked, so we aren't longer need to have STATE of user\n",
    "user_df[user_df['IS_FRAUDSTER']==True]['STATE'].value_counts()"
   ]
  },
  {
   "cell_type": "code",
   "execution_count": 28,
   "metadata": {},
   "outputs": [],
   "source": [
    "user_df.drop('STATE', axis=1, inplace=True)"
   ]
  },
  {
   "cell_type": "code",
   "execution_count": 29,
   "metadata": {},
   "outputs": [],
   "source": [
    "# Create AGE variable as age on CREATED_DATE date of profile in system\n",
    "user_df['AGE'] = user_df.apply(lambda x: datetime.strptime(x['CREATED_DATE'], '%Y-%m-%d %H:%M:%S.%f').year-x['BIRTH_YEAR'], axis=1)"
   ]
  },
  {
   "cell_type": "code",
   "execution_count": 30,
   "metadata": {},
   "outputs": [
    {
     "data": {
      "text/html": [
       "<div>\n",
       "<style scoped>\n",
       "    .dataframe tbody tr th:only-of-type {\n",
       "        vertical-align: middle;\n",
       "    }\n",
       "\n",
       "    .dataframe tbody tr th {\n",
       "        vertical-align: top;\n",
       "    }\n",
       "\n",
       "    .dataframe thead th {\n",
       "        text-align: right;\n",
       "    }\n",
       "</style>\n",
       "<table border=\"1\" class=\"dataframe\">\n",
       "  <thead>\n",
       "    <tr style=\"text-align: right;\">\n",
       "      <th></th>\n",
       "      <th>ID</th>\n",
       "      <th>HAS_EMAIL</th>\n",
       "      <th>PHONE_COUNTRY</th>\n",
       "      <th>IS_FRAUDSTER</th>\n",
       "      <th>TERMS_VERSION</th>\n",
       "      <th>CREATED_DATE</th>\n",
       "      <th>COUNTRY</th>\n",
       "      <th>BIRTH_YEAR</th>\n",
       "      <th>KYC</th>\n",
       "      <th>FAILED_SIGN_IN_ATTEMPTS</th>\n",
       "      <th>AGE</th>\n",
       "    </tr>\n",
       "  </thead>\n",
       "  <tbody>\n",
       "    <tr>\n",
       "      <th>0</th>\n",
       "      <td>1872820f-e3ac-4c02-bdc7-727897b60043</td>\n",
       "      <td>1</td>\n",
       "      <td>GB||JE||IM||GG</td>\n",
       "      <td>False</td>\n",
       "      <td>2018-05-25</td>\n",
       "      <td>2017-08-06 07:33:33.341000</td>\n",
       "      <td>GB</td>\n",
       "      <td>1971</td>\n",
       "      <td>PASSED</td>\n",
       "      <td>0</td>\n",
       "      <td>46</td>\n",
       "    </tr>\n",
       "    <tr>\n",
       "      <th>1</th>\n",
       "      <td>545ff94d-66f8-4bea-b398-84425fb2301e</td>\n",
       "      <td>1</td>\n",
       "      <td>GB||JE||IM||GG</td>\n",
       "      <td>False</td>\n",
       "      <td>2018-01-01</td>\n",
       "      <td>2017-03-07 10:18:59.427000</td>\n",
       "      <td>GB</td>\n",
       "      <td>1982</td>\n",
       "      <td>PASSED</td>\n",
       "      <td>0</td>\n",
       "      <td>35</td>\n",
       "    </tr>\n",
       "    <tr>\n",
       "      <th>2</th>\n",
       "      <td>10376f1a-a28a-4885-8daa-c8ca496026bb</td>\n",
       "      <td>1</td>\n",
       "      <td>ES</td>\n",
       "      <td>False</td>\n",
       "      <td>2018-09-20</td>\n",
       "      <td>2018-05-31 04:41:24.672000</td>\n",
       "      <td>ES</td>\n",
       "      <td>1973</td>\n",
       "      <td>PASSED</td>\n",
       "      <td>0</td>\n",
       "      <td>45</td>\n",
       "    </tr>\n",
       "    <tr>\n",
       "      <th>3</th>\n",
       "      <td>fd308db7-0753-4377-879f-6ecf2af14e4f</td>\n",
       "      <td>1</td>\n",
       "      <td>FR</td>\n",
       "      <td>False</td>\n",
       "      <td>2018-05-25</td>\n",
       "      <td>2018-06-01 17:24:23.852000</td>\n",
       "      <td>FR</td>\n",
       "      <td>1986</td>\n",
       "      <td>PASSED</td>\n",
       "      <td>0</td>\n",
       "      <td>32</td>\n",
       "    </tr>\n",
       "    <tr>\n",
       "      <th>4</th>\n",
       "      <td>755fe256-a34d-4853-b7ca-d9bb991a86d3</td>\n",
       "      <td>1</td>\n",
       "      <td>GB||JE||IM||GG</td>\n",
       "      <td>False</td>\n",
       "      <td>2018-09-20</td>\n",
       "      <td>2017-08-09 15:03:33.945000</td>\n",
       "      <td>GB</td>\n",
       "      <td>1989</td>\n",
       "      <td>PASSED</td>\n",
       "      <td>0</td>\n",
       "      <td>28</td>\n",
       "    </tr>\n",
       "  </tbody>\n",
       "</table>\n",
       "</div>"
      ],
      "text/plain": [
       "                                     ID  HAS_EMAIL   PHONE_COUNTRY  \\\n",
       "0  1872820f-e3ac-4c02-bdc7-727897b60043          1  GB||JE||IM||GG   \n",
       "1  545ff94d-66f8-4bea-b398-84425fb2301e          1  GB||JE||IM||GG   \n",
       "2  10376f1a-a28a-4885-8daa-c8ca496026bb          1              ES   \n",
       "3  fd308db7-0753-4377-879f-6ecf2af14e4f          1              FR   \n",
       "4  755fe256-a34d-4853-b7ca-d9bb991a86d3          1  GB||JE||IM||GG   \n",
       "\n",
       "   IS_FRAUDSTER TERMS_VERSION                CREATED_DATE COUNTRY  BIRTH_YEAR  \\\n",
       "0         False    2018-05-25  2017-08-06 07:33:33.341000      GB        1971   \n",
       "1         False    2018-01-01  2017-03-07 10:18:59.427000      GB        1982   \n",
       "2         False    2018-09-20  2018-05-31 04:41:24.672000      ES        1973   \n",
       "3         False    2018-05-25  2018-06-01 17:24:23.852000      FR        1986   \n",
       "4         False    2018-09-20  2017-08-09 15:03:33.945000      GB        1989   \n",
       "\n",
       "      KYC  FAILED_SIGN_IN_ATTEMPTS  AGE  \n",
       "0  PASSED                        0   46  \n",
       "1  PASSED                        0   35  \n",
       "2  PASSED                        0   45  \n",
       "3  PASSED                        0   32  \n",
       "4  PASSED                        0   28  "
      ]
     },
     "execution_count": 30,
     "metadata": {},
     "output_type": "execute_result"
    }
   ],
   "source": [
    "user_df.head()"
   ]
  },
  {
   "cell_type": "code",
   "execution_count": 31,
   "metadata": {},
   "outputs": [],
   "source": [
    "# We don't need BIRTH_YEAR anymore - drop it\n",
    "user_df.drop('BIRTH_YEAR', axis=1, inplace=True)"
   ]
  },
  {
   "cell_type": "code",
   "execution_count": 32,
   "metadata": {},
   "outputs": [
    {
     "name": "stderr",
     "output_type": "stream",
     "text": [
      "/home/truename/anaconda3/lib/python3.7/site-packages/scipy/stats/stats.py:1713: FutureWarning: Using a non-tuple sequence for multidimensional indexing is deprecated; use `arr[tuple(seq)]` instead of `arr[seq]`. In the future this will be interpreted as an array index, `arr[np.array(seq)]`, which will result either in an error or a different result.\n",
      "  return np.add.reduce(sorted[indexer] * weights, axis=axis) / sumval\n",
      "/home/truename/anaconda3/lib/python3.7/site-packages/statsmodels/nonparametric/kde.py:488: RuntimeWarning: invalid value encountered in true_divide\n",
      "  binned = fast_linbin(X, a, b, gridsize) / (delta * nobs)\n",
      "/home/truename/anaconda3/lib/python3.7/site-packages/statsmodels/nonparametric/kdetools.py:34: RuntimeWarning: invalid value encountered in double_scalars\n",
      "  FAC1 = 2*(np.pi*bw/RANGE)**2\n",
      "/home/truename/anaconda3/lib/python3.7/site-packages/numpy/core/fromnumeric.py:83: RuntimeWarning: invalid value encountered in reduce\n",
      "  return ufunc.reduce(obj, axis, dtype, out, **passkwargs)\n"
     ]
    },
    {
     "data": {
      "image/png": "[encoded data removed]",
      "text/plain": [
       "<Figure size 864x720 with 20 Axes>"
      ]
     },
     "metadata": {
      "needs_background": "light"
     },
     "output_type": "display_data"
    }
   ],
   "source": [
    "g=sns.pairplot(data=user_df,plot_kws={'alpha':0.2},hue='IS_FRAUDSTER');\n",
    "g.fig.set_size_inches(12,10)"
   ]
  },
  {
   "cell_type": "markdown",
   "metadata": {},
   "source": [
    "There is one sign of fraudster in the user-dataset that fraudsters have two attempts to sign in maximum. They were probably worried about getting caught."
   ]
  },
  {
   "cell_type": "code",
   "execution_count": 33,
   "metadata": {},
   "outputs": [
    {
     "data": {
      "text/plain": [
       "0    295\n",
       "2      2\n",
       "1      1\n",
       "Name: FAILED_SIGN_IN_ATTEMPTS, dtype: int64"
      ]
     },
     "execution_count": 33,
     "metadata": {},
     "output_type": "execute_result"
    }
   ],
   "source": [
    "user_df[user_df['IS_FRAUDSTER']==True]['FAILED_SIGN_IN_ATTEMPTS'].value_counts()"
   ]
  },
  {
   "cell_type": "code",
   "execution_count": 34,
   "metadata": {},
   "outputs": [
    {
     "data": {
      "text/plain": [
       "0    9600\n",
       "1      24\n",
       "2      18\n",
       "3       3\n",
       "6       1\n",
       "Name: FAILED_SIGN_IN_ATTEMPTS, dtype: int64"
      ]
     },
     "execution_count": 34,
     "metadata": {},
     "output_type": "execute_result"
    }
   ],
   "source": [
    "user_df[user_df['IS_FRAUDSTER']==False]['FAILED_SIGN_IN_ATTEMPTS'].value_counts()"
   ]
  },
  {
   "cell_type": "markdown",
   "metadata": {},
   "source": [
    "So my preliminary observations for fraudsters are:\n",
    "\n",
    "*  if country of merchant differ from country/phone_country of user\n",
    "*  if currency of transaction differ from country of user\n",
    "*  if period on platform is very small\n",
    "*  if period between transactions is too small\n",
    "*  if count of transactions is not common for this user\n",
    "*  or MERCHANT_CATEGORY is not common for this user\n",
    "*  or TYPE is not common for this user"
   ]
  },
  {
   "cell_type": "markdown",
   "metadata": {},
   "source": [
    "### Feature Engineering\n",
    "  - Utilizing your findings from part a) and some creativity, create some features. Explain your reasoning behind the features.\n",
    "  - Make a features.py script which when executed will create these features and store them in the DB. "
   ]
  },
  {
   "cell_type": "markdown",
   "metadata": {},
   "source": [
    "#### Now look at transactions."
   ]
  },
  {
   "cell_type": "code",
   "execution_count": 35,
   "metadata": {},
   "outputs": [
    {
     "data": {
      "text/html": [
       "<div>\n",
       "<style scoped>\n",
       "    .dataframe tbody tr th:only-of-type {\n",
       "        vertical-align: middle;\n",
       "    }\n",
       "\n",
       "    .dataframe tbody tr th {\n",
       "        vertical-align: top;\n",
       "    }\n",
       "\n",
       "    .dataframe thead th {\n",
       "        text-align: right;\n",
       "    }\n",
       "</style>\n",
       "<table border=\"1\" class=\"dataframe\">\n",
       "  <thead>\n",
       "    <tr style=\"text-align: right;\">\n",
       "      <th></th>\n",
       "      <th>CURRENCY</th>\n",
       "      <th>AMOUNT</th>\n",
       "      <th>STATE</th>\n",
       "      <th>CREATED_DATE</th>\n",
       "      <th>MERCHANT_CATEGORY</th>\n",
       "      <th>MERCHANT_COUNTRY</th>\n",
       "      <th>ENTRY_METHOD</th>\n",
       "      <th>USER_ID</th>\n",
       "      <th>TYPE</th>\n",
       "      <th>SOURCE</th>\n",
       "      <th>ID</th>\n",
       "    </tr>\n",
       "  </thead>\n",
       "  <tbody>\n",
       "    <tr>\n",
       "      <th>0</th>\n",
       "      <td>GBP</td>\n",
       "      <td>175</td>\n",
       "      <td>COMPLETED</td>\n",
       "      <td>2017-12-20 12:46:20.294</td>\n",
       "      <td>cafe</td>\n",
       "      <td>GBR</td>\n",
       "      <td>cont</td>\n",
       "      <td>8f99c254-7cf2-4e35-b7e4-53804d42445d</td>\n",
       "      <td>CARD_PAYMENT</td>\n",
       "      <td>GAIA</td>\n",
       "      <td>b3332e6f-7865-4d6e-b6a5-370bc75568d8</td>\n",
       "    </tr>\n",
       "    <tr>\n",
       "      <th>1</th>\n",
       "      <td>EUR</td>\n",
       "      <td>2593</td>\n",
       "      <td>COMPLETED</td>\n",
       "      <td>2017-12-20 12:38:47.232</td>\n",
       "      <td>bar</td>\n",
       "      <td>AUS</td>\n",
       "      <td>cont</td>\n",
       "      <td>ed773c34-2b83-4f70-a691-6a7aa1cb9f11</td>\n",
       "      <td>CARD_PAYMENT</td>\n",
       "      <td>GAIA</td>\n",
       "      <td>853d9ff8-a007-40ef-91a2-7d81e29a309a</td>\n",
       "    </tr>\n",
       "    <tr>\n",
       "      <th>2</th>\n",
       "      <td>EUR</td>\n",
       "      <td>1077</td>\n",
       "      <td>COMPLETED</td>\n",
       "      <td>2017-12-20 12:34:39.668</td>\n",
       "      <td>NaN</td>\n",
       "      <td>CZE</td>\n",
       "      <td>cont</td>\n",
       "      <td>eb349cc1-e986-4bf4-bb75-72280a7b8680</td>\n",
       "      <td>CARD_PAYMENT</td>\n",
       "      <td>GAIA</td>\n",
       "      <td>04de8238-7828-4e46-91f1-050a9aa7a9df</td>\n",
       "    </tr>\n",
       "    <tr>\n",
       "      <th>3</th>\n",
       "      <td>GBP</td>\n",
       "      <td>198</td>\n",
       "      <td>COMPLETED</td>\n",
       "      <td>2017-12-20 12:45:50.555</td>\n",
       "      <td>supermarket</td>\n",
       "      <td>GBR</td>\n",
       "      <td>cont</td>\n",
       "      <td>dc78fbc4-c936-45d3-a813-e2477ac6d74b</td>\n",
       "      <td>CARD_PAYMENT</td>\n",
       "      <td>GAIA</td>\n",
       "      <td>2b790b9b-c312-4098-a4b3-4830fc8cda53</td>\n",
       "    </tr>\n",
       "    <tr>\n",
       "      <th>4</th>\n",
       "      <td>EUR</td>\n",
       "      <td>990</td>\n",
       "      <td>COMPLETED</td>\n",
       "      <td>2017-12-20 12:45:32.722</td>\n",
       "      <td>NaN</td>\n",
       "      <td>FRA</td>\n",
       "      <td>cont</td>\n",
       "      <td>32958a5c-2532-42f7-94f9-127f2a812a55</td>\n",
       "      <td>CARD_PAYMENT</td>\n",
       "      <td>GAIA</td>\n",
       "      <td>6469fc3a-e535-41e9-91b9-acb46d1cc65d</td>\n",
       "    </tr>\n",
       "  </tbody>\n",
       "</table>\n",
       "</div>"
      ],
      "text/plain": [
       "  CURRENCY  AMOUNT      STATE             CREATED_DATE MERCHANT_CATEGORY  \\\n",
       "0      GBP     175  COMPLETED  2017-12-20 12:46:20.294              cafe   \n",
       "1      EUR    2593  COMPLETED  2017-12-20 12:38:47.232               bar   \n",
       "2      EUR    1077  COMPLETED  2017-12-20 12:34:39.668               NaN   \n",
       "3      GBP     198  COMPLETED  2017-12-20 12:45:50.555       supermarket   \n",
       "4      EUR     990  COMPLETED  2017-12-20 12:45:32.722               NaN   \n",
       "\n",
       "  MERCHANT_COUNTRY ENTRY_METHOD                               USER_ID  \\\n",
       "0              GBR         cont  8f99c254-7cf2-4e35-b7e4-53804d42445d   \n",
       "1              AUS         cont  ed773c34-2b83-4f70-a691-6a7aa1cb9f11   \n",
       "2              CZE         cont  eb349cc1-e986-4bf4-bb75-72280a7b8680   \n",
       "3              GBR         cont  dc78fbc4-c936-45d3-a813-e2477ac6d74b   \n",
       "4              FRA         cont  32958a5c-2532-42f7-94f9-127f2a812a55   \n",
       "\n",
       "           TYPE SOURCE                                    ID  \n",
       "0  CARD_PAYMENT   GAIA  b3332e6f-7865-4d6e-b6a5-370bc75568d8  \n",
       "1  CARD_PAYMENT   GAIA  853d9ff8-a007-40ef-91a2-7d81e29a309a  \n",
       "2  CARD_PAYMENT   GAIA  04de8238-7828-4e46-91f1-050a9aa7a9df  \n",
       "3  CARD_PAYMENT   GAIA  2b790b9b-c312-4098-a4b3-4830fc8cda53  \n",
       "4  CARD_PAYMENT   GAIA  6469fc3a-e535-41e9-91b9-acb46d1cc65d  "
      ]
     },
     "execution_count": 35,
     "metadata": {},
     "output_type": "execute_result"
    }
   ],
   "source": [
    "trn_df.head()"
   ]
  },
  {
   "cell_type": "code",
   "execution_count": 77,
   "metadata": {},
   "outputs": [
    {
     "name": "stdout",
     "output_type": "stream",
     "text": [
      "(638742, 19)\n"
     ]
    },
    {
     "data": {
      "text/html": [
       "<div>\n",
       "<style scoped>\n",
       "    .dataframe tbody tr th:only-of-type {\n",
       "        vertical-align: middle;\n",
       "    }\n",
       "\n",
       "    .dataframe tbody tr th {\n",
       "        vertical-align: top;\n",
       "    }\n",
       "\n",
       "    .dataframe thead th {\n",
       "        text-align: right;\n",
       "    }\n",
       "</style>\n",
       "<table border=\"1\" class=\"dataframe\">\n",
       "  <thead>\n",
       "    <tr style=\"text-align: right;\">\n",
       "      <th></th>\n",
       "      <th>CURRENCY</th>\n",
       "      <th>AMOUNT</th>\n",
       "      <th>STATE</th>\n",
       "      <th>CREATED_DATE_x</th>\n",
       "      <th>MERCHANT_CATEGORY</th>\n",
       "      <th>MERCHANT_COUNTRY</th>\n",
       "      <th>ENTRY_METHOD</th>\n",
       "      <th>USER_ID</th>\n",
       "      <th>TYPE</th>\n",
       "      <th>SOURCE</th>\n",
       "      <th>HAS_EMAIL</th>\n",
       "      <th>PHONE_COUNTRY</th>\n",
       "      <th>IS_FRAUDSTER</th>\n",
       "      <th>TERMS_VERSION</th>\n",
       "      <th>CREATED_DATE_y</th>\n",
       "      <th>COUNTRY</th>\n",
       "      <th>KYC</th>\n",
       "      <th>FAILED_SIGN_IN_ATTEMPTS</th>\n",
       "      <th>AGE</th>\n",
       "    </tr>\n",
       "  </thead>\n",
       "  <tbody>\n",
       "    <tr>\n",
       "      <th>0</th>\n",
       "      <td>GBP</td>\n",
       "      <td>175</td>\n",
       "      <td>COMPLETED</td>\n",
       "      <td>2017-12-20 12:46:20.294</td>\n",
       "      <td>cafe</td>\n",
       "      <td>GBR</td>\n",
       "      <td>cont</td>\n",
       "      <td>8f99c254-7cf2-4e35-b7e4-53804d42445d</td>\n",
       "      <td>CARD_PAYMENT</td>\n",
       "      <td>GAIA</td>\n",
       "      <td>1</td>\n",
       "      <td>GB||JE||IM||GG</td>\n",
       "      <td>False</td>\n",
       "      <td>2018-05-25</td>\n",
       "      <td>2017-09-28 11:53:55.810000</td>\n",
       "      <td>GB</td>\n",
       "      <td>PASSED</td>\n",
       "      <td>0</td>\n",
       "      <td>55</td>\n",
       "    </tr>\n",
       "    <tr>\n",
       "      <th>1</th>\n",
       "      <td>GBP</td>\n",
       "      <td>175</td>\n",
       "      <td>COMPLETED</td>\n",
       "      <td>2017-12-19 12:40:55.325</td>\n",
       "      <td>cafe</td>\n",
       "      <td>GBR</td>\n",
       "      <td>cont</td>\n",
       "      <td>8f99c254-7cf2-4e35-b7e4-53804d42445d</td>\n",
       "      <td>CARD_PAYMENT</td>\n",
       "      <td>GAIA</td>\n",
       "      <td>1</td>\n",
       "      <td>GB||JE||IM||GG</td>\n",
       "      <td>False</td>\n",
       "      <td>2018-05-25</td>\n",
       "      <td>2017-09-28 11:53:55.810000</td>\n",
       "      <td>GB</td>\n",
       "      <td>PASSED</td>\n",
       "      <td>0</td>\n",
       "      <td>55</td>\n",
       "    </tr>\n",
       "    <tr>\n",
       "      <th>2</th>\n",
       "      <td>GBP</td>\n",
       "      <td>220</td>\n",
       "      <td>COMPLETED</td>\n",
       "      <td>2017-12-19 12:45:05.706</td>\n",
       "      <td>department_store</td>\n",
       "      <td>GBR</td>\n",
       "      <td>cont</td>\n",
       "      <td>8f99c254-7cf2-4e35-b7e4-53804d42445d</td>\n",
       "      <td>CARD_PAYMENT</td>\n",
       "      <td>GAIA</td>\n",
       "      <td>1</td>\n",
       "      <td>GB||JE||IM||GG</td>\n",
       "      <td>False</td>\n",
       "      <td>2018-05-25</td>\n",
       "      <td>2017-09-28 11:53:55.810000</td>\n",
       "      <td>GB</td>\n",
       "      <td>PASSED</td>\n",
       "      <td>0</td>\n",
       "      <td>55</td>\n",
       "    </tr>\n",
       "    <tr>\n",
       "      <th>3</th>\n",
       "      <td>GBP</td>\n",
       "      <td>210</td>\n",
       "      <td>COMPLETED</td>\n",
       "      <td>2017-12-21 07:42:25.629</td>\n",
       "      <td>NaN</td>\n",
       "      <td>GBR</td>\n",
       "      <td>cont</td>\n",
       "      <td>8f99c254-7cf2-4e35-b7e4-53804d42445d</td>\n",
       "      <td>CARD_PAYMENT</td>\n",
       "      <td>GAIA</td>\n",
       "      <td>1</td>\n",
       "      <td>GB||JE||IM||GG</td>\n",
       "      <td>False</td>\n",
       "      <td>2018-05-25</td>\n",
       "      <td>2017-09-28 11:53:55.810000</td>\n",
       "      <td>GB</td>\n",
       "      <td>PASSED</td>\n",
       "      <td>0</td>\n",
       "      <td>55</td>\n",
       "    </tr>\n",
       "    <tr>\n",
       "      <th>4</th>\n",
       "      <td>GBP</td>\n",
       "      <td>485</td>\n",
       "      <td>COMPLETED</td>\n",
       "      <td>2017-12-21 08:36:56.132</td>\n",
       "      <td>cafe</td>\n",
       "      <td>GBR</td>\n",
       "      <td>cont</td>\n",
       "      <td>8f99c254-7cf2-4e35-b7e4-53804d42445d</td>\n",
       "      <td>CARD_PAYMENT</td>\n",
       "      <td>GAIA</td>\n",
       "      <td>1</td>\n",
       "      <td>GB||JE||IM||GG</td>\n",
       "      <td>False</td>\n",
       "      <td>2018-05-25</td>\n",
       "      <td>2017-09-28 11:53:55.810000</td>\n",
       "      <td>GB</td>\n",
       "      <td>PASSED</td>\n",
       "      <td>0</td>\n",
       "      <td>55</td>\n",
       "    </tr>\n",
       "  </tbody>\n",
       "</table>\n",
       "</div>"
      ],
      "text/plain": [
       "  CURRENCY  AMOUNT      STATE           CREATED_DATE_x MERCHANT_CATEGORY  \\\n",
       "0      GBP     175  COMPLETED  2017-12-20 12:46:20.294              cafe   \n",
       "1      GBP     175  COMPLETED  2017-12-19 12:40:55.325              cafe   \n",
       "2      GBP     220  COMPLETED  2017-12-19 12:45:05.706  department_store   \n",
       "3      GBP     210  COMPLETED  2017-12-21 07:42:25.629               NaN   \n",
       "4      GBP     485  COMPLETED  2017-12-21 08:36:56.132              cafe   \n",
       "\n",
       "  MERCHANT_COUNTRY ENTRY_METHOD                               USER_ID  \\\n",
       "0              GBR         cont  8f99c254-7cf2-4e35-b7e4-53804d42445d   \n",
       "1              GBR         cont  8f99c254-7cf2-4e35-b7e4-53804d42445d   \n",
       "2              GBR         cont  8f99c254-7cf2-4e35-b7e4-53804d42445d   \n",
       "3              GBR         cont  8f99c254-7cf2-4e35-b7e4-53804d42445d   \n",
       "4              GBR         cont  8f99c254-7cf2-4e35-b7e4-53804d42445d   \n",
       "\n",
       "           TYPE SOURCE  HAS_EMAIL   PHONE_COUNTRY  IS_FRAUDSTER TERMS_VERSION  \\\n",
       "0  CARD_PAYMENT   GAIA          1  GB||JE||IM||GG         False    2018-05-25   \n",
       "1  CARD_PAYMENT   GAIA          1  GB||JE||IM||GG         False    2018-05-25   \n",
       "2  CARD_PAYMENT   GAIA          1  GB||JE||IM||GG         False    2018-05-25   \n",
       "3  CARD_PAYMENT   GAIA          1  GB||JE||IM||GG         False    2018-05-25   \n",
       "4  CARD_PAYMENT   GAIA          1  GB||JE||IM||GG         False    2018-05-25   \n",
       "\n",
       "               CREATED_DATE_y COUNTRY     KYC  FAILED_SIGN_IN_ATTEMPTS  AGE  \n",
       "0  2017-09-28 11:53:55.810000      GB  PASSED                        0   55  \n",
       "1  2017-09-28 11:53:55.810000      GB  PASSED                        0   55  \n",
       "2  2017-09-28 11:53:55.810000      GB  PASSED                        0   55  \n",
       "3  2017-09-28 11:53:55.810000      GB  PASSED                        0   55  \n",
       "4  2017-09-28 11:53:55.810000      GB  PASSED                        0   55  "
      ]
     },
     "execution_count": 77,
     "metadata": {},
     "output_type": "execute_result"
    }
   ],
   "source": [
    "df = trn_df.drop('ID', axis=1).merge(user_df, left_on=\"USER_ID\", right_on=\"ID\").drop(['ID'],axis=1)\n",
    "print(df.shape)\n",
    "df.head()"
   ]
  },
  {
   "cell_type": "code",
   "execution_count": 78,
   "metadata": {},
   "outputs": [
    {
     "name": "stdout",
     "output_type": "stream",
     "text": [
      "<class 'pandas.core.frame.DataFrame'>\n",
      "Int64Index: 638742 entries, 0 to 638741\n",
      "Data columns (total 19 columns):\n",
      "CURRENCY                   638742 non-null object\n",
      "AMOUNT                     638742 non-null int64\n",
      "STATE                      638742 non-null object\n",
      "CREATED_DATE_x             638742 non-null object\n",
      "MERCHANT_CATEGORY          208677 non-null object\n",
      "MERCHANT_COUNTRY           447017 non-null object\n",
      "ENTRY_METHOD               638742 non-null object\n",
      "USER_ID                    638742 non-null object\n",
      "TYPE                       638742 non-null object\n",
      "SOURCE                     638742 non-null object\n",
      "HAS_EMAIL                  638742 non-null int64\n",
      "PHONE_COUNTRY              638742 non-null object\n",
      "IS_FRAUDSTER               638742 non-null bool\n",
      "TERMS_VERSION              638742 non-null object\n",
      "CREATED_DATE_y             638742 non-null object\n",
      "COUNTRY                    638742 non-null object\n",
      "KYC                        638742 non-null object\n",
      "FAILED_SIGN_IN_ATTEMPTS    638742 non-null int64\n",
      "AGE                        638742 non-null int64\n",
      "dtypes: bool(1), int64(4), object(14)\n",
      "memory usage: 93.2+ MB\n"
     ]
    }
   ],
   "source": [
    "df.info()"
   ]
  },
  {
   "cell_type": "code",
   "execution_count": 79,
   "metadata": {},
   "outputs": [],
   "source": [
    "# Replace NaN to 'Undefined' in MERCHANT_CATEGORY and MERCHANT_COUNTRY\n",
    "df = df.fillna('Undefined')"
   ]
  },
  {
   "cell_type": "code",
   "execution_count": 80,
   "metadata": {},
   "outputs": [],
   "source": [
    "# Create AGE variable as age on CREATED_DATE date of profile in system\n",
    "df['PROFILE_AGE'] = df.apply(lambda x: (datetime.strptime(x['CREATED_DATE_x']+('000' if '.' in x['CREATED_DATE_x'] else '.000000'), '%Y-%m-%d %H:%M:%S.%f')-datetime.strptime(x['CREATED_DATE_y'], '%Y-%m-%d %H:%M:%S.%f')).days, axis=1)"
   ]
  },
  {
   "cell_type": "code",
   "execution_count": 81,
   "metadata": {},
   "outputs": [],
   "source": [
    "df['CREATED_DATE_x'] = df['CREATED_DATE_x'].apply(lambda x: (datetime.strptime(x+('000' if '.' in x else '.000000'), '%Y-%m-%d %H:%M:%S.%f').strftime(\"%Y-%m-%d %H:%M:%S\")))"
   ]
  },
  {
   "cell_type": "code",
   "execution_count": 82,
   "metadata": {},
   "outputs": [],
   "source": [
    "# No needs of CREATED_DATE_y anymore, drop them\n",
    "df.drop(['CREATED_DATE_y'], axis=1, inplace=True)"
   ]
  },
  {
   "cell_type": "code",
   "execution_count": 83,
   "metadata": {},
   "outputs": [],
   "source": [
    "# Transform boolean variable IS_FRAUDSTER to binary\n",
    "df['IS_FRAUDSTER'] = df['IS_FRAUDSTER'].astype(int)"
   ]
  },
  {
   "cell_type": "code",
   "execution_count": 84,
   "metadata": {},
   "outputs": [
    {
     "name": "stdout",
     "output_type": "stream",
     "text": [
      "<class 'pandas.core.frame.DataFrame'>\n",
      "Int64Index: 638742 entries, 0 to 638741\n",
      "Data columns (total 19 columns):\n",
      "CURRENCY                   638742 non-null object\n",
      "AMOUNT                     638742 non-null int64\n",
      "STATE                      638742 non-null object\n",
      "CREATED_DATE_x             638742 non-null object\n",
      "MERCHANT_CATEGORY          638742 non-null object\n",
      "MERCHANT_COUNTRY           638742 non-null object\n",
      "ENTRY_METHOD               638742 non-null object\n",
      "USER_ID                    638742 non-null object\n",
      "TYPE                       638742 non-null object\n",
      "SOURCE                     638742 non-null object\n",
      "HAS_EMAIL                  638742 non-null int64\n",
      "PHONE_COUNTRY              638742 non-null object\n",
      "IS_FRAUDSTER               638742 non-null int64\n",
      "TERMS_VERSION              638742 non-null object\n",
      "COUNTRY                    638742 non-null object\n",
      "KYC                        638742 non-null object\n",
      "FAILED_SIGN_IN_ATTEMPTS    638742 non-null int64\n",
      "AGE                        638742 non-null int64\n",
      "PROFILE_AGE                638742 non-null int64\n",
      "dtypes: int64(6), object(13)\n",
      "memory usage: 97.5+ MB\n",
      "None\n",
      "                            count          mean           std   min    25%  \\\n",
      "AMOUNT                   638742.0  32478.710146  2.380562e+06   0.0  467.0   \n",
      "HAS_EMAIL                638742.0      0.989255  1.030977e-01   0.0    1.0   \n",
      "IS_FRAUDSTER             638742.0      0.021783  1.459759e-01   0.0    0.0   \n",
      "FAILED_SIGN_IN_ATTEMPTS  638742.0      0.009552  1.411771e-01   0.0    0.0   \n",
      "AGE                      638742.0     31.985259  9.869479e+00  16.0   25.0   \n",
      "PROFILE_AGE              638742.0    219.816344  1.970822e+02   0.0   63.0   \n",
      "\n",
      "                            50%     75%          max  \n",
      "AMOUNT                   1393.0  5000.0  900000000.0  \n",
      "HAS_EMAIL                   1.0     1.0          1.0  \n",
      "IS_FRAUDSTER                0.0     0.0          1.0  \n",
      "FAILED_SIGN_IN_ATTEMPTS     0.0     0.0          6.0  \n",
      "AGE                        29.0    37.0         91.0  \n",
      "PROFILE_AGE               159.0   329.0        939.0  \n"
     ]
    },
    {
     "data": {
      "text/html": [
       "<div>\n",
       "<style scoped>\n",
       "    .dataframe tbody tr th:only-of-type {\n",
       "        vertical-align: middle;\n",
       "    }\n",
       "\n",
       "    .dataframe tbody tr th {\n",
       "        vertical-align: top;\n",
       "    }\n",
       "\n",
       "    .dataframe thead th {\n",
       "        text-align: right;\n",
       "    }\n",
       "</style>\n",
       "<table border=\"1\" class=\"dataframe\">\n",
       "  <thead>\n",
       "    <tr style=\"text-align: right;\">\n",
       "      <th></th>\n",
       "      <th>CURRENCY</th>\n",
       "      <th>AMOUNT</th>\n",
       "      <th>STATE</th>\n",
       "      <th>CREATED_DATE_x</th>\n",
       "      <th>MERCHANT_CATEGORY</th>\n",
       "      <th>MERCHANT_COUNTRY</th>\n",
       "      <th>ENTRY_METHOD</th>\n",
       "      <th>USER_ID</th>\n",
       "      <th>TYPE</th>\n",
       "      <th>SOURCE</th>\n",
       "      <th>HAS_EMAIL</th>\n",
       "      <th>PHONE_COUNTRY</th>\n",
       "      <th>IS_FRAUDSTER</th>\n",
       "      <th>TERMS_VERSION</th>\n",
       "      <th>COUNTRY</th>\n",
       "      <th>KYC</th>\n",
       "      <th>FAILED_SIGN_IN_ATTEMPTS</th>\n",
       "      <th>AGE</th>\n",
       "      <th>PROFILE_AGE</th>\n",
       "    </tr>\n",
       "  </thead>\n",
       "  <tbody>\n",
       "    <tr>\n",
       "      <th>0</th>\n",
       "      <td>GBP</td>\n",
       "      <td>175</td>\n",
       "      <td>COMPLETED</td>\n",
       "      <td>2017-12-20 12:46:20</td>\n",
       "      <td>cafe</td>\n",
       "      <td>GBR</td>\n",
       "      <td>cont</td>\n",
       "      <td>8f99c254-7cf2-4e35-b7e4-53804d42445d</td>\n",
       "      <td>CARD_PAYMENT</td>\n",
       "      <td>GAIA</td>\n",
       "      <td>1</td>\n",
       "      <td>GB||JE||IM||GG</td>\n",
       "      <td>0</td>\n",
       "      <td>2018-05-25</td>\n",
       "      <td>GB</td>\n",
       "      <td>PASSED</td>\n",
       "      <td>0</td>\n",
       "      <td>55</td>\n",
       "      <td>83</td>\n",
       "    </tr>\n",
       "    <tr>\n",
       "      <th>1</th>\n",
       "      <td>GBP</td>\n",
       "      <td>175</td>\n",
       "      <td>COMPLETED</td>\n",
       "      <td>2017-12-19 12:40:55</td>\n",
       "      <td>cafe</td>\n",
       "      <td>GBR</td>\n",
       "      <td>cont</td>\n",
       "      <td>8f99c254-7cf2-4e35-b7e4-53804d42445d</td>\n",
       "      <td>CARD_PAYMENT</td>\n",
       "      <td>GAIA</td>\n",
       "      <td>1</td>\n",
       "      <td>GB||JE||IM||GG</td>\n",
       "      <td>0</td>\n",
       "      <td>2018-05-25</td>\n",
       "      <td>GB</td>\n",
       "      <td>PASSED</td>\n",
       "      <td>0</td>\n",
       "      <td>55</td>\n",
       "      <td>82</td>\n",
       "    </tr>\n",
       "    <tr>\n",
       "      <th>2</th>\n",
       "      <td>GBP</td>\n",
       "      <td>220</td>\n",
       "      <td>COMPLETED</td>\n",
       "      <td>2017-12-19 12:45:05</td>\n",
       "      <td>department_store</td>\n",
       "      <td>GBR</td>\n",
       "      <td>cont</td>\n",
       "      <td>8f99c254-7cf2-4e35-b7e4-53804d42445d</td>\n",
       "      <td>CARD_PAYMENT</td>\n",
       "      <td>GAIA</td>\n",
       "      <td>1</td>\n",
       "      <td>GB||JE||IM||GG</td>\n",
       "      <td>0</td>\n",
       "      <td>2018-05-25</td>\n",
       "      <td>GB</td>\n",
       "      <td>PASSED</td>\n",
       "      <td>0</td>\n",
       "      <td>55</td>\n",
       "      <td>82</td>\n",
       "    </tr>\n",
       "    <tr>\n",
       "      <th>3</th>\n",
       "      <td>GBP</td>\n",
       "      <td>210</td>\n",
       "      <td>COMPLETED</td>\n",
       "      <td>2017-12-21 07:42:25</td>\n",
       "      <td>Undefined</td>\n",
       "      <td>GBR</td>\n",
       "      <td>cont</td>\n",
       "      <td>8f99c254-7cf2-4e35-b7e4-53804d42445d</td>\n",
       "      <td>CARD_PAYMENT</td>\n",
       "      <td>GAIA</td>\n",
       "      <td>1</td>\n",
       "      <td>GB||JE||IM||GG</td>\n",
       "      <td>0</td>\n",
       "      <td>2018-05-25</td>\n",
       "      <td>GB</td>\n",
       "      <td>PASSED</td>\n",
       "      <td>0</td>\n",
       "      <td>55</td>\n",
       "      <td>83</td>\n",
       "    </tr>\n",
       "    <tr>\n",
       "      <th>4</th>\n",
       "      <td>GBP</td>\n",
       "      <td>485</td>\n",
       "      <td>COMPLETED</td>\n",
       "      <td>2017-12-21 08:36:56</td>\n",
       "      <td>cafe</td>\n",
       "      <td>GBR</td>\n",
       "      <td>cont</td>\n",
       "      <td>8f99c254-7cf2-4e35-b7e4-53804d42445d</td>\n",
       "      <td>CARD_PAYMENT</td>\n",
       "      <td>GAIA</td>\n",
       "      <td>1</td>\n",
       "      <td>GB||JE||IM||GG</td>\n",
       "      <td>0</td>\n",
       "      <td>2018-05-25</td>\n",
       "      <td>GB</td>\n",
       "      <td>PASSED</td>\n",
       "      <td>0</td>\n",
       "      <td>55</td>\n",
       "      <td>83</td>\n",
       "    </tr>\n",
       "  </tbody>\n",
       "</table>\n",
       "</div>"
      ],
      "text/plain": [
       "  CURRENCY  AMOUNT      STATE       CREATED_DATE_x MERCHANT_CATEGORY  \\\n",
       "0      GBP     175  COMPLETED  2017-12-20 12:46:20              cafe   \n",
       "1      GBP     175  COMPLETED  2017-12-19 12:40:55              cafe   \n",
       "2      GBP     220  COMPLETED  2017-12-19 12:45:05  department_store   \n",
       "3      GBP     210  COMPLETED  2017-12-21 07:42:25         Undefined   \n",
       "4      GBP     485  COMPLETED  2017-12-21 08:36:56              cafe   \n",
       "\n",
       "  MERCHANT_COUNTRY ENTRY_METHOD                               USER_ID  \\\n",
       "0              GBR         cont  8f99c254-7cf2-4e35-b7e4-53804d42445d   \n",
       "1              GBR         cont  8f99c254-7cf2-4e35-b7e4-53804d42445d   \n",
       "2              GBR         cont  8f99c254-7cf2-4e35-b7e4-53804d42445d   \n",
       "3              GBR         cont  8f99c254-7cf2-4e35-b7e4-53804d42445d   \n",
       "4              GBR         cont  8f99c254-7cf2-4e35-b7e4-53804d42445d   \n",
       "\n",
       "           TYPE SOURCE  HAS_EMAIL   PHONE_COUNTRY  IS_FRAUDSTER TERMS_VERSION  \\\n",
       "0  CARD_PAYMENT   GAIA          1  GB||JE||IM||GG             0    2018-05-25   \n",
       "1  CARD_PAYMENT   GAIA          1  GB||JE||IM||GG             0    2018-05-25   \n",
       "2  CARD_PAYMENT   GAIA          1  GB||JE||IM||GG             0    2018-05-25   \n",
       "3  CARD_PAYMENT   GAIA          1  GB||JE||IM||GG             0    2018-05-25   \n",
       "4  CARD_PAYMENT   GAIA          1  GB||JE||IM||GG             0    2018-05-25   \n",
       "\n",
       "  COUNTRY     KYC  FAILED_SIGN_IN_ATTEMPTS  AGE  PROFILE_AGE  \n",
       "0      GB  PASSED                        0   55           83  \n",
       "1      GB  PASSED                        0   55           82  \n",
       "2      GB  PASSED                        0   55           82  \n",
       "3      GB  PASSED                        0   55           83  \n",
       "4      GB  PASSED                        0   55           83  "
      ]
     },
     "execution_count": 84,
     "metadata": {},
     "output_type": "execute_result"
    }
   ],
   "source": [
    "print(df.info())\n",
    "print(df.describe().T)\n",
    "df.head()"
   ]
  },
  {
   "cell_type": "markdown",
   "metadata": {},
   "source": [
    "### Let's transform countries to CODE3 format"
   ]
  },
  {
   "cell_type": "code",
   "execution_count": 85,
   "metadata": {},
   "outputs": [],
   "source": [
    "df['COUNTRY'] = df['COUNTRY'].map({c[0]: c[1] for c in cntr_df[['CODE','CODE3']].values})"
   ]
  },
  {
   "cell_type": "code",
   "execution_count": 86,
   "metadata": {},
   "outputs": [
    {
     "data": {
      "text/plain": [
       "Undefined    191725\n",
       "GBR          136448\n",
       "USA           42723\n",
       "FRA           27673\n",
       "LTU           25040\n",
       "IRL           23653\n",
       "ESP           20976\n",
       "NLD           17173\n",
       "POL            9365\n",
       "ITA            9054\n",
       "AUS            8867\n",
       "DEU            8149\n",
       "LUX            7045\n",
       "CAN            5566\n",
       "NZL            4802\n",
       "CHE            4523\n",
       "PRT            4513\n",
       "GRC            4270\n",
       "HUN            4007\n",
       "LVA            3664\n",
       "SWE            3541\n",
       "EST            3490\n",
       "ZAF            3230\n",
       "THA            2877\n",
       "NOR            2864\n",
       "DNK            2689\n",
       "CYP            2421\n",
       "IDN            2289\n",
       "ROM            2285\n",
       "CZE            2254\n",
       "              ...  \n",
       "311               1\n",
       "034               1\n",
       "013               1\n",
       "510               1\n",
       "062               1\n",
       "MAL               1\n",
       "VGB               1\n",
       "DZA               1\n",
       "VES               1\n",
       "185               1\n",
       "033               1\n",
       "643               1\n",
       "077               1\n",
       "NTB               1\n",
       "469               1\n",
       "AIA               1\n",
       "HIR               1\n",
       "660               1\n",
       "TOK               1\n",
       "VEN               1\n",
       "482               1\n",
       "008               1\n",
       "114               1\n",
       "004               1\n",
       "CAU               1\n",
       "OWN               1\n",
       "FEJ               1\n",
       "W71               1\n",
       "239               1\n",
       "417               1\n",
       "Name: MERCHANT_COUNTRY, Length: 304, dtype: int64"
      ]
     },
     "execution_count": 86,
     "metadata": {},
     "output_type": "execute_result"
    }
   ],
   "source": [
    "# We have numeric values of MERCHANT_COUNTRY!\n",
    "df['MERCHANT_COUNTRY'].value_counts()"
   ]
  },
  {
   "cell_type": "code",
   "execution_count": 87,
   "metadata": {},
   "outputs": [
    {
     "data": {
      "text/html": [
       "<div>\n",
       "<style scoped>\n",
       "    .dataframe tbody tr th:only-of-type {\n",
       "        vertical-align: middle;\n",
       "    }\n",
       "\n",
       "    .dataframe tbody tr th {\n",
       "        vertical-align: top;\n",
       "    }\n",
       "\n",
       "    .dataframe thead th {\n",
       "        text-align: right;\n",
       "    }\n",
       "</style>\n",
       "<table border=\"1\" class=\"dataframe\">\n",
       "  <thead>\n",
       "    <tr style=\"text-align: right;\">\n",
       "      <th></th>\n",
       "      <th>CODE</th>\n",
       "      <th>NAME</th>\n",
       "      <th>CODE3</th>\n",
       "      <th>NUMCODE</th>\n",
       "      <th>PHONECODE</th>\n",
       "    </tr>\n",
       "  </thead>\n",
       "  <tbody>\n",
       "    <tr>\n",
       "      <th>182</th>\n",
       "      <td>SI</td>\n",
       "      <td>Slovenia</td>\n",
       "      <td>sVN</td>\n",
       "      <td>705</td>\n",
       "      <td>386</td>\n",
       "    </tr>\n",
       "  </tbody>\n",
       "</table>\n",
       "</div>"
      ],
      "text/plain": [
       "    CODE      NAME CODE3  NUMCODE  PHONECODE\n",
       "182   SI  Slovenia   sVN      705        386"
      ]
     },
     "execution_count": 87,
     "metadata": {},
     "output_type": "execute_result"
    }
   ],
   "source": [
    "# Test single example of numeric country code\n",
    "cntr_df[cntr_df['PHONECODE']==386]"
   ]
  },
  {
   "cell_type": "code",
   "execution_count": 88,
   "metadata": {},
   "outputs": [
    {
     "data": {
      "text/html": [
       "<div>\n",
       "<style scoped>\n",
       "    .dataframe tbody tr th:only-of-type {\n",
       "        vertical-align: middle;\n",
       "    }\n",
       "\n",
       "    .dataframe tbody tr th {\n",
       "        vertical-align: top;\n",
       "    }\n",
       "\n",
       "    .dataframe thead th {\n",
       "        text-align: right;\n",
       "    }\n",
       "</style>\n",
       "<table border=\"1\" class=\"dataframe\">\n",
       "  <thead>\n",
       "    <tr style=\"text-align: right;\">\n",
       "      <th></th>\n",
       "      <th>CURRENCY</th>\n",
       "      <th>AMOUNT</th>\n",
       "      <th>STATE</th>\n",
       "      <th>CREATED_DATE_x</th>\n",
       "      <th>MERCHANT_CATEGORY</th>\n",
       "      <th>MERCHANT_COUNTRY</th>\n",
       "      <th>ENTRY_METHOD</th>\n",
       "      <th>USER_ID</th>\n",
       "      <th>TYPE</th>\n",
       "      <th>SOURCE</th>\n",
       "      <th>HAS_EMAIL</th>\n",
       "      <th>PHONE_COUNTRY</th>\n",
       "      <th>IS_FRAUDSTER</th>\n",
       "      <th>TERMS_VERSION</th>\n",
       "      <th>COUNTRY</th>\n",
       "      <th>KYC</th>\n",
       "      <th>FAILED_SIGN_IN_ATTEMPTS</th>\n",
       "      <th>AGE</th>\n",
       "      <th>PROFILE_AGE</th>\n",
       "    </tr>\n",
       "  </thead>\n",
       "  <tbody>\n",
       "    <tr>\n",
       "      <th>3463</th>\n",
       "      <td>EUR</td>\n",
       "      <td>10000</td>\n",
       "      <td>COMPLETED</td>\n",
       "      <td>2016-10-30 11:17:01</td>\n",
       "      <td>Undefined</td>\n",
       "      <td>386</td>\n",
       "      <td>chip</td>\n",
       "      <td>c069a845-b843-475e-af4f-a27e379f1c76</td>\n",
       "      <td>ATM</td>\n",
       "      <td>GAIA</td>\n",
       "      <td>1</td>\n",
       "      <td>GB||JE||IM||GG</td>\n",
       "      <td>0</td>\n",
       "      <td>2018-03-20</td>\n",
       "      <td>gBR</td>\n",
       "      <td>PASSED</td>\n",
       "      <td>0</td>\n",
       "      <td>49</td>\n",
       "      <td>234</td>\n",
       "    </tr>\n",
       "    <tr>\n",
       "      <th>3464</th>\n",
       "      <td>EUR</td>\n",
       "      <td>9000</td>\n",
       "      <td>COMPLETED</td>\n",
       "      <td>2016-10-28 10:30:21</td>\n",
       "      <td>Undefined</td>\n",
       "      <td>386</td>\n",
       "      <td>chip</td>\n",
       "      <td>c069a845-b843-475e-af4f-a27e379f1c76</td>\n",
       "      <td>ATM</td>\n",
       "      <td>GAIA</td>\n",
       "      <td>1</td>\n",
       "      <td>GB||JE||IM||GG</td>\n",
       "      <td>0</td>\n",
       "      <td>2018-03-20</td>\n",
       "      <td>gBR</td>\n",
       "      <td>PASSED</td>\n",
       "      <td>0</td>\n",
       "      <td>49</td>\n",
       "      <td>232</td>\n",
       "    </tr>\n",
       "    <tr>\n",
       "      <th>3480</th>\n",
       "      <td>EUR</td>\n",
       "      <td>6000</td>\n",
       "      <td>COMPLETED</td>\n",
       "      <td>2016-10-29 16:02:05</td>\n",
       "      <td>Undefined</td>\n",
       "      <td>386</td>\n",
       "      <td>chip</td>\n",
       "      <td>c069a845-b843-475e-af4f-a27e379f1c76</td>\n",
       "      <td>ATM</td>\n",
       "      <td>GAIA</td>\n",
       "      <td>1</td>\n",
       "      <td>GB||JE||IM||GG</td>\n",
       "      <td>0</td>\n",
       "      <td>2018-03-20</td>\n",
       "      <td>gBR</td>\n",
       "      <td>PASSED</td>\n",
       "      <td>0</td>\n",
       "      <td>49</td>\n",
       "      <td>234</td>\n",
       "    </tr>\n",
       "    <tr>\n",
       "      <th>9134</th>\n",
       "      <td>GBP</td>\n",
       "      <td>996</td>\n",
       "      <td>COMPLETED</td>\n",
       "      <td>2016-09-29 14:40:00</td>\n",
       "      <td>Undefined</td>\n",
       "      <td>000</td>\n",
       "      <td>manu</td>\n",
       "      <td>714661e3-b09b-42ef-a7b8-14a90bd455f5</td>\n",
       "      <td>CARD_PAYMENT</td>\n",
       "      <td>GAIA</td>\n",
       "      <td>1</td>\n",
       "      <td>GB||JE||IM||GG</td>\n",
       "      <td>0</td>\n",
       "      <td>2018-05-25</td>\n",
       "      <td>gBR</td>\n",
       "      <td>PASSED</td>\n",
       "      <td>0</td>\n",
       "      <td>42</td>\n",
       "      <td>75</td>\n",
       "    </tr>\n",
       "    <tr>\n",
       "      <th>9157</th>\n",
       "      <td>GBP</td>\n",
       "      <td>1068</td>\n",
       "      <td>COMPLETED</td>\n",
       "      <td>2016-10-29 16:15:53</td>\n",
       "      <td>Undefined</td>\n",
       "      <td>000</td>\n",
       "      <td>manu</td>\n",
       "      <td>714661e3-b09b-42ef-a7b8-14a90bd455f5</td>\n",
       "      <td>CARD_PAYMENT</td>\n",
       "      <td>GAIA</td>\n",
       "      <td>1</td>\n",
       "      <td>GB||JE||IM||GG</td>\n",
       "      <td>0</td>\n",
       "      <td>2018-05-25</td>\n",
       "      <td>gBR</td>\n",
       "      <td>PASSED</td>\n",
       "      <td>0</td>\n",
       "      <td>42</td>\n",
       "      <td>105</td>\n",
       "    </tr>\n",
       "  </tbody>\n",
       "</table>\n",
       "</div>"
      ],
      "text/plain": [
       "     CURRENCY  AMOUNT      STATE       CREATED_DATE_x MERCHANT_CATEGORY  \\\n",
       "3463      EUR   10000  COMPLETED  2016-10-30 11:17:01         Undefined   \n",
       "3464      EUR    9000  COMPLETED  2016-10-28 10:30:21         Undefined   \n",
       "3480      EUR    6000  COMPLETED  2016-10-29 16:02:05         Undefined   \n",
       "9134      GBP     996  COMPLETED  2016-09-29 14:40:00         Undefined   \n",
       "9157      GBP    1068  COMPLETED  2016-10-29 16:15:53         Undefined   \n",
       "\n",
       "     MERCHANT_COUNTRY ENTRY_METHOD                               USER_ID  \\\n",
       "3463              386         chip  c069a845-b843-475e-af4f-a27e379f1c76   \n",
       "3464              386         chip  c069a845-b843-475e-af4f-a27e379f1c76   \n",
       "3480              386         chip  c069a845-b843-475e-af4f-a27e379f1c76   \n",
       "9134              000         manu  714661e3-b09b-42ef-a7b8-14a90bd455f5   \n",
       "9157              000         manu  714661e3-b09b-42ef-a7b8-14a90bd455f5   \n",
       "\n",
       "              TYPE SOURCE  HAS_EMAIL   PHONE_COUNTRY  IS_FRAUDSTER  \\\n",
       "3463           ATM   GAIA          1  GB||JE||IM||GG             0   \n",
       "3464           ATM   GAIA          1  GB||JE||IM||GG             0   \n",
       "3480           ATM   GAIA          1  GB||JE||IM||GG             0   \n",
       "9134  CARD_PAYMENT   GAIA          1  GB||JE||IM||GG             0   \n",
       "9157  CARD_PAYMENT   GAIA          1  GB||JE||IM||GG             0   \n",
       "\n",
       "     TERMS_VERSION COUNTRY     KYC  FAILED_SIGN_IN_ATTEMPTS  AGE  PROFILE_AGE  \n",
       "3463    2018-03-20     gBR  PASSED                        0   49          234  \n",
       "3464    2018-03-20     gBR  PASSED                        0   49          232  \n",
       "3480    2018-03-20     gBR  PASSED                        0   49          234  \n",
       "9134    2018-05-25     gBR  PASSED                        0   42           75  \n",
       "9157    2018-05-25     gBR  PASSED                        0   42          105  "
      ]
     },
     "execution_count": 88,
     "metadata": {},
     "output_type": "execute_result"
    }
   ],
   "source": [
    "# Trying to replace country code to CODE3\n",
    "df['MERCHANT_COUNTRY'] = df['MERCHANT_COUNTRY'].apply(lambda x: (cntr_df[cntr_df['NUMCODE']==int(x)]['CODE3'].values[0] if len(cntr_df[cntr_df['NUMCODE']==int(x)]['CODE3'].values)>0 else x) if x.isdigit() else x)\n",
    "df[[x.isdigit() for x in df['MERCHANT_COUNTRY'].values]].head()"
   ]
  },
  {
   "cell_type": "code",
   "execution_count": 89,
   "metadata": {},
   "outputs": [
    {
     "data": {
      "text/html": [
       "<div>\n",
       "<style scoped>\n",
       "    .dataframe tbody tr th:only-of-type {\n",
       "        vertical-align: middle;\n",
       "    }\n",
       "\n",
       "    .dataframe tbody tr th {\n",
       "        vertical-align: top;\n",
       "    }\n",
       "\n",
       "    .dataframe thead th {\n",
       "        text-align: right;\n",
       "    }\n",
       "</style>\n",
       "<table border=\"1\" class=\"dataframe\">\n",
       "  <thead>\n",
       "    <tr style=\"text-align: right;\">\n",
       "      <th></th>\n",
       "      <th>CURRENCY</th>\n",
       "      <th>AMOUNT</th>\n",
       "      <th>STATE</th>\n",
       "      <th>CREATED_DATE_x</th>\n",
       "      <th>MERCHANT_CATEGORY</th>\n",
       "      <th>MERCHANT_COUNTRY</th>\n",
       "      <th>ENTRY_METHOD</th>\n",
       "      <th>USER_ID</th>\n",
       "      <th>TYPE</th>\n",
       "      <th>SOURCE</th>\n",
       "      <th>HAS_EMAIL</th>\n",
       "      <th>PHONE_COUNTRY</th>\n",
       "      <th>IS_FRAUDSTER</th>\n",
       "      <th>TERMS_VERSION</th>\n",
       "      <th>COUNTRY</th>\n",
       "      <th>KYC</th>\n",
       "      <th>FAILED_SIGN_IN_ATTEMPTS</th>\n",
       "      <th>AGE</th>\n",
       "      <th>PROFILE_AGE</th>\n",
       "    </tr>\n",
       "  </thead>\n",
       "  <tbody>\n",
       "  </tbody>\n",
       "</table>\n",
       "</div>"
      ],
      "text/plain": [
       "Empty DataFrame\n",
       "Columns: [CURRENCY, AMOUNT, STATE, CREATED_DATE_x, MERCHANT_CATEGORY, MERCHANT_COUNTRY, ENTRY_METHOD, USER_ID, TYPE, SOURCE, HAS_EMAIL, PHONE_COUNTRY, IS_FRAUDSTER, TERMS_VERSION, COUNTRY, KYC, FAILED_SIGN_IN_ATTEMPTS, AGE, PROFILE_AGE]\n",
       "Index: []"
      ]
     },
     "execution_count": 89,
     "metadata": {},
     "output_type": "execute_result"
    }
   ],
   "source": [
    "# Trying to replace country code to CODE3\n",
    "# Add \"C\" to the missing countries\n",
    "df['MERCHANT_COUNTRY'] = df['MERCHANT_COUNTRY'].apply(lambda x: (cntr_df[cntr_df['PHONECODE']==int(x)]['CODE3'].values[0] if len(cntr_df[cntr_df['PHONECODE']==int(x)]['CODE3'].values)>0 else 'C'+x) if x.isdigit() else x)\n",
    "df[[x.isdigit() for x in df['MERCHANT_COUNTRY'].values]].head()"
   ]
  },
  {
   "cell_type": "code",
   "execution_count": 90,
   "metadata": {},
   "outputs": [],
   "source": [
    "# Fill NaN to Undefined and create binary variable HOMELAND to identify than transaction is made in country of user\n",
    "df['COUNTRY'] = df['COUNTRY'].fillna('Undefined')\n",
    "df['HOMELAND'] = df.apply(lambda x: 1 if x['COUNTRY'].upper() == x['MERCHANT_COUNTRY'].upper() else 0, axis=1)"
   ]
  },
  {
   "cell_type": "markdown",
   "metadata": {},
   "source": [
    "#### Let's create some periods and statistics"
   ]
  },
  {
   "cell_type": "code",
   "execution_count": 91,
   "metadata": {},
   "outputs": [],
   "source": [
    "# Functions to calculate day and hour of transactions of users\n",
    "def transaction_by_day_count(dataset):\n",
    "    dataset['day_of_transaction'] = dataset['CREATED_DATE_x'].apply(\n",
    "        lambda x: (datetime.strptime(x, '%Y-%m-%d %H:%M:%S')).strftime('%w')\n",
    "    ) \n",
    "    tmp_df = dataset.groupby(\n",
    "        ['USER_ID','day_of_transaction']\n",
    "    )['day_of_transaction'].size().unstack().fillna(0).reset_index()\n",
    "    old_columns = [\n",
    "        old_col for old_col in tmp_df.columns.tolist()\n",
    "        if old_col in dataset['day_of_transaction'].unique()\n",
    "    ]\n",
    "    tmp_df.rename(\n",
    "        columns={old_col: 'day_' + old_col for old_col in old_columns},\n",
    "        inplace=True\n",
    "    )\n",
    "    return tmp_df\n",
    "\n",
    "def transaction_by_hour_count(dataset):\n",
    "    dataset['hour_of_transaction'] = dataset['CREATED_DATE_x'].apply(\n",
    "        lambda x: (datetime.strptime(x, '%Y-%m-%d %H:%M:%S')).strftime('%H')\n",
    "    ) \n",
    "    return dataset.groupby(\n",
    "        ['USER_ID','hour_of_transaction']\n",
    "    )['hour_of_transaction'].size().unstack().fillna(0).reset_index()"
   ]
  },
  {
   "cell_type": "code",
   "execution_count": 92,
   "metadata": {},
   "outputs": [],
   "source": [
    "transaction_by_day = transaction_by_day_count(df)\n",
    "transaction_by_day = transaction_by_day.set_index('USER_ID')\n",
    "\n",
    "transaction_by_hour = transaction_by_hour_count(df)\n",
    "transaction_by_hour = transaction_by_hour.set_index('USER_ID')"
   ]
  },
  {
   "cell_type": "code",
   "execution_count": 93,
   "metadata": {},
   "outputs": [
    {
     "data": {
      "text/html": [
       "<div>\n",
       "<style scoped>\n",
       "    .dataframe tbody tr th:only-of-type {\n",
       "        vertical-align: middle;\n",
       "    }\n",
       "\n",
       "    .dataframe tbody tr th {\n",
       "        vertical-align: top;\n",
       "    }\n",
       "\n",
       "    .dataframe thead th {\n",
       "        text-align: right;\n",
       "    }\n",
       "</style>\n",
       "<table border=\"1\" class=\"dataframe\">\n",
       "  <thead>\n",
       "    <tr style=\"text-align: right;\">\n",
       "      <th>hour_of_transaction</th>\n",
       "      <th>00</th>\n",
       "      <th>01</th>\n",
       "      <th>02</th>\n",
       "      <th>03</th>\n",
       "      <th>04</th>\n",
       "      <th>05</th>\n",
       "      <th>06</th>\n",
       "      <th>07</th>\n",
       "      <th>08</th>\n",
       "      <th>09</th>\n",
       "      <th>...</th>\n",
       "      <th>14</th>\n",
       "      <th>15</th>\n",
       "      <th>16</th>\n",
       "      <th>17</th>\n",
       "      <th>18</th>\n",
       "      <th>19</th>\n",
       "      <th>20</th>\n",
       "      <th>21</th>\n",
       "      <th>22</th>\n",
       "      <th>23</th>\n",
       "    </tr>\n",
       "    <tr>\n",
       "      <th>USER_ID</th>\n",
       "      <th></th>\n",
       "      <th></th>\n",
       "      <th></th>\n",
       "      <th></th>\n",
       "      <th></th>\n",
       "      <th></th>\n",
       "      <th></th>\n",
       "      <th></th>\n",
       "      <th></th>\n",
       "      <th></th>\n",
       "      <th></th>\n",
       "      <th></th>\n",
       "      <th></th>\n",
       "      <th></th>\n",
       "      <th></th>\n",
       "      <th></th>\n",
       "      <th></th>\n",
       "      <th></th>\n",
       "      <th></th>\n",
       "      <th></th>\n",
       "      <th></th>\n",
       "    </tr>\n",
       "  </thead>\n",
       "  <tbody>\n",
       "    <tr>\n",
       "      <th>000e88bb-d302-4fdc-b757-2b1a2c33e7d6</th>\n",
       "      <td>0.0</td>\n",
       "      <td>0.0</td>\n",
       "      <td>0.0</td>\n",
       "      <td>0.0</td>\n",
       "      <td>0.0</td>\n",
       "      <td>0.0</td>\n",
       "      <td>0.0</td>\n",
       "      <td>0.0</td>\n",
       "      <td>0.0</td>\n",
       "      <td>1.0</td>\n",
       "      <td>...</td>\n",
       "      <td>0.0</td>\n",
       "      <td>2.0</td>\n",
       "      <td>0.0</td>\n",
       "      <td>2.0</td>\n",
       "      <td>0.0</td>\n",
       "      <td>2.0</td>\n",
       "      <td>0.0</td>\n",
       "      <td>0.0</td>\n",
       "      <td>0.0</td>\n",
       "      <td>0.0</td>\n",
       "    </tr>\n",
       "    <tr>\n",
       "      <th>001032e0-8071-4baf-95b9-e50214665c2e</th>\n",
       "      <td>0.0</td>\n",
       "      <td>1.0</td>\n",
       "      <td>0.0</td>\n",
       "      <td>0.0</td>\n",
       "      <td>0.0</td>\n",
       "      <td>1.0</td>\n",
       "      <td>1.0</td>\n",
       "      <td>2.0</td>\n",
       "      <td>3.0</td>\n",
       "      <td>2.0</td>\n",
       "      <td>...</td>\n",
       "      <td>4.0</td>\n",
       "      <td>2.0</td>\n",
       "      <td>3.0</td>\n",
       "      <td>4.0</td>\n",
       "      <td>4.0</td>\n",
       "      <td>3.0</td>\n",
       "      <td>2.0</td>\n",
       "      <td>2.0</td>\n",
       "      <td>1.0</td>\n",
       "      <td>0.0</td>\n",
       "    </tr>\n",
       "    <tr>\n",
       "      <th>00131af8-66f0-4526-8b5f-dc2fdb26c7d7</th>\n",
       "      <td>0.0</td>\n",
       "      <td>0.0</td>\n",
       "      <td>0.0</td>\n",
       "      <td>0.0</td>\n",
       "      <td>0.0</td>\n",
       "      <td>0.0</td>\n",
       "      <td>0.0</td>\n",
       "      <td>0.0</td>\n",
       "      <td>0.0</td>\n",
       "      <td>0.0</td>\n",
       "      <td>...</td>\n",
       "      <td>0.0</td>\n",
       "      <td>0.0</td>\n",
       "      <td>0.0</td>\n",
       "      <td>0.0</td>\n",
       "      <td>0.0</td>\n",
       "      <td>0.0</td>\n",
       "      <td>0.0</td>\n",
       "      <td>2.0</td>\n",
       "      <td>0.0</td>\n",
       "      <td>0.0</td>\n",
       "    </tr>\n",
       "    <tr>\n",
       "      <th>001926be-3245-43fa-86dd-b40ee160b6f9</th>\n",
       "      <td>0.0</td>\n",
       "      <td>0.0</td>\n",
       "      <td>0.0</td>\n",
       "      <td>1.0</td>\n",
       "      <td>0.0</td>\n",
       "      <td>0.0</td>\n",
       "      <td>4.0</td>\n",
       "      <td>12.0</td>\n",
       "      <td>14.0</td>\n",
       "      <td>17.0</td>\n",
       "      <td>...</td>\n",
       "      <td>25.0</td>\n",
       "      <td>25.0</td>\n",
       "      <td>11.0</td>\n",
       "      <td>6.0</td>\n",
       "      <td>16.0</td>\n",
       "      <td>6.0</td>\n",
       "      <td>4.0</td>\n",
       "      <td>2.0</td>\n",
       "      <td>0.0</td>\n",
       "      <td>0.0</td>\n",
       "    </tr>\n",
       "    <tr>\n",
       "      <th>001cc034-5730-47c6-a70c-25f42249c9ee</th>\n",
       "      <td>0.0</td>\n",
       "      <td>0.0</td>\n",
       "      <td>0.0</td>\n",
       "      <td>0.0</td>\n",
       "      <td>0.0</td>\n",
       "      <td>1.0</td>\n",
       "      <td>0.0</td>\n",
       "      <td>0.0</td>\n",
       "      <td>0.0</td>\n",
       "      <td>0.0</td>\n",
       "      <td>...</td>\n",
       "      <td>0.0</td>\n",
       "      <td>2.0</td>\n",
       "      <td>1.0</td>\n",
       "      <td>0.0</td>\n",
       "      <td>0.0</td>\n",
       "      <td>0.0</td>\n",
       "      <td>0.0</td>\n",
       "      <td>0.0</td>\n",
       "      <td>0.0</td>\n",
       "      <td>0.0</td>\n",
       "    </tr>\n",
       "  </tbody>\n",
       "</table>\n",
       "<p>5 rows × 24 columns</p>\n",
       "</div>"
      ],
      "text/plain": [
       "hour_of_transaction                    00   01   02   03   04   05   06    07  \\\n",
       "USER_ID                                                                         \n",
       "000e88bb-d302-4fdc-b757-2b1a2c33e7d6  0.0  0.0  0.0  0.0  0.0  0.0  0.0   0.0   \n",
       "001032e0-8071-4baf-95b9-e50214665c2e  0.0  1.0  0.0  0.0  0.0  1.0  1.0   2.0   \n",
       "00131af8-66f0-4526-8b5f-dc2fdb26c7d7  0.0  0.0  0.0  0.0  0.0  0.0  0.0   0.0   \n",
       "001926be-3245-43fa-86dd-b40ee160b6f9  0.0  0.0  0.0  1.0  0.0  0.0  4.0  12.0   \n",
       "001cc034-5730-47c6-a70c-25f42249c9ee  0.0  0.0  0.0  0.0  0.0  1.0  0.0   0.0   \n",
       "\n",
       "hour_of_transaction                     08    09 ...     14    15    16   17  \\\n",
       "USER_ID                                          ...                           \n",
       "000e88bb-d302-4fdc-b757-2b1a2c33e7d6   0.0   1.0 ...    0.0   2.0   0.0  2.0   \n",
       "001032e0-8071-4baf-95b9-e50214665c2e   3.0   2.0 ...    4.0   2.0   3.0  4.0   \n",
       "00131af8-66f0-4526-8b5f-dc2fdb26c7d7   0.0   0.0 ...    0.0   0.0   0.0  0.0   \n",
       "001926be-3245-43fa-86dd-b40ee160b6f9  14.0  17.0 ...   25.0  25.0  11.0  6.0   \n",
       "001cc034-5730-47c6-a70c-25f42249c9ee   0.0   0.0 ...    0.0   2.0   1.0  0.0   \n",
       "\n",
       "hour_of_transaction                     18   19   20   21   22   23  \n",
       "USER_ID                                                              \n",
       "000e88bb-d302-4fdc-b757-2b1a2c33e7d6   0.0  2.0  0.0  0.0  0.0  0.0  \n",
       "001032e0-8071-4baf-95b9-e50214665c2e   4.0  3.0  2.0  2.0  1.0  0.0  \n",
       "00131af8-66f0-4526-8b5f-dc2fdb26c7d7   0.0  0.0  0.0  2.0  0.0  0.0  \n",
       "001926be-3245-43fa-86dd-b40ee160b6f9  16.0  6.0  4.0  2.0  0.0  0.0  \n",
       "001cc034-5730-47c6-a70c-25f42249c9ee   0.0  0.0  0.0  0.0  0.0  0.0  \n",
       "\n",
       "[5 rows x 24 columns]"
      ]
     },
     "execution_count": 93,
     "metadata": {},
     "output_type": "execute_result"
    }
   ],
   "source": [
    "transaction_by_hour.head()"
   ]
  },
  {
   "cell_type": "code",
   "execution_count": 94,
   "metadata": {},
   "outputs": [],
   "source": [
    "# Join datasets\n",
    "df_time = pd.merge(\n",
    "    transaction_by_day,\n",
    "    transaction_by_hour,\n",
    "    left_index=True,\n",
    "    right_index=True,)"
   ]
  },
  {
   "cell_type": "code",
   "execution_count": 95,
   "metadata": {},
   "outputs": [],
   "source": [
    "df_time = df_time.reset_index()"
   ]
  },
  {
   "cell_type": "code",
   "execution_count": 96,
   "metadata": {},
   "outputs": [
    {
     "name": "stdout",
     "output_type": "stream",
     "text": [
      "<class 'pandas.core.frame.DataFrame'>\n",
      "RangeIndex: 7748 entries, 0 to 7747\n",
      "Data columns (total 32 columns):\n",
      "USER_ID    7748 non-null object\n",
      "day_0      7748 non-null float64\n",
      "day_1      7748 non-null float64\n",
      "day_2      7748 non-null float64\n",
      "day_3      7748 non-null float64\n",
      "day_4      7748 non-null float64\n",
      "day_5      7748 non-null float64\n",
      "day_6      7748 non-null float64\n",
      "00         7748 non-null float64\n",
      "01         7748 non-null float64\n",
      "02         7748 non-null float64\n",
      "03         7748 non-null float64\n",
      "04         7748 non-null float64\n",
      "05         7748 non-null float64\n",
      "06         7748 non-null float64\n",
      "07         7748 non-null float64\n",
      "08         7748 non-null float64\n",
      "09         7748 non-null float64\n",
      "10         7748 non-null float64\n",
      "11         7748 non-null float64\n",
      "12         7748 non-null float64\n",
      "13         7748 non-null float64\n",
      "14         7748 non-null float64\n",
      "15         7748 non-null float64\n",
      "16         7748 non-null float64\n",
      "17         7748 non-null float64\n",
      "18         7748 non-null float64\n",
      "19         7748 non-null float64\n",
      "20         7748 non-null float64\n",
      "21         7748 non-null float64\n",
      "22         7748 non-null float64\n",
      "23         7748 non-null float64\n",
      "dtypes: float64(31), object(1)\n",
      "memory usage: 1.9+ MB\n"
     ]
    }
   ],
   "source": [
    "df_time.to_csv('../data/time.csv')\n",
    "df_time.info()"
   ]
  },
  {
   "cell_type": "markdown",
   "metadata": {},
   "source": [
    "#### Let's transform currency"
   ]
  },
  {
   "cell_type": "code",
   "execution_count": 97,
   "metadata": {},
   "outputs": [],
   "source": [
    "df = pd.merge(df, cur_df, left_on=\"CURRENCY\", right_on=\"CCY\")\n",
    "df['IS_CRYPTO'] = df['IS_CRYPTO'].astype(int)\n",
    "df['AMOUNT'] = df['AMOUNT'] * 10**df['EXPONENT']"
   ]
  },
  {
   "cell_type": "code",
   "execution_count": 98,
   "metadata": {},
   "outputs": [
    {
     "data": {
      "text/plain": [
       "Index(['CURRENCY', 'AMOUNT', 'STATE', 'CREATED_DATE_x', 'MERCHANT_CATEGORY',\n",
       "       'MERCHANT_COUNTRY', 'ENTRY_METHOD', 'USER_ID', 'TYPE', 'SOURCE',\n",
       "       'HAS_EMAIL', 'PHONE_COUNTRY', 'IS_FRAUDSTER', 'TERMS_VERSION',\n",
       "       'COUNTRY', 'KYC', 'FAILED_SIGN_IN_ATTEMPTS', 'AGE', 'PROFILE_AGE',\n",
       "       'HOMELAND', 'day_of_transaction', 'hour_of_transaction', 'CCY',\n",
       "       'EXPONENT', 'IS_CRYPTO'],\n",
       "      dtype='object')"
      ]
     },
     "execution_count": 98,
     "metadata": {},
     "output_type": "execute_result"
    }
   ],
   "source": [
    "df.columns"
   ]
  },
  {
   "cell_type": "code",
   "execution_count": 99,
   "metadata": {},
   "outputs": [],
   "source": [
    "cols_to_select = ['USER_ID', 'CURRENCY', 'AMOUNT',\n",
    "       'STATE', 'MERCHANT_CATEGORY', 'ENTRY_METHOD', 'TYPE', 'SOURCE', 'HAS_EMAIL', \n",
    "       'IS_FRAUDSTER', 'TERMS_VERSION', 'KYC', 'FAILED_SIGN_IN_ATTEMPTS', 'AGE', 'PROFILE_AGE', 'HOMELAND',\n",
    "       'day_of_transaction', 'hour_of_transaction', 'IS_CRYPTO']"
   ]
  },
  {
   "cell_type": "code",
   "execution_count": 100,
   "metadata": {},
   "outputs": [],
   "source": [
    "df = df[cols_to_select]"
   ]
  },
  {
   "cell_type": "code",
   "execution_count": 101,
   "metadata": {},
   "outputs": [
    {
     "data": {
      "image/png": "[encoded data removed]",
      "text/plain": [
       "<Figure size 2160x1440 with 2 Axes>"
      ]
     },
     "metadata": {
      "needs_background": "light"
     },
     "output_type": "display_data"
    }
   ],
   "source": [
    "fig, ax = plt.subplots(figsize=(30,20))\n",
    "sns.heatmap(df.corr(),annot=False,cmap=\"RdYlGn\");"
   ]
  },
  {
   "cell_type": "code",
   "execution_count": 103,
   "metadata": {},
   "outputs": [
    {
     "name": "stdout",
     "output_type": "stream",
     "text": [
      "<class 'pandas.core.frame.DataFrame'>\n",
      "Int64Index: 638742 entries, 0 to 638741\n",
      "Columns: 169 entries, USER_ID to KYC_PENDING\n",
      "dtypes: int64(8), object(4), uint8(157)\n",
      "memory usage: 159.0+ MB\n"
     ]
    }
   ],
   "source": [
    "df.info()"
   ]
  },
  {
   "cell_type": "code",
   "execution_count": 68,
   "metadata": {},
   "outputs": [
    {
     "ename": "SystemError",
     "evalue": "<built-in method item of numpy.ndarray object at 0x7fd677d16490> returned a result with an error set",
     "output_type": "error",
     "traceback": [
      "\u001b[0;31m---------------------------------------------------------------------------\u001b[0m",
      "\u001b[0;31mKeyboardInterrupt\u001b[0m                         Traceback (most recent call last)",
      "\u001b[0;31mKeyboardInterrupt\u001b[0m: ",
      "\nThe above exception was the direct cause of the following exception:\n",
      "\u001b[0;31mSystemError\u001b[0m                               Traceback (most recent call last)",
      "\u001b[0;31mSystemError\u001b[0m: <built-in method item of numpy.ndarray object at 0x7fd677d16490> returned a result with an error set",
      "\nThe above exception was the direct cause of the following exception:\n",
      "\u001b[0;31mSystemError\u001b[0m                               Traceback (most recent call last)",
      "\u001b[0;31mSystemError\u001b[0m: <built-in method item of numpy.ndarray object at 0x7fd677d16490> returned a result with an error set",
      "\nThe above exception was the direct cause of the following exception:\n",
      "\u001b[0;31mSystemError\u001b[0m                               Traceback (most recent call last)",
      "\u001b[0;31mSystemError\u001b[0m: <built-in method item of numpy.ndarray object at 0x7fd677d16490> returned a result with an error set",
      "\nThe above exception was the direct cause of the following exception:\n",
      "\u001b[0;31mSystemError\u001b[0m                               Traceback (most recent call last)",
      "\u001b[0;31mSystemError\u001b[0m: <built-in method item of numpy.ndarray object at 0x7fd677d16490> returned a result with an error set",
      "\nThe above exception was the direct cause of the following exception:\n",
      "\u001b[0;31mSystemError\u001b[0m                               Traceback (most recent call last)",
      "\u001b[0;31mSystemError\u001b[0m: <built-in method item of numpy.ndarray object at 0x7fd677d16490> returned a result with an error set",
      "\nThe above exception was the direct cause of the following exception:\n",
      "\u001b[0;31mSystemError\u001b[0m                               Traceback (most recent call last)",
      "\u001b[0;31mSystemError\u001b[0m: <built-in method item of numpy.ndarray object at 0x7fd677d16490> returned a result with an error set",
      "\nThe above exception was the direct cause of the following exception:\n",
      "\u001b[0;31mSystemError\u001b[0m                               Traceback (most recent call last)",
      "\u001b[0;32m<ipython-input-68-ae8bc1f1c126>\u001b[0m in \u001b[0;36m<module>\u001b[0;34m()\u001b[0m\n\u001b[0;32m----> 1\u001b[0;31m \u001b[0mdf\u001b[0m\u001b[0;34m.\u001b[0m\u001b[0mto_csv\u001b[0m\u001b[0;34m(\u001b[0m\u001b[0;34m'../data/dataset.csv'\u001b[0m\u001b[0;34m)\u001b[0m\u001b[0;34m\u001b[0m\u001b[0;34m\u001b[0m\u001b[0m\n\u001b[0m",
      "\u001b[0;32m~/anaconda3/lib/python3.7/site-packages/pandas/core/frame.py\u001b[0m in \u001b[0;36mto_csv\u001b[0;34m(self, path_or_buf, sep, na_rep, float_format, columns, header, index, index_label, mode, encoding, compression, quoting, quotechar, line_terminator, chunksize, tupleize_cols, date_format, doublequote, escapechar, decimal)\u001b[0m\n\u001b[1;32m   1743\u001b[0m                                  \u001b[0mdoublequote\u001b[0m\u001b[0;34m=\u001b[0m\u001b[0mdoublequote\u001b[0m\u001b[0;34m,\u001b[0m\u001b[0;34m\u001b[0m\u001b[0;34m\u001b[0m\u001b[0m\n\u001b[1;32m   1744\u001b[0m                                  escapechar=escapechar, decimal=decimal)\n\u001b[0;32m-> 1745\u001b[0;31m         \u001b[0mformatter\u001b[0m\u001b[0;34m.\u001b[0m\u001b[0msave\u001b[0m\u001b[0;34m(\u001b[0m\u001b[0;34m)\u001b[0m\u001b[0;34m\u001b[0m\u001b[0;34m\u001b[0m\u001b[0m\n\u001b[0m\u001b[1;32m   1746\u001b[0m \u001b[0;34m\u001b[0m\u001b[0m\n\u001b[1;32m   1747\u001b[0m         \u001b[0;32mif\u001b[0m \u001b[0mpath_or_buf\u001b[0m \u001b[0;32mis\u001b[0m \u001b[0;32mNone\u001b[0m\u001b[0;34m:\u001b[0m\u001b[0;34m\u001b[0m\u001b[0;34m\u001b[0m\u001b[0m\n",
      "\u001b[0;32m~/anaconda3/lib/python3.7/site-packages/pandas/io/formats/csvs.py\u001b[0m in \u001b[0;36msave\u001b[0;34m(self)\u001b[0m\n\u001b[1;32m    169\u001b[0m                 \u001b[0mself\u001b[0m\u001b[0;34m.\u001b[0m\u001b[0mwriter\u001b[0m \u001b[0;34m=\u001b[0m \u001b[0mUnicodeWriter\u001b[0m\u001b[0;34m(\u001b[0m\u001b[0mf\u001b[0m\u001b[0;34m,\u001b[0m \u001b[0;34m**\u001b[0m\u001b[0mwriter_kwargs\u001b[0m\u001b[0;34m)\u001b[0m\u001b[0;34m\u001b[0m\u001b[0;34m\u001b[0m\u001b[0m\n\u001b[1;32m    170\u001b[0m \u001b[0;34m\u001b[0m\u001b[0m\n\u001b[0;32m--> 171\u001b[0;31m             \u001b[0mself\u001b[0m\u001b[0;34m.\u001b[0m\u001b[0m_save\u001b[0m\u001b[0;34m(\u001b[0m\u001b[0;34m)\u001b[0m\u001b[0;34m\u001b[0m\u001b[0;34m\u001b[0m\u001b[0m\n\u001b[0m\u001b[1;32m    172\u001b[0m \u001b[0;34m\u001b[0m\u001b[0m\n\u001b[1;32m    173\u001b[0m         \u001b[0;32mfinally\u001b[0m\u001b[0;34m:\u001b[0m\u001b[0;34m\u001b[0m\u001b[0;34m\u001b[0m\u001b[0m\n",
      "\u001b[0;32m~/anaconda3/lib/python3.7/site-packages/pandas/io/formats/csvs.py\u001b[0m in \u001b[0;36m_save\u001b[0;34m(self)\u001b[0m\n\u001b[1;32m    284\u001b[0m                 \u001b[0;32mbreak\u001b[0m\u001b[0;34m\u001b[0m\u001b[0;34m\u001b[0m\u001b[0m\n\u001b[1;32m    285\u001b[0m \u001b[0;34m\u001b[0m\u001b[0m\n\u001b[0;32m--> 286\u001b[0;31m             \u001b[0mself\u001b[0m\u001b[0;34m.\u001b[0m\u001b[0m_save_chunk\u001b[0m\u001b[0;34m(\u001b[0m\u001b[0mstart_i\u001b[0m\u001b[0;34m,\u001b[0m \u001b[0mend_i\u001b[0m\u001b[0;34m)\u001b[0m\u001b[0;34m\u001b[0m\u001b[0;34m\u001b[0m\u001b[0m\n\u001b[0m\u001b[1;32m    287\u001b[0m \u001b[0;34m\u001b[0m\u001b[0m\n\u001b[1;32m    288\u001b[0m     \u001b[0;32mdef\u001b[0m \u001b[0m_save_chunk\u001b[0m\u001b[0;34m(\u001b[0m\u001b[0mself\u001b[0m\u001b[0;34m,\u001b[0m \u001b[0mstart_i\u001b[0m\u001b[0;34m,\u001b[0m \u001b[0mend_i\u001b[0m\u001b[0;34m)\u001b[0m\u001b[0;34m:\u001b[0m\u001b[0;34m\u001b[0m\u001b[0;34m\u001b[0m\u001b[0m\n",
      "\u001b[0;32m~/anaconda3/lib/python3.7/site-packages/pandas/io/formats/csvs.py\u001b[0m in \u001b[0;36m_save_chunk\u001b[0;34m(self, start_i, end_i)\u001b[0m\n\u001b[1;32m    298\u001b[0m                                   \u001b[0mdecimal\u001b[0m\u001b[0;34m=\u001b[0m\u001b[0mself\u001b[0m\u001b[0;34m.\u001b[0m\u001b[0mdecimal\u001b[0m\u001b[0;34m,\u001b[0m\u001b[0;34m\u001b[0m\u001b[0;34m\u001b[0m\u001b[0m\n\u001b[1;32m    299\u001b[0m                                   \u001b[0mdate_format\u001b[0m\u001b[0;34m=\u001b[0m\u001b[0mself\u001b[0m\u001b[0;34m.\u001b[0m\u001b[0mdate_format\u001b[0m\u001b[0;34m,\u001b[0m\u001b[0;34m\u001b[0m\u001b[0;34m\u001b[0m\u001b[0m\n\u001b[0;32m--> 300\u001b[0;31m                                   quoting=self.quoting)\n\u001b[0m\u001b[1;32m    301\u001b[0m \u001b[0;34m\u001b[0m\u001b[0m\n\u001b[1;32m    302\u001b[0m             \u001b[0;32mfor\u001b[0m \u001b[0mcol_loc\u001b[0m\u001b[0;34m,\u001b[0m \u001b[0mcol\u001b[0m \u001b[0;32min\u001b[0m \u001b[0mzip\u001b[0m\u001b[0;34m(\u001b[0m\u001b[0mb\u001b[0m\u001b[0;34m.\u001b[0m\u001b[0mmgr_locs\u001b[0m\u001b[0;34m,\u001b[0m \u001b[0md\u001b[0m\u001b[0;34m)\u001b[0m\u001b[0;34m:\u001b[0m\u001b[0;34m\u001b[0m\u001b[0;34m\u001b[0m\u001b[0m\n",
      "\u001b[0;32m~/anaconda3/lib/python3.7/site-packages/pandas/core/internals.py\u001b[0m in \u001b[0;36mto_native_types\u001b[0;34m(self, slicer, na_rep, quoting, **kwargs)\u001b[0m\n\u001b[1;32m    764\u001b[0m \u001b[0;34m\u001b[0m\u001b[0m\n\u001b[1;32m    765\u001b[0m         \u001b[0;32mif\u001b[0m \u001b[0;32mnot\u001b[0m \u001b[0mself\u001b[0m\u001b[0;34m.\u001b[0m\u001b[0mis_object\u001b[0m \u001b[0;32mand\u001b[0m \u001b[0;32mnot\u001b[0m \u001b[0mquoting\u001b[0m\u001b[0;34m:\u001b[0m\u001b[0;34m\u001b[0m\u001b[0;34m\u001b[0m\u001b[0m\n\u001b[0;32m--> 766\u001b[0;31m             \u001b[0mvalues\u001b[0m \u001b[0;34m=\u001b[0m \u001b[0mvalues\u001b[0m\u001b[0;34m.\u001b[0m\u001b[0mastype\u001b[0m\u001b[0;34m(\u001b[0m\u001b[0mstr\u001b[0m\u001b[0;34m)\u001b[0m\u001b[0;34m\u001b[0m\u001b[0;34m\u001b[0m\u001b[0m\n\u001b[0m\u001b[1;32m    767\u001b[0m         \u001b[0;32melse\u001b[0m\u001b[0;34m:\u001b[0m\u001b[0;34m\u001b[0m\u001b[0;34m\u001b[0m\u001b[0m\n\u001b[1;32m    768\u001b[0m             \u001b[0mvalues\u001b[0m \u001b[0;34m=\u001b[0m \u001b[0mnp\u001b[0m\u001b[0;34m.\u001b[0m\u001b[0marray\u001b[0m\u001b[0;34m(\u001b[0m\u001b[0mvalues\u001b[0m\u001b[0;34m,\u001b[0m \u001b[0mdtype\u001b[0m\u001b[0;34m=\u001b[0m\u001b[0;34m'object'\u001b[0m\u001b[0;34m)\u001b[0m\u001b[0;34m\u001b[0m\u001b[0;34m\u001b[0m\u001b[0m\n",
      "\u001b[0;31mSystemError\u001b[0m: <built-in method item of numpy.ndarray object at 0x7fd677d16490> returned a result with an error set"
     ]
    }
   ],
   "source": [
    "df.to_csv('../data/dataset.csv')"
   ]
  },
  {
   "cell_type": "code",
   "execution_count": null,
   "metadata": {},
   "outputs": [],
   "source": []
  },
  {
   "cell_type": "code",
   "execution_count": null,
   "metadata": {},
   "outputs": [],
   "source": []
  },
  {
   "cell_type": "code",
   "execution_count": null,
   "metadata": {},
   "outputs": [],
   "source": [
    "# Let's create dummy columns for categorical variables\n",
    "df = pd.get_dummies(df, columns=['ENTRY_METHOD','TYPE','SOURCE','STATE','MERCHANT_CATEGORY','TERMS_VERSION','KYC'])"
   ]
  },
  {
   "cell_type": "code",
   "execution_count": null,
   "metadata": {},
   "outputs": [
    {
     "name": "stderr",
     "output_type": "stream",
     "text": [
      "/home/truename/anaconda3/lib/python3.7/site-packages/scipy/stats/stats.py:1713: FutureWarning: Using a non-tuple sequence for multidimensional indexing is deprecated; use `arr[tuple(seq)]` instead of `arr[seq]`. In the future this will be interpreted as an array index, `arr[np.array(seq)]`, which will result either in an error or a different result.\n",
      "  return np.add.reduce(sorted[indexer] * weights, axis=axis) / sumval\n",
      "/home/truename/anaconda3/lib/python3.7/site-packages/statsmodels/nonparametric/kde.py:488: RuntimeWarning: invalid value encountered in true_divide\n",
      "  binned = fast_linbin(X, a, b, gridsize) / (delta * nobs)\n",
      "/home/truename/anaconda3/lib/python3.7/site-packages/statsmodels/nonparametric/kdetools.py:34: RuntimeWarning: invalid value encountered in double_scalars\n",
      "  FAC1 = 2*(np.pi*bw/RANGE)**2\n",
      "/home/truename/anaconda3/lib/python3.7/site-packages/numpy/core/fromnumeric.py:83: RuntimeWarning: invalid value encountered in reduce\n",
      "  return ufunc.reduce(obj, axis, dtype, out, **passkwargs)\n"
     ]
    }
   ],
   "source": [
    "#g=sns.pairplot(data=df,plot_kws={'alpha':0.2},hue='IS_FRAUDSTER');\n",
    "#g.fig.set_size_inches(30,30)\n",
    "fig, ax = plt.subplots(figsize=(12,10))\n",
    "sns.heatmap(df.corr(),annot=True,cmap=\"RdYlGn\");"
   ]
  },
  {
   "cell_type": "code",
   "execution_count": null,
   "metadata": {},
   "outputs": [],
   "source": []
  }
 ],
 "metadata": {
  "kernelspec": {
   "display_name": "Python 3",
   "language": "python",
   "name": "python3"
  },
  "language_info": {
   "codemirror_mode": {
    "name": "ipython",
    "version": 3
   },
   "file_extension": ".py",
   "mimetype": "text/x-python",
   "name": "python",
   "nbconvert_exporter": "python",
   "pygments_lexer": "ipython3",
   "version": "3.7.2"
  }
 },
 "nbformat": 4,
 "nbformat_minor": 2
}
