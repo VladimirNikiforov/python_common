{
 "cells": [
  {
   "cell_type": "markdown",
   "metadata": {},
   "source": [
    "# Retail forecasting"
   ]
  },
  {
   "cell_type": "code",
   "execution_count": 1,
   "metadata": {},
   "outputs": [
    {
     "name": "stdout",
     "output_type": "stream",
     "text": [
      "Задание такое:\n",
      "\n",
      "Задача на прогнозирование временных рядов для двух товаров. Два уровня сложности:\n",
      "Легкий – прогнозирование целиком по региону\n",
      "Сложный – прогнозирование по каждому магазину\n",
      "Есть критерии успешности: граница для WAPE – указана в файлах\n",
      "\n",
      "Задача на кластеризацию. Задача больше творческая, надо сделать и объяснить ее результаты.\n",
      " \n",
      "\n",
      "Время на выполнение обеих задач, должно быть не более 3х часов. Засеките время выполнения.\n",
      "\n",
      " \n",
      "\n",
      "Использовать можно свой любимый инструмент (R, Python, C++, …)\n",
      "\n",
      " \n",
      "\n",
      "Результаты надо защитить в виде подготовленной презентации\n"
     ]
    }
   ],
   "source": [
    "!cat ../docs/tasks.txt"
   ]
  },
  {
   "cell_type": "code",
   "execution_count": 2,
   "metadata": {},
   "outputs": [],
   "source": [
    "import warnings\n",
    "warnings.filterwarnings(\"ignore\")\n",
    "\n",
    "import numpy as np\n",
    "import pandas as pd\n",
    "from datetime import datetime, date, timedelta\n",
    "import dateutil\n",
    "import itertools\n",
    "\n",
    "import math\n",
    "from scipy.stats import pearsonr\n",
    "from sklearn import preprocessing\n",
    "from sklearn.decomposition import PCA\n",
    "from sklearn.linear_model import LinearRegression, Lasso, Ridge\n",
    "\n",
    "from sklearn.tree import DecisionTreeClassifier\n",
    "from sklearn.ensemble import RandomForestRegressor\n",
    "from sklearn.metrics import mean_absolute_error, mean_squared_error, make_scorer\n",
    "from sklearn.model_selection import train_test_split, GridSearchCV, cross_val_score, cross_val_predict, RandomizedSearchCV, StratifiedShuffleSplit, KFold\n",
    "from sklearn.feature_selection import SelectFromModel\n",
    "\n",
    "import lightgbm as lgb\n",
    "\n",
    "import matplotlib.pyplot as plt\n",
    "import seaborn as sns\n",
    "\n",
    "%matplotlib inline"
   ]
  },
  {
   "cell_type": "code",
   "execution_count": 3,
   "metadata": {},
   "outputs": [],
   "source": [
    "RANDOM_STATE = 7\n",
    "N_FOLDS = 3"
   ]
  },
  {
   "cell_type": "markdown",
   "metadata": {},
   "source": [
    "## Forecasting"
   ]
  },
  {
   "cell_type": "markdown",
   "metadata": {},
   "source": [
    "Задача спрогнозировать спрос на 28 дней в следующих разрезах:\n",
    "     1. Регион (т.е. все магазины) / товар / день\n",
    "     2. Магазин / товар / день\n",
    "\n",
    "Исторические данные: лист Train_data\n",
    "Метрика качества: WAPE\n",
    "На тестовой выборке (лист Test_data и лист Test_demand) получить качество:\n",
    "     1. В разрезе регион / товар / день лучше 30%\n",
    "     2. В разрезе магазин / товар / день лучше 50%\n",
    "\n",
    "Желательно применить несколько различных техник прогнозирования и анализа данных (ARIMA, случайный лес, ...)"
   ]
  },
  {
   "cell_type": "code",
   "execution_count": 4,
   "metadata": {},
   "outputs": [],
   "source": [
    "def get_wape(y_test, y_pred):\n",
    "    # Function calculate WAPE metric\n",
    "    return sum([abs(y_test[i] - y_pred[i]) for i in range(len(y_test))])/sum(y_test)"
   ]
  },
  {
   "cell_type": "code",
   "execution_count": 5,
   "metadata": {},
   "outputs": [
    {
     "name": "stdout",
     "output_type": "stream",
     "text": [
      "Shape of dataset: (86916, 7)\n"
     ]
    },
    {
     "data": {
      "text/html": [
       "<div>\n",
       "<style scoped>\n",
       "    .dataframe tbody tr th:only-of-type {\n",
       "        vertical-align: middle;\n",
       "    }\n",
       "\n",
       "    .dataframe tbody tr th {\n",
       "        vertical-align: top;\n",
       "    }\n",
       "\n",
       "    .dataframe thead th {\n",
       "        text-align: right;\n",
       "    }\n",
       "</style>\n",
       "<table border=\"1\" class=\"dataframe\">\n",
       "  <thead>\n",
       "    <tr style=\"text-align: right;\">\n",
       "      <th></th>\n",
       "      <th>Store_id</th>\n",
       "      <th>SKU_id</th>\n",
       "      <th>Date</th>\n",
       "      <th>Promo</th>\n",
       "      <th>Demand</th>\n",
       "      <th>Regular_Price</th>\n",
       "      <th>Promo_Price</th>\n",
       "    </tr>\n",
       "  </thead>\n",
       "  <tbody>\n",
       "    <tr>\n",
       "      <th>0</th>\n",
       "      <td>1</td>\n",
       "      <td>1</td>\n",
       "      <td>2015-01-01</td>\n",
       "      <td>NaN</td>\n",
       "      <td>22</td>\n",
       "      <td>163.78</td>\n",
       "      <td>NaN</td>\n",
       "    </tr>\n",
       "    <tr>\n",
       "      <th>1</th>\n",
       "      <td>1</td>\n",
       "      <td>1</td>\n",
       "      <td>2015-01-02</td>\n",
       "      <td>NaN</td>\n",
       "      <td>41</td>\n",
       "      <td>163.78</td>\n",
       "      <td>NaN</td>\n",
       "    </tr>\n",
       "    <tr>\n",
       "      <th>2</th>\n",
       "      <td>1</td>\n",
       "      <td>1</td>\n",
       "      <td>2015-01-03</td>\n",
       "      <td>NaN</td>\n",
       "      <td>35</td>\n",
       "      <td>163.78</td>\n",
       "      <td>NaN</td>\n",
       "    </tr>\n",
       "    <tr>\n",
       "      <th>3</th>\n",
       "      <td>1</td>\n",
       "      <td>1</td>\n",
       "      <td>2015-01-04</td>\n",
       "      <td>NaN</td>\n",
       "      <td>72</td>\n",
       "      <td>163.78</td>\n",
       "      <td>NaN</td>\n",
       "    </tr>\n",
       "    <tr>\n",
       "      <th>4</th>\n",
       "      <td>1</td>\n",
       "      <td>1</td>\n",
       "      <td>2015-01-05</td>\n",
       "      <td>NaN</td>\n",
       "      <td>25</td>\n",
       "      <td>163.78</td>\n",
       "      <td>NaN</td>\n",
       "    </tr>\n",
       "  </tbody>\n",
       "</table>\n",
       "</div>"
      ],
      "text/plain": [
       "   Store_id  SKU_id       Date  Promo  Demand  Regular_Price  Promo_Price\n",
       "0         1       1 2015-01-01    NaN      22         163.78          NaN\n",
       "1         1       1 2015-01-02    NaN      41         163.78          NaN\n",
       "2         1       1 2015-01-03    NaN      35         163.78          NaN\n",
       "3         1       1 2015-01-04    NaN      72         163.78          NaN\n",
       "4         1       1 2015-01-05    NaN      25         163.78          NaN"
      ]
     },
     "execution_count": 5,
     "metadata": {},
     "output_type": "execute_result"
    }
   ],
   "source": [
    "train_df = pd.read_excel('../data/FC_Data.xlsx',sheet_name='Train_data')\n",
    "print(f'Shape of dataset: {train_df.shape}')\n",
    "train_df.head()"
   ]
  },
  {
   "cell_type": "code",
   "execution_count": 6,
   "metadata": {},
   "outputs": [
    {
     "name": "stdout",
     "output_type": "stream",
     "text": [
      "<class 'pandas.core.frame.DataFrame'>\n",
      "RangeIndex: 86916 entries, 0 to 86915\n",
      "Data columns (total 7 columns):\n",
      "Store_id         86916 non-null int64\n",
      "SKU_id           86916 non-null int64\n",
      "Date             86916 non-null datetime64[ns]\n",
      "Promo            15349 non-null float64\n",
      "Demand           86916 non-null int64\n",
      "Regular_Price    86916 non-null float64\n",
      "Promo_Price      15349 non-null float64\n",
      "dtypes: datetime64[ns](1), float64(3), int64(3)\n",
      "memory usage: 4.6 MB\n"
     ]
    }
   ],
   "source": [
    "train_df.info()"
   ]
  },
  {
   "cell_type": "code",
   "execution_count": 7,
   "metadata": {},
   "outputs": [
    {
     "data": {
      "text/html": [
       "<div>\n",
       "<style scoped>\n",
       "    .dataframe tbody tr th:only-of-type {\n",
       "        vertical-align: middle;\n",
       "    }\n",
       "\n",
       "    .dataframe tbody tr th {\n",
       "        vertical-align: top;\n",
       "    }\n",
       "\n",
       "    .dataframe thead th {\n",
       "        text-align: right;\n",
       "    }\n",
       "</style>\n",
       "<table border=\"1\" class=\"dataframe\">\n",
       "  <thead>\n",
       "    <tr style=\"text-align: right;\">\n",
       "      <th></th>\n",
       "      <th>count</th>\n",
       "      <th>mean</th>\n",
       "      <th>std</th>\n",
       "      <th>min</th>\n",
       "      <th>25%</th>\n",
       "      <th>50%</th>\n",
       "      <th>75%</th>\n",
       "      <th>max</th>\n",
       "    </tr>\n",
       "  </thead>\n",
       "  <tbody>\n",
       "    <tr>\n",
       "      <th>Store_id</th>\n",
       "      <td>86916.0</td>\n",
       "      <td>44.034735</td>\n",
       "      <td>25.913644</td>\n",
       "      <td>1.00</td>\n",
       "      <td>22.00</td>\n",
       "      <td>43.0</td>\n",
       "      <td>65.00</td>\n",
       "      <td>106.00</td>\n",
       "    </tr>\n",
       "    <tr>\n",
       "      <th>SKU_id</th>\n",
       "      <td>86916.0</td>\n",
       "      <td>1.496836</td>\n",
       "      <td>0.499993</td>\n",
       "      <td>1.00</td>\n",
       "      <td>1.00</td>\n",
       "      <td>1.0</td>\n",
       "      <td>2.00</td>\n",
       "      <td>2.00</td>\n",
       "    </tr>\n",
       "    <tr>\n",
       "      <th>Promo</th>\n",
       "      <td>15349.0</td>\n",
       "      <td>1.000000</td>\n",
       "      <td>0.000000</td>\n",
       "      <td>1.00</td>\n",
       "      <td>1.00</td>\n",
       "      <td>1.0</td>\n",
       "      <td>1.00</td>\n",
       "      <td>1.00</td>\n",
       "    </tr>\n",
       "    <tr>\n",
       "      <th>Demand</th>\n",
       "      <td>86916.0</td>\n",
       "      <td>193.088695</td>\n",
       "      <td>366.859645</td>\n",
       "      <td>0.00</td>\n",
       "      <td>3.00</td>\n",
       "      <td>72.0</td>\n",
       "      <td>226.00</td>\n",
       "      <td>9686.00</td>\n",
       "    </tr>\n",
       "    <tr>\n",
       "      <th>Regular_Price</th>\n",
       "      <td>86916.0</td>\n",
       "      <td>139.212821</td>\n",
       "      <td>9.180827</td>\n",
       "      <td>121.64</td>\n",
       "      <td>131.70</td>\n",
       "      <td>138.5</td>\n",
       "      <td>142.57</td>\n",
       "      <td>176.82</td>\n",
       "    </tr>\n",
       "    <tr>\n",
       "      <th>Promo_Price</th>\n",
       "      <td>15349.0</td>\n",
       "      <td>120.078875</td>\n",
       "      <td>9.961642</td>\n",
       "      <td>100.30</td>\n",
       "      <td>116.61</td>\n",
       "      <td>119.6</td>\n",
       "      <td>127.49</td>\n",
       "      <td>143.80</td>\n",
       "    </tr>\n",
       "  </tbody>\n",
       "</table>\n",
       "</div>"
      ],
      "text/plain": [
       "                 count        mean         std     min     25%    50%     75%  \\\n",
       "Store_id       86916.0   44.034735   25.913644    1.00   22.00   43.0   65.00   \n",
       "SKU_id         86916.0    1.496836    0.499993    1.00    1.00    1.0    2.00   \n",
       "Promo          15349.0    1.000000    0.000000    1.00    1.00    1.0    1.00   \n",
       "Demand         86916.0  193.088695  366.859645    0.00    3.00   72.0  226.00   \n",
       "Regular_Price  86916.0  139.212821    9.180827  121.64  131.70  138.5  142.57   \n",
       "Promo_Price    15349.0  120.078875    9.961642  100.30  116.61  119.6  127.49   \n",
       "\n",
       "                   max  \n",
       "Store_id        106.00  \n",
       "SKU_id            2.00  \n",
       "Promo             1.00  \n",
       "Demand         9686.00  \n",
       "Regular_Price   176.82  \n",
       "Promo_Price     143.80  "
      ]
     },
     "execution_count": 7,
     "metadata": {},
     "output_type": "execute_result"
    }
   ],
   "source": [
    "train_df.describe().T"
   ]
  },
  {
   "cell_type": "code",
   "execution_count": 8,
   "metadata": {},
   "outputs": [
    {
     "data": {
      "text/html": [
       "<div>\n",
       "<style scoped>\n",
       "    .dataframe tbody tr th:only-of-type {\n",
       "        vertical-align: middle;\n",
       "    }\n",
       "\n",
       "    .dataframe tbody tr th {\n",
       "        vertical-align: top;\n",
       "    }\n",
       "\n",
       "    .dataframe thead th {\n",
       "        text-align: right;\n",
       "    }\n",
       "</style>\n",
       "<table border=\"1\" class=\"dataframe\">\n",
       "  <thead>\n",
       "    <tr style=\"text-align: right;\">\n",
       "      <th></th>\n",
       "      <th>Store_id</th>\n",
       "      <th>SKU_id</th>\n",
       "      <th>Date</th>\n",
       "      <th>Promo</th>\n",
       "      <th>Demand</th>\n",
       "      <th>Regular_Price</th>\n",
       "      <th>Promo_Price</th>\n",
       "    </tr>\n",
       "  </thead>\n",
       "  <tbody>\n",
       "    <tr>\n",
       "      <th>86911</th>\n",
       "      <td>106</td>\n",
       "      <td>2</td>\n",
       "      <td>2016-05-18</td>\n",
       "      <td>NaN</td>\n",
       "      <td>9</td>\n",
       "      <td>138.5</td>\n",
       "      <td>NaN</td>\n",
       "    </tr>\n",
       "    <tr>\n",
       "      <th>86912</th>\n",
       "      <td>106</td>\n",
       "      <td>2</td>\n",
       "      <td>2016-05-19</td>\n",
       "      <td>NaN</td>\n",
       "      <td>3</td>\n",
       "      <td>138.5</td>\n",
       "      <td>NaN</td>\n",
       "    </tr>\n",
       "    <tr>\n",
       "      <th>86913</th>\n",
       "      <td>106</td>\n",
       "      <td>2</td>\n",
       "      <td>2016-05-20</td>\n",
       "      <td>NaN</td>\n",
       "      <td>13</td>\n",
       "      <td>138.5</td>\n",
       "      <td>NaN</td>\n",
       "    </tr>\n",
       "    <tr>\n",
       "      <th>86914</th>\n",
       "      <td>106</td>\n",
       "      <td>2</td>\n",
       "      <td>2016-05-21</td>\n",
       "      <td>NaN</td>\n",
       "      <td>3</td>\n",
       "      <td>138.5</td>\n",
       "      <td>NaN</td>\n",
       "    </tr>\n",
       "    <tr>\n",
       "      <th>86915</th>\n",
       "      <td>106</td>\n",
       "      <td>2</td>\n",
       "      <td>2016-05-22</td>\n",
       "      <td>NaN</td>\n",
       "      <td>0</td>\n",
       "      <td>138.5</td>\n",
       "      <td>NaN</td>\n",
       "    </tr>\n",
       "  </tbody>\n",
       "</table>\n",
       "</div>"
      ],
      "text/plain": [
       "       Store_id  SKU_id       Date  Promo  Demand  Regular_Price  Promo_Price\n",
       "86911       106       2 2016-05-18    NaN       9          138.5          NaN\n",
       "86912       106       2 2016-05-19    NaN       3          138.5          NaN\n",
       "86913       106       2 2016-05-20    NaN      13          138.5          NaN\n",
       "86914       106       2 2016-05-21    NaN       3          138.5          NaN\n",
       "86915       106       2 2016-05-22    NaN       0          138.5          NaN"
      ]
     },
     "execution_count": 8,
     "metadata": {},
     "output_type": "execute_result"
    }
   ],
   "source": [
    "train_df.tail()"
   ]
  },
  {
   "cell_type": "code",
   "execution_count": 9,
   "metadata": {},
   "outputs": [
    {
     "name": "stdout",
     "output_type": "stream",
     "text": [
      "Shape of test dataset: (5970, 7)\n"
     ]
    },
    {
     "data": {
      "text/html": [
       "<div>\n",
       "<style scoped>\n",
       "    .dataframe tbody tr th:only-of-type {\n",
       "        vertical-align: middle;\n",
       "    }\n",
       "\n",
       "    .dataframe tbody tr th {\n",
       "        vertical-align: top;\n",
       "    }\n",
       "\n",
       "    .dataframe thead th {\n",
       "        text-align: right;\n",
       "    }\n",
       "</style>\n",
       "<table border=\"1\" class=\"dataframe\">\n",
       "  <thead>\n",
       "    <tr style=\"text-align: right;\">\n",
       "      <th></th>\n",
       "      <th>Store_id</th>\n",
       "      <th>SKU_id</th>\n",
       "      <th>Date</th>\n",
       "      <th>Promo</th>\n",
       "      <th>Demand</th>\n",
       "      <th>Regular_Price</th>\n",
       "      <th>Promo_Price</th>\n",
       "    </tr>\n",
       "  </thead>\n",
       "  <tbody>\n",
       "    <tr>\n",
       "      <th>0</th>\n",
       "      <td>1</td>\n",
       "      <td>1</td>\n",
       "      <td>2016-05-23</td>\n",
       "      <td>1.0</td>\n",
       "      <td>NaN</td>\n",
       "      <td>128.98</td>\n",
       "      <td>119.6</td>\n",
       "    </tr>\n",
       "    <tr>\n",
       "      <th>1</th>\n",
       "      <td>1</td>\n",
       "      <td>1</td>\n",
       "      <td>2016-05-24</td>\n",
       "      <td>NaN</td>\n",
       "      <td>NaN</td>\n",
       "      <td>128.98</td>\n",
       "      <td>NaN</td>\n",
       "    </tr>\n",
       "    <tr>\n",
       "      <th>2</th>\n",
       "      <td>1</td>\n",
       "      <td>1</td>\n",
       "      <td>2016-05-25</td>\n",
       "      <td>NaN</td>\n",
       "      <td>NaN</td>\n",
       "      <td>131.70</td>\n",
       "      <td>NaN</td>\n",
       "    </tr>\n",
       "    <tr>\n",
       "      <th>3</th>\n",
       "      <td>1</td>\n",
       "      <td>1</td>\n",
       "      <td>2016-05-26</td>\n",
       "      <td>NaN</td>\n",
       "      <td>NaN</td>\n",
       "      <td>131.70</td>\n",
       "      <td>NaN</td>\n",
       "    </tr>\n",
       "    <tr>\n",
       "      <th>4</th>\n",
       "      <td>1</td>\n",
       "      <td>1</td>\n",
       "      <td>2016-05-27</td>\n",
       "      <td>NaN</td>\n",
       "      <td>NaN</td>\n",
       "      <td>131.70</td>\n",
       "      <td>NaN</td>\n",
       "    </tr>\n",
       "  </tbody>\n",
       "</table>\n",
       "</div>"
      ],
      "text/plain": [
       "   Store_id  SKU_id       Date  Promo  Demand  Regular_Price  Promo_Price\n",
       "0         1       1 2016-05-23    1.0     NaN         128.98        119.6\n",
       "1         1       1 2016-05-24    NaN     NaN         128.98          NaN\n",
       "2         1       1 2016-05-25    NaN     NaN         131.70          NaN\n",
       "3         1       1 2016-05-26    NaN     NaN         131.70          NaN\n",
       "4         1       1 2016-05-27    NaN     NaN         131.70          NaN"
      ]
     },
     "execution_count": 9,
     "metadata": {},
     "output_type": "execute_result"
    }
   ],
   "source": [
    "test_df = pd.read_excel('../data/FC_Data.xlsx',sheet_name='Test_data')\n",
    "print(f'Shape of test dataset: {test_df.shape}')\n",
    "test_df.head()"
   ]
  },
  {
   "cell_type": "code",
   "execution_count": 10,
   "metadata": {},
   "outputs": [
    {
     "name": "stdout",
     "output_type": "stream",
     "text": [
      "Shape of test dataset: (5970, 4)\n"
     ]
    },
    {
     "data": {
      "text/html": [
       "<div>\n",
       "<style scoped>\n",
       "    .dataframe tbody tr th:only-of-type {\n",
       "        vertical-align: middle;\n",
       "    }\n",
       "\n",
       "    .dataframe tbody tr th {\n",
       "        vertical-align: top;\n",
       "    }\n",
       "\n",
       "    .dataframe thead th {\n",
       "        text-align: right;\n",
       "    }\n",
       "</style>\n",
       "<table border=\"1\" class=\"dataframe\">\n",
       "  <thead>\n",
       "    <tr style=\"text-align: right;\">\n",
       "      <th></th>\n",
       "      <th>Store_id</th>\n",
       "      <th>SKU_id</th>\n",
       "      <th>Date</th>\n",
       "      <th>Demand</th>\n",
       "    </tr>\n",
       "  </thead>\n",
       "  <tbody>\n",
       "    <tr>\n",
       "      <th>0</th>\n",
       "      <td>1</td>\n",
       "      <td>1</td>\n",
       "      <td>2016-05-23</td>\n",
       "      <td>242</td>\n",
       "    </tr>\n",
       "    <tr>\n",
       "      <th>1</th>\n",
       "      <td>1</td>\n",
       "      <td>1</td>\n",
       "      <td>2016-05-24</td>\n",
       "      <td>57</td>\n",
       "    </tr>\n",
       "    <tr>\n",
       "      <th>2</th>\n",
       "      <td>1</td>\n",
       "      <td>1</td>\n",
       "      <td>2016-05-25</td>\n",
       "      <td>63</td>\n",
       "    </tr>\n",
       "    <tr>\n",
       "      <th>3</th>\n",
       "      <td>1</td>\n",
       "      <td>1</td>\n",
       "      <td>2016-05-26</td>\n",
       "      <td>69</td>\n",
       "    </tr>\n",
       "    <tr>\n",
       "      <th>4</th>\n",
       "      <td>1</td>\n",
       "      <td>1</td>\n",
       "      <td>2016-05-27</td>\n",
       "      <td>44</td>\n",
       "    </tr>\n",
       "  </tbody>\n",
       "</table>\n",
       "</div>"
      ],
      "text/plain": [
       "   Store_id  SKU_id       Date  Demand\n",
       "0         1       1 2016-05-23     242\n",
       "1         1       1 2016-05-24      57\n",
       "2         1       1 2016-05-25      63\n",
       "3         1       1 2016-05-26      69\n",
       "4         1       1 2016-05-27      44"
      ]
     },
     "execution_count": 10,
     "metadata": {},
     "output_type": "execute_result"
    }
   ],
   "source": [
    "test_df_demand = pd.read_excel('../data/FC_Data.xlsx',sheet_name='Test_demand')\n",
    "print(f'Shape of test dataset: {test_df_demand.shape}')\n",
    "test_df_demand.head()"
   ]
  },
  {
   "cell_type": "code",
   "execution_count": 11,
   "metadata": {},
   "outputs": [
    {
     "data": {
      "text/html": [
       "<div>\n",
       "<style scoped>\n",
       "    .dataframe tbody tr th:only-of-type {\n",
       "        vertical-align: middle;\n",
       "    }\n",
       "\n",
       "    .dataframe tbody tr th {\n",
       "        vertical-align: top;\n",
       "    }\n",
       "\n",
       "    .dataframe thead th {\n",
       "        text-align: right;\n",
       "    }\n",
       "</style>\n",
       "<table border=\"1\" class=\"dataframe\">\n",
       "  <thead>\n",
       "    <tr style=\"text-align: right;\">\n",
       "      <th></th>\n",
       "      <th>Store_id</th>\n",
       "      <th>SKU_id</th>\n",
       "      <th>Date</th>\n",
       "      <th>Promo</th>\n",
       "      <th>Regular_Price</th>\n",
       "      <th>Promo_Price</th>\n",
       "      <th>Demand</th>\n",
       "    </tr>\n",
       "  </thead>\n",
       "  <tbody>\n",
       "    <tr>\n",
       "      <th>0</th>\n",
       "      <td>1</td>\n",
       "      <td>1</td>\n",
       "      <td>2016-05-23</td>\n",
       "      <td>1.0</td>\n",
       "      <td>128.98</td>\n",
       "      <td>119.6</td>\n",
       "      <td>242</td>\n",
       "    </tr>\n",
       "    <tr>\n",
       "      <th>1</th>\n",
       "      <td>1</td>\n",
       "      <td>1</td>\n",
       "      <td>2016-05-24</td>\n",
       "      <td>NaN</td>\n",
       "      <td>128.98</td>\n",
       "      <td>NaN</td>\n",
       "      <td>57</td>\n",
       "    </tr>\n",
       "    <tr>\n",
       "      <th>2</th>\n",
       "      <td>1</td>\n",
       "      <td>1</td>\n",
       "      <td>2016-05-25</td>\n",
       "      <td>NaN</td>\n",
       "      <td>131.70</td>\n",
       "      <td>NaN</td>\n",
       "      <td>63</td>\n",
       "    </tr>\n",
       "    <tr>\n",
       "      <th>3</th>\n",
       "      <td>1</td>\n",
       "      <td>1</td>\n",
       "      <td>2016-05-26</td>\n",
       "      <td>NaN</td>\n",
       "      <td>131.70</td>\n",
       "      <td>NaN</td>\n",
       "      <td>69</td>\n",
       "    </tr>\n",
       "    <tr>\n",
       "      <th>4</th>\n",
       "      <td>1</td>\n",
       "      <td>1</td>\n",
       "      <td>2016-05-27</td>\n",
       "      <td>NaN</td>\n",
       "      <td>131.70</td>\n",
       "      <td>NaN</td>\n",
       "      <td>44</td>\n",
       "    </tr>\n",
       "  </tbody>\n",
       "</table>\n",
       "</div>"
      ],
      "text/plain": [
       "   Store_id  SKU_id       Date  Promo  Regular_Price  Promo_Price  Demand\n",
       "0         1       1 2016-05-23    1.0         128.98        119.6     242\n",
       "1         1       1 2016-05-24    NaN         128.98          NaN      57\n",
       "2         1       1 2016-05-25    NaN         131.70          NaN      63\n",
       "3         1       1 2016-05-26    NaN         131.70          NaN      69\n",
       "4         1       1 2016-05-27    NaN         131.70          NaN      44"
      ]
     },
     "execution_count": 11,
     "metadata": {},
     "output_type": "execute_result"
    }
   ],
   "source": [
    "# Create merged TEST dataframe with Demand\n",
    "test_df = test_df.drop('Demand', axis=1).merge(test_df_demand, left_on=[\"Store_id\",\"SKU_id\",\"Date\"], right_on=[\"Store_id\",\"SKU_id\",\"Date\"])\n",
    "test_df.head()"
   ]
  },
  {
   "cell_type": "code",
   "execution_count": 12,
   "metadata": {},
   "outputs": [
    {
     "name": "stdout",
     "output_type": "stream",
     "text": [
      "Дата начала периода прогноза: 2016-05-23 00:00:00\n",
      "Дата окончания периода прогноза: 2016-06-19 00:00:00\n",
      "Количество дней прогноза: 28\n"
     ]
    }
   ],
   "source": [
    "print(f\"Дата начала периода прогноза: {test_df['Date'].min()}\")\n",
    "print(f\"Дата окончания периода прогноза: {test_df['Date'].max()}\")\n",
    "print(f\"Количество дней прогноза: {(test_df['Date'].max()-test_df['Date'].min()).days + 1}\")"
   ]
  },
  {
   "cell_type": "code",
   "execution_count": 13,
   "metadata": {},
   "outputs": [],
   "source": [
    "# Create new features\n",
    "# Weekday from Date\n",
    "train_df['WEEKDAY'] = train_df['Date'].apply(lambda x: int(x.strftime('%w')))\n",
    "# Cos of day number in year\n",
    "train_df['YEARDAY'] = train_df['Date'].apply(lambda x: math.cos(int(x.strftime('%j'))*2*math.pi/366))\n",
    "# PRICE == Promo_Price if Promo_Price is not null else Regular_Price\n",
    "train_df['PRICE'] = train_df.apply(lambda x: x['Promo_Price'] if not np.isnan(x['Promo_Price']) else x['Regular_Price'], axis=1)"
   ]
  },
  {
   "cell_type": "code",
   "execution_count": 14,
   "metadata": {},
   "outputs": [
    {
     "data": {
      "text/html": [
       "<div>\n",
       "<style scoped>\n",
       "    .dataframe tbody tr th:only-of-type {\n",
       "        vertical-align: middle;\n",
       "    }\n",
       "\n",
       "    .dataframe tbody tr th {\n",
       "        vertical-align: top;\n",
       "    }\n",
       "\n",
       "    .dataframe thead th {\n",
       "        text-align: right;\n",
       "    }\n",
       "</style>\n",
       "<table border=\"1\" class=\"dataframe\">\n",
       "  <thead>\n",
       "    <tr style=\"text-align: right;\">\n",
       "      <th></th>\n",
       "      <th>Store_id</th>\n",
       "      <th>SKU_id</th>\n",
       "      <th>Date</th>\n",
       "      <th>Promo</th>\n",
       "      <th>Demand</th>\n",
       "      <th>Regular_Price</th>\n",
       "      <th>Promo_Price</th>\n",
       "      <th>WEEKDAY</th>\n",
       "      <th>YEARDAY</th>\n",
       "      <th>PRICE</th>\n",
       "    </tr>\n",
       "  </thead>\n",
       "  <tbody>\n",
       "    <tr>\n",
       "      <th>47</th>\n",
       "      <td>1</td>\n",
       "      <td>1</td>\n",
       "      <td>2015-02-17</td>\n",
       "      <td>1.0</td>\n",
       "      <td>371</td>\n",
       "      <td>149.37</td>\n",
       "      <td>143.80</td>\n",
       "      <td>2</td>\n",
       "      <td>0.679273</td>\n",
       "      <td>143.80</td>\n",
       "    </tr>\n",
       "    <tr>\n",
       "      <th>48</th>\n",
       "      <td>1</td>\n",
       "      <td>1</td>\n",
       "      <td>2015-02-18</td>\n",
       "      <td>1.0</td>\n",
       "      <td>509</td>\n",
       "      <td>149.37</td>\n",
       "      <td>135.64</td>\n",
       "      <td>3</td>\n",
       "      <td>0.666575</td>\n",
       "      <td>135.64</td>\n",
       "    </tr>\n",
       "    <tr>\n",
       "      <th>49</th>\n",
       "      <td>1</td>\n",
       "      <td>1</td>\n",
       "      <td>2015-02-19</td>\n",
       "      <td>1.0</td>\n",
       "      <td>851</td>\n",
       "      <td>149.37</td>\n",
       "      <td>135.64</td>\n",
       "      <td>4</td>\n",
       "      <td>0.653680</td>\n",
       "      <td>135.64</td>\n",
       "    </tr>\n",
       "    <tr>\n",
       "      <th>50</th>\n",
       "      <td>1</td>\n",
       "      <td>1</td>\n",
       "      <td>2015-02-20</td>\n",
       "      <td>1.0</td>\n",
       "      <td>914</td>\n",
       "      <td>149.37</td>\n",
       "      <td>135.64</td>\n",
       "      <td>5</td>\n",
       "      <td>0.640593</td>\n",
       "      <td>135.64</td>\n",
       "    </tr>\n",
       "    <tr>\n",
       "      <th>51</th>\n",
       "      <td>1</td>\n",
       "      <td>1</td>\n",
       "      <td>2015-02-21</td>\n",
       "      <td>1.0</td>\n",
       "      <td>606</td>\n",
       "      <td>149.37</td>\n",
       "      <td>135.64</td>\n",
       "      <td>6</td>\n",
       "      <td>0.627317</td>\n",
       "      <td>135.64</td>\n",
       "    </tr>\n",
       "  </tbody>\n",
       "</table>\n",
       "</div>"
      ],
      "text/plain": [
       "    Store_id  SKU_id       Date  Promo  Demand  Regular_Price  Promo_Price  \\\n",
       "47         1       1 2015-02-17    1.0     371         149.37       143.80   \n",
       "48         1       1 2015-02-18    1.0     509         149.37       135.64   \n",
       "49         1       1 2015-02-19    1.0     851         149.37       135.64   \n",
       "50         1       1 2015-02-20    1.0     914         149.37       135.64   \n",
       "51         1       1 2015-02-21    1.0     606         149.37       135.64   \n",
       "\n",
       "    WEEKDAY   YEARDAY   PRICE  \n",
       "47        2  0.679273  143.80  \n",
       "48        3  0.666575  135.64  \n",
       "49        4  0.653680  135.64  \n",
       "50        5  0.640593  135.64  \n",
       "51        6  0.627317  135.64  "
      ]
     },
     "execution_count": 14,
     "metadata": {},
     "output_type": "execute_result"
    }
   ],
   "source": [
    "# Check it when Promo\n",
    "train_df[train_df['Promo']==1].head()"
   ]
  },
  {
   "cell_type": "code",
   "execution_count": 15,
   "metadata": {},
   "outputs": [
    {
     "name": "stdout",
     "output_type": "stream",
     "text": [
      "(86916, 8)\n"
     ]
    }
   ],
   "source": [
    "# Fill NA and drop unused columns\n",
    "train_df = train_df.fillna(0,axis=1).drop(['Regular_Price','Promo_Price'],axis=1)\n",
    "print(train_df.shape)"
   ]
  },
  {
   "cell_type": "code",
   "execution_count": 16,
   "metadata": {},
   "outputs": [
    {
     "data": {
      "image/png": "[encoded data removed]",
      "text/plain": [
       "<Figure size 864x432 with 1 Axes>"
      ]
     },
     "metadata": {
      "needs_background": "light"
     },
     "output_type": "display_data"
    }
   ],
   "source": [
    "# Total view on series of demand\n",
    "pd.Series(train_df['Demand'].values, index=train_df['Date']).plot(figsize=(12,6));"
   ]
  },
  {
   "cell_type": "code",
   "execution_count": 17,
   "metadata": {},
   "outputs": [
    {
     "data": {
      "text/html": [
       "<div>\n",
       "<style scoped>\n",
       "    .dataframe tbody tr th:only-of-type {\n",
       "        vertical-align: middle;\n",
       "    }\n",
       "\n",
       "    .dataframe tbody tr th {\n",
       "        vertical-align: top;\n",
       "    }\n",
       "\n",
       "    .dataframe thead th {\n",
       "        text-align: right;\n",
       "    }\n",
       "</style>\n",
       "<table border=\"1\" class=\"dataframe\">\n",
       "  <thead>\n",
       "    <tr style=\"text-align: right;\">\n",
       "      <th></th>\n",
       "      <th>Store_id</th>\n",
       "      <th>SKU_id</th>\n",
       "      <th>Date</th>\n",
       "      <th>Promo</th>\n",
       "      <th>Demand</th>\n",
       "      <th>WEEKDAY</th>\n",
       "      <th>YEARDAY</th>\n",
       "      <th>PRICE</th>\n",
       "    </tr>\n",
       "  </thead>\n",
       "  <tbody>\n",
       "    <tr>\n",
       "      <th>86911</th>\n",
       "      <td>106</td>\n",
       "      <td>2</td>\n",
       "      <td>2016-05-18</td>\n",
       "      <td>0.0</td>\n",
       "      <td>9</td>\n",
       "      <td>3</td>\n",
       "      <td>-0.728028</td>\n",
       "      <td>138.5</td>\n",
       "    </tr>\n",
       "    <tr>\n",
       "      <th>86912</th>\n",
       "      <td>106</td>\n",
       "      <td>2</td>\n",
       "      <td>2016-05-19</td>\n",
       "      <td>0.0</td>\n",
       "      <td>3</td>\n",
       "      <td>4</td>\n",
       "      <td>-0.739689</td>\n",
       "      <td>138.5</td>\n",
       "    </tr>\n",
       "    <tr>\n",
       "      <th>86913</th>\n",
       "      <td>106</td>\n",
       "      <td>2</td>\n",
       "      <td>2016-05-20</td>\n",
       "      <td>0.0</td>\n",
       "      <td>13</td>\n",
       "      <td>5</td>\n",
       "      <td>-0.751132</td>\n",
       "      <td>138.5</td>\n",
       "    </tr>\n",
       "    <tr>\n",
       "      <th>86914</th>\n",
       "      <td>106</td>\n",
       "      <td>2</td>\n",
       "      <td>2016-05-21</td>\n",
       "      <td>0.0</td>\n",
       "      <td>3</td>\n",
       "      <td>6</td>\n",
       "      <td>-0.762354</td>\n",
       "      <td>138.5</td>\n",
       "    </tr>\n",
       "    <tr>\n",
       "      <th>86915</th>\n",
       "      <td>106</td>\n",
       "      <td>2</td>\n",
       "      <td>2016-05-22</td>\n",
       "      <td>0.0</td>\n",
       "      <td>0</td>\n",
       "      <td>0</td>\n",
       "      <td>-0.773351</td>\n",
       "      <td>138.5</td>\n",
       "    </tr>\n",
       "  </tbody>\n",
       "</table>\n",
       "</div>"
      ],
      "text/plain": [
       "       Store_id  SKU_id       Date  Promo  Demand  WEEKDAY   YEARDAY  PRICE\n",
       "86911       106       2 2016-05-18    0.0       9        3 -0.728028  138.5\n",
       "86912       106       2 2016-05-19    0.0       3        4 -0.739689  138.5\n",
       "86913       106       2 2016-05-20    0.0      13        5 -0.751132  138.5\n",
       "86914       106       2 2016-05-21    0.0       3        6 -0.762354  138.5\n",
       "86915       106       2 2016-05-22    0.0       0        0 -0.773351  138.5"
      ]
     },
     "execution_count": 17,
     "metadata": {},
     "output_type": "execute_result"
    }
   ],
   "source": [
    "train_df.tail()"
   ]
  },
  {
   "cell_type": "markdown",
   "metadata": {},
   "source": [
    "ARIMA можно использовать, если нет пропусков/нулей в данных. Проверим это."
   ]
  },
  {
   "cell_type": "code",
   "execution_count": 18,
   "metadata": {},
   "outputs": [
    {
     "name": "stdout",
     "output_type": "stream",
     "text": [
      "Пропусков в датах в целом нет? True\n"
     ]
    }
   ],
   "source": [
    "print(f\"Пропусков в датах в целом нет? {len(pd.unique(train_df[train_df['Demand']>0]['Date'])) == ((train_df[train_df['Demand']>0]['Date'].max()-train_df[train_df['Demand']>0]['Date'].min()).days + 1)}\")"
   ]
  },
  {
   "cell_type": "code",
   "execution_count": 19,
   "metadata": {},
   "outputs": [
    {
     "name": "stdout",
     "output_type": "stream",
     "text": [
      "Пропусков в датах для SKU_id=1 нет? True\n"
     ]
    }
   ],
   "source": [
    "print(f\"Пропусков в датах для SKU_id=1 нет? {len(pd.unique(train_df[(train_df['Demand']>0) & (train_df['SKU_id']==1)]['Date'])) == \\\n",
    "                                             ((train_df[(train_df['Demand']>0) & (train_df['SKU_id']==1)]['Date'].max()-train_df[(train_df['Demand']>0) & (train_df['SKU_id']==1)]['Date'].min()).days + 1)}\")"
   ]
  },
  {
   "cell_type": "code",
   "execution_count": 20,
   "metadata": {},
   "outputs": [
    {
     "name": "stdout",
     "output_type": "stream",
     "text": [
      "Пропусков в датах для SKU_id=2 нет? True\n"
     ]
    }
   ],
   "source": [
    "print(f\"Пропусков в датах для SKU_id=2 нет? {len(pd.unique(train_df[(train_df['Demand']>0) & (train_df['SKU_id']==2)]['Date'])) == \\\n",
    "                                             ((train_df[(train_df['Demand']>0) & (train_df['SKU_id']==2)]['Date'].max()-train_df[(train_df['Demand']>0) & (train_df['SKU_id']==2)]['Date'].min()).days + 1)}\")"
   ]
  },
  {
   "cell_type": "code",
   "execution_count": 21,
   "metadata": {},
   "outputs": [
    {
     "name": "stdout",
     "output_type": "stream",
     "text": [
      "86916\n",
      "Для каждой даты есть записи по каждому магазину и каждому товару? False\n"
     ]
    }
   ],
   "source": [
    "print(train_df.shape[0])\n",
    "print(f\"Для каждой даты есть записи по каждому магазину и каждому товару? {len(pd.unique(train_df['Date']))*len(pd.unique(train_df['SKU_id']))*len(pd.unique(train_df['Store_id'])) == train_df.shape[0]}\")"
   ]
  },
  {
   "cell_type": "markdown",
   "metadata": {},
   "source": [
    "ARIMA поможет только в прогнозе на уровне итого по региону:"
   ]
  },
  {
   "cell_type": "code",
   "execution_count": 22,
   "metadata": {},
   "outputs": [
    {
     "name": "stdout",
     "output_type": "stream",
     "text": [
      "(1016, 3)\n"
     ]
    },
    {
     "data": {
      "text/html": [
       "<div>\n",
       "<style scoped>\n",
       "    .dataframe tbody tr th:only-of-type {\n",
       "        vertical-align: middle;\n",
       "    }\n",
       "\n",
       "    .dataframe tbody tr th {\n",
       "        vertical-align: top;\n",
       "    }\n",
       "\n",
       "    .dataframe thead th {\n",
       "        text-align: right;\n",
       "    }\n",
       "</style>\n",
       "<table border=\"1\" class=\"dataframe\">\n",
       "  <thead>\n",
       "    <tr style=\"text-align: right;\">\n",
       "      <th></th>\n",
       "      <th>Date</th>\n",
       "      <th>SKU_id</th>\n",
       "      <th>Demand</th>\n",
       "    </tr>\n",
       "  </thead>\n",
       "  <tbody>\n",
       "    <tr>\n",
       "      <th>0</th>\n",
       "      <td>2015-01-01</td>\n",
       "      <td>1</td>\n",
       "      <td>1180</td>\n",
       "    </tr>\n",
       "    <tr>\n",
       "      <th>1</th>\n",
       "      <td>2015-01-01</td>\n",
       "      <td>2</td>\n",
       "      <td>85</td>\n",
       "    </tr>\n",
       "    <tr>\n",
       "      <th>2</th>\n",
       "      <td>2015-01-02</td>\n",
       "      <td>1</td>\n",
       "      <td>3667</td>\n",
       "    </tr>\n",
       "    <tr>\n",
       "      <th>3</th>\n",
       "      <td>2015-01-02</td>\n",
       "      <td>2</td>\n",
       "      <td>244</td>\n",
       "    </tr>\n",
       "    <tr>\n",
       "      <th>4</th>\n",
       "      <td>2015-01-03</td>\n",
       "      <td>1</td>\n",
       "      <td>4987</td>\n",
       "    </tr>\n",
       "  </tbody>\n",
       "</table>\n",
       "</div>"
      ],
      "text/plain": [
       "        Date  SKU_id  Demand\n",
       "0 2015-01-01       1    1180\n",
       "1 2015-01-01       2      85\n",
       "2 2015-01-02       1    3667\n",
       "3 2015-01-02       2     244\n",
       "4 2015-01-03       1    4987"
      ]
     },
     "execution_count": 22,
     "metadata": {},
     "output_type": "execute_result"
    }
   ],
   "source": [
    "# Create grouped dataframe with summary Demand for all stores (whole Region) for each Date and SKU_id\n",
    "grouped_train_df = train_df.groupby(['Date','SKU_id'])[\"Demand\"].agg(sum).reset_index()\n",
    "print(grouped_train_df.shape)\n",
    "grouped_train_df.head()"
   ]
  },
  {
   "cell_type": "code",
   "execution_count": 23,
   "metadata": {},
   "outputs": [
    {
     "data": {
      "image/png": "[encoded data removed]",
      "text/plain": [
       "<Figure size 864x432 with 1 Axes>"
      ]
     },
     "metadata": {
      "needs_background": "light"
     },
     "output_type": "display_data"
    }
   ],
   "source": [
    "# Look at the SKU_id = 1 - there are many outliers\n",
    "pd.Series(grouped_train_df[grouped_train_df['SKU_id']==1]['Demand'].values, index=grouped_train_df[grouped_train_df['SKU_id']==1]['Date']).plot(figsize=(12,6));"
   ]
  },
  {
   "cell_type": "code",
   "execution_count": 24,
   "metadata": {},
   "outputs": [
    {
     "data": {
      "image/png": "[encoded data removed]",
      "text/plain": [
       "<Figure size 864x432 with 1 Axes>"
      ]
     },
     "metadata": {
      "needs_background": "light"
     },
     "output_type": "display_data"
    }
   ],
   "source": [
    "# Look at the SKU_id = 2 - there are many outliers\n",
    "pd.Series(grouped_train_df[grouped_train_df['SKU_id']==2]['Demand'].values, index=grouped_train_df[grouped_train_df['SKU_id']==2]['Date']).plot(figsize=(12,6));"
   ]
  },
  {
   "cell_type": "code",
   "execution_count": 25,
   "metadata": {},
   "outputs": [],
   "source": [
    "from statsmodels.tsa.arima_model import ARIMA\n",
    "# Set Test dataframe to the same form as the Train dataframe\n",
    "df_test = test_df.groupby(['Date','SKU_id'])[\"Demand\"].agg(sum).reset_index()"
   ]
  },
  {
   "cell_type": "code",
   "execution_count": 26,
   "metadata": {},
   "outputs": [],
   "source": [
    "def get_arima_model_prediction(data, P, D, Q):\n",
    "    # Fit and predict for ARIMA model\n",
    "    model = ARIMA(data, order=(P, D, Q))\n",
    "    model_fit = model.fit(disp=0)\n",
    "    fcst = model_fit.forecast()[0]\n",
    "    return fcst\n",
    "\n",
    "def get_arima_prediction(SKU_id, DF_train, DF_test):\n",
    "    # Function fitted on DF_train and creates predictions on DF_test for input SKU_id\n",
    "    X_train = DF_train[DF_train['SKU_id']==SKU_id]['Demand'].values\n",
    "    X_test = DF_test[DF_test['SKU_id']==SKU_id]['Demand'].values\n",
    "\n",
    "    data = [x for x in X_train]\n",
    "    y_pred = list()\n",
    "\n",
    "    for t in range(len(X_test)):\n",
    "        x =  X_test[t]\n",
    "        arima_pred = get_arima_model_prediction(data, 1,2,1)    \n",
    "        y_pred.append(arima_pred)\n",
    "        data.append(x)\n",
    "    return y_pred"
   ]
  },
  {
   "cell_type": "code",
   "execution_count": 27,
   "metadata": {},
   "outputs": [
    {
     "name": "stdout",
     "output_type": "stream",
     "text": [
      "28\n"
     ]
    }
   ],
   "source": [
    "y_pred1 = get_arima_prediction(SKU_id = 1, DF_train = grouped_train_df, DF_test = df_test)\n",
    "print(len(y_pred1))"
   ]
  },
  {
   "cell_type": "code",
   "execution_count": 28,
   "metadata": {},
   "outputs": [
    {
     "data": {
      "text/plain": [
       "0.21654685019605296"
      ]
     },
     "execution_count": 28,
     "metadata": {},
     "output_type": "execute_result"
    }
   ],
   "source": [
    "get_wape(df_test[df_test['SKU_id']==1]['Demand'].values,[i[0] for i in y_pred1])"
   ]
  },
  {
   "cell_type": "code",
   "execution_count": 29,
   "metadata": {},
   "outputs": [
    {
     "name": "stdout",
     "output_type": "stream",
     "text": [
      "28\n"
     ]
    }
   ],
   "source": [
    "y_pred2 = get_arima_prediction(SKU_id = 2, DF_train = grouped_train_df, DF_test = df_test)\n",
    "print(len(y_pred2))"
   ]
  },
  {
   "cell_type": "code",
   "execution_count": 30,
   "metadata": {},
   "outputs": [
    {
     "data": {
      "text/plain": [
       "0.29848084176233436"
      ]
     },
     "execution_count": 30,
     "metadata": {},
     "output_type": "execute_result"
    }
   ],
   "source": [
    "get_wape(df_test[df_test['SKU_id']==2]['Demand'].values,[i[0] for i in y_pred2])"
   ]
  },
  {
   "cell_type": "markdown",
   "metadata": {},
   "source": [
    "В итоге получили WAPE на каждом из товаров меньше 30%."
   ]
  },
  {
   "cell_type": "markdown",
   "metadata": {},
   "source": [
    "- Но это нечестный прогноз на 28 дней, т.к. каждый раз после расчета прогноза на следующую точку мы подставляем реальный факт для тренировки новой модели ARIMA и прогноза еще на день вперед.\n",
    "- По-честному мы должны в факт для прогноза следующего дня добавлять посчитанный прогноз предыдущего дня."
   ]
  },
  {
   "cell_type": "code",
   "execution_count": 31,
   "metadata": {},
   "outputs": [],
   "source": [
    "def get_honest_arima_prediction(SKU_id, DF_train, DF_test):\n",
    "    # Function fitted on DF_train and creates predictions on DF_test for input SKU_id\n",
    "    X_train = DF_train[DF_train['SKU_id']==SKU_id]['Demand'].values\n",
    "    X_test = DF_test[DF_test['SKU_id']==SKU_id]['Demand'].values\n",
    "\n",
    "    data = [x for x in X_train]\n",
    "    y_pred = list()\n",
    "\n",
    "    for t in range(len(X_test)):\n",
    "        arima_pred = get_arima_model_prediction(data, 1,2,1)    \n",
    "        y_pred.append(arima_pred)\n",
    "        data.append(arima_pred)\n",
    "    return y_pred"
   ]
  },
  {
   "cell_type": "code",
   "execution_count": 32,
   "metadata": {},
   "outputs": [
    {
     "name": "stdout",
     "output_type": "stream",
     "text": [
      "28\n"
     ]
    }
   ],
   "source": [
    "y_pred1 = get_honest_arima_prediction(SKU_id = 1, DF_train = grouped_train_df, DF_test = df_test)\n",
    "print(len(y_pred1))"
   ]
  },
  {
   "cell_type": "code",
   "execution_count": 33,
   "metadata": {},
   "outputs": [
    {
     "data": {
      "text/plain": [
       "1.6047218576477646"
      ]
     },
     "execution_count": 33,
     "metadata": {},
     "output_type": "execute_result"
    }
   ],
   "source": [
    "get_wape(df_test[df_test['SKU_id']==1]['Demand'].values,[i[0] for i in y_pred1])"
   ]
  },
  {
   "cell_type": "code",
   "execution_count": 34,
   "metadata": {},
   "outputs": [
    {
     "name": "stdout",
     "output_type": "stream",
     "text": [
      "28\n"
     ]
    }
   ],
   "source": [
    "y_pred2 = get_honest_arima_prediction(SKU_id = 2, DF_train = grouped_train_df, DF_test = df_test)\n",
    "print(len(y_pred2))"
   ]
  },
  {
   "cell_type": "code",
   "execution_count": 35,
   "metadata": {},
   "outputs": [
    {
     "data": {
      "text/plain": [
       "0.920613335182272"
      ]
     },
     "execution_count": 35,
     "metadata": {},
     "output_type": "execute_result"
    }
   ],
   "source": [
    "get_wape(df_test[df_test['SKU_id']==2]['Demand'].values,[i[0] for i in y_pred2])"
   ]
  },
  {
   "cell_type": "markdown",
   "metadata": {},
   "source": [
    "Вот это уже похоже на качество честного прогноза."
   ]
  },
  {
   "cell_type": "markdown",
   "metadata": {},
   "source": [
    "## Детальный прогноз по каждому магазину"
   ]
  },
  {
   "cell_type": "markdown",
   "metadata": {},
   "source": [
    "Попробуем случайным лесом прогноз для каждого магазина"
   ]
  },
  {
   "cell_type": "code",
   "execution_count": 36,
   "metadata": {},
   "outputs": [
    {
     "data": {
      "text/html": [
       "<div>\n",
       "<style scoped>\n",
       "    .dataframe tbody tr th:only-of-type {\n",
       "        vertical-align: middle;\n",
       "    }\n",
       "\n",
       "    .dataframe tbody tr th {\n",
       "        vertical-align: top;\n",
       "    }\n",
       "\n",
       "    .dataframe thead th {\n",
       "        text-align: right;\n",
       "    }\n",
       "</style>\n",
       "<table border=\"1\" class=\"dataframe\">\n",
       "  <thead>\n",
       "    <tr style=\"text-align: right;\">\n",
       "      <th></th>\n",
       "      <th>Store_id</th>\n",
       "      <th>SKU_id</th>\n",
       "      <th>Date</th>\n",
       "      <th>Promo</th>\n",
       "      <th>Demand</th>\n",
       "      <th>WEEKDAY</th>\n",
       "      <th>YEARDAY</th>\n",
       "      <th>PRICE</th>\n",
       "    </tr>\n",
       "  </thead>\n",
       "  <tbody>\n",
       "    <tr>\n",
       "      <th>0</th>\n",
       "      <td>1</td>\n",
       "      <td>1</td>\n",
       "      <td>2015-01-01</td>\n",
       "      <td>0.0</td>\n",
       "      <td>22</td>\n",
       "      <td>4</td>\n",
       "      <td>0.999853</td>\n",
       "      <td>163.78</td>\n",
       "    </tr>\n",
       "    <tr>\n",
       "      <th>1</th>\n",
       "      <td>1</td>\n",
       "      <td>1</td>\n",
       "      <td>2015-01-02</td>\n",
       "      <td>0.0</td>\n",
       "      <td>41</td>\n",
       "      <td>5</td>\n",
       "      <td>0.999411</td>\n",
       "      <td>163.78</td>\n",
       "    </tr>\n",
       "    <tr>\n",
       "      <th>2</th>\n",
       "      <td>1</td>\n",
       "      <td>1</td>\n",
       "      <td>2015-01-03</td>\n",
       "      <td>0.0</td>\n",
       "      <td>35</td>\n",
       "      <td>6</td>\n",
       "      <td>0.998674</td>\n",
       "      <td>163.78</td>\n",
       "    </tr>\n",
       "    <tr>\n",
       "      <th>3</th>\n",
       "      <td>1</td>\n",
       "      <td>1</td>\n",
       "      <td>2015-01-04</td>\n",
       "      <td>0.0</td>\n",
       "      <td>72</td>\n",
       "      <td>0</td>\n",
       "      <td>0.997643</td>\n",
       "      <td>163.78</td>\n",
       "    </tr>\n",
       "    <tr>\n",
       "      <th>4</th>\n",
       "      <td>1</td>\n",
       "      <td>1</td>\n",
       "      <td>2015-01-05</td>\n",
       "      <td>0.0</td>\n",
       "      <td>25</td>\n",
       "      <td>1</td>\n",
       "      <td>0.996318</td>\n",
       "      <td>163.78</td>\n",
       "    </tr>\n",
       "  </tbody>\n",
       "</table>\n",
       "</div>"
      ],
      "text/plain": [
       "   Store_id  SKU_id       Date  Promo  Demand  WEEKDAY   YEARDAY   PRICE\n",
       "0         1       1 2015-01-01    0.0      22        4  0.999853  163.78\n",
       "1         1       1 2015-01-02    0.0      41        5  0.999411  163.78\n",
       "2         1       1 2015-01-03    0.0      35        6  0.998674  163.78\n",
       "3         1       1 2015-01-04    0.0      72        0  0.997643  163.78\n",
       "4         1       1 2015-01-05    0.0      25        1  0.996318  163.78"
      ]
     },
     "execution_count": 36,
     "metadata": {},
     "output_type": "execute_result"
    }
   ],
   "source": [
    "train_df.head()"
   ]
  },
  {
   "cell_type": "code",
   "execution_count": 37,
   "metadata": {},
   "outputs": [
    {
     "data": {
      "text/html": [
       "<div>\n",
       "<style scoped>\n",
       "    .dataframe tbody tr th:only-of-type {\n",
       "        vertical-align: middle;\n",
       "    }\n",
       "\n",
       "    .dataframe tbody tr th {\n",
       "        vertical-align: top;\n",
       "    }\n",
       "\n",
       "    .dataframe thead th {\n",
       "        text-align: right;\n",
       "    }\n",
       "</style>\n",
       "<table border=\"1\" class=\"dataframe\">\n",
       "  <thead>\n",
       "    <tr style=\"text-align: right;\">\n",
       "      <th></th>\n",
       "      <th>Store_id</th>\n",
       "      <th>SKU_id</th>\n",
       "      <th>Date</th>\n",
       "      <th>Promo</th>\n",
       "      <th>Demand</th>\n",
       "      <th>WEEKDAY</th>\n",
       "      <th>YEARDAY</th>\n",
       "      <th>PRICE</th>\n",
       "      <th>Demand_lag1_day</th>\n",
       "      <th>Demand_lag1_week</th>\n",
       "    </tr>\n",
       "  </thead>\n",
       "  <tbody>\n",
       "    <tr>\n",
       "      <th>0</th>\n",
       "      <td>1</td>\n",
       "      <td>1</td>\n",
       "      <td>2015-01-01</td>\n",
       "      <td>0.0</td>\n",
       "      <td>22</td>\n",
       "      <td>4</td>\n",
       "      <td>0.999853</td>\n",
       "      <td>163.78</td>\n",
       "      <td>0.0</td>\n",
       "      <td>0.0</td>\n",
       "    </tr>\n",
       "    <tr>\n",
       "      <th>1</th>\n",
       "      <td>1</td>\n",
       "      <td>1</td>\n",
       "      <td>2015-01-02</td>\n",
       "      <td>0.0</td>\n",
       "      <td>41</td>\n",
       "      <td>5</td>\n",
       "      <td>0.999411</td>\n",
       "      <td>163.78</td>\n",
       "      <td>22.0</td>\n",
       "      <td>0.0</td>\n",
       "    </tr>\n",
       "    <tr>\n",
       "      <th>2</th>\n",
       "      <td>1</td>\n",
       "      <td>1</td>\n",
       "      <td>2015-01-03</td>\n",
       "      <td>0.0</td>\n",
       "      <td>35</td>\n",
       "      <td>6</td>\n",
       "      <td>0.998674</td>\n",
       "      <td>163.78</td>\n",
       "      <td>41.0</td>\n",
       "      <td>0.0</td>\n",
       "    </tr>\n",
       "    <tr>\n",
       "      <th>3</th>\n",
       "      <td>1</td>\n",
       "      <td>1</td>\n",
       "      <td>2015-01-04</td>\n",
       "      <td>0.0</td>\n",
       "      <td>72</td>\n",
       "      <td>0</td>\n",
       "      <td>0.997643</td>\n",
       "      <td>163.78</td>\n",
       "      <td>35.0</td>\n",
       "      <td>0.0</td>\n",
       "    </tr>\n",
       "    <tr>\n",
       "      <th>4</th>\n",
       "      <td>1</td>\n",
       "      <td>1</td>\n",
       "      <td>2015-01-05</td>\n",
       "      <td>0.0</td>\n",
       "      <td>25</td>\n",
       "      <td>1</td>\n",
       "      <td>0.996318</td>\n",
       "      <td>163.78</td>\n",
       "      <td>72.0</td>\n",
       "      <td>0.0</td>\n",
       "    </tr>\n",
       "    <tr>\n",
       "      <th>5</th>\n",
       "      <td>1</td>\n",
       "      <td>1</td>\n",
       "      <td>2015-01-06</td>\n",
       "      <td>0.0</td>\n",
       "      <td>38</td>\n",
       "      <td>2</td>\n",
       "      <td>0.994700</td>\n",
       "      <td>163.78</td>\n",
       "      <td>25.0</td>\n",
       "      <td>0.0</td>\n",
       "    </tr>\n",
       "    <tr>\n",
       "      <th>6</th>\n",
       "      <td>1</td>\n",
       "      <td>1</td>\n",
       "      <td>2015-01-07</td>\n",
       "      <td>0.0</td>\n",
       "      <td>31</td>\n",
       "      <td>3</td>\n",
       "      <td>0.992788</td>\n",
       "      <td>163.78</td>\n",
       "      <td>38.0</td>\n",
       "      <td>0.0</td>\n",
       "    </tr>\n",
       "    <tr>\n",
       "      <th>7</th>\n",
       "      <td>1</td>\n",
       "      <td>1</td>\n",
       "      <td>2015-01-08</td>\n",
       "      <td>0.0</td>\n",
       "      <td>35</td>\n",
       "      <td>4</td>\n",
       "      <td>0.990584</td>\n",
       "      <td>163.78</td>\n",
       "      <td>31.0</td>\n",
       "      <td>22.0</td>\n",
       "    </tr>\n",
       "    <tr>\n",
       "      <th>8</th>\n",
       "      <td>1</td>\n",
       "      <td>1</td>\n",
       "      <td>2015-01-09</td>\n",
       "      <td>0.0</td>\n",
       "      <td>44</td>\n",
       "      <td>5</td>\n",
       "      <td>0.988088</td>\n",
       "      <td>163.78</td>\n",
       "      <td>35.0</td>\n",
       "      <td>41.0</td>\n",
       "    </tr>\n",
       "  </tbody>\n",
       "</table>\n",
       "</div>"
      ],
      "text/plain": [
       "   Store_id  SKU_id       Date  Promo  Demand  WEEKDAY   YEARDAY   PRICE  \\\n",
       "0         1       1 2015-01-01    0.0      22        4  0.999853  163.78   \n",
       "1         1       1 2015-01-02    0.0      41        5  0.999411  163.78   \n",
       "2         1       1 2015-01-03    0.0      35        6  0.998674  163.78   \n",
       "3         1       1 2015-01-04    0.0      72        0  0.997643  163.78   \n",
       "4         1       1 2015-01-05    0.0      25        1  0.996318  163.78   \n",
       "5         1       1 2015-01-06    0.0      38        2  0.994700  163.78   \n",
       "6         1       1 2015-01-07    0.0      31        3  0.992788  163.78   \n",
       "7         1       1 2015-01-08    0.0      35        4  0.990584  163.78   \n",
       "8         1       1 2015-01-09    0.0      44        5  0.988088  163.78   \n",
       "\n",
       "   Demand_lag1_day  Demand_lag1_week  \n",
       "0              0.0               0.0  \n",
       "1             22.0               0.0  \n",
       "2             41.0               0.0  \n",
       "3             35.0               0.0  \n",
       "4             72.0               0.0  \n",
       "5             25.0               0.0  \n",
       "6             38.0               0.0  \n",
       "7             31.0              22.0  \n",
       "8             35.0              41.0  "
      ]
     },
     "execution_count": 37,
     "metadata": {},
     "output_type": "execute_result"
    }
   ],
   "source": [
    "new_train_df = train_df.copy()\n",
    "new_train_df['Date'] = new_train_df['Date'] + timedelta(days=1)\n",
    "# Demand from previous day for it SKU_id and Store_id\n",
    "train_df['Demand_lag1_day'] = train_df.merge(new_train_df, how='left', left_on=[\"Store_id\",\"SKU_id\",\"Date\"], right_on=[\"Store_id\",\"SKU_id\",\"Date\"]).fillna(0)['Demand_y']\n",
    "new_train_df = train_df.copy()\n",
    "new_train_df['Date'] = new_train_df['Date'] + timedelta(days=7)\n",
    "# Demand from the same weekday last week for it SKU_id and Store_id\n",
    "train_df['Demand_lag1_week'] = train_df.merge(new_train_df, how='left', left_on=[\"Store_id\",\"SKU_id\",\"Date\"], right_on=[\"Store_id\",\"SKU_id\",\"Date\"]).fillna(0)['Demand_y']\n",
    "train_df.head(9)"
   ]
  },
  {
   "cell_type": "code",
   "execution_count": 38,
   "metadata": {},
   "outputs": [
    {
     "name": "stdout",
     "output_type": "stream",
     "text": [
      "(5970, 10)\n"
     ]
    }
   ],
   "source": [
    "# Create features in TEST dataframe as in TRAIN\n",
    "test_df['WEEKDAY'] = test_df['Date'].apply(lambda x: int(x.strftime('%w')))\n",
    "test_df['YEARDAY'] = test_df['Date'].apply(lambda x: math.cos(int(x.strftime('%j'))*2*math.pi/366))\n",
    "test_df['PRICE'] = test_df.apply(lambda x: x['Promo_Price'] if not np.isnan(x['Promo_Price']) else x['Regular_Price'], axis=1)\n",
    "test_df = test_df.fillna(0,axis=1).drop(['Regular_Price','Promo_Price'],axis=1)\n",
    "new_test_df = test_df.copy()\n",
    "new_test_df['Date'] = new_test_df['Date'] + timedelta(days=1)\n",
    "test_df['Demand_lag1_day'] = test_df.merge(new_test_df, how='left', left_on=[\"Store_id\",\"SKU_id\",\"Date\"], right_on=[\"Store_id\",\"SKU_id\",\"Date\"]).fillna(0)['Demand_y']\n",
    "new_test_df = test_df.copy()\n",
    "new_test_df['Date'] = new_test_df['Date'] + timedelta(days=7)\n",
    "test_df['Demand_lag1_week'] = test_df.merge(new_test_df, how='left', left_on=[\"Store_id\",\"SKU_id\",\"Date\"], right_on=[\"Store_id\",\"SKU_id\",\"Date\"]).fillna(0)['Demand_y']\n",
    "print(test_df.shape)"
   ]
  },
  {
   "cell_type": "code",
   "execution_count": 39,
   "metadata": {},
   "outputs": [],
   "source": [
    "# Create train and test dataframes\n",
    "X_train, y_train = train_df.drop(['Demand','Date'],axis=1), train_df['Demand'].values\n",
    "X_test, y_test = test_df.drop(['Demand','Date'],axis=1), test_df['Demand'].values"
   ]
  },
  {
   "cell_type": "code",
   "execution_count": 40,
   "metadata": {},
   "outputs": [
    {
     "data": {
      "text/html": [
       "<div>\n",
       "<style scoped>\n",
       "    .dataframe tbody tr th:only-of-type {\n",
       "        vertical-align: middle;\n",
       "    }\n",
       "\n",
       "    .dataframe tbody tr th {\n",
       "        vertical-align: top;\n",
       "    }\n",
       "\n",
       "    .dataframe thead th {\n",
       "        text-align: right;\n",
       "    }\n",
       "</style>\n",
       "<table border=\"1\" class=\"dataframe\">\n",
       "  <thead>\n",
       "    <tr style=\"text-align: right;\">\n",
       "      <th></th>\n",
       "      <th>Store_id</th>\n",
       "      <th>SKU_id</th>\n",
       "      <th>Promo</th>\n",
       "      <th>WEEKDAY</th>\n",
       "      <th>YEARDAY</th>\n",
       "      <th>PRICE</th>\n",
       "      <th>Demand_lag1_day</th>\n",
       "      <th>Demand_lag1_week</th>\n",
       "    </tr>\n",
       "  </thead>\n",
       "  <tbody>\n",
       "    <tr>\n",
       "      <th>0</th>\n",
       "      <td>1</td>\n",
       "      <td>1</td>\n",
       "      <td>1.0</td>\n",
       "      <td>1</td>\n",
       "      <td>-0.784120</td>\n",
       "      <td>119.60</td>\n",
       "      <td>0.0</td>\n",
       "      <td>0.0</td>\n",
       "    </tr>\n",
       "    <tr>\n",
       "      <th>1</th>\n",
       "      <td>1</td>\n",
       "      <td>1</td>\n",
       "      <td>0.0</td>\n",
       "      <td>2</td>\n",
       "      <td>-0.794658</td>\n",
       "      <td>128.98</td>\n",
       "      <td>242.0</td>\n",
       "      <td>0.0</td>\n",
       "    </tr>\n",
       "    <tr>\n",
       "      <th>2</th>\n",
       "      <td>1</td>\n",
       "      <td>1</td>\n",
       "      <td>0.0</td>\n",
       "      <td>3</td>\n",
       "      <td>-0.804962</td>\n",
       "      <td>131.70</td>\n",
       "      <td>57.0</td>\n",
       "      <td>0.0</td>\n",
       "    </tr>\n",
       "    <tr>\n",
       "      <th>3</th>\n",
       "      <td>1</td>\n",
       "      <td>1</td>\n",
       "      <td>0.0</td>\n",
       "      <td>4</td>\n",
       "      <td>-0.815028</td>\n",
       "      <td>131.70</td>\n",
       "      <td>63.0</td>\n",
       "      <td>0.0</td>\n",
       "    </tr>\n",
       "    <tr>\n",
       "      <th>4</th>\n",
       "      <td>1</td>\n",
       "      <td>1</td>\n",
       "      <td>0.0</td>\n",
       "      <td>5</td>\n",
       "      <td>-0.824855</td>\n",
       "      <td>131.70</td>\n",
       "      <td>69.0</td>\n",
       "      <td>0.0</td>\n",
       "    </tr>\n",
       "  </tbody>\n",
       "</table>\n",
       "</div>"
      ],
      "text/plain": [
       "   Store_id  SKU_id  Promo  WEEKDAY   YEARDAY   PRICE  Demand_lag1_day  \\\n",
       "0         1       1    1.0        1 -0.784120  119.60              0.0   \n",
       "1         1       1    0.0        2 -0.794658  128.98            242.0   \n",
       "2         1       1    0.0        3 -0.804962  131.70             57.0   \n",
       "3         1       1    0.0        4 -0.815028  131.70             63.0   \n",
       "4         1       1    0.0        5 -0.824855  131.70             69.0   \n",
       "\n",
       "   Demand_lag1_week  \n",
       "0               0.0  \n",
       "1               0.0  \n",
       "2               0.0  \n",
       "3               0.0  \n",
       "4               0.0  "
      ]
     },
     "execution_count": 40,
     "metadata": {},
     "output_type": "execute_result"
    }
   ],
   "source": [
    "X_test.head()"
   ]
  },
  {
   "cell_type": "code",
   "execution_count": 41,
   "metadata": {
    "ExecuteTime": {
     "end_time": "2018-11-23T10:51:22.074482Z",
     "start_time": "2018-11-23T10:51:21.519963Z"
    }
   },
   "outputs": [],
   "source": [
    "# Create model for RandomForest with basic parameters like depth, min_leafs and etc.\n",
    "model_rf_def = RandomForestRegressor(n_estimators=100, max_depth=20, min_samples_leaf=20, max_features=0.8, n_jobs=-1, random_state=RANDOM_STATE)\n",
    "# Fit this model\n",
    "model_rf_def.fit(X_train, y_train)\n",
    "# Create a prediction from fitted model of Random Forest\n",
    "y_pred = model_rf_def.predict(X_test)"
   ]
  },
  {
   "cell_type": "code",
   "execution_count": 42,
   "metadata": {},
   "outputs": [
    {
     "data": {
      "text/plain": [
       "0.3982867928973589"
      ]
     },
     "execution_count": 42,
     "metadata": {},
     "output_type": "execute_result"
    }
   ],
   "source": [
    "# Calc WAPE-metric for Store/Ware/Day\n",
    "get_wape(y_test, y_pred)"
   ]
  },
  {
   "cell_type": "code",
   "execution_count": 43,
   "metadata": {},
   "outputs": [
    {
     "data": {
      "image/png": "[encoded data removed]",
      "text/plain": [
       "<Figure size 720x360 with 1 Axes>"
      ]
     },
     "metadata": {
      "needs_background": "light"
     },
     "output_type": "display_data"
    }
   ],
   "source": [
    "# Let's look at the features importance from the Random Forest model\n",
    "feature_imp = pd.DataFrame(sorted(zip(model_rf_def.feature_importances_,X_train.columns)), columns=['Value','Feature'])\n",
    "plt.figure(figsize=(10, 5))\n",
    "sns.barplot(x=\"Value\", y=\"Feature\", data=feature_imp.sort_values(by=\"Value\", ascending=False))\n",
    "plt.title('RandomForest Variables Importance')\n",
    "plt.tight_layout()\n",
    "plt.show()"
   ]
  },
  {
   "cell_type": "markdown",
   "metadata": {},
   "source": [
    " "
   ]
  },
  {
   "cell_type": "markdown",
   "metadata": {},
   "source": [
    "## Clustering"
   ]
  },
  {
   "cell_type": "markdown",
   "metadata": {},
   "source": [
    "Задача: выполнить кластеризацию магазинов, описать результаты кластеризации.\n",
    "Данные:\n",
    "      - На листе Sales_Data находятся данные продаж в разрезе категория/магазин/день\n",
    "      - На листе Store_Data находятся характеристики магазинов"
   ]
  },
  {
   "cell_type": "code",
   "execution_count": 44,
   "metadata": {},
   "outputs": [
    {
     "name": "stdout",
     "output_type": "stream",
     "text": [
      "Shape of dataset: (670139, 10)\n"
     ]
    },
    {
     "data": {
      "text/html": [
       "<div>\n",
       "<style scoped>\n",
       "    .dataframe tbody tr th:only-of-type {\n",
       "        vertical-align: middle;\n",
       "    }\n",
       "\n",
       "    .dataframe tbody tr th {\n",
       "        vertical-align: top;\n",
       "    }\n",
       "\n",
       "    .dataframe thead th {\n",
       "        text-align: right;\n",
       "    }\n",
       "</style>\n",
       "<table border=\"1\" class=\"dataframe\">\n",
       "  <thead>\n",
       "    <tr style=\"text-align: right;\">\n",
       "      <th></th>\n",
       "      <th>Store</th>\n",
       "      <th>Date</th>\n",
       "      <th>Quantity_sold</th>\n",
       "      <th>Revenue</th>\n",
       "      <th>Num_of_soc_SKU</th>\n",
       "      <th>Num_of_promo_SKU</th>\n",
       "      <th>Lvl1</th>\n",
       "      <th>Lvl2</th>\n",
       "      <th>Lvl3</th>\n",
       "      <th>Num_of_SKU_in_lvl</th>\n",
       "    </tr>\n",
       "  </thead>\n",
       "  <tbody>\n",
       "    <tr>\n",
       "      <th>0</th>\n",
       "      <td>1</td>\n",
       "      <td>2016-02-01</td>\n",
       "      <td>27</td>\n",
       "      <td>4240.21</td>\n",
       "      <td>1</td>\n",
       "      <td>13</td>\n",
       "      <td>ROOT</td>\n",
       "      <td>Алкольная продукция</td>\n",
       "      <td>Вина_1</td>\n",
       "      <td>190</td>\n",
       "    </tr>\n",
       "    <tr>\n",
       "      <th>1</th>\n",
       "      <td>1</td>\n",
       "      <td>2016-02-01</td>\n",
       "      <td>3</td>\n",
       "      <td>188.02</td>\n",
       "      <td>1</td>\n",
       "      <td>0</td>\n",
       "      <td>ROOT</td>\n",
       "      <td>Алкольная продукция</td>\n",
       "      <td>Вина_2</td>\n",
       "      <td>7</td>\n",
       "    </tr>\n",
       "    <tr>\n",
       "      <th>2</th>\n",
       "      <td>1</td>\n",
       "      <td>2016-02-01</td>\n",
       "      <td>0</td>\n",
       "      <td>0.00</td>\n",
       "      <td>1</td>\n",
       "      <td>2</td>\n",
       "      <td>ROOT</td>\n",
       "      <td>Алкольная продукция</td>\n",
       "      <td>Вина_3</td>\n",
       "      <td>22</td>\n",
       "    </tr>\n",
       "    <tr>\n",
       "      <th>3</th>\n",
       "      <td>1</td>\n",
       "      <td>2016-02-01</td>\n",
       "      <td>43</td>\n",
       "      <td>7700.36</td>\n",
       "      <td>1</td>\n",
       "      <td>2</td>\n",
       "      <td>ROOT</td>\n",
       "      <td>Алкольная продукция</td>\n",
       "      <td>Водка</td>\n",
       "      <td>80</td>\n",
       "    </tr>\n",
       "    <tr>\n",
       "      <th>4</th>\n",
       "      <td>1</td>\n",
       "      <td>2016-02-01</td>\n",
       "      <td>0</td>\n",
       "      <td>0.00</td>\n",
       "      <td>1</td>\n",
       "      <td>3</td>\n",
       "      <td>ROOT</td>\n",
       "      <td>Алкольная продукция</td>\n",
       "      <td>Коньяк</td>\n",
       "      <td>44</td>\n",
       "    </tr>\n",
       "  </tbody>\n",
       "</table>\n",
       "</div>"
      ],
      "text/plain": [
       "   Store       Date  Quantity_sold  Revenue  Num_of_soc_SKU  Num_of_promo_SKU  \\\n",
       "0      1 2016-02-01             27  4240.21               1                13   \n",
       "1      1 2016-02-01              3   188.02               1                 0   \n",
       "2      1 2016-02-01              0     0.00               1                 2   \n",
       "3      1 2016-02-01             43  7700.36               1                 2   \n",
       "4      1 2016-02-01              0     0.00               1                 3   \n",
       "\n",
       "   Lvl1                 Lvl2    Lvl3  Num_of_SKU_in_lvl  \n",
       "0  ROOT  Алкольная продукция  Вина_1                190  \n",
       "1  ROOT  Алкольная продукция  Вина_2                  7  \n",
       "2  ROOT  Алкольная продукция  Вина_3                 22  \n",
       "3  ROOT  Алкольная продукция   Водка                 80  \n",
       "4  ROOT  Алкольная продукция  Коньяк                 44  "
      ]
     },
     "execution_count": 44,
     "metadata": {},
     "output_type": "execute_result"
    }
   ],
   "source": [
    "raw_df = pd.read_excel('../data/CL_Data.xlsx',sheet_name='Sales_Data')\n",
    "print(f'Shape of dataset: {raw_df.shape}')\n",
    "raw_df.head()"
   ]
  },
  {
   "cell_type": "code",
   "execution_count": 45,
   "metadata": {},
   "outputs": [
    {
     "name": "stdout",
     "output_type": "stream",
     "text": [
      "Shape of dataset: (119, 11)\n"
     ]
    },
    {
     "data": {
      "text/html": [
       "<div>\n",
       "<style scoped>\n",
       "    .dataframe tbody tr th:only-of-type {\n",
       "        vertical-align: middle;\n",
       "    }\n",
       "\n",
       "    .dataframe tbody tr th {\n",
       "        vertical-align: top;\n",
       "    }\n",
       "\n",
       "    .dataframe thead th {\n",
       "        text-align: right;\n",
       "    }\n",
       "</style>\n",
       "<table border=\"1\" class=\"dataframe\">\n",
       "  <thead>\n",
       "    <tr style=\"text-align: right;\">\n",
       "      <th></th>\n",
       "      <th>Store</th>\n",
       "      <th>Status</th>\n",
       "      <th>Opening_Date</th>\n",
       "      <th>Square</th>\n",
       "      <th>Assortment_width</th>\n",
       "      <th>Latitude</th>\n",
       "      <th>Longitude</th>\n",
       "      <th>License</th>\n",
       "      <th>Alco_Forbid</th>\n",
       "      <th>Tobacco_Forbid</th>\n",
       "      <th>Competition_lvl</th>\n",
       "    </tr>\n",
       "  </thead>\n",
       "  <tbody>\n",
       "    <tr>\n",
       "      <th>0</th>\n",
       "      <td>1</td>\n",
       "      <td>Opened</td>\n",
       "      <td>2015-07-03</td>\n",
       "      <td>1047.0</td>\n",
       "      <td>7773.0</td>\n",
       "      <td>62.089544</td>\n",
       "      <td>42.995538</td>\n",
       "      <td>X</td>\n",
       "      <td>NaN</td>\n",
       "      <td>NaN</td>\n",
       "      <td>NaN</td>\n",
       "    </tr>\n",
       "    <tr>\n",
       "      <th>1</th>\n",
       "      <td>2</td>\n",
       "      <td>Opened</td>\n",
       "      <td>2015-06-17</td>\n",
       "      <td>1005.0</td>\n",
       "      <td>8080.0</td>\n",
       "      <td>62.353845</td>\n",
       "      <td>43.187782</td>\n",
       "      <td>X</td>\n",
       "      <td>NaN</td>\n",
       "      <td>NaN</td>\n",
       "      <td>NaN</td>\n",
       "    </tr>\n",
       "    <tr>\n",
       "      <th>2</th>\n",
       "      <td>3</td>\n",
       "      <td>Opened</td>\n",
       "      <td>2007-05-31</td>\n",
       "      <td>932.0</td>\n",
       "      <td>7327.0</td>\n",
       "      <td>62.377145</td>\n",
       "      <td>43.134820</td>\n",
       "      <td>X</td>\n",
       "      <td>NaN</td>\n",
       "      <td>NaN</td>\n",
       "      <td>NaN</td>\n",
       "    </tr>\n",
       "    <tr>\n",
       "      <th>3</th>\n",
       "      <td>4</td>\n",
       "      <td>Opened</td>\n",
       "      <td>2015-06-22</td>\n",
       "      <td>789.0</td>\n",
       "      <td>6508.0</td>\n",
       "      <td>62.490032</td>\n",
       "      <td>42.988220</td>\n",
       "      <td>X</td>\n",
       "      <td>NaN</td>\n",
       "      <td>NaN</td>\n",
       "      <td>1.0</td>\n",
       "    </tr>\n",
       "    <tr>\n",
       "      <th>4</th>\n",
       "      <td>5</td>\n",
       "      <td>Opened</td>\n",
       "      <td>2015-06-01</td>\n",
       "      <td>1067.0</td>\n",
       "      <td>8147.0</td>\n",
       "      <td>62.491562</td>\n",
       "      <td>42.972590</td>\n",
       "      <td>X</td>\n",
       "      <td>NaN</td>\n",
       "      <td>NaN</td>\n",
       "      <td>1.0</td>\n",
       "    </tr>\n",
       "  </tbody>\n",
       "</table>\n",
       "</div>"
      ],
      "text/plain": [
       "   Store  Status Opening_Date  Square  Assortment_width   Latitude  Longitude  \\\n",
       "0      1  Opened   2015-07-03  1047.0            7773.0  62.089544  42.995538   \n",
       "1      2  Opened   2015-06-17  1005.0            8080.0  62.353845  43.187782   \n",
       "2      3  Opened   2007-05-31   932.0            7327.0  62.377145  43.134820   \n",
       "3      4  Opened   2015-06-22   789.0            6508.0  62.490032  42.988220   \n",
       "4      5  Opened   2015-06-01  1067.0            8147.0  62.491562  42.972590   \n",
       "\n",
       "  License  Alco_Forbid  Tobacco_Forbid  Competition_lvl  \n",
       "0       X          NaN             NaN              NaN  \n",
       "1       X          NaN             NaN              NaN  \n",
       "2       X          NaN             NaN              NaN  \n",
       "3       X          NaN             NaN              1.0  \n",
       "4       X          NaN             NaN              1.0  "
      ]
     },
     "execution_count": 45,
     "metadata": {},
     "output_type": "execute_result"
    }
   ],
   "source": [
    "store_Data = pd.read_excel('../data/CL_Data.xlsx',sheet_name='Store_Data')\n",
    "print(f'Shape of dataset: {store_Data.shape}')\n",
    "store_Data.head()"
   ]
  },
  {
   "cell_type": "code",
   "execution_count": 46,
   "metadata": {},
   "outputs": [],
   "source": [
    "# Fill empty values in Square with mean values\n",
    "store_Data['Square'].fillna((store_Data['Square'].mean()), inplace=True)"
   ]
  },
  {
   "cell_type": "code",
   "execution_count": 47,
   "metadata": {},
   "outputs": [
    {
     "data": {
      "text/plain": [
       "11"
      ]
     },
     "execution_count": 47,
     "metadata": {},
     "output_type": "execute_result"
    }
   ],
   "source": [
    "# We have 11 different elements in Lvl2 of product hierarchy - let's use them as a features\n",
    "len(pd.unique(raw_df['Lvl2']))"
   ]
  },
  {
   "cell_type": "code",
   "execution_count": 48,
   "metadata": {},
   "outputs": [
    {
     "name": "stdout",
     "output_type": "stream",
     "text": [
      "(103, 14)\n"
     ]
    },
    {
     "data": {
      "text/html": [
       "<div>\n",
       "<style scoped>\n",
       "    .dataframe tbody tr th:only-of-type {\n",
       "        vertical-align: middle;\n",
       "    }\n",
       "\n",
       "    .dataframe tbody tr th {\n",
       "        vertical-align: top;\n",
       "    }\n",
       "\n",
       "    .dataframe thead th {\n",
       "        text-align: right;\n",
       "    }\n",
       "</style>\n",
       "<table border=\"1\" class=\"dataframe\">\n",
       "  <thead>\n",
       "    <tr style=\"text-align: right;\">\n",
       "      <th></th>\n",
       "      <th>Store</th>\n",
       "      <th>Alc</th>\n",
       "      <th>Bac</th>\n",
       "      <th>KidFood</th>\n",
       "      <th>Diabet</th>\n",
       "      <th>Cond</th>\n",
       "      <th>PetFood</th>\n",
       "      <th>Water</th>\n",
       "      <th>Add</th>\n",
       "      <th>Tab</th>\n",
       "      <th>Kid</th>\n",
       "      <th>Br</th>\n",
       "      <th>Revenue</th>\n",
       "      <th>Square</th>\n",
       "    </tr>\n",
       "  </thead>\n",
       "  <tbody>\n",
       "    <tr>\n",
       "      <th>0</th>\n",
       "      <td>1</td>\n",
       "      <td>0.300275</td>\n",
       "      <td>2.149165</td>\n",
       "      <td>1.230385</td>\n",
       "      <td>1.727069</td>\n",
       "      <td>1.949320</td>\n",
       "      <td>9.762331</td>\n",
       "      <td>1.385337</td>\n",
       "      <td>0.822255</td>\n",
       "      <td>2.220865</td>\n",
       "      <td>0.576590</td>\n",
       "      <td>8.037128</td>\n",
       "      <td>1.022814e+07</td>\n",
       "      <td>1047.0</td>\n",
       "    </tr>\n",
       "    <tr>\n",
       "      <th>1</th>\n",
       "      <td>2</td>\n",
       "      <td>0.545191</td>\n",
       "      <td>7.027134</td>\n",
       "      <td>2.620226</td>\n",
       "      <td>3.511610</td>\n",
       "      <td>4.151190</td>\n",
       "      <td>29.575847</td>\n",
       "      <td>2.453708</td>\n",
       "      <td>1.677054</td>\n",
       "      <td>2.521745</td>\n",
       "      <td>1.273234</td>\n",
       "      <td>13.103581</td>\n",
       "      <td>2.314427e+07</td>\n",
       "      <td>1005.0</td>\n",
       "    </tr>\n",
       "    <tr>\n",
       "      <th>2</th>\n",
       "      <td>3</td>\n",
       "      <td>0.371701</td>\n",
       "      <td>2.758914</td>\n",
       "      <td>1.234908</td>\n",
       "      <td>1.911515</td>\n",
       "      <td>2.180084</td>\n",
       "      <td>11.014311</td>\n",
       "      <td>1.825030</td>\n",
       "      <td>1.030597</td>\n",
       "      <td>2.720372</td>\n",
       "      <td>0.891680</td>\n",
       "      <td>6.346894</td>\n",
       "      <td>1.118703e+07</td>\n",
       "      <td>932.0</td>\n",
       "    </tr>\n",
       "    <tr>\n",
       "      <th>3</th>\n",
       "      <td>4</td>\n",
       "      <td>0.609614</td>\n",
       "      <td>3.694375</td>\n",
       "      <td>1.432687</td>\n",
       "      <td>2.460331</td>\n",
       "      <td>2.599241</td>\n",
       "      <td>13.640608</td>\n",
       "      <td>2.328957</td>\n",
       "      <td>1.254898</td>\n",
       "      <td>4.949867</td>\n",
       "      <td>0.851365</td>\n",
       "      <td>11.329470</td>\n",
       "      <td>1.302829e+07</td>\n",
       "      <td>789.0</td>\n",
       "    </tr>\n",
       "    <tr>\n",
       "      <th>4</th>\n",
       "      <td>5</td>\n",
       "      <td>0.763618</td>\n",
       "      <td>4.533633</td>\n",
       "      <td>2.211038</td>\n",
       "      <td>3.147070</td>\n",
       "      <td>3.318566</td>\n",
       "      <td>21.678563</td>\n",
       "      <td>2.489573</td>\n",
       "      <td>1.586891</td>\n",
       "      <td>4.475934</td>\n",
       "      <td>1.376133</td>\n",
       "      <td>11.670952</td>\n",
       "      <td>2.072401e+07</td>\n",
       "      <td>1067.0</td>\n",
       "    </tr>\n",
       "    <tr>\n",
       "      <th>5</th>\n",
       "      <td>6</td>\n",
       "      <td>0.438477</td>\n",
       "      <td>3.781000</td>\n",
       "      <td>1.910396</td>\n",
       "      <td>1.552950</td>\n",
       "      <td>3.034054</td>\n",
       "      <td>10.612109</td>\n",
       "      <td>1.882477</td>\n",
       "      <td>1.183244</td>\n",
       "      <td>7.385520</td>\n",
       "      <td>0.861969</td>\n",
       "      <td>10.060462</td>\n",
       "      <td>1.749460e+07</td>\n",
       "      <td>978.0</td>\n",
       "    </tr>\n",
       "    <tr>\n",
       "      <th>6</th>\n",
       "      <td>7</td>\n",
       "      <td>0.062485</td>\n",
       "      <td>3.105291</td>\n",
       "      <td>0.941750</td>\n",
       "      <td>1.599880</td>\n",
       "      <td>2.038333</td>\n",
       "      <td>9.930554</td>\n",
       "      <td>0.768731</td>\n",
       "      <td>0.731863</td>\n",
       "      <td>2.187756</td>\n",
       "      <td>0.857518</td>\n",
       "      <td>7.435266</td>\n",
       "      <td>9.179660e+06</td>\n",
       "      <td>808.0</td>\n",
       "    </tr>\n",
       "    <tr>\n",
       "      <th>7</th>\n",
       "      <td>8</td>\n",
       "      <td>0.537512</td>\n",
       "      <td>4.496704</td>\n",
       "      <td>2.452787</td>\n",
       "      <td>2.282903</td>\n",
       "      <td>4.074065</td>\n",
       "      <td>24.627598</td>\n",
       "      <td>3.345455</td>\n",
       "      <td>1.609117</td>\n",
       "      <td>7.043985</td>\n",
       "      <td>1.566216</td>\n",
       "      <td>14.498711</td>\n",
       "      <td>1.943161e+07</td>\n",
       "      <td>923.0</td>\n",
       "    </tr>\n",
       "    <tr>\n",
       "      <th>8</th>\n",
       "      <td>9</td>\n",
       "      <td>0.843565</td>\n",
       "      <td>4.795683</td>\n",
       "      <td>2.745313</td>\n",
       "      <td>3.254834</td>\n",
       "      <td>4.077256</td>\n",
       "      <td>20.990740</td>\n",
       "      <td>3.379456</td>\n",
       "      <td>1.484321</td>\n",
       "      <td>4.699756</td>\n",
       "      <td>1.023160</td>\n",
       "      <td>13.556331</td>\n",
       "      <td>2.295571e+07</td>\n",
       "      <td>1045.0</td>\n",
       "    </tr>\n",
       "    <tr>\n",
       "      <th>9</th>\n",
       "      <td>10</td>\n",
       "      <td>0.479896</td>\n",
       "      <td>4.433220</td>\n",
       "      <td>2.390544</td>\n",
       "      <td>2.934831</td>\n",
       "      <td>3.806510</td>\n",
       "      <td>18.819939</td>\n",
       "      <td>2.465456</td>\n",
       "      <td>1.359165</td>\n",
       "      <td>5.204966</td>\n",
       "      <td>1.273147</td>\n",
       "      <td>12.626050</td>\n",
       "      <td>2.047655e+07</td>\n",
       "      <td>1036.0</td>\n",
       "    </tr>\n",
       "  </tbody>\n",
       "</table>\n",
       "</div>"
      ],
      "text/plain": [
       "   Store       Alc       Bac   KidFood    Diabet      Cond    PetFood  \\\n",
       "0      1  0.300275  2.149165  1.230385  1.727069  1.949320   9.762331   \n",
       "1      2  0.545191  7.027134  2.620226  3.511610  4.151190  29.575847   \n",
       "2      3  0.371701  2.758914  1.234908  1.911515  2.180084  11.014311   \n",
       "3      4  0.609614  3.694375  1.432687  2.460331  2.599241  13.640608   \n",
       "4      5  0.763618  4.533633  2.211038  3.147070  3.318566  21.678563   \n",
       "5      6  0.438477  3.781000  1.910396  1.552950  3.034054  10.612109   \n",
       "6      7  0.062485  3.105291  0.941750  1.599880  2.038333   9.930554   \n",
       "7      8  0.537512  4.496704  2.452787  2.282903  4.074065  24.627598   \n",
       "8      9  0.843565  4.795683  2.745313  3.254834  4.077256  20.990740   \n",
       "9     10  0.479896  4.433220  2.390544  2.934831  3.806510  18.819939   \n",
       "\n",
       "      Water       Add       Tab       Kid         Br       Revenue  Square  \n",
       "0  1.385337  0.822255  2.220865  0.576590   8.037128  1.022814e+07  1047.0  \n",
       "1  2.453708  1.677054  2.521745  1.273234  13.103581  2.314427e+07  1005.0  \n",
       "2  1.825030  1.030597  2.720372  0.891680   6.346894  1.118703e+07   932.0  \n",
       "3  2.328957  1.254898  4.949867  0.851365  11.329470  1.302829e+07   789.0  \n",
       "4  2.489573  1.586891  4.475934  1.376133  11.670952  2.072401e+07  1067.0  \n",
       "5  1.882477  1.183244  7.385520  0.861969  10.060462  1.749460e+07   978.0  \n",
       "6  0.768731  0.731863  2.187756  0.857518   7.435266  9.179660e+06   808.0  \n",
       "7  3.345455  1.609117  7.043985  1.566216  14.498711  1.943161e+07   923.0  \n",
       "8  3.379456  1.484321  4.699756  1.023160  13.556331  2.295571e+07  1045.0  \n",
       "9  2.465456  1.359165  5.204966  1.273147  12.626050  2.047655e+07  1036.0  "
      ]
     },
     "execution_count": 48,
     "metadata": {},
     "output_type": "execute_result"
    }
   ],
   "source": [
    "# Calc month feature\n",
    "raw_df['Month'] = raw_df['Date'].apply(lambda x: x.month)\n",
    "# Calculate summary for each month/store/lvl2 for \"Quantity_sold\",\"Revenue\" and \"Num_of_SKU_in_lvl\" to calculate average monthly percent of sold_quantity per available \"number of SKU in level\" to see the sale-power of store\n",
    "df_tmp = raw_df.groupby(['Month','Store','Lvl2'])[\"Quantity_sold\",\"Revenue\",\"Num_of_SKU_in_lvl\"].agg(sum).reset_index()\n",
    "# Calculate average monthly KPIs\n",
    "df_tmp = df_tmp.groupby(['Store','Lvl2'])[\"Quantity_sold\",\"Revenue\",\"Num_of_SKU_in_lvl\"].agg(np.mean).reset_index()\n",
    "# Create dummies variable for LEVEL2 of product hierarchy\n",
    "df = pd.concat([df_tmp[[\"Store\",\"Quantity_sold\",\"Revenue\",\"Num_of_SKU_in_lvl\"]],pd.get_dummies(df_tmp['Lvl2'])],axis=1)\n",
    "# Create percent\n",
    "df['Sold_in_lvl'] = df.apply(lambda x: x['Quantity_sold']/x['Num_of_SKU_in_lvl'], axis=1)\n",
    "# Drop unused features\n",
    "df.drop(['Quantity_sold','Num_of_SKU_in_lvl'], axis=1, inplace=True)\n",
    "# Rename columns\n",
    "df.columns = ['Store','Revenue','Alc','Bac','KidFood','Diabet','Cond','PetFood','Water','Add','Tab','Kid','Br','Sold_in_lvl']\n",
    "# Fill dummies with percent = KPI of Sold_in_lvl\n",
    "for c in ['Alc','Bac','KidFood','Diabet','Cond','PetFood','Water','Add','Tab','Kid','Br']:\n",
    "    df[c] = df[c]*df['Sold_in_lvl']\n",
    "df.drop('Sold_in_lvl', axis=1, inplace=True)\n",
    "# Group dataframe to the single row for each store\n",
    "df = df.groupby(['Store'])[\"Alc\",\"Bac\",\"KidFood\",\"Diabet\",\"Cond\",\"PetFood\",\"Water\",\"Add\",\"Tab\",\"Kid\",\"Br\",\"Revenue\"].agg(sum).reset_index()\n",
    "# Merge dataframe to the attributes to get the square of stores\n",
    "df = df.merge(store_Data[['Store','Square']], left_on=[\"Store\"], right_on=[\"Store\"])\n",
    "print(df.shape)\n",
    "df.head(10)"
   ]
  },
  {
   "cell_type": "code",
   "execution_count": 49,
   "metadata": {},
   "outputs": [
    {
     "data": {
      "text/html": [
       "<div>\n",
       "<style scoped>\n",
       "    .dataframe tbody tr th:only-of-type {\n",
       "        vertical-align: middle;\n",
       "    }\n",
       "\n",
       "    .dataframe tbody tr th {\n",
       "        vertical-align: top;\n",
       "    }\n",
       "\n",
       "    .dataframe thead th {\n",
       "        text-align: right;\n",
       "    }\n",
       "</style>\n",
       "<table border=\"1\" class=\"dataframe\">\n",
       "  <thead>\n",
       "    <tr style=\"text-align: right;\">\n",
       "      <th></th>\n",
       "      <th>Store</th>\n",
       "      <th>Alc</th>\n",
       "      <th>Bac</th>\n",
       "      <th>KidFood</th>\n",
       "      <th>Diabet</th>\n",
       "      <th>Cond</th>\n",
       "      <th>PetFood</th>\n",
       "      <th>Water</th>\n",
       "      <th>Add</th>\n",
       "      <th>Tab</th>\n",
       "      <th>Kid</th>\n",
       "      <th>Br</th>\n",
       "      <th>Revenue_per_square</th>\n",
       "    </tr>\n",
       "  </thead>\n",
       "  <tbody>\n",
       "    <tr>\n",
       "      <th>0</th>\n",
       "      <td>1</td>\n",
       "      <td>0.300275</td>\n",
       "      <td>2.149165</td>\n",
       "      <td>1.230385</td>\n",
       "      <td>1.727069</td>\n",
       "      <td>1.949320</td>\n",
       "      <td>9.762331</td>\n",
       "      <td>1.385337</td>\n",
       "      <td>0.822255</td>\n",
       "      <td>2.220865</td>\n",
       "      <td>0.576590</td>\n",
       "      <td>8.037128</td>\n",
       "      <td>9768.996297</td>\n",
       "    </tr>\n",
       "    <tr>\n",
       "      <th>1</th>\n",
       "      <td>2</td>\n",
       "      <td>0.545191</td>\n",
       "      <td>7.027134</td>\n",
       "      <td>2.620226</td>\n",
       "      <td>3.511610</td>\n",
       "      <td>4.151190</td>\n",
       "      <td>29.575847</td>\n",
       "      <td>2.453708</td>\n",
       "      <td>1.677054</td>\n",
       "      <td>2.521745</td>\n",
       "      <td>1.273234</td>\n",
       "      <td>13.103581</td>\n",
       "      <td>23029.120716</td>\n",
       "    </tr>\n",
       "    <tr>\n",
       "      <th>2</th>\n",
       "      <td>3</td>\n",
       "      <td>0.371701</td>\n",
       "      <td>2.758914</td>\n",
       "      <td>1.234908</td>\n",
       "      <td>1.911515</td>\n",
       "      <td>2.180084</td>\n",
       "      <td>11.014311</td>\n",
       "      <td>1.825030</td>\n",
       "      <td>1.030597</td>\n",
       "      <td>2.720372</td>\n",
       "      <td>0.891680</td>\n",
       "      <td>6.346894</td>\n",
       "      <td>12003.246645</td>\n",
       "    </tr>\n",
       "    <tr>\n",
       "      <th>3</th>\n",
       "      <td>4</td>\n",
       "      <td>0.609614</td>\n",
       "      <td>3.694375</td>\n",
       "      <td>1.432687</td>\n",
       "      <td>2.460331</td>\n",
       "      <td>2.599241</td>\n",
       "      <td>13.640608</td>\n",
       "      <td>2.328957</td>\n",
       "      <td>1.254898</td>\n",
       "      <td>4.949867</td>\n",
       "      <td>0.851365</td>\n",
       "      <td>11.329470</td>\n",
       "      <td>16512.405695</td>\n",
       "    </tr>\n",
       "    <tr>\n",
       "      <th>4</th>\n",
       "      <td>5</td>\n",
       "      <td>0.763618</td>\n",
       "      <td>4.533633</td>\n",
       "      <td>2.211038</td>\n",
       "      <td>3.147070</td>\n",
       "      <td>3.318566</td>\n",
       "      <td>21.678563</td>\n",
       "      <td>2.489573</td>\n",
       "      <td>1.586891</td>\n",
       "      <td>4.475934</td>\n",
       "      <td>1.376133</td>\n",
       "      <td>11.670952</td>\n",
       "      <td>19422.691949</td>\n",
       "    </tr>\n",
       "  </tbody>\n",
       "</table>\n",
       "</div>"
      ],
      "text/plain": [
       "   Store       Alc       Bac   KidFood    Diabet      Cond    PetFood  \\\n",
       "0      1  0.300275  2.149165  1.230385  1.727069  1.949320   9.762331   \n",
       "1      2  0.545191  7.027134  2.620226  3.511610  4.151190  29.575847   \n",
       "2      3  0.371701  2.758914  1.234908  1.911515  2.180084  11.014311   \n",
       "3      4  0.609614  3.694375  1.432687  2.460331  2.599241  13.640608   \n",
       "4      5  0.763618  4.533633  2.211038  3.147070  3.318566  21.678563   \n",
       "\n",
       "      Water       Add       Tab       Kid         Br  Revenue_per_square  \n",
       "0  1.385337  0.822255  2.220865  0.576590   8.037128         9768.996297  \n",
       "1  2.453708  1.677054  2.521745  1.273234  13.103581        23029.120716  \n",
       "2  1.825030  1.030597  2.720372  0.891680   6.346894        12003.246645  \n",
       "3  2.328957  1.254898  4.949867  0.851365  11.329470        16512.405695  \n",
       "4  2.489573  1.586891  4.475934  1.376133  11.670952        19422.691949  "
      ]
     },
     "execution_count": 49,
     "metadata": {},
     "output_type": "execute_result"
    }
   ],
   "source": [
    "# Calculate new feature: average revenue per 1 square feet for each store\n",
    "df['Revenue_per_square'] = df['Revenue']/df['Square']\n",
    "# Drop unused features\n",
    "df.drop(['Revenue','Square'], axis=1, inplace=True)\n",
    "# Final dataframe\n",
    "df.head()"
   ]
  },
  {
   "cell_type": "code",
   "execution_count": 50,
   "metadata": {},
   "outputs": [
    {
     "data": {
      "image/png": "[encoded data removed]",
      "text/plain": [
       "<Figure size 1440x720 with 1 Axes>"
      ]
     },
     "metadata": {
      "needs_background": "light"
     },
     "output_type": "display_data"
    }
   ],
   "source": [
    "import scipy.cluster.hierarchy as shc\n",
    "# Use only features for stores\n",
    "data = df.iloc[:, 1:].values\n",
    "plt.figure(figsize=(20, 10))\n",
    "plt.title(\"Stores Dendograms\")\n",
    "# Calculate dendrogram clustering to see how stores divides per clusters\n",
    "dend = shc.dendrogram(shc.linkage(data, method='ward'))"
   ]
  },
  {
   "cell_type": "markdown",
   "metadata": {},
   "source": [
    "К примеру, можно разбить на 4 больших кластера:"
   ]
  },
  {
   "cell_type": "code",
   "execution_count": 51,
   "metadata": {},
   "outputs": [
    {
     "data": {
      "text/html": [
       "<div>\n",
       "<style scoped>\n",
       "    .dataframe tbody tr th:only-of-type {\n",
       "        vertical-align: middle;\n",
       "    }\n",
       "\n",
       "    .dataframe tbody tr th {\n",
       "        vertical-align: top;\n",
       "    }\n",
       "\n",
       "    .dataframe thead th {\n",
       "        text-align: right;\n",
       "    }\n",
       "</style>\n",
       "<table border=\"1\" class=\"dataframe\">\n",
       "  <thead>\n",
       "    <tr style=\"text-align: right;\">\n",
       "      <th></th>\n",
       "      <th>Store</th>\n",
       "      <th>Cluster</th>\n",
       "    </tr>\n",
       "  </thead>\n",
       "  <tbody>\n",
       "    <tr>\n",
       "      <th>0</th>\n",
       "      <td>1</td>\n",
       "      <td>1</td>\n",
       "    </tr>\n",
       "    <tr>\n",
       "      <th>1</th>\n",
       "      <td>2</td>\n",
       "      <td>0</td>\n",
       "    </tr>\n",
       "    <tr>\n",
       "      <th>2</th>\n",
       "      <td>3</td>\n",
       "      <td>1</td>\n",
       "    </tr>\n",
       "    <tr>\n",
       "      <th>3</th>\n",
       "      <td>4</td>\n",
       "      <td>2</td>\n",
       "    </tr>\n",
       "    <tr>\n",
       "      <th>4</th>\n",
       "      <td>5</td>\n",
       "      <td>0</td>\n",
       "    </tr>\n",
       "  </tbody>\n",
       "</table>\n",
       "</div>"
      ],
      "text/plain": [
       "   Store  Cluster\n",
       "0      1        1\n",
       "1      2        0\n",
       "2      3        1\n",
       "3      4        2\n",
       "4      5        0"
      ]
     },
     "execution_count": 51,
     "metadata": {},
     "output_type": "execute_result"
    }
   ],
   "source": [
    "from sklearn.cluster import AgglomerativeClustering\n",
    "# From dendrogram we can see 4 big cluster and 9 smaller\n",
    "# Let's split stores to 4 big clusters\n",
    "cluster = AgglomerativeClustering(n_clusters=4, affinity='euclidean', linkage='ward')\n",
    "cluster.fit_predict(data)\n",
    "#print(list(zip(df['Store'].values,cluster.labels_)))\n",
    "pd.DataFrame(list(zip(df['Store'].values,cluster.labels_)),columns=['Store','Cluster']).head()"
   ]
  },
  {
   "cell_type": "code",
   "execution_count": 52,
   "metadata": {},
   "outputs": [],
   "source": [
    "# Join these clusters with their geo-coordinates to view on map\n",
    "store_Data_gr = store_Data.merge(pd.DataFrame(list(zip(df['Store'].values,cluster.labels_)),columns=['Store','Cluster']).head(), left_on=[\"Store\"], right_on=[\"Store\"])[['Store','Latitude','Longitude','Cluster']]"
   ]
  },
  {
   "cell_type": "code",
   "execution_count": 53,
   "metadata": {},
   "outputs": [],
   "source": [
    "import geopandas as gpd\n",
    "from shapely.geometry import Point, Polygon"
   ]
  },
  {
   "cell_type": "code",
   "execution_count": 54,
   "metadata": {},
   "outputs": [],
   "source": [
    "store_Data_grgeo = [Point(xy) for xy in zip(store_Data_gr.Longitude, store_Data_gr.Latitude)]\n",
    "store_Data_gr['location'] = store_Data_grgeo\n",
    "store_Data_gr.drop(['Latitude','Longitude'], axis = 1, inplace=True)\n",
    "store_Data_gr = gpd.GeoDataFrame(store_Data_gr, geometry=store_Data_grgeo)"
   ]
  },
  {
   "cell_type": "code",
   "execution_count": 55,
   "metadata": {},
   "outputs": [
    {
     "data": {
      "text/html": [
       "<div>\n",
       "<style scoped>\n",
       "    .dataframe tbody tr th:only-of-type {\n",
       "        vertical-align: middle;\n",
       "    }\n",
       "\n",
       "    .dataframe tbody tr th {\n",
       "        vertical-align: top;\n",
       "    }\n",
       "\n",
       "    .dataframe thead th {\n",
       "        text-align: right;\n",
       "    }\n",
       "</style>\n",
       "<table border=\"1\" class=\"dataframe\">\n",
       "  <thead>\n",
       "    <tr style=\"text-align: right;\">\n",
       "      <th></th>\n",
       "      <th>Store</th>\n",
       "      <th>Cluster</th>\n",
       "      <th>location</th>\n",
       "      <th>geometry</th>\n",
       "    </tr>\n",
       "  </thead>\n",
       "  <tbody>\n",
       "    <tr>\n",
       "      <th>0</th>\n",
       "      <td>1</td>\n",
       "      <td>1</td>\n",
       "      <td>POINT (42.99553774486926 62.08954361204884)</td>\n",
       "      <td>POINT (42.99553774486926 62.08954361204884)</td>\n",
       "    </tr>\n",
       "    <tr>\n",
       "      <th>1</th>\n",
       "      <td>2</td>\n",
       "      <td>0</td>\n",
       "      <td>POINT (43.18778217486925 62.35384548204885)</td>\n",
       "      <td>POINT (43.18778217486925 62.35384548204885)</td>\n",
       "    </tr>\n",
       "    <tr>\n",
       "      <th>2</th>\n",
       "      <td>3</td>\n",
       "      <td>1</td>\n",
       "      <td>POINT (43.13482017486925 62.37714548204884)</td>\n",
       "      <td>POINT (43.13482017486925 62.37714548204884)</td>\n",
       "    </tr>\n",
       "    <tr>\n",
       "      <th>3</th>\n",
       "      <td>4</td>\n",
       "      <td>2</td>\n",
       "      <td>POINT (42.98822017486925 62.49003248204884)</td>\n",
       "      <td>POINT (42.98822017486925 62.49003248204884)</td>\n",
       "    </tr>\n",
       "    <tr>\n",
       "      <th>4</th>\n",
       "      <td>5</td>\n",
       "      <td>0</td>\n",
       "      <td>POINT (42.97259017486926 62.49156213204885)</td>\n",
       "      <td>POINT (42.97259017486926 62.49156213204885)</td>\n",
       "    </tr>\n",
       "  </tbody>\n",
       "</table>\n",
       "</div>"
      ],
      "text/plain": [
       "   Store  Cluster                                     location  \\\n",
       "0      1        1  POINT (42.99553774486926 62.08954361204884)   \n",
       "1      2        0  POINT (43.18778217486925 62.35384548204885)   \n",
       "2      3        1  POINT (43.13482017486925 62.37714548204884)   \n",
       "3      4        2  POINT (42.98822017486925 62.49003248204884)   \n",
       "4      5        0  POINT (42.97259017486926 62.49156213204885)   \n",
       "\n",
       "                                      geometry  \n",
       "0  POINT (42.99553774486926 62.08954361204884)  \n",
       "1  POINT (43.18778217486925 62.35384548204885)  \n",
       "2  POINT (43.13482017486925 62.37714548204884)  \n",
       "3  POINT (42.98822017486925 62.49003248204884)  \n",
       "4  POINT (42.97259017486926 62.49156213204885)  "
      ]
     },
     "execution_count": 55,
     "metadata": {},
     "output_type": "execute_result"
    }
   ],
   "source": [
    "store_Data_gr.head()"
   ]
  },
  {
   "cell_type": "markdown",
   "metadata": {},
   "source": [
    "Вот так эти 4 кластера будут размещены на карте с учетом GPS-координат"
   ]
  },
  {
   "cell_type": "code",
   "execution_count": 56,
   "metadata": {},
   "outputs": [
    {
     "name": "stderr",
     "output_type": "stream",
     "text": [
      "/home/truename/anaconda3/lib/python3.7/site-packages/geopandas/plotting.py:266: UserWarning: The GeoSeries you are attempting to plot is empty. Nothing has been displayed.\n",
      "  \"empty. Nothing has been displayed.\", UserWarning)\n"
     ]
    },
    {
     "data": {
      "image/png": "[encoded data removed]",
      "text/plain": [
       "<Figure size 576x576 with 1 Axes>"
      ]
     },
     "metadata": {
      "needs_background": "light"
     },
     "output_type": "display_data"
    }
   ],
   "source": [
    "fig, ax = plt.subplots(figsize = (8,8))\n",
    "store_Data_gr.plot(color='grey', ax=ax, alpha = 0.4)\n",
    "store_Data_gr[store_Data_gr['Cluster']==0].geometry.plot(color = 'yellow', ax = ax, label = '0', alpha=.5, markersize = 75 )\n",
    "store_Data_gr[store_Data_gr['Cluster']==1].geometry.plot(color = 'blue', ax = ax, label = '1', alpha=.5, markersize = 75 )\n",
    "store_Data_gr[store_Data_gr['Cluster']==2].geometry.plot(color = 'green', ax = ax, label = '2', alpha=.5, markersize = 75 )\n",
    "store_Data_gr[store_Data_gr['Cluster']==3].geometry.plot(color = 'red', ax = ax, label = '3', alpha=.5, markersize = 75 )\n",
    "\n",
    "plt.title('Clusters of stores by sales'' power')\n",
    "plt.legend();"
   ]
  },
  {
   "cell_type": "markdown",
   "metadata": {},
   "source": [
    "Если же мы хотим разбить на 9 кластеров:"
   ]
  },
  {
   "cell_type": "code",
   "execution_count": 57,
   "metadata": {},
   "outputs": [
    {
     "data": {
      "text/html": [
       "<div>\n",
       "<style scoped>\n",
       "    .dataframe tbody tr th:only-of-type {\n",
       "        vertical-align: middle;\n",
       "    }\n",
       "\n",
       "    .dataframe tbody tr th {\n",
       "        vertical-align: top;\n",
       "    }\n",
       "\n",
       "    .dataframe thead th {\n",
       "        text-align: right;\n",
       "    }\n",
       "</style>\n",
       "<table border=\"1\" class=\"dataframe\">\n",
       "  <thead>\n",
       "    <tr style=\"text-align: right;\">\n",
       "      <th></th>\n",
       "      <th>Store</th>\n",
       "      <th>Cluster</th>\n",
       "    </tr>\n",
       "  </thead>\n",
       "  <tbody>\n",
       "    <tr>\n",
       "      <th>0</th>\n",
       "      <td>1</td>\n",
       "      <td>0</td>\n",
       "    </tr>\n",
       "    <tr>\n",
       "      <th>1</th>\n",
       "      <td>2</td>\n",
       "      <td>3</td>\n",
       "    </tr>\n",
       "    <tr>\n",
       "      <th>2</th>\n",
       "      <td>3</td>\n",
       "      <td>0</td>\n",
       "    </tr>\n",
       "    <tr>\n",
       "      <th>3</th>\n",
       "      <td>4</td>\n",
       "      <td>1</td>\n",
       "    </tr>\n",
       "    <tr>\n",
       "      <th>4</th>\n",
       "      <td>5</td>\n",
       "      <td>4</td>\n",
       "    </tr>\n",
       "  </tbody>\n",
       "</table>\n",
       "</div>"
      ],
      "text/plain": [
       "   Store  Cluster\n",
       "0      1        0\n",
       "1      2        3\n",
       "2      3        0\n",
       "3      4        1\n",
       "4      5        4"
      ]
     },
     "execution_count": 57,
     "metadata": {},
     "output_type": "execute_result"
    }
   ],
   "source": [
    "from sklearn.cluster import AgglomerativeClustering\n",
    "# Another split on 9 smaller clusters\n",
    "cluster = AgglomerativeClustering(n_clusters=9, affinity='euclidean', linkage='ward')\n",
    "cluster.fit_predict(data)\n",
    "pd.DataFrame(list(zip(df['Store'].values,cluster.labels_)),columns=['Store','Cluster']).head()"
   ]
  }
 ],
 "metadata": {
  "kernelspec": {
   "display_name": "Python 3",
   "language": "python",
   "name": "python3"
  },
  "language_info": {
   "codemirror_mode": {
    "name": "ipython",
    "version": 3
   },
   "file_extension": ".py",
   "mimetype": "text/x-python",
   "name": "python",
   "nbconvert_exporter": "python",
   "pygments_lexer": "ipython3",
   "version": "3.7.2"
  }
 },
 "nbformat": 4,
 "nbformat_minor": 2
}
