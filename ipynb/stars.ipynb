{
 "cells": [
  {
   "cell_type": "code",
   "execution_count": 1,
   "metadata": {},
   "outputs": [
    {
     "data": {
      "text/html": [
       "<div>\n",
       "<style scoped>\n",
       "    .dataframe tbody tr th:only-of-type {\n",
       "        vertical-align: middle;\n",
       "    }\n",
       "\n",
       "    .dataframe tbody tr th {\n",
       "        vertical-align: top;\n",
       "    }\n",
       "\n",
       "    .dataframe thead th {\n",
       "        text-align: right;\n",
       "    }\n",
       "</style>\n",
       "<table border=\"1\" class=\"dataframe\">\n",
       "  <thead>\n",
       "    <tr style=\"text-align: right;\">\n",
       "      <th></th>\n",
       "      <th>Activity</th>\n",
       "      <th>Country</th>\n",
       "      <th>X1</th>\n",
       "      <th>X2</th>\n",
       "      <th>X3</th>\n",
       "      <th>X4</th>\n",
       "      <th>X5</th>\n",
       "      <th>X6</th>\n",
       "      <th>X7</th>\n",
       "      <th>X8</th>\n",
       "      <th>...</th>\n",
       "      <th>X21</th>\n",
       "      <th>X22</th>\n",
       "      <th>X23</th>\n",
       "      <th>X24</th>\n",
       "      <th>X25</th>\n",
       "      <th>X26</th>\n",
       "      <th>X27</th>\n",
       "      <th>X28</th>\n",
       "      <th>X29</th>\n",
       "      <th>X30</th>\n",
       "    </tr>\n",
       "  </thead>\n",
       "  <tbody>\n",
       "    <tr>\n",
       "      <th>0</th>\n",
       "      <td>1</td>\n",
       "      <td>Tau</td>\n",
       "      <td>514.112825</td>\n",
       "      <td>280.127163</td>\n",
       "      <td>2043.219975</td>\n",
       "      <td>983.894190</td>\n",
       "      <td>62.264430</td>\n",
       "      <td>407.920959</td>\n",
       "      <td>873.090147</td>\n",
       "      <td>341.502421</td>\n",
       "      <td>...</td>\n",
       "      <td>51.039549</td>\n",
       "      <td>90.502279</td>\n",
       "      <td>794.425537</td>\n",
       "      <td>135.632398</td>\n",
       "      <td>605.175961</td>\n",
       "      <td>399.664283</td>\n",
       "      <td>309.623417</td>\n",
       "      <td>1438.193673</td>\n",
       "      <td>448.423683</td>\n",
       "      <td>1146.551728</td>\n",
       "    </tr>\n",
       "    <tr>\n",
       "      <th>1</th>\n",
       "      <td>1</td>\n",
       "      <td>Ofu</td>\n",
       "      <td>502.011480</td>\n",
       "      <td>367.139952</td>\n",
       "      <td>1578.241845</td>\n",
       "      <td>952.498432</td>\n",
       "      <td>153.040439</td>\n",
       "      <td>387.172971</td>\n",
       "      <td>868.124526</td>\n",
       "      <td>361.961562</td>\n",
       "      <td>...</td>\n",
       "      <td>0.000000</td>\n",
       "      <td>0.000000</td>\n",
       "      <td>0.000000</td>\n",
       "      <td>0.000000</td>\n",
       "      <td>0.000000</td>\n",
       "      <td>0.000000</td>\n",
       "      <td>0.000000</td>\n",
       "      <td>0.000000</td>\n",
       "      <td>0.000000</td>\n",
       "      <td>0.000000</td>\n",
       "    </tr>\n",
       "    <tr>\n",
       "      <th>2</th>\n",
       "      <td>1</td>\n",
       "      <td>Tau</td>\n",
       "      <td>553.445613</td>\n",
       "      <td>246.669667</td>\n",
       "      <td>1527.881591</td>\n",
       "      <td>1039.902223</td>\n",
       "      <td>32.232777</td>\n",
       "      <td>402.542573</td>\n",
       "      <td>801.059405</td>\n",
       "      <td>345.487249</td>\n",
       "      <td>...</td>\n",
       "      <td>0.000000</td>\n",
       "      <td>0.000000</td>\n",
       "      <td>0.000000</td>\n",
       "      <td>0.000000</td>\n",
       "      <td>0.000000</td>\n",
       "      <td>0.000000</td>\n",
       "      <td>0.000000</td>\n",
       "      <td>0.000000</td>\n",
       "      <td>0.000000</td>\n",
       "      <td>0.000000</td>\n",
       "    </tr>\n",
       "    <tr>\n",
       "      <th>3</th>\n",
       "      <td>1</td>\n",
       "      <td>Olosega</td>\n",
       "      <td>493.511261</td>\n",
       "      <td>304.343252</td>\n",
       "      <td>1671.436908</td>\n",
       "      <td>836.613718</td>\n",
       "      <td>132.190120</td>\n",
       "      <td>368.481594</td>\n",
       "      <td>861.582675</td>\n",
       "      <td>343.469353</td>\n",
       "      <td>...</td>\n",
       "      <td>0.000000</td>\n",
       "      <td>0.000000</td>\n",
       "      <td>0.000000</td>\n",
       "      <td>0.000000</td>\n",
       "      <td>0.000000</td>\n",
       "      <td>0.000000</td>\n",
       "      <td>0.000000</td>\n",
       "      <td>0.000000</td>\n",
       "      <td>0.000000</td>\n",
       "      <td>0.000000</td>\n",
       "    </tr>\n",
       "    <tr>\n",
       "      <th>4</th>\n",
       "      <td>0</td>\n",
       "      <td>Aunuu</td>\n",
       "      <td>482.213205</td>\n",
       "      <td>428.869497</td>\n",
       "      <td>1538.468529</td>\n",
       "      <td>943.415120</td>\n",
       "      <td>160.019777</td>\n",
       "      <td>369.085979</td>\n",
       "      <td>849.722321</td>\n",
       "      <td>343.343067</td>\n",
       "      <td>...</td>\n",
       "      <td>50.119562</td>\n",
       "      <td>133.679537</td>\n",
       "      <td>813.712626</td>\n",
       "      <td>88.676850</td>\n",
       "      <td>395.318535</td>\n",
       "      <td>333.471865</td>\n",
       "      <td>395.757204</td>\n",
       "      <td>1421.798388</td>\n",
       "      <td>440.439527</td>\n",
       "      <td>1344.631717</td>\n",
       "    </tr>\n",
       "  </tbody>\n",
       "</table>\n",
       "<p>5 rows × 32 columns</p>\n",
       "</div>"
      ],
      "text/plain": [
       "   Activity  Country          X1          X2           X3           X4  \\\n",
       "0         1      Tau  514.112825  280.127163  2043.219975   983.894190   \n",
       "1         1      Ofu  502.011480  367.139952  1578.241845   952.498432   \n",
       "2         1      Tau  553.445613  246.669667  1527.881591  1039.902223   \n",
       "3         1  Olosega  493.511261  304.343252  1671.436908   836.613718   \n",
       "4         0    Aunuu  482.213205  428.869497  1538.468529   943.415120   \n",
       "\n",
       "           X5          X6          X7          X8     ...             X21  \\\n",
       "0   62.264430  407.920959  873.090147  341.502421     ...       51.039549   \n",
       "1  153.040439  387.172971  868.124526  361.961562     ...        0.000000   \n",
       "2   32.232777  402.542573  801.059405  345.487249     ...        0.000000   \n",
       "3  132.190120  368.481594  861.582675  343.469353     ...        0.000000   \n",
       "4  160.019777  369.085979  849.722321  343.343067     ...       50.119562   \n",
       "\n",
       "          X22         X23         X24         X25         X26         X27  \\\n",
       "0   90.502279  794.425537  135.632398  605.175961  399.664283  309.623417   \n",
       "1    0.000000    0.000000    0.000000    0.000000    0.000000    0.000000   \n",
       "2    0.000000    0.000000    0.000000    0.000000    0.000000    0.000000   \n",
       "3    0.000000    0.000000    0.000000    0.000000    0.000000    0.000000   \n",
       "4  133.679537  813.712626   88.676850  395.318535  333.471865  395.757204   \n",
       "\n",
       "           X28         X29          X30  \n",
       "0  1438.193673  448.423683  1146.551728  \n",
       "1     0.000000    0.000000     0.000000  \n",
       "2     0.000000    0.000000     0.000000  \n",
       "3     0.000000    0.000000     0.000000  \n",
       "4  1421.798388  440.439527  1344.631717  \n",
       "\n",
       "[5 rows x 32 columns]"
      ]
     },
     "execution_count": 1,
     "metadata": {},
     "output_type": "execute_result"
    }
   ],
   "source": [
    "import pandas as pd\n",
    "import statsmodels.stats.api as sms\n",
    "df = pd.read_csv('/home/truename/Downloads/Test_Data.csv')\n",
    "df.head()"
   ]
  },
  {
   "cell_type": "markdown",
   "metadata": {},
   "source": [
    "    A. Calculate the mean and 95% confidence interval for X2."
   ]
  },
  {
   "cell_type": "code",
   "execution_count": 2,
   "metadata": {},
   "outputs": [
    {
     "name": "stdout",
     "output_type": "stream",
     "text": [
      "Mean and 95% confidence interval for X2 are 312.0242487496403 and (310.47165323060443, 313.57684426867564)\n"
     ]
    }
   ],
   "source": [
    "conf = sms.DescrStatsW(df.X2).tconfint_mean()\n",
    "print(f'Mean and 95% confidence interval for X2 are {df.X2.mean()} and {conf}')"
   ]
  },
  {
   "cell_type": "markdown",
   "metadata": {},
   "source": [
    "B. Provide a histogram plot of X5 and describe the distribution."
   ]
  },
  {
   "cell_type": "code",
   "execution_count": 4,
   "metadata": {},
   "outputs": [
    {
     "data": {
      "image/png": "[encoded data removed]",
      "text/plain": [
       "<Figure size 432x288 with 1 Axes>"
      ]
     },
     "metadata": {
      "needs_background": "light"
     },
     "output_type": "display_data"
    }
   ],
   "source": [
    "df.X5.hist(bins = 50);"
   ]
  },
  {
   "cell_type": "markdown",
   "metadata": {},
   "source": [
    "C. Identify the missing values (column names + indices)."
   ]
  },
  {
   "cell_type": "code",
   "execution_count": 5,
   "metadata": {},
   "outputs": [
    {
     "data": {
      "text/plain": [
       "[('X3', [2345, 4194, 4798]),\n",
       " ('X7', [2345, 4194, 4798]),\n",
       " ('X9', [2345, 4194, 4798])]"
      ]
     },
     "execution_count": 5,
     "metadata": {},
     "output_type": "execute_result"
    }
   ],
   "source": [
    "null_cols = list(df.isnull().sum(axis=0)[df.isnull().sum(axis=0)>0].index)\n",
    "[(col, list(df.X3[df.X3.isnull()].index)) for col in null_cols]"
   ]
  },
  {
   "cell_type": "markdown",
   "metadata": {},
   "source": [
    "D. Replace the ‘Country’ column with dummy variables"
   ]
  },
  {
   "cell_type": "code",
   "execution_count": 6,
   "metadata": {},
   "outputs": [
    {
     "data": {
      "text/plain": [
       "Tau        1500\n",
       "Ofu        1271\n",
       "Olosega    1238\n",
       "Aunuu       991\n",
       "Name: Country, dtype: int64"
      ]
     },
     "execution_count": 6,
     "metadata": {},
     "output_type": "execute_result"
    }
   ],
   "source": [
    "df.Country.value_counts()"
   ]
  },
  {
   "cell_type": "code",
   "execution_count": 7,
   "metadata": {},
   "outputs": [
    {
     "data": {
      "text/html": [
       "<div>\n",
       "<style scoped>\n",
       "    .dataframe tbody tr th:only-of-type {\n",
       "        vertical-align: middle;\n",
       "    }\n",
       "\n",
       "    .dataframe tbody tr th {\n",
       "        vertical-align: top;\n",
       "    }\n",
       "\n",
       "    .dataframe thead th {\n",
       "        text-align: right;\n",
       "    }\n",
       "</style>\n",
       "<table border=\"1\" class=\"dataframe\">\n",
       "  <thead>\n",
       "    <tr style=\"text-align: right;\">\n",
       "      <th></th>\n",
       "      <th>Activity</th>\n",
       "      <th>Country</th>\n",
       "      <th>X1</th>\n",
       "      <th>X2</th>\n",
       "      <th>X3</th>\n",
       "      <th>X4</th>\n",
       "      <th>X5</th>\n",
       "      <th>X6</th>\n",
       "      <th>X7</th>\n",
       "      <th>X8</th>\n",
       "      <th>...</th>\n",
       "      <th>X26</th>\n",
       "      <th>X27</th>\n",
       "      <th>X28</th>\n",
       "      <th>X29</th>\n",
       "      <th>X30</th>\n",
       "      <th>cntry_Aunuu</th>\n",
       "      <th>cntry_Ofu</th>\n",
       "      <th>cntry_Olosega</th>\n",
       "      <th>cntry_Tau</th>\n",
       "      <th>cntry_nan</th>\n",
       "    </tr>\n",
       "  </thead>\n",
       "  <tbody>\n",
       "    <tr>\n",
       "      <th>0</th>\n",
       "      <td>1</td>\n",
       "      <td>Tau</td>\n",
       "      <td>514.112825</td>\n",
       "      <td>280.127163</td>\n",
       "      <td>2043.219975</td>\n",
       "      <td>983.894190</td>\n",
       "      <td>62.264430</td>\n",
       "      <td>407.920959</td>\n",
       "      <td>873.090147</td>\n",
       "      <td>341.502421</td>\n",
       "      <td>...</td>\n",
       "      <td>399.664283</td>\n",
       "      <td>309.623417</td>\n",
       "      <td>1438.193673</td>\n",
       "      <td>448.423683</td>\n",
       "      <td>1146.551728</td>\n",
       "      <td>0</td>\n",
       "      <td>0</td>\n",
       "      <td>0</td>\n",
       "      <td>1</td>\n",
       "      <td>0</td>\n",
       "    </tr>\n",
       "    <tr>\n",
       "      <th>1</th>\n",
       "      <td>1</td>\n",
       "      <td>Ofu</td>\n",
       "      <td>502.011480</td>\n",
       "      <td>367.139952</td>\n",
       "      <td>1578.241845</td>\n",
       "      <td>952.498432</td>\n",
       "      <td>153.040439</td>\n",
       "      <td>387.172971</td>\n",
       "      <td>868.124526</td>\n",
       "      <td>361.961562</td>\n",
       "      <td>...</td>\n",
       "      <td>0.000000</td>\n",
       "      <td>0.000000</td>\n",
       "      <td>0.000000</td>\n",
       "      <td>0.000000</td>\n",
       "      <td>0.000000</td>\n",
       "      <td>0</td>\n",
       "      <td>1</td>\n",
       "      <td>0</td>\n",
       "      <td>0</td>\n",
       "      <td>0</td>\n",
       "    </tr>\n",
       "    <tr>\n",
       "      <th>2</th>\n",
       "      <td>1</td>\n",
       "      <td>Tau</td>\n",
       "      <td>553.445613</td>\n",
       "      <td>246.669667</td>\n",
       "      <td>1527.881591</td>\n",
       "      <td>1039.902223</td>\n",
       "      <td>32.232777</td>\n",
       "      <td>402.542573</td>\n",
       "      <td>801.059405</td>\n",
       "      <td>345.487249</td>\n",
       "      <td>...</td>\n",
       "      <td>0.000000</td>\n",
       "      <td>0.000000</td>\n",
       "      <td>0.000000</td>\n",
       "      <td>0.000000</td>\n",
       "      <td>0.000000</td>\n",
       "      <td>0</td>\n",
       "      <td>0</td>\n",
       "      <td>0</td>\n",
       "      <td>1</td>\n",
       "      <td>0</td>\n",
       "    </tr>\n",
       "    <tr>\n",
       "      <th>3</th>\n",
       "      <td>1</td>\n",
       "      <td>Olosega</td>\n",
       "      <td>493.511261</td>\n",
       "      <td>304.343252</td>\n",
       "      <td>1671.436908</td>\n",
       "      <td>836.613718</td>\n",
       "      <td>132.190120</td>\n",
       "      <td>368.481594</td>\n",
       "      <td>861.582675</td>\n",
       "      <td>343.469353</td>\n",
       "      <td>...</td>\n",
       "      <td>0.000000</td>\n",
       "      <td>0.000000</td>\n",
       "      <td>0.000000</td>\n",
       "      <td>0.000000</td>\n",
       "      <td>0.000000</td>\n",
       "      <td>0</td>\n",
       "      <td>0</td>\n",
       "      <td>1</td>\n",
       "      <td>0</td>\n",
       "      <td>0</td>\n",
       "    </tr>\n",
       "    <tr>\n",
       "      <th>4</th>\n",
       "      <td>0</td>\n",
       "      <td>Aunuu</td>\n",
       "      <td>482.213205</td>\n",
       "      <td>428.869497</td>\n",
       "      <td>1538.468529</td>\n",
       "      <td>943.415120</td>\n",
       "      <td>160.019777</td>\n",
       "      <td>369.085979</td>\n",
       "      <td>849.722321</td>\n",
       "      <td>343.343067</td>\n",
       "      <td>...</td>\n",
       "      <td>333.471865</td>\n",
       "      <td>395.757204</td>\n",
       "      <td>1421.798388</td>\n",
       "      <td>440.439527</td>\n",
       "      <td>1344.631717</td>\n",
       "      <td>1</td>\n",
       "      <td>0</td>\n",
       "      <td>0</td>\n",
       "      <td>0</td>\n",
       "      <td>0</td>\n",
       "    </tr>\n",
       "  </tbody>\n",
       "</table>\n",
       "<p>5 rows × 37 columns</p>\n",
       "</div>"
      ],
      "text/plain": [
       "   Activity  Country          X1          X2           X3           X4  \\\n",
       "0         1      Tau  514.112825  280.127163  2043.219975   983.894190   \n",
       "1         1      Ofu  502.011480  367.139952  1578.241845   952.498432   \n",
       "2         1      Tau  553.445613  246.669667  1527.881591  1039.902223   \n",
       "3         1  Olosega  493.511261  304.343252  1671.436908   836.613718   \n",
       "4         0    Aunuu  482.213205  428.869497  1538.468529   943.415120   \n",
       "\n",
       "           X5          X6          X7          X8    ...             X26  \\\n",
       "0   62.264430  407.920959  873.090147  341.502421    ...      399.664283   \n",
       "1  153.040439  387.172971  868.124526  361.961562    ...        0.000000   \n",
       "2   32.232777  402.542573  801.059405  345.487249    ...        0.000000   \n",
       "3  132.190120  368.481594  861.582675  343.469353    ...        0.000000   \n",
       "4  160.019777  369.085979  849.722321  343.343067    ...      333.471865   \n",
       "\n",
       "          X27          X28         X29          X30  cntry_Aunuu  cntry_Ofu  \\\n",
       "0  309.623417  1438.193673  448.423683  1146.551728            0          0   \n",
       "1    0.000000     0.000000    0.000000     0.000000            0          1   \n",
       "2    0.000000     0.000000    0.000000     0.000000            0          0   \n",
       "3    0.000000     0.000000    0.000000     0.000000            0          0   \n",
       "4  395.757204  1421.798388  440.439527  1344.631717            1          0   \n",
       "\n",
       "   cntry_Olosega  cntry_Tau  cntry_nan  \n",
       "0              0          1          0  \n",
       "1              0          0          0  \n",
       "2              0          1          0  \n",
       "3              1          0          0  \n",
       "4              0          0          0  \n",
       "\n",
       "[5 rows x 37 columns]"
      ]
     },
     "execution_count": 7,
     "metadata": {},
     "output_type": "execute_result"
    }
   ],
   "source": [
    "df = pd.concat([df,pd.get_dummies(df['Country'], prefix='cntry',dummy_na=True)],axis=1)\n",
    "df.head()"
   ]
  },
  {
   "cell_type": "code",
   "execution_count": 8,
   "metadata": {},
   "outputs": [
    {
     "data": {
      "text/plain": [
       "Series([], Name: cntry_nan, dtype: uint8)"
      ]
     },
     "execution_count": 8,
     "metadata": {},
     "output_type": "execute_result"
    }
   ],
   "source": [
    "df.cntry_nan[df.cntry_nan>0]"
   ]
  },
  {
   "cell_type": "markdown",
   "metadata": {},
   "source": [
    "E. Provide a function that takes an integer and outputs ‘Poker’ if divisible by 3, ‘Stars’ if divisible by 5, and ’Pokerstars’ otherwise."
   ]
  },
  {
   "cell_type": "code",
   "execution_count": 9,
   "metadata": {},
   "outputs": [],
   "source": [
    " def test_game(n):\n",
    "    if n % 3 == 0:\n",
    "        return 'Poker'\n",
    "    if n % 5 == 0:\n",
    "        return 'Stars'\n",
    "    return 'Pokerstars'"
   ]
  },
  {
   "cell_type": "code",
   "execution_count": 10,
   "metadata": {},
   "outputs": [
    {
     "name": "stdout",
     "output_type": "stream",
     "text": [
      "Stars\n"
     ]
    }
   ],
   "source": [
    "print(test_game(10))"
   ]
  }
 ],
 "metadata": {
  "kernelspec": {
   "display_name": "Python 3",
   "language": "python",
   "name": "python3"
  },
  "language_info": {
   "codemirror_mode": {
    "name": "ipython",
    "version": 3
   },
   "file_extension": ".py",
   "mimetype": "text/x-python",
   "name": "python",
   "nbconvert_exporter": "python",
   "pygments_lexer": "ipython3",
   "version": "3.7.2"
  }
 },
 "nbformat": 4,
 "nbformat_minor": 2
}
