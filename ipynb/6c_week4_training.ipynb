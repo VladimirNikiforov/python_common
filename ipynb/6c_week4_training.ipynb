{
 "cells": [
  {
   "cell_type": "markdown",
   "metadata": {},
   "source": [
    "<center>\n",
    "<img src=\"https://habrastorage.org/web/677/8e1/337/6778e1337c3d4b159d7e99df94227cb2.jpg\"/>\n",
    "## Специализация \"Машинное обучение и анализ данных\"\n",
    "</center>\n",
    "<center>Автор материала: программист-исследователь Mail.ru Group, старший преподаватель Факультета Компьютерных Наук ВШЭ Юрий Кашницкий"
   ]
  },
  {
   "cell_type": "markdown",
   "metadata": {},
   "source": [
    "# <center> Capstone проект №1. Идентификация пользователей по посещенным веб-страницам\n",
    "<img src='http://i.istockimg.com/file_thumbview_approve/21546327/5/stock-illustration-21546327-identification-de-l-utilisateur.jpg'>\n",
    "\n",
    "# <center>Неделя 4.  Сравнение алгоритмов классификации\n",
    "\n",
    "Теперь мы наконец подойдем к обучению моделей классификации, сравним на кросс-валидации несколько алгоритмов, разберемся, какие параметры длины сессии (*session_length* и *window_size*) лучше использовать. Также для выбранного алгоритма построим кривые валидации (как качество классификации зависит от одного из гиперпараметров алгоритма) и кривые обучения (как качество классификации зависит от объема выборки).\n",
    "\n",
    "**План 4 недели:**\n",
    "- Часть 1. Сравнение нескольких алгоритмов на сессиях из 10 сайтов\n",
    "- Часть 2. Выбор параметров – длины сессии и ширины окна\n",
    "- Часть 3. Идентификация  конкретного пользователя и кривые обучения\n",
    " \n",
    "\n",
    "\n",
    "**В этой части проекта Вам могут быть полезны видеозаписи следующих лекций курса \"Обучение на размеченных данных\":**\n",
    "   - [Линейная классификация](https://www.coursera.org/learn/supervised-learning/lecture/jqLcO/linieinaia-klassifikatsiia)\n",
    "   - [Сравнение алгоритмов и выбор гиперпараметров](https://www.coursera.org/learn/supervised-learning/lecture/aF79U/sravnieniie-alghoritmov-i-vybor-ghipierparamietrov)\n",
    "   - [Кросс-валидация. Sklearn.cross_validation](https://www.coursera.org/learn/supervised-learning/lecture/XbHEk/kross-validatsiia-sklearn-cross-validation)\n",
    "   - [Линейные модели. Sklearn.linear_model. Классификация](https://www.coursera.org/learn/supervised-learning/lecture/EBg9t/linieinyie-modieli-sklearn-linear-model-klassifikatsiia)\n",
    "   - и многие другие\n"
   ]
  },
  {
   "cell_type": "code",
   "execution_count": 179,
   "metadata": {
    "collapsed": true
   },
   "outputs": [],
   "source": [
    "from __future__ import division, print_function\n",
    "# отключим всякие предупреждения Anaconda\n",
    "import warnings\n",
    "warnings.filterwarnings('ignore')\n",
    "from time import time\n",
    "import datetime\n",
    "import itertools\n",
    "import os\n",
    "import numpy as np\n",
    "import pandas as pd\n",
    "import seaborn as sns\n",
    "%matplotlib inline\n",
    "from matplotlib import pyplot as plt\n",
    "import pickle\n",
    "from scipy.sparse import csr_matrix\n",
    "from sklearn.model_selection import train_test_split, cross_val_score, StratifiedKFold, GridSearchCV\n",
    "from sklearn.metrics import accuracy_score, f1_score, make_scorer"
   ]
  },
  {
   "cell_type": "code",
   "execution_count": 2,
   "metadata": {
    "collapsed": true
   },
   "outputs": [],
   "source": [
    "# Поменяйте на свой путь к данным\n",
    "PATH_TO_DATA = ('/home/truename/Documents/capstone_user_identification')"
   ]
  },
  {
   "cell_type": "markdown",
   "metadata": {},
   "source": [
    "## Часть 1. Сравнение нескольких алгоритмов на сессиях из 10 сайтов"
   ]
  },
  {
   "cell_type": "markdown",
   "metadata": {},
   "source": [
    "**Загрузим сериализованные ранее объекты *X_sparse_10users* и *y_10users*, соответствующие обучающей выборке для 10 пользователей.**"
   ]
  },
  {
   "cell_type": "code",
   "execution_count": 4,
   "metadata": {
    "collapsed": true
   },
   "outputs": [],
   "source": [
    "with open(os.path.join(PATH_TO_DATA, \n",
    "         'X_sparse_10users.pkl'), 'rb') as X_sparse_10users_pkl:\n",
    "    X_sparse_10users = pickle.load(X_sparse_10users_pkl)\n",
    "with open(os.path.join(PATH_TO_DATA, \n",
    "                       'y_10users.pkl'), 'rb') as y_10users_pkl:\n",
    "    y_10users = pickle.load(y_10users_pkl)"
   ]
  },
  {
   "cell_type": "markdown",
   "metadata": {},
   "source": [
    "**Здесь более 14 тысяч сессий и почти 5 тысяч уникальных посещенных сайтов.**"
   ]
  },
  {
   "cell_type": "code",
   "execution_count": 5,
   "metadata": {},
   "outputs": [
    {
     "data": {
      "text/plain": [
       "(14061, 4913)"
      ]
     },
     "execution_count": 5,
     "metadata": {},
     "output_type": "execute_result"
    }
   ],
   "source": [
    "X_sparse_10users.shape"
   ]
  },
  {
   "cell_type": "markdown",
   "metadata": {},
   "source": [
    "**Разобьем выборку на 2 части. На одной будем проводить кросс-валидацию, на второй – оценивать модель, обученную после кросс-валидации.**"
   ]
  },
  {
   "cell_type": "code",
   "execution_count": 6,
   "metadata": {
    "collapsed": true
   },
   "outputs": [],
   "source": [
    "X_train, X_valid, y_train, y_valid = train_test_split(X_sparse_10users, y_10users, \n",
    "                                                      test_size=0.3, \n",
    "                                                     random_state=17, stratify=y_10users)"
   ]
  },
  {
   "cell_type": "markdown",
   "metadata": {},
   "source": [
    "**Зададим заранее тип кросс-валидации: 3-кратная, с перемешиванием, параметр random_state=17 – для воспроизводимости.**"
   ]
  },
  {
   "cell_type": "code",
   "execution_count": 7,
   "metadata": {
    "collapsed": true
   },
   "outputs": [],
   "source": [
    "skf = StratifiedKFold(n_splits=3, shuffle=True, random_state=17)"
   ]
  },
  {
   "cell_type": "markdown",
   "metadata": {},
   "source": [
    "**Вспомогательная функция для отрисовки кривых валидации после запуска GridSearchCV (или RandomizedCV).**"
   ]
  },
  {
   "cell_type": "code",
   "execution_count": 8,
   "metadata": {
    "collapsed": true
   },
   "outputs": [],
   "source": [
    "def plot_validation_curves(param_values, grid_cv_results_):\n",
    "    train_mu, train_std = grid_cv_results_['mean_train_score'], grid_cv_results_['std_train_score']\n",
    "    valid_mu, valid_std = grid_cv_results_['mean_test_score'], grid_cv_results_['std_test_score']\n",
    "    train_line = plt.plot(param_values, train_mu, '-', label='train', color='green')\n",
    "    valid_line = plt.plot(param_values, valid_mu, '-', label='test', color='red')\n",
    "    plt.fill_between(param_values, train_mu - train_std, train_mu + train_std, edgecolor='none',\n",
    "                     facecolor=train_line[0].get_color(), alpha=0.2)\n",
    "    plt.fill_between(param_values, valid_mu - valid_std, valid_mu + valid_std, edgecolor='none',\n",
    "                     facecolor=valid_line[0].get_color(), alpha=0.2)\n",
    "    plt.legend()"
   ]
  },
  {
   "cell_type": "code",
   "execution_count": 4,
   "metadata": {
    "collapsed": true
   },
   "outputs": [],
   "source": [
    "def write_answer_to_file(answer, file_address):\n",
    "    with open(file_address, 'w') as out_f:\n",
    "        out_f.write(str(answer))"
   ]
  },
  {
   "cell_type": "markdown",
   "metadata": {},
   "source": [
    "**1. Обучите `KNeighborsClassifier` со 100 ближайшими соседями (остальные параметры оставьте по умолчанию, только `n_jobs`=-1 для распараллеливания) и посмотрите на долю правильных ответов на 3-кратной кросс-валидации (ради воспроизводимости используйте для этого объект `StratifiedKFold` `skf`) по выборке `(X_train, y_train)` и отдельно на выборке `(X_valid, y_valid)`.**"
   ]
  },
  {
   "cell_type": "code",
   "execution_count": 10,
   "metadata": {
    "collapsed": true
   },
   "outputs": [],
   "source": [
    "from sklearn.neighbors import KNeighborsClassifier"
   ]
  },
  {
   "cell_type": "code",
   "execution_count": 11,
   "metadata": {
    "collapsed": true
   },
   "outputs": [],
   "source": [
    "knn = KNeighborsClassifier(n_neighbors=100, n_jobs=-1)"
   ]
  },
  {
   "cell_type": "code",
   "execution_count": 40,
   "metadata": {},
   "outputs": [
    {
     "name": "stdout",
     "output_type": "stream",
     "text": [
      "[ 0.55951294  0.568466    0.55643685] Accuracy train: 0.561 (*/- 0.010)\n",
      "Accuracy train: 0.585\n"
     ]
    }
   ],
   "source": [
    "scores_train = cross_val_score(knn, X_train, y_train, cv=skf, scoring='accuracy')\n",
    "print(scores_train,\"Accuracy train: %0.3f (*/- %0.3f)\" % (scores_train.mean(), scores_train.std()* 2))\n",
    "knn.fit(X_train,y_train)\n",
    "y_predicted = knn.predict(X_valid)\n",
    "knn_accuracy = accuracy_score(y_valid, y_predicted)\n",
    "print(\"Accuracy train: %0.3f\" % knn_accuracy)"
   ]
  },
  {
   "cell_type": "markdown",
   "metadata": {},
   "source": [
    "**Запишите в файл *answer4_1.txt* доли правильных ответов для KNeighborsClassifier на кросс-валидации и отложенной выборке. Округлите каждое до 3 знаков после запятой и запишите в файл через пробел.**"
   ]
  },
  {
   "cell_type": "code",
   "execution_count": 39,
   "metadata": {
    "collapsed": true
   },
   "outputs": [],
   "source": [
    "write_answer_to_file(\"0.561 0.585\",\n",
    "                     'answer4_1.txt')"
   ]
  },
  {
   "cell_type": "markdown",
   "metadata": {},
   "source": [
    "**2. Обучите случайный лес (`RandomForestClassifier`) из 100 деревьев (для воспроизводимости `random_state`=17). Посмотрите на OOB-оценку (для этого надо сразу установить `oob_score`=True) и на долю правильных ответов на выборке `(X_valid, y_valid)`. Для распараллеливания задайте `n_jobs`=-1.**"
   ]
  },
  {
   "cell_type": "code",
   "execution_count": 19,
   "metadata": {
    "collapsed": true
   },
   "outputs": [],
   "source": [
    "from sklearn.ensemble import RandomForestClassifier"
   ]
  },
  {
   "cell_type": "code",
   "execution_count": 21,
   "metadata": {
    "collapsed": true
   },
   "outputs": [],
   "source": [
    "forest = RandomForestClassifier(n_estimators=100, oob_score=True, n_jobs=-1, random_state=17)"
   ]
  },
  {
   "cell_type": "code",
   "execution_count": 91,
   "metadata": {},
   "outputs": [
    {
     "name": "stdout",
     "output_type": "stream",
     "text": [
      "0.724141434668\n",
      "Accuracy valid: 0.73714\n"
     ]
    }
   ],
   "source": [
    "scorer = make_scorer(accuracy_score)\n",
    "scores_train = cross_val_score(forest, X_train, y_train, cv=skf, scoring = scorer)\n",
    "#print(scores_train,\"Accuracy train: %0.3f (*/- %0.3f)\" % (scores_train.mean(), scores_train.std()* 2))\n",
    "\n",
    "forest.fit(X_train,y_train)\n",
    "print(forest.oob_score_)\n",
    "y_predicted = forest.predict(X_valid)\n",
    "forest_accuracy = accuracy_score(y_valid, y_predicted)\n",
    "print(\"Accuracy valid: %0.5f\" % forest_accuracy)"
   ]
  },
  {
   "cell_type": "markdown",
   "metadata": {},
   "source": [
    "**Запишите в файл *answer4_2.txt* доли правильных ответов для `RandomForestClassifier` при Out-of-Bag оценке на и отложенной выборке. Округлите каждое до 3 знаков после запятой и запишите в файл через пробел.**"
   ]
  },
  {
   "cell_type": "code",
   "execution_count": 90,
   "metadata": {
    "collapsed": true
   },
   "outputs": [],
   "source": [
    "write_answer_to_file(\"0.724 0.737\",\n",
    "                     'answer4_2.txt')"
   ]
  },
  {
   "cell_type": "code",
   "execution_count": 92,
   "metadata": {},
   "outputs": [
    {
     "name": "stdout",
     "output_type": "stream",
     "text": [
      "0.724 0.737"
     ]
    }
   ],
   "source": [
    "!cat answer4_2.txt"
   ]
  },
  {
   "cell_type": "markdown",
   "metadata": {},
   "source": [
    "**3. Обучите логистическую регрессию (`LogisticRegression`) с параметром `C` по умолчанию и `random_state`=17 (для воспроизводимости). Посмотрите на долю правильных ответов на кросс-валидации (используйте объект `skf`, созданный ранее) и на выборке `(X_valid, y_valid)`. Для распараллеливания задайте `n_jobs=-1`.**"
   ]
  },
  {
   "cell_type": "code",
   "execution_count": 93,
   "metadata": {
    "collapsed": true
   },
   "outputs": [],
   "source": [
    "from sklearn.linear_model import LogisticRegression, LogisticRegressionCV"
   ]
  },
  {
   "cell_type": "code",
   "execution_count": 94,
   "metadata": {
    "collapsed": true
   },
   "outputs": [],
   "source": [
    "logit = LogisticRegression(random_state=17, n_jobs=-1)"
   ]
  },
  {
   "cell_type": "code",
   "execution_count": 95,
   "metadata": {},
   "outputs": [
    {
     "name": "stdout",
     "output_type": "stream",
     "text": [
      "[ 0.75494673  0.76913693  0.75716901] Accuracy train: 0.760 (*/- 0.012)\n",
      "Accuracy train: 0.782\n"
     ]
    }
   ],
   "source": [
    "scores_train = cross_val_score(logit, X_train, y_train, cv=skf)\n",
    "print(scores_train,\"Accuracy train: %0.3f (*/- %0.3f)\" % (scores_train.mean(), scores_train.std()* 2))\n",
    "logit.fit(X_train,y_train)\n",
    "y_predicted = logit.predict(X_valid)\n",
    "logit_accuracy = accuracy_score(y_valid, y_predicted)\n",
    "print(\"Accuracy train: %0.3f\" % logit_accuracy)"
   ]
  },
  {
   "cell_type": "markdown",
   "metadata": {},
   "source": [
    "**Почитайте документацию к [LogisticRegressionCV](http://scikit-learn.org/stable/modules/generated/sklearn.linear_model.LogisticRegressionCV.html). Логистическая регрессия хорошо изучена, и для нее существуют алгоритмы быстрого подбора параметра регуляризации `C` (быстрее, чем с `GridSearchCV`).**\n",
    "\n",
    "**С помощью `LogisticRegressionCV` подберите параметр `C` для `LogisticRegression` сначала в широком диапазоне: 10 значений от 1e-4 до 1e2, используйте `logspace` из `NumPy`. Укажите у `LogisticRegressionCV` параметры `multi_class`='multinomial' и `random_state`=17. Для кросс-валидации используйте объект `skf`, созданный ранее. Для распараллеливания задайте `n_jobs=-1`.**\n",
    "\n",
    "**Нарисуйте кривые валидации по параметру `C`.**"
   ]
  },
  {
   "cell_type": "code",
   "execution_count": 114,
   "metadata": {},
   "outputs": [
    {
     "data": {
      "text/plain": [
       "array([  1.00000000e-04,   1.66810054e-03,   2.78255940e-02,\n",
       "         4.64158883e-01,   7.74263683e+00,   1.29154967e+02,\n",
       "         2.15443469e+03,   3.59381366e+04,   5.99484250e+05,\n",
       "         1.00000000e+07])"
      ]
     },
     "execution_count": 114,
     "metadata": {},
     "output_type": "execute_result"
    }
   ],
   "source": [
    "np.logspace(-4, 7, 10)"
   ]
  },
  {
   "cell_type": "code",
   "execution_count": 115,
   "metadata": {},
   "outputs": [
    {
     "name": "stderr",
     "output_type": "stream",
     "text": [
      "[Parallel(n_jobs=-1)]: Done   3 out of   3 | elapsed:   15.0s finished\n"
     ]
    },
    {
     "name": "stdout",
     "output_type": "stream",
     "text": [
      "CPU times: user 1.69 s, sys: 652 ms, total: 2.34 s\n",
      "Wall time: 16.7 s\n"
     ]
    }
   ],
   "source": [
    "%%time\n",
    "logit_c_values1 = np.logspace(-4, 7, 10)\n",
    "\n",
    "logit_grid_searcher1 = LogisticRegressionCV(Cs=logit_c_values1, cv = skf, verbose=1, n_jobs=-1, multi_class='multinomial', random_state=17)\n",
    "#logit_grid_searcher1 = LogisticRegressionCV(n_jobs=-1, multi_class='multinomial', random_state=17)\n",
    "logit_grid_searcher1.fit(X_train, y_train)\n",
    "\n",
    "\n",
    "#logit_searcher = LogisticRegressionCV(Cs=c_values, cv=skf, verbose=1, n_jobs=-1)\n",
    "#logit_searcher.fit(X_poly, y)"
   ]
  },
  {
   "cell_type": "code",
   "execution_count": 122,
   "metadata": {},
   "outputs": [
    {
     "data": {
      "text/plain": [
       "3"
      ]
     },
     "execution_count": 122,
     "metadata": {},
     "output_type": "execute_result"
    }
   ],
   "source": [
    "#[value for key, value in logit_grid_searcher1.scores_.items()]\n",
    "logit_grid_searcher1.scores_[1].mean(axis=0).argmax()\n",
    "#print(np.count_nonzero(logit_grid_searcher1.coef_))  # 20 non-zero coefficients\n",
    "\n",
    "# check which value of C was selected\n",
    "#print(logit_grid_searcher1.C_)  # [ 0.01]\n",
    "#logit_grid_searcher1.score(X_train, y_train)\n",
    "\n",
    "# compare lr_cv.coef_ to lr_01.coef_\n",
    "#print(logit_grid_searcher1.coef_)"
   ]
  },
  {
   "cell_type": "code",
   "execution_count": 32,
   "metadata": {},
   "outputs": [
    {
     "data": {
      "text/plain": [
       "array([ 0.75251142,  0.76913693,  0.75472849])"
      ]
     },
     "execution_count": 32,
     "metadata": {},
     "output_type": "execute_result"
    }
   ],
   "source": [
    "cross_val_score(logit_grid_searcher1, X_train, y_train, cv=skf)"
   ]
  },
  {
   "cell_type": "markdown",
   "metadata": {},
   "source": [
    "Средние значения доли правильных ответов на кросс-валидации по каждому из 10 параметров `C`."
   ]
  },
  {
   "cell_type": "code",
   "execution_count": 136,
   "metadata": {},
   "outputs": [
    {
     "data": {
      "text/plain": [
       "array([ 0.31822225,  0.53444626,  0.69498648,  0.75868973,  0.75625417,\n",
       "        0.74446876,  0.74193102,  0.7390844 ,  0.73898358,  0.73715499])"
      ]
     },
     "execution_count": 136,
     "metadata": {},
     "output_type": "execute_result"
    }
   ],
   "source": [
    "logit_mean_cv_scores1 = [logit_grid_searcher1.scores_[s].mean(axis=0) for s in logit_grid_searcher1.scores_][1]\n",
    "logit_mean_cv_scores1"
   ]
  },
  {
   "cell_type": "markdown",
   "metadata": {},
   "source": [
    "Выведите лучшее значение доли правильных ответов на кросс-валидации и соответствующее значение `C`."
   ]
  },
  {
   "cell_type": "code",
   "execution_count": 137,
   "metadata": {},
   "outputs": [
    {
     "name": "stdout",
     "output_type": "stream",
     "text": [
      "0.758689725398 3\n"
     ]
    }
   ],
   "source": [
    "print(logit_mean_cv_scores1.max(),logit_mean_cv_scores1.argmax())"
   ]
  },
  {
   "cell_type": "markdown",
   "metadata": {},
   "source": [
    "Нарисуйте график зависимости доли правильных ответов на кросс-валидации от `C`."
   ]
  },
  {
   "cell_type": "code",
   "execution_count": 138,
   "metadata": {},
   "outputs": [
    {
     "data": {
      "image/png": "[encoded data removed]",
      "text/plain": [
       "<matplotlib.figure.Figure at 0x7feb85876e90>"
      ]
     },
     "metadata": {},
     "output_type": "display_data"
    }
   ],
   "source": [
    "plt.plot(logit_c_values1, logit_mean_cv_scores1);"
   ]
  },
  {
   "cell_type": "markdown",
   "metadata": {},
   "source": [
    "**Теперь то же самое, только значения параметра `C` перебирайте в диапазоне `np.linspace`(3, 7, 20). Опять нарисуйте кривые валидации, определите максимальное значение доли правильных ответов на кросс-валидации.**"
   ]
  },
  {
   "cell_type": "code",
   "execution_count": 143,
   "metadata": {},
   "outputs": [
    {
     "name": "stdout",
     "output_type": "stream",
     "text": [
      "CPU times: user 1.95 s, sys: 672 ms, total: 2.62 s\n",
      "Wall time: 39.6 s\n"
     ]
    }
   ],
   "source": [
    "%%time\n",
    "logit_c_values2 = np.linspace(3, 7, 20)\n",
    "\n",
    "logit_grid_searcher2 = LogisticRegressionCV(Cs=logit_c_values2, cv = skf, n_jobs=-1, multi_class='multinomial', random_state=17)\n",
    "logit_grid_searcher2.fit(X_train, y_train)"
   ]
  },
  {
   "cell_type": "markdown",
   "metadata": {},
   "source": [
    "Средние значения доли правильных ответов на кросс-валидации по каждому из 10 параметров `C`."
   ]
  },
  {
   "cell_type": "code",
   "execution_count": 144,
   "metadata": {},
   "outputs": [
    {
     "data": {
      "text/plain": [
       "array([ 0.75981096,  0.75737193,  0.75737258,  0.75727111,  0.75717004,\n",
       "        0.75666148,  0.75655976,  0.75635725,  0.75615409,  0.75605265,\n",
       "        0.75595124,  0.75564682,  0.75544388,  0.75534241,  0.75524072,\n",
       "        0.75473318,  0.75432689,  0.75422558,  0.75432726,  0.75432742])"
      ]
     },
     "execution_count": 144,
     "metadata": {},
     "output_type": "execute_result"
    }
   ],
   "source": [
    "logit_mean_cv_scores2 = [logit_grid_searcher2.scores_[s].mean(axis=0) for s in logit_grid_searcher2.scores_][1]\n",
    "logit_mean_cv_scores2"
   ]
  },
  {
   "cell_type": "code",
   "execution_count": 317,
   "metadata": {},
   "outputs": [
    {
     "data": {
      "text/plain": [
       "array([ 3.        ,  3.21052632,  3.42105263,  3.63157895,  3.84210526,\n",
       "        4.05263158,  4.26315789,  4.47368421,  4.68421053,  4.89473684,\n",
       "        5.10526316,  5.31578947,  5.52631579,  5.73684211,  5.94736842,\n",
       "        6.15789474,  6.36842105,  6.57894737,  6.78947368,  7.        ])"
      ]
     },
     "execution_count": 317,
     "metadata": {},
     "output_type": "execute_result"
    }
   ],
   "source": [
    "#logit_grid_searcher2.scores_[1]#.max() #0.76913693199146083\n",
    "np.linspace(3, 7, 20)"
   ]
  },
  {
   "cell_type": "markdown",
   "metadata": {},
   "source": [
    "Выведите лучшее значение доли правильных ответов на кросс-валидации и соответствующее значение `C`."
   ]
  },
  {
   "cell_type": "code",
   "execution_count": 145,
   "metadata": {},
   "outputs": [
    {
     "name": "stdout",
     "output_type": "stream",
     "text": [
      "0.759810955896 0\n"
     ]
    }
   ],
   "source": [
    "print(logit_mean_cv_scores2.max(),logit_mean_cv_scores2.argmax())"
   ]
  },
  {
   "cell_type": "markdown",
   "metadata": {},
   "source": [
    "Нарисуйте график зависимости доли правильных ответов на кросс-валидации от `C`."
   ]
  },
  {
   "cell_type": "code",
   "execution_count": 146,
   "metadata": {},
   "outputs": [
    {
     "data": {
      "image/png": "[encoded data removed]",
      "text/plain": [
       "<matplotlib.figure.Figure at 0x7feb859bde50>"
      ]
     },
     "metadata": {},
     "output_type": "display_data"
    }
   ],
   "source": [
    "plt.plot(logit_c_values2, logit_mean_cv_scores2);"
   ]
  },
  {
   "cell_type": "markdown",
   "metadata": {},
   "source": [
    "Выведите долю правильных ответов на выборке `(X_valid, y_valid)` для логистической регрессии с лучшим найденным значением `C`."
   ]
  },
  {
   "cell_type": "code",
   "execution_count": 147,
   "metadata": {},
   "outputs": [
    {
     "data": {
      "text/plain": [
       "array([6, 2, 8, ..., 2, 6, 6])"
      ]
     },
     "execution_count": 147,
     "metadata": {},
     "output_type": "execute_result"
    }
   ],
   "source": [
    "logit_grid_searcher2.predict(X_train)"
   ]
  },
  {
   "cell_type": "code",
   "execution_count": 152,
   "metadata": {},
   "outputs": [
    {
     "data": {
      "text/plain": [
       "0.78051671012088175"
      ]
     },
     "execution_count": 152,
     "metadata": {},
     "output_type": "execute_result"
    }
   ],
   "source": [
    "logit_cv_acc = accuracy_score(y_valid, logit_grid_searcher2.predict(X_valid))\n",
    "logit_cv_acc"
   ]
  },
  {
   "cell_type": "markdown",
   "metadata": {},
   "source": [
    "**Запишите в файл *answer4_3.txt* доли правильных ответов для `logit_grid_searcher2` на кросс-валидации для лучшего значения параметра `C` и на отложенной выборке. Округлите каждое до 3 знаков после запятой и запишите в файл через пробел.**"
   ]
  },
  {
   "cell_type": "code",
   "execution_count": 153,
   "metadata": {
    "collapsed": true
   },
   "outputs": [],
   "source": [
    "write_answer_to_file(\"0.760 0.781\",\n",
    "                     'answer4_3.txt')"
   ]
  },
  {
   "cell_type": "markdown",
   "metadata": {},
   "source": [
    "**4. Обучите линейный SVM (`LinearSVC`) с параметром `C`=1 и `random_state`=17 (для воспроизводимости). Посмотрите на долю правильных ответов на кросс-валидации (используйте объект `skf`, созданный ранее) и на выборке `(X_valid, y_valid)`.**"
   ]
  },
  {
   "cell_type": "code",
   "execution_count": 155,
   "metadata": {
    "collapsed": true
   },
   "outputs": [],
   "source": [
    "from sklearn.svm import LinearSVC"
   ]
  },
  {
   "cell_type": "code",
   "execution_count": 156,
   "metadata": {},
   "outputs": [
    {
     "name": "stdout",
     "output_type": "stream",
     "text": [
      "[ 0.74672755  0.76029277  0.75320317] Accuracy train: 0.753 (*/- 0.011)\n",
      "Accuracy train: 0.776\n"
     ]
    }
   ],
   "source": [
    "svm = LinearSVC(C=1,random_state=17)\n",
    "scores_train = cross_val_score(svm, X_train, y_train, cv=skf)\n",
    "print(scores_train,\"Accuracy train: %0.3f (*/- %0.3f)\" % (scores_train.mean(), scores_train.std()* 2))\n",
    "svm.fit(X_train,y_train)\n",
    "y_predicted = svm.predict(X_valid)\n",
    "print(\"Accuracy train: %0.3f\" % accuracy_score(y_valid, y_predicted))"
   ]
  },
  {
   "cell_type": "markdown",
   "metadata": {},
   "source": [
    "**С помощью `GridSearchCV` подберите параметр `C` для SVM сначала в широком диапазоне: 10 значений от 1e-4 до 1e4, используйте `linspace` из NumPy. Нарисуйте кривые валидации.**"
   ]
  },
  {
   "cell_type": "code",
   "execution_count": 159,
   "metadata": {},
   "outputs": [
    {
     "name": "stdout",
     "output_type": "stream",
     "text": [
      "CPU times: user 52.6 s, sys: 0 ns, total: 52.6 s\n",
      "Wall time: 52.6 s\n"
     ]
    }
   ],
   "source": [
    "%%time\n",
    "svm_params1 = {'C': np.linspace(1e-4, 1e4, 10)}\n",
    "\n",
    "svm_grid_searcher1 = GridSearchCV(svm,svm_params1)\n",
    "svm_grid_searcher1.fit(X_train, y_train)"
   ]
  },
  {
   "cell_type": "markdown",
   "metadata": {},
   "source": [
    "Выведите лучшее значение доли правильных ответов на кросс-валидации и соответствующее значение `C`."
   ]
  },
  {
   "cell_type": "code",
   "execution_count": 167,
   "metadata": {},
   "outputs": [
    {
     "name": "stdout",
     "output_type": "stream",
     "text": [
      "0.701280227596 8\n"
     ]
    }
   ],
   "source": [
    "print(svm_grid_searcher1.best_score_,svm_grid_searcher1.best_index_)"
   ]
  },
  {
   "cell_type": "markdown",
   "metadata": {},
   "source": [
    "Нарисуйте график зависимости доли правильных ответов на кросс-валидации от `C`."
   ]
  },
  {
   "cell_type": "code",
   "execution_count": 168,
   "metadata": {},
   "outputs": [
    {
     "data": {
      "image/png": "[encoded data removed]",
      "text/plain": [
       "<matplotlib.figure.Figure at 0x7feb8597fd10>"
      ]
     },
     "metadata": {},
     "output_type": "display_data"
    }
   ],
   "source": [
    "plot_validation_curves(svm_params1['C'], svm_grid_searcher1.cv_results_)"
   ]
  },
  {
   "cell_type": "markdown",
   "metadata": {},
   "source": [
    "**Но мы помним, что с параметром регуляризации по умолчанию (С=1) на кросс-валидации доля правильных ответов выше. Это тот случай (не редкий), когда можно ошибиться и перебирать параметры не в том диапазоне (причина в том, что мы взяли равномерную сетку на большом интервале и упустили действительно хороший интервал значений `C`). Здесь намного осмысленней подбирать `C` в районе 1, к тому же, так модель быстрее обучается, чем при больших `C`. **\n",
    "\n",
    "**С помощью `GridSearchCV` подберите параметр `C` для SVM в диапазоне (1e-3, 1), 30 значений, используйте `linspace` из NumPy. Нарисуйте кривые валидации.**"
   ]
  },
  {
   "cell_type": "code",
   "execution_count": 169,
   "metadata": {},
   "outputs": [
    {
     "name": "stdout",
     "output_type": "stream",
     "text": [
      "CPU times: user 1min 50s, sys: 4 ms, total: 1min 50s\n",
      "Wall time: 1min 50s\n"
     ]
    }
   ],
   "source": [
    "%%time\n",
    "svm_params2 = {'C': np.linspace(1e-3, 1, 30)}\n",
    "\n",
    "svm_grid_searcher2 = GridSearchCV(svm,svm_params2)\n",
    "svm_grid_searcher2.fit(X_train, y_train)"
   ]
  },
  {
   "cell_type": "markdown",
   "metadata": {},
   "source": [
    "Выведите лучшее значение доли правильных ответов на кросс-валидации и соответствующее значение `C`."
   ]
  },
  {
   "cell_type": "code",
   "execution_count": 170,
   "metadata": {},
   "outputs": [
    {
     "name": "stdout",
     "output_type": "stream",
     "text": [
      "0.765901239585 4\n"
     ]
    }
   ],
   "source": [
    "print(svm_grid_searcher2.best_score_,svm_grid_searcher2.best_index_)"
   ]
  },
  {
   "cell_type": "markdown",
   "metadata": {},
   "source": [
    "Нарисуйте график зависимости доли правильных ответов на кросс-валидации от С."
   ]
  },
  {
   "cell_type": "code",
   "execution_count": 171,
   "metadata": {},
   "outputs": [
    {
     "data": {
      "image/png": "[encoded data removed]",
      "text/plain": [
       "<matplotlib.figure.Figure at 0x7feb8583f890>"
      ]
     },
     "metadata": {},
     "output_type": "display_data"
    }
   ],
   "source": [
    "plot_validation_curves(svm_params2['C'], svm_grid_searcher2.cv_results_)"
   ]
  },
  {
   "cell_type": "markdown",
   "metadata": {},
   "source": [
    "Выведите долю правильных ответов на выборке `(X_valid, y_valid)` для `LinearSVC` с лучшим найденным значением `C`."
   ]
  },
  {
   "cell_type": "code",
   "execution_count": 172,
   "metadata": {},
   "outputs": [
    {
     "data": {
      "text/plain": [
       "0.78193884806826264"
      ]
     },
     "execution_count": 172,
     "metadata": {},
     "output_type": "execute_result"
    }
   ],
   "source": [
    "svm_cv_acc = accuracy_score(y_valid, svm_grid_searcher2.predict(X_valid))\n",
    "svm_cv_acc"
   ]
  },
  {
   "cell_type": "markdown",
   "metadata": {},
   "source": [
    "**Запишите в файл *answer4_4.txt* доли правильных ответов для svm_grid_searcher2 на кросс-валидации для лучшего значения параметра С и на отложенной выборке. Округлите каждое до 3 знаков после запятой и запишите в файл через пробел.**"
   ]
  },
  {
   "cell_type": "code",
   "execution_count": 174,
   "metadata": {
    "collapsed": true
   },
   "outputs": [],
   "source": [
    "write_answer_to_file(\"0.766 0.782\",\n",
    "                     'answer4_4.txt')"
   ]
  },
  {
   "cell_type": "markdown",
   "metadata": {},
   "source": [
    "## Часть 2. Выбор параметров – длины сессии и ширины окна"
   ]
  },
  {
   "cell_type": "markdown",
   "metadata": {},
   "source": [
    "**Возьмем `LinearSVC`, показавший лучшее качество на кросс-валидации в 1 части, и проверим его работу еще на 8 выборках для 10 пользователей (с разными сочетаниями параметров *session_length* и *window_size*). Поскольку тут уже вычислений побольше, мы не будем каждый раз заново подбирать параметр регуляризации `C`.**\n",
    "\n",
    "**Определите функцию `model_assessment`, ее документация описана ниже. Обратите внимание на все детали. Например, на то, что разбиение  выборки с `train_test_split` должно быть стратифицированным. Не теряйте нигде `random_state`.**"
   ]
  },
  {
   "cell_type": "code",
   "execution_count": 261,
   "metadata": {
    "collapsed": true
   },
   "outputs": [],
   "source": [
    "def model_assessment(estimator, path_to_X_pickle, path_to_y_pickle, cv, random_state=17, test_size=0.3):\n",
    "    '''\n",
    "    Estimates CV-accuracy for (1 - test_size) share of (X_sparse, y) \n",
    "    loaded from path_to_X_pickle and path_to_y_pickle and holdout accuracy for (test_size) share of (X_sparse, y).\n",
    "    The split is made with stratified train_test_split with params random_state and test_size.\n",
    "    \n",
    "    :param estimator – Scikit-learn estimator (classifier or regressor)\n",
    "    :param path_to_X_pickle – path to pickled sparse X (instances and their features)\n",
    "    :param path_to_y_pickle – path to pickled y (responses)\n",
    "    :param cv – cross-validation as in cross_val_score (use StratifiedKFold here)\n",
    "    :param random_state –  for train_test_split\n",
    "    :param test_size –  for train_test_split\n",
    "    \n",
    "    :returns mean CV-accuracy for (X_train, y_train) and accuracy for (X_valid, y_valid) where (X_train, y_train)\n",
    "    and (X_valid, y_valid) are (1 - test_size) and (testsize) shares of (X_sparse, y).\n",
    "    '''\n",
    "    \n",
    "    #start = datetime.datetime.now()\n",
    "    \n",
    "    with open(path_to_X_pickle, 'rb') as pkl_file:\n",
    "        X_sparse = pickle.load(pkl_file)\n",
    "    with open(path_to_y_pickle, 'rb') as pkl_file:\n",
    "        y = pickle.load(pkl_file)\n",
    "    #print(X_sparse.shape, y.shape)\n",
    "    X_train, X_valid, y_train, y_valid = train_test_split(X_sparse, y, test_size=test_size, random_state=random_state, stratify=y)\n",
    "    #print(y_train.tolist())\n",
    "    scores_train = cross_val_score(estimator=estimator, X=X_train, y=y_train.tolist(), cv=cv, scoring='accuracy', n_jobs=-1)\n",
    "    cv_mean = scores_train.mean()\n",
    "    estimator.fit(X_train,y_train.tolist())\n",
    "    valid_acc = accuracy_score(y_valid.tolist(), estimator.predict(X_valid))\n",
    "    #end = datetime.datetime.now()\n",
    "    #elapsed = end - start\n",
    "    return cv_mean, valid_acc#, elapsed.seconds,\":\",elapsed.microseconds"
   ]
  },
  {
   "cell_type": "markdown",
   "metadata": {},
   "source": [
    "**Убедитесь, что функция работает.**"
   ]
  },
  {
   "cell_type": "code",
   "execution_count": 247,
   "metadata": {},
   "outputs": [
    {
     "data": {
      "text/plain": [
       "(0.7633647423247526, 0.78193884806826264)"
      ]
     },
     "execution_count": 247,
     "metadata": {},
     "output_type": "execute_result"
    }
   ],
   "source": [
    "model_assessment(svm_grid_searcher2.best_estimator_, \n",
    "                 os.path.join(PATH_TO_DATA, 'X_sparse_10users.pkl'),\n",
    "        os.path.join(PATH_TO_DATA, 'y_10users.pkl'), skf, random_state=17, test_size=0.3)"
   ]
  },
  {
   "cell_type": "markdown",
   "metadata": {},
   "source": [
    "**Примените функцию *model_assessment* для лучшего алгоритма из предыдущей части (а именно, `svm_grid_searcher2.best_estimator_`) и 9 выборок вида с разными сочетаниями параметров *session_length* и *window_size* для 10 пользователей. Выведите в цикле параметры *session_length* и *window_size*, а также результат вывода функции *model_assessment*. \n",
    "Удобно сделать так, чтоб *model_assessment* возвращала 3-им элементом время, за которое она выполнилась. На моем ноуте этот участок кода выполнился за 20 секунд. Но со 150 пользователями каждая итерация занимает уже несколько минут.**"
   ]
  },
  {
   "cell_type": "markdown",
   "metadata": {},
   "source": [
    "Здесь для удобства стоит создать копии ранее созданных pickle-файлов X_sparse_10users.pkl, X_sparse_150users.pkl, y_10users.pkl и y_150users.pkl, добавив к их названиям s10_w10, что означает длину сессии 10 и ширину окна 10. "
   ]
  },
  {
   "cell_type": "code",
   "execution_count": 200,
   "metadata": {
    "collapsed": true
   },
   "outputs": [],
   "source": [
    "!cp $PATH_TO_DATA/X_sparse_10users.pkl $PATH_TO_DATA/X_sparse_10users_s10_w10.pkl \n",
    "!cp $PATH_TO_DATA/X_sparse_150users.pkl $PATH_TO_DATA/X_sparse_150users_s10_w10.pkl \n",
    "!cp $PATH_TO_DATA/y_10users.pkl $PATH_TO_DATA/y_10users_s10_w10.pkl \n",
    "!cp $PATH_TO_DATA/y_150users.pkl $PATH_TO_DATA/y_150users_s10_w10.pkl "
   ]
  },
  {
   "cell_type": "code",
   "execution_count": 248,
   "metadata": {},
   "outputs": [
    {
     "data": {
      "text/plain": [
       "(0.86866242197354693, 0.87648174490279751)"
      ]
     },
     "execution_count": 248,
     "metadata": {},
     "output_type": "execute_result"
    }
   ],
   "source": [
    "model_assessment(svm_grid_searcher2.best_estimator_, \\\n",
    "                 os.path.join(PATH_TO_DATA, 'X_sparse_10users_s15_w5.pkl'), \\\n",
    "                os.path.join(PATH_TO_DATA, 'y_10users_s15_w5.pkl'), skf, random_state=17, test_size=0.3)"
   ]
  },
  {
   "cell_type": "code",
   "execution_count": 250,
   "metadata": {},
   "outputs": [
    {
     "name": "stdout",
     "output_type": "stream",
     "text": [
      "15 10 (0.82178844758549741, 0.83953543493718896)\n",
      "10 10 (0.7633647423247526, 0.78193884806826264)\n",
      "15 7 (0.84658956127225782, 0.85564957690393229)\n",
      "10 7 (0.7974432837736799, 0.80852828936452625)\n",
      "7 7 (0.7541989647152324, 0.76223660195785636)\n",
      "15 5 (0.86866242197354693, 0.87648174490279751)\n",
      "10 5 (0.81821117463435622, 0.82491702228544339)\n",
      "7 5 (0.7754306414988501, 0.78733997155049784)\n",
      "5 5 (0.72665511718144848, 0.73707918444760545)\n",
      "CPU times: user 32.9 s, sys: 8 ms, total: 32.9 s\n",
      "Wall time: 33 s\n"
     ]
    }
   ],
   "source": [
    "%%time\n",
    "estimator = svm_grid_searcher2.best_estimator_\n",
    "\n",
    "for window_size, session_length in itertools.product([10, 7, 5], [15, 10, 7, 5]):\n",
    "    if window_size <= session_length:\n",
    "        path_to_X_pkl = os.path.join(PATH_TO_DATA, 'X_sparse_10users_s%s_w%s.pkl'%(session_length,window_size))\n",
    "        path_to_y_pkl = os.path.join(PATH_TO_DATA, 'y_10users_s%s_w%s.pkl'%(session_length,window_size))\n",
    "        #print(path_to_X_pkl,path_to_y_pkl)\n",
    "        print(session_length,window_size,model_assessment(svm_grid_searcher2.best_estimator_, \\\n",
    "                 path_to_X_pkl, path_to_y_pkl, skf, random_state=17, test_size=0.3))"
   ]
  },
  {
   "cell_type": "markdown",
   "metadata": {},
   "source": [
    "**Запишите в файл *answer4_5.txt* доли правильных ответов для `LinearSVC` с настроенным параметром `C` и выборки `X_sparse_10users_s15_w5`. Укажите доли правильных ответов на кросс-валидации и на отложенной выборке. Округлите каждое до 3 знаков после запятой и запишите в файл через пробел.**"
   ]
  },
  {
   "cell_type": "code",
   "execution_count": 249,
   "metadata": {
    "collapsed": true
   },
   "outputs": [],
   "source": [
    "write_answer_to_file(\"0.869 0.876\", \n",
    "                     'answer4_5.txt')"
   ]
  },
  {
   "cell_type": "markdown",
   "metadata": {},
   "source": [
    "**Прокомментируйте полученные результаты. Сравните для 150 пользователей доли правильных ответов на кросс-валидации и оставленной выборке для сочетаний параметров (*session_length, window_size*): (5,5), (7,7) и (10,10). На среднем ноуте это может занять до часа – запаситесь терпением, это Data Science :) **\n",
    "\n",
    "**Сделайте вывод о том, как качество классификации зависит от длины сессии и ширины окна.**"
   ]
  },
  {
   "cell_type": "code",
   "execution_count": 251,
   "metadata": {},
   "outputs": [
    {
     "name": "stdout",
     "output_type": "stream",
     "text": [
      "5 5 (0.4089831514708388, 0.42203241349102061)\n",
      "7 7 (0.4359773692874882, 0.45307763054808053)\n",
      "10 10 (0.46023737201535692, 0.48340874811463047)\n",
      "CPU times: user 21min 26s, sys: 3.47 s, total: 21min 30s\n",
      "Wall time: 21min 30s\n"
     ]
    }
   ],
   "source": [
    "%%time\n",
    "estimator = svm_grid_searcher2.best_estimator_\n",
    "\n",
    "for window_size, session_length in [(5,5), (7,7), (10,10)]:\n",
    "        path_to_X_pkl = os.path.join(PATH_TO_DATA, 'X_sparse_150users_s%s_w%s.pkl'%(session_length,window_size))\n",
    "        path_to_y_pkl = os.path.join(PATH_TO_DATA, 'y_150users_s%s_w%s.pkl'%(session_length,window_size))\n",
    "        #print(path_to_X_pkl,path_to_y_pkl)\n",
    "        print(session_length,window_size,model_assessment(svm_grid_searcher2.best_estimator_, \\\n",
    "                 path_to_X_pkl, path_to_y_pkl, skf, random_state=17, test_size=0.3))"
   ]
  },
  {
   "cell_type": "markdown",
   "metadata": {},
   "source": [
    "**Запишите в файл *answer4_6.txt* доли правильных ответов для LinearSVC с настроенным параметром C и выборки *X_sparse_150users*. Укажите доли правильных ответов на кросс-валидации и на отложенной выборке. Округлите каждое до 3 знаков после запятой и запишите в файл через пробел.**"
   ]
  },
  {
   "cell_type": "code",
   "execution_count": 253,
   "metadata": {
    "collapsed": true
   },
   "outputs": [],
   "source": [
    "write_answer_to_file(\"0.460 0.483\", \n",
    "                     'answer4_6.txt')"
   ]
  },
  {
   "cell_type": "markdown",
   "metadata": {},
   "source": [
    "## Часть 3. Идентификация  конкретного пользователя и кривые обучения"
   ]
  },
  {
   "cell_type": "markdown",
   "metadata": {},
   "source": [
    "**Поскольку может разочаровать, что многоклассовая доля правильных ответов на выборке из 150 пользовалей невелика, порадуемся тому, что конкретного пользователя можно идентифицировать достаточно хорошо. **"
   ]
  },
  {
   "cell_type": "markdown",
   "metadata": {},
   "source": [
    "**Загрузим сериализованные ранее объекты *X_sparse_150users* и *y_150users*, соответствующие обучающей выборке для 150 пользователей с параметрами (*session_length, window_size*) = (10,10). Так же точно разобьем их на 70% и 30%.**"
   ]
  },
  {
   "cell_type": "code",
   "execution_count": 254,
   "metadata": {
    "collapsed": true
   },
   "outputs": [],
   "source": [
    "with open(os.path.join(PATH_TO_DATA, 'X_sparse_150users.pkl'), 'rb') as X_sparse_150users_pkl:\n",
    "     X_sparse_150users = pickle.load(X_sparse_150users_pkl)\n",
    "with open(os.path.join(PATH_TO_DATA, 'y_150users.pkl'), 'rb') as y_150users_pkl:\n",
    "    y_150users = pickle.load(y_150users_pkl)"
   ]
  },
  {
   "cell_type": "code",
   "execution_count": 255,
   "metadata": {
    "collapsed": true
   },
   "outputs": [],
   "source": [
    "X_train_150, X_valid_150, y_train_150, y_valid_150 = train_test_split(X_sparse_150users, \n",
    "                                                                      y_150users, test_size=0.3, \n",
    "                                                     random_state=17, stratify=y_150users)"
   ]
  },
  {
   "cell_type": "markdown",
   "metadata": {},
   "source": [
    "**Обучите `LogisticRegressionCV` для одного значения параметра `C` (лучшего на кросс-валидации в 1 части, используйте точное значение, не на глаз). Теперь будем решать 150 задач \"Один-против-Всех\", поэтому укажите аргумент `multi_class`='ovr'. Как всегда, где возможно, указывайте `n_jobs=-1` и `random_state`=17.**"
   ]
  },
  {
   "cell_type": "code",
   "execution_count": 318,
   "metadata": {},
   "outputs": [
    {
     "name": "stdout",
     "output_type": "stream",
     "text": [
      "CPU times: user 4min 53s, sys: 1min 26s, total: 6min 20s\n",
      "Wall time: 7min 41s\n"
     ]
    }
   ],
   "source": [
    "%%time\n",
    "logit_cv_150users = LogisticRegressionCV(Cs=[3.84210526], multi_class='ovr', n_jobs=-1,random_state=17)\n",
    "logit_cv_150users.fit(X_train_150, y_train_150)"
   ]
  },
  {
   "cell_type": "markdown",
   "metadata": {},
   "source": [
    "**Посмотрите на средние доли правильных ответов на кросс-валидации в задаче идентификации каждого пользователя по отдельности.**"
   ]
  },
  {
   "cell_type": "code",
   "execution_count": 319,
   "metadata": {},
   "outputs": [
    {
     "name": "stdout",
     "output_type": "stream",
     "text": [
      "User 1, CV score: 0.995902275558\n",
      "User 2, CV score: 0.996298876698\n",
      "User 3, CV score: 0.995245682969\n",
      "User 4, CV score: 0.991669808408\n",
      "User 5, CV score: 0.990334696917\n",
      "User 6, CV score: 0.994255197601\n",
      "User 7, CV score: 0.993681763524\n",
      "User 8, CV score: 0.985882920146\n",
      "User 9, CV score: 0.997987637548\n",
      "User 10, CV score: 0.99520441899\n",
      "User 11, CV score: 0.994422265803\n",
      "User 12, CV score: 0.993567256383\n",
      "User 13, CV score: 0.996736703571\n",
      "User 14, CV score: 0.994724552284\n",
      "User 15, CV score: 0.996309036146\n",
      "User 16, CV score: 0.996298999221\n",
      "User 17, CV score: 0.99043926014\n",
      "User 18, CV score: 0.994422050271\n",
      "User 19, CV score: 0.994547215683\n",
      "User 20, CV score: 0.991325545488\n",
      "User 21, CV score: 0.981160297482\n",
      "User 22, CV score: 0.996903537355\n",
      "User 23, CV score: 0.994640486191\n",
      "User 24, CV score: 0.990971083926\n",
      "User 25, CV score: 0.99665333342\n",
      "User 26, CV score: 0.994296941518\n",
      "User 27, CV score: 0.994974728127\n",
      "User 28, CV score: 0.991334894729\n",
      "User 29, CV score: 0.984976261613\n",
      "User 30, CV score: 0.997070108156\n",
      "User 31, CV score: 0.997039050603\n",
      "User 32, CV score: 0.996767930625\n",
      "User 33, CV score: 0.997278943526\n",
      "User 34, CV score: 0.996538699391\n",
      "User 35, CV score: 0.996861491734\n",
      "User 36, CV score: 0.997570505398\n",
      "User 37, CV score: 0.987457334624\n",
      "User 38, CV score: 0.99634053055\n",
      "User 39, CV score: 0.996329943457\n",
      "User 40, CV score: 0.996538403001\n",
      "User 41, CV score: 0.990084897375\n",
      "User 42, CV score: 0.98904176572\n",
      "User 43, CV score: 0.996079739522\n",
      "User 44, CV score: 0.995673186207\n",
      "User 45, CV score: 0.995923512191\n",
      "User 46, CV score: 0.994974656948\n",
      "User 47, CV score: 0.995975557439\n",
      "User 48, CV score: 0.997017978631\n",
      "User 49, CV score: 0.994964243722\n",
      "User 50, CV score: 0.996444539714\n",
      "User 51, CV score: 0.991909401998\n",
      "User 52, CV score: 0.995975523559\n",
      "User 53, CV score: 0.99579812546\n",
      "User 54, CV score: 0.99480776698\n",
      "User 55, CV score: 0.997226866294\n",
      "User 56, CV score: 0.989573800197\n",
      "User 57, CV score: 0.99286858619\n",
      "User 58, CV score: 0.996444628356\n",
      "User 59, CV score: 0.986831583109\n",
      "User 60, CV score: 0.989521825179\n",
      "User 61, CV score: 0.994327998597\n",
      "User 62, CV score: 0.990001091321\n",
      "User 63, CV score: 0.995610695275\n",
      "User 64, CV score: 0.991273632443\n",
      "User 65, CV score: 0.997236870762\n",
      "User 66, CV score: 0.995527457327\n",
      "User 67, CV score: 0.99745604087\n",
      "User 68, CV score: 0.995881810412\n",
      "User 69, CV score: 0.996413152839\n",
      "User 70, CV score: 0.996694927196\n",
      "User 71, CV score: 0.996246398965\n",
      "User 72, CV score: 0.997038762945\n",
      "User 73, CV score: 0.996455123389\n",
      "User 74, CV score: 0.992076400917\n",
      "User 75, CV score: 0.996528215461\n",
      "User 76, CV score: 0.992284527247\n",
      "User 77, CV score: 0.99764371126\n",
      "User 78, CV score: 0.996246724395\n",
      "User 79, CV score: 0.996381893326\n",
      "User 80, CV score: 0.99125200983\n",
      "User 81, CV score: 0.996642953126\n",
      "User 82, CV score: 0.994046747263\n",
      "User 83, CV score: 0.996090204092\n",
      "User 84, CV score: 0.996861709162\n",
      "User 85, CV score: 0.995245659717\n",
      "User 86, CV score: 0.996924247073\n",
      "User 87, CV score: 0.997872974952\n",
      "User 88, CV score: 0.989136066806\n",
      "User 89, CV score: 0.996934956689\n",
      "User 90, CV score: 0.995287506323\n",
      "User 91, CV score: 0.994119529372\n",
      "User 92, CV score: 0.993786091381\n",
      "User 93, CV score: 0.984225180025\n",
      "User 94, CV score: 0.996767850241\n",
      "User 95, CV score: 0.995693999087\n",
      "User 96, CV score: 0.991732272196\n",
      "User 97, CV score: 0.989397033598\n",
      "User 98, CV score: 0.998248395644\n",
      "User 99, CV score: 0.990407695506\n",
      "User 100, CV score: 0.990345378441\n",
      "User 101, CV score: 0.993963377586\n",
      "User 102, CV score: 0.986581737062\n",
      "User 103, CV score: 0.980763742373\n",
      "User 104, CV score: 0.980857487978\n",
      "User 105, CV score: 0.991638437949\n",
      "User 106, CV score: 0.995516446007\n",
      "User 107, CV score: 0.997403874047\n",
      "User 108, CV score: 0.997237190878\n",
      "User 109, CV score: 0.997769107198\n",
      "User 110, CV score: 0.997310043692\n",
      "User 111, CV score: 0.995089084178\n",
      "User 112, CV score: 0.996976365969\n",
      "User 113, CV score: 0.996705444059\n",
      "User 114, CV score: 0.99696614113\n",
      "User 115, CV score: 0.995808281016\n",
      "User 116, CV score: 0.996434338127\n",
      "User 117, CV score: 0.994693142631\n",
      "User 118, CV score: 0.996486819752\n",
      "User 119, CV score: 0.996653202165\n",
      "User 120, CV score: 0.995694172954\n",
      "User 121, CV score: 0.996402875708\n",
      "User 122, CV score: 0.996653060756\n",
      "User 123, CV score: 0.996892996766\n",
      "User 124, CV score: 0.995694013133\n",
      "User 125, CV score: 0.994693104385\n",
      "User 126, CV score: 0.996924581235\n",
      "User 127, CV score: 0.9982272859\n",
      "User 128, CV score: 0.996486442978\n",
      "User 129, CV score: 0.995766833489\n",
      "User 130, CV score: 0.990397080795\n",
      "User 131, CV score: 0.993452494991\n",
      "User 132, CV score: 0.997278817112\n",
      "User 133, CV score: 0.997038960538\n",
      "User 134, CV score: 0.99650726943\n",
      "User 135, CV score: 0.997810512586\n",
      "User 136, CV score: 0.997331002821\n",
      "User 137, CV score: 0.996976210988\n",
      "User 138, CV score: 0.993442110332\n",
      "User 139, CV score: 0.995131182091\n",
      "User 140, CV score: 0.996517942695\n",
      "User 141, CV score: 0.996788451955\n",
      "User 142, CV score: 0.997654058622\n",
      "User 143, CV score: 0.995652537514\n",
      "User 144, CV score: 0.995350007409\n",
      "User 145, CV score: 0.997185052621\n",
      "User 146, CV score: 0.995965208655\n",
      "User 147, CV score: 0.993389680051\n",
      "User 148, CV score: 0.996653399759\n",
      "User 149, CV score: 0.996069471597\n",
      "User 150, CV score: 0.997163886219\n"
     ]
    }
   ],
   "source": [
    "cv_scores_by_user = {}\n",
    "for user_id in logit_cv_150users.scores_:\n",
    "    print('User {}, CV score: {}'.format (user_id,logit_cv_150users.scores_[user_id].mean()))"
   ]
  },
  {
   "cell_type": "markdown",
   "metadata": {},
   "source": [
    "**Результаты кажутся впечатляющими, но возможно, мы забываем про дисбаланс классов, и высокую долю правильных ответов можно получить константным прогнозом. Посчитайте для каждого пользователя разницу между долей правильных ответов на кросс-валидации (только что посчитанную с помощью `LogisticRegressionCV`) и долей меток в *y_train_150*, отличных от ID \n",
    " этого пользователя (именно такую долю правильных ответов можно получить, если классификатор всегда \"говорит\", что это не пользователь с номером $i$ в задаче классификации $i$-vs-All).**"
   ]
  },
  {
   "cell_type": "code",
   "execution_count": 320,
   "metadata": {},
   "outputs": [
    {
     "name": "stdout",
     "output_type": "stream",
     "text": [
      "{1: 0.011499744097461684, 2: 0.00059443621538868285, 3: 0.00084450690367543491, 4: 0.0069544934869048003, 5: 0.0023872862430281971, 6: -0.00019810904157235854, 7: 0.0011364359872279017, 8: 0.001970416105691708, 9: 0.0008652453797893811, 10: 0.001376679267264147, 11: 0.00027131650472533853, 12: 0.001522382382920684, 13: -0.00018759240554155898, 14: -0.0001353728564988943, 15: -4.1823486856551462e-05, 16: 0.00010453131749632583, 17: 0.00036492193811377138, 18: 0.00027110097344806849, 19: -0.00019802218864795051, 20: 0.00088629324923306108, 21: 0.0041603079086129924, 22: 0.00088631341270750674, 23: 0.0074229035898963902, 24: 0.00096972853093646449, 25: 0.00070909228498250432, 26: 0.00063601964058324079, 27: 0.00091761386709154902, 28: 0.0038253808992421146, 29: 0.0053801693210113744, 30: -4.1857896725061572e-05, 31: 0.00026072024092205215, 32: 0.00022940091591672207, 33: 0.00019825581981358642, 34: 0.00028167479586038713, 35: 0.00036466648660471446, 36: 0.0013864636099155669, 37: 0.0010946934808215847, 38: -0.00012501635180539594, 39: 9.377109244079751e-05, 40: -0.0002086490146911979, 41: 0.0013033974738022591, 42: 0.0010317983540319986, 43: -0.00018771118862137559, 44: -0.00010423708269458043, 45: -0.00017712067423358846, 46: 0.00031282799923282312, 47: 0.00020856026464632915, 48: -0.00010441353675438858, 49: -0.00013548207080005259, 50: 0.00014581065729946108, 51: 0.0019914555252391608, 52: 0.0004170486910188842, 53: 4.1554400440180217e-05, 54: -0.00037536773599899931, 55: 0.00014617858749788049, 56: 0.00046909072071554814, 57: 0.0012720351486222858, 58: 0.00023973433779245212, 59: 0.0010840827703896272, 60: 0.0043998917603939036, 61: 0.00059409391223141927, 62: 0.0017617494177138981, 63: -0.00034397197574775884, 64: 0.0015016515852643852, 65: 0.0017618048163772215, 66: 0.0005528449176533945, 67: 0.00034407481718679023, 68: 0.0005422839665770729, 69: -0.00021921190848517291, 70: -0.00012510762716078094, 71: 0.0012717865558503627, 72: 0.0011153740404088452, 73: -5.2127974181859216e-05, 74: 0.0001670664158077706, 75: -0.0002501149013001136, 76: 0.0012509864340313204, 77: 0.00042748405423675973, 78: -0.00038564035207977465, 79: 0.001084071341954429, 80: 0.0020221869694621031, 81: 1.0588379148690485e-05, 82: -0.00011462815040885754, 83: 0.00084451268438401339, 84: -0.00029196135195330708, 85: 0.00022934284686637607, 86: -0.00016686674928090284, 87: 0.00085484393780344003, 88: 0.0011469516708418892, 89: 0.00080304547730447595, 90: 4.1814914892746025e-05, 91: 0.00013539791991812322, 92: 0.0011469288068864936, 93: 0.0032528405088833034, 94: 0.00045869506871354382, 95: 0.00056299494799438854, 96: -9.3653382360670001e-05, 97: 0.004348082986362023, 98: 0.0025439551611193822, 99: -0.00055286249938257814, 100: 0.0017411225007273323, 101: -0.00042737236454581939, 102: 0.0060994249671280087, 103: 0.014721600014870551, 104: 0.0024186944877258032, 105: 0.0010427939799148023, 106: 0.00045842467513979024, 107: 0.0023354265996902157, 108: 0.00019820763236044758, 109: 0.0017518832549879848, 110: 6.2538139799062087e-05, 111: 0.00051066415172895674, 112: 0.00030229676058235455, 113: 0.00080290738488741908, 114: 9.3975730430684301e-05, 115: 0.00056258960828503568, 116: 0.00025029633927986517, 117: 0.0010739252150286926, 118: 0.00062598753947007424, 119: -0.00012512819649601603, 120: 0.00038592485439870039, 121: 0.00063587853301960706, 122: 0.001699300577982843, 123: -0.00014598647884567217, 124: 0.0004796000714071269, 125: 0.0051922025255379811, 126: -4.1419203157921913e-05, 127: 0.00131341603849644, 128: -0.00029188738430685479, 129: 0.005629938594864714, 130: 0.0022932783908351517, 131: 0.0029715382910283639, 132: 0.0014909677064504079, 133: 0.0018662519376797526, 134: 0.00015640979641007302, 135: 0.00047959811162379129, 136: 0.00033372403676723561, 137: 0.00014575004962547045, 138: 0.0047127410072813625, 139: 0.0033886654356252155, 140: 0.0010845812115505282, 141: 0.00086506305077949097, 142: 0.0013136251038693425, 143: 0.00030258495297741383, 144: 0.00052136061475360762, 145: -0.00025012300700755219, 146: 0.0085286776325197433, 147: 0.0009694658985960336, 148: 0.00034424458676529657, 149: 0.00060483176692049945, 150: 0.0021162910021158554}\n"
     ]
    }
   ],
   "source": [
    "class_distr = np.bincount(y_train_150.astype('int'))\n",
    "acc_diff_vs_constant = {}\n",
    "for user_id in np.unique(y_train_150):\n",
    "    acc_diff_vs_constant[user_id]=logit_cv_150users.scores_[user_id].mean()-(len(y_train_150[y_train_150!=user_id])/len(y_train_150))\n",
    "print(acc_diff_vs_constant)"
   ]
  },
  {
   "cell_type": "code",
   "execution_count": 323,
   "metadata": {},
   "outputs": [
    {
     "name": "stdout",
     "output_type": "stream",
     "text": [
      "119\n",
      "0.793333333333\n",
      "0.786666666667\n",
      "0.78\n",
      "0.773333333333\n",
      "0.806666666667\n",
      "0.813333333333\n"
     ]
    }
   ],
   "source": [
    "num_better_than_default = (np.array(list(acc_diff_vs_constant.values())) > 0).sum()\n",
    "print(num_better_than_default)\n",
    "print(num_better_than_default/len(np.unique(y_train_150)))"
   ]
  },
  {
   "cell_type": "code",
   "execution_count": 2,
   "metadata": {},
   "outputs": [
    {
     "name": "stdout",
     "output_type": "stream",
     "text": [
      "0.786666666667\n",
      "0.78\n",
      "0.773333333333\n",
      "0.806666666667\n",
      "0.813333333333\n",
      "0.82\n",
      "0.826666666667\n"
     ]
    }
   ],
   "source": [
    "print(118./150)\n",
    "print(117./150)\n",
    "print(116./150)\n",
    "print(121./150)\n",
    "print(122./150)\n",
    "print(123./150)\n",
    "print(124./150)"
   ]
  },
  {
   "cell_type": "markdown",
   "metadata": {},
   "source": [
    "**Запишите в файл *answer4_7.txt* долю пользователей, для которых логистическая регрессия на кросс-валидации дает прогноз лучше константного. Округлите до 3 знаков после запятой. **"
   ]
  },
  {
   "cell_type": "code",
   "execution_count": 6,
   "metadata": {},
   "outputs": [],
   "source": [
    "write_answer_to_file(\"0.807\", \n",
    "                     'answer4_7.txt')"
   ]
  },
  {
   "cell_type": "markdown",
   "metadata": {},
   "source": [
    "**Дальше будем строить кривые обучения для конкретного пользователя, допустим, для 128-го. Составьте новый бинарный вектор на основе *y_150users*, его значения будут 1 или 0 в зависимости от того, равен ли ID-шник пользователя 128.**"
   ]
  },
  {
   "cell_type": "code",
   "execution_count": 300,
   "metadata": {
    "collapsed": true
   },
   "outputs": [],
   "source": [
    "y_binary_128 = [1 if i == 128 else 0 for i in y_150users]"
   ]
  },
  {
   "cell_type": "code",
   "execution_count": 301,
   "metadata": {
    "collapsed": true
   },
   "outputs": [],
   "source": [
    "from sklearn.model_selection import learning_curve\n",
    "\n",
    "def plot_learning_curve(val_train, val_test, train_sizes, \n",
    "                        xlabel='Training Set Size', ylabel='score'):\n",
    "    def plot_with_err(x, data, **kwargs):\n",
    "        mu, std = data.mean(1), data.std(1)\n",
    "        lines = plt.plot(x, mu, '-', **kwargs)\n",
    "        plt.fill_between(x, mu - std, mu + std, edgecolor='none',\n",
    "                         facecolor=lines[0].get_color(), alpha=0.2)\n",
    "    plot_with_err(train_sizes, val_train, label='train')\n",
    "    plot_with_err(train_sizes, val_test, label='valid')\n",
    "    plt.xlabel(xlabel); plt.ylabel(ylabel)\n",
    "    plt.legend(loc='lower right');"
   ]
  },
  {
   "cell_type": "markdown",
   "metadata": {},
   "source": [
    "**Посчитайте доли правильных ответов на кросс-валидации в задаче классификации \"user128-vs-All\" в зависимости от размера выборки. Не помешает посмотреть встроенную документацию для *learning_curve*.**"
   ]
  },
  {
   "cell_type": "code",
   "execution_count": 305,
   "metadata": {},
   "outputs": [
    {
     "name": "stdout",
     "output_type": "stream",
     "text": [
      "CPU times: user 288 ms, sys: 140 ms, total: 428 ms\n",
      "Wall time: 5.26 s\n"
     ]
    }
   ],
   "source": [
    "%%time\n",
    "train_sizes = np.linspace(0.25, 1, 20)\n",
    "estimator = svm_grid_searcher2.best_estimator_\n",
    "n_train, val_train, val_test = learning_curve(estimator,X=X_train,y=y_train,cv=skf, n_jobs=-1,random_state=17,train_sizes=train_sizes)"
   ]
  },
  {
   "cell_type": "code",
   "execution_count": 306,
   "metadata": {},
   "outputs": [
    {
     "data": {
      "image/png": "[encoded data removed]",
      "text/plain": [
       "<matplotlib.figure.Figure at 0x7feb8597fa90>"
      ]
     },
     "metadata": {},
     "output_type": "display_data"
    }
   ],
   "source": [
    "plot_learning_curve(val_train, val_test, n_train, \n",
    "                    xlabel='train_size', ylabel='accuracy')"
   ]
  },
  {
   "cell_type": "markdown",
   "metadata": {},
   "source": [
    "**Сделайте выводы о том, помогут ли алгоритму новые размеченные данные при той же постановке задачи.**"
   ]
  },
  {
   "cell_type": "markdown",
   "metadata": {},
   "source": [
    "## Пути улучшения\n",
    "В этом проекте свобода творчества на каждом шаге, а 7 неделя посвящена общему описанию проекта (`html`, `ipynb` или `pdf`) и взимному оцениванию. Что еще можно добавить по 4 части проекта:\n",
    "- конечно, можно проверить еще кучу алгоритмов, например, Xgboost, но в такой задаче очень маловероятно, что что-то справится лучше линейных методов\n",
    "- интересно проверить качество алгоритма на данных, где сессии выделялись не по количеству посещенных сайтов, а по времени, например, 5, 7, 10 и 15 минут. Отдельно стоит отметить данные нашего [соревнования](https://inclass.kaggle.com/c/catch-me-if-you-can-intruder-detection-through-webpage-session-tracking2) \n",
    "- опять же, если ресурсы позволяют, можно проверить, насколько хорошо можно решить задачу для 3000 пользователей\n",
    "\n",
    "На следующей неделе мы вспомним про линейные модели, обучаемые стохастическим градиентным спуском, и порадуемся тому, насколько быстрее они работают. Также сделаем первые (или не первые) посылки в [соревновании](https://inclass.kaggle.com/c/catch-me-if-you-can-intruder-detection-through-webpage-session-tracking2) Kaggle Inclass."
   ]
  }
 ],
 "metadata": {
  "anaconda-cloud": {},
  "kernelspec": {
   "display_name": "Python 2",
   "language": "python",
   "name": "python2"
  },
  "language_info": {
   "codemirror_mode": {
    "name": "ipython",
    "version": 2
   },
   "file_extension": ".py",
   "mimetype": "text/x-python",
   "name": "python",
   "nbconvert_exporter": "python",
   "pygments_lexer": "ipython2",
   "version": "2.7.13"
  }
 },
 "nbformat": 4,
 "nbformat_minor": 1
}
