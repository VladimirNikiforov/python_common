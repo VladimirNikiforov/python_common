{
 "cells": [
  {
   "cell_type": "markdown",
   "metadata": {},
   "source": [
    "<center>\n",
    "<img src=\"https://habrastorage.org/web/677/8e1/337/6778e1337c3d4b159d7e99df94227cb2.jpg\"/>\n",
    "## Специализация \"Машинное обучение и анализ данных\"\n",
    "</center>\n",
    "<center>Автор материала: программист-исследователь Mail.ru Group, старший преподаватель Факультета Компьютерных Наук ВШЭ Юрий Кашницкий"
   ]
  },
  {
   "cell_type": "markdown",
   "metadata": {},
   "source": [
    "# <center> Capstone проект №1. Идентификация пользователей по посещенным веб-страницам\n",
    "<img src='http://i.istockimg.com/file_thumbview_approve/21546327/5/stock-illustration-21546327-identification-de-l-utilisateur.jpg'>\n",
    "\n",
    "# <center>Неделя 5.  Соревнование Kaggle \"Catch Me If You Can\"\n",
    "\n",
    "На этой неделе мы вспомним про концепцию стохастического градиентного спуска и опробуем классификатор Scikit-learn SGDClassifier, который работает намного быстрее на больших выборках, чем алгоритмы, которые мы тестировали на 4 неделе. Также мы познакомимся с данными [соревнования](https://inclass.kaggle.com/c/catch-me-if-you-can-intruder-detection-through-webpage-session-tracking2) Kaggle по идентификации пользователей и сделаем в нем первые посылки. По итогам этой недели дополнительные баллы получат те, кто попадет в топ-30 публичного лидерборда соревнования.\n",
    "\n",
    "**В этой части проекта Вам могут быть полезны видеозаписи следующих лекций курса \"Обучение на размеченных данных\":**\n",
    "   - [Стохатический градиентный спуск](https://www.coursera.org/learn/supervised-learning/lecture/xRY50/stokhastichieskii-ghradiientnyi-spusk)\n",
    "   - [Линейные модели. Sklearn.linear_model. Классификация](https://www.coursera.org/learn/supervised-learning/lecture/EBg9t/linieinyie-modieli-sklearn-linear-model-klassifikatsiia)\n",
    "   \n",
    "**Также рекомендуется вернуться и просмотреть [задание](https://www.coursera.org/learn/supervised-learning/programming/t2Idc/linieinaia-rieghriessiia-i-stokhastichieskii-ghradiientnyi-spusk) \"Линейная регрессия и стохастический градиентный спуск\" 1 недели 2 курса специализации.**"
   ]
  },
  {
   "cell_type": "code",
   "execution_count": 191,
   "metadata": {},
   "outputs": [],
   "source": [
    "#from __future__ import division, print_function\n",
    "# отключим всякие предупреждения Anaconda\n",
    "import warnings\n",
    "warnings.filterwarnings('ignore')\n",
    "import os\n",
    "import pickle\n",
    "import numpy as np\n",
    "import pandas as pd\n",
    "from scipy.sparse import csr_matrix\n",
    "from sklearn.model_selection import train_test_split\n",
    "from sklearn.linear_model import SGDClassifier\n",
    "from sklearn.metrics import roc_auc_score\n",
    "from tqdm import tqdm_notebook\n",
    "%matplotlib inline\n",
    "from matplotlib import pyplot as plt"
   ]
  },
  {
   "cell_type": "markdown",
   "metadata": {},
   "source": [
    "**Считаем данные [соревнования](https://inclass.kaggle.com/c/catch-me-if-you-can-intruder-detection-through-webpage-session-tracking2) в DataFrame train_df и test_df (обучающая и тестовая выборки).**"
   ]
  },
  {
   "cell_type": "code",
   "execution_count": 2,
   "metadata": {
    "collapsed": true
   },
   "outputs": [],
   "source": [
    "# Поменяйте на свой путь к данным\n",
    "PATH_TO_DATA = ('capstone_user_identification' )"
   ]
  },
  {
   "cell_type": "code",
   "execution_count": 4,
   "metadata": {},
   "outputs": [],
   "source": [
    "train_df = pd.read_csv(os.path.join(PATH_TO_DATA, 'train_sessions.csv'),\n",
    "                       index_col='session_id')\n",
    "test_df = pd.read_csv(os.path.join(PATH_TO_DATA, 'test_sessions.csv'),\n",
    "                      index_col='session_id')"
   ]
  },
  {
   "cell_type": "code",
   "execution_count": 5,
   "metadata": {},
   "outputs": [
    {
     "data": {
      "text/html": [
       "<div>\n",
       "<style>\n",
       "    .dataframe thead tr:only-child th {\n",
       "        text-align: right;\n",
       "    }\n",
       "\n",
       "    .dataframe thead th {\n",
       "        text-align: left;\n",
       "    }\n",
       "\n",
       "    .dataframe tbody tr th {\n",
       "        vertical-align: top;\n",
       "    }\n",
       "</style>\n",
       "<table border=\"1\" class=\"dataframe\">\n",
       "  <thead>\n",
       "    <tr style=\"text-align: right;\">\n",
       "      <th></th>\n",
       "      <th>site1</th>\n",
       "      <th>time1</th>\n",
       "      <th>site2</th>\n",
       "      <th>time2</th>\n",
       "      <th>site3</th>\n",
       "      <th>time3</th>\n",
       "      <th>site4</th>\n",
       "      <th>time4</th>\n",
       "      <th>site5</th>\n",
       "      <th>time5</th>\n",
       "      <th>...</th>\n",
       "      <th>time6</th>\n",
       "      <th>site7</th>\n",
       "      <th>time7</th>\n",
       "      <th>site8</th>\n",
       "      <th>time8</th>\n",
       "      <th>site9</th>\n",
       "      <th>time9</th>\n",
       "      <th>site10</th>\n",
       "      <th>time10</th>\n",
       "      <th>target</th>\n",
       "    </tr>\n",
       "    <tr>\n",
       "      <th>session_id</th>\n",
       "      <th></th>\n",
       "      <th></th>\n",
       "      <th></th>\n",
       "      <th></th>\n",
       "      <th></th>\n",
       "      <th></th>\n",
       "      <th></th>\n",
       "      <th></th>\n",
       "      <th></th>\n",
       "      <th></th>\n",
       "      <th></th>\n",
       "      <th></th>\n",
       "      <th></th>\n",
       "      <th></th>\n",
       "      <th></th>\n",
       "      <th></th>\n",
       "      <th></th>\n",
       "      <th></th>\n",
       "      <th></th>\n",
       "      <th></th>\n",
       "      <th></th>\n",
       "    </tr>\n",
       "  </thead>\n",
       "  <tbody>\n",
       "    <tr>\n",
       "      <th>1</th>\n",
       "      <td>718</td>\n",
       "      <td>2014-02-20 10:02:45</td>\n",
       "      <td>NaN</td>\n",
       "      <td>NaN</td>\n",
       "      <td>NaN</td>\n",
       "      <td>NaN</td>\n",
       "      <td>NaN</td>\n",
       "      <td>NaN</td>\n",
       "      <td>NaN</td>\n",
       "      <td>NaN</td>\n",
       "      <td>...</td>\n",
       "      <td>NaN</td>\n",
       "      <td>NaN</td>\n",
       "      <td>NaN</td>\n",
       "      <td>NaN</td>\n",
       "      <td>NaN</td>\n",
       "      <td>NaN</td>\n",
       "      <td>NaN</td>\n",
       "      <td>NaN</td>\n",
       "      <td>NaN</td>\n",
       "      <td>0</td>\n",
       "    </tr>\n",
       "    <tr>\n",
       "      <th>2</th>\n",
       "      <td>890</td>\n",
       "      <td>2014-02-22 11:19:50</td>\n",
       "      <td>941.0</td>\n",
       "      <td>2014-02-22 11:19:50</td>\n",
       "      <td>3847.0</td>\n",
       "      <td>2014-02-22 11:19:51</td>\n",
       "      <td>941.0</td>\n",
       "      <td>2014-02-22 11:19:51</td>\n",
       "      <td>942.0</td>\n",
       "      <td>2014-02-22 11:19:51</td>\n",
       "      <td>...</td>\n",
       "      <td>2014-02-22 11:19:51</td>\n",
       "      <td>3847.0</td>\n",
       "      <td>2014-02-22 11:19:52</td>\n",
       "      <td>3846.0</td>\n",
       "      <td>2014-02-22 11:19:52</td>\n",
       "      <td>1516.0</td>\n",
       "      <td>2014-02-22 11:20:15</td>\n",
       "      <td>1518.0</td>\n",
       "      <td>2014-02-22 11:20:16</td>\n",
       "      <td>0</td>\n",
       "    </tr>\n",
       "    <tr>\n",
       "      <th>3</th>\n",
       "      <td>14769</td>\n",
       "      <td>2013-12-16 16:40:17</td>\n",
       "      <td>39.0</td>\n",
       "      <td>2013-12-16 16:40:18</td>\n",
       "      <td>14768.0</td>\n",
       "      <td>2013-12-16 16:40:19</td>\n",
       "      <td>14769.0</td>\n",
       "      <td>2013-12-16 16:40:19</td>\n",
       "      <td>37.0</td>\n",
       "      <td>2013-12-16 16:40:19</td>\n",
       "      <td>...</td>\n",
       "      <td>2013-12-16 16:40:19</td>\n",
       "      <td>14768.0</td>\n",
       "      <td>2013-12-16 16:40:20</td>\n",
       "      <td>14768.0</td>\n",
       "      <td>2013-12-16 16:40:21</td>\n",
       "      <td>14768.0</td>\n",
       "      <td>2013-12-16 16:40:22</td>\n",
       "      <td>14768.0</td>\n",
       "      <td>2013-12-16 16:40:24</td>\n",
       "      <td>0</td>\n",
       "    </tr>\n",
       "    <tr>\n",
       "      <th>4</th>\n",
       "      <td>782</td>\n",
       "      <td>2014-03-28 10:52:12</td>\n",
       "      <td>782.0</td>\n",
       "      <td>2014-03-28 10:52:42</td>\n",
       "      <td>782.0</td>\n",
       "      <td>2014-03-28 10:53:12</td>\n",
       "      <td>782.0</td>\n",
       "      <td>2014-03-28 10:53:42</td>\n",
       "      <td>782.0</td>\n",
       "      <td>2014-03-28 10:54:12</td>\n",
       "      <td>...</td>\n",
       "      <td>2014-03-28 10:54:42</td>\n",
       "      <td>782.0</td>\n",
       "      <td>2014-03-28 10:55:12</td>\n",
       "      <td>782.0</td>\n",
       "      <td>2014-03-28 10:55:42</td>\n",
       "      <td>782.0</td>\n",
       "      <td>2014-03-28 10:56:12</td>\n",
       "      <td>782.0</td>\n",
       "      <td>2014-03-28 10:56:42</td>\n",
       "      <td>0</td>\n",
       "    </tr>\n",
       "    <tr>\n",
       "      <th>5</th>\n",
       "      <td>22</td>\n",
       "      <td>2014-02-28 10:53:05</td>\n",
       "      <td>177.0</td>\n",
       "      <td>2014-02-28 10:55:22</td>\n",
       "      <td>175.0</td>\n",
       "      <td>2014-02-28 10:55:22</td>\n",
       "      <td>178.0</td>\n",
       "      <td>2014-02-28 10:55:23</td>\n",
       "      <td>177.0</td>\n",
       "      <td>2014-02-28 10:55:23</td>\n",
       "      <td>...</td>\n",
       "      <td>2014-02-28 10:55:59</td>\n",
       "      <td>175.0</td>\n",
       "      <td>2014-02-28 10:55:59</td>\n",
       "      <td>177.0</td>\n",
       "      <td>2014-02-28 10:55:59</td>\n",
       "      <td>177.0</td>\n",
       "      <td>2014-02-28 10:57:06</td>\n",
       "      <td>178.0</td>\n",
       "      <td>2014-02-28 10:57:11</td>\n",
       "      <td>0</td>\n",
       "    </tr>\n",
       "  </tbody>\n",
       "</table>\n",
       "<p>5 rows × 21 columns</p>\n",
       "</div>"
      ],
      "text/plain": [
       "            site1                time1  site2                time2    site3  \\\n",
       "session_id                                                                    \n",
       "1             718  2014-02-20 10:02:45    NaN                  NaN      NaN   \n",
       "2             890  2014-02-22 11:19:50  941.0  2014-02-22 11:19:50   3847.0   \n",
       "3           14769  2013-12-16 16:40:17   39.0  2013-12-16 16:40:18  14768.0   \n",
       "4             782  2014-03-28 10:52:12  782.0  2014-03-28 10:52:42    782.0   \n",
       "5              22  2014-02-28 10:53:05  177.0  2014-02-28 10:55:22    175.0   \n",
       "\n",
       "                          time3    site4                time4  site5  \\\n",
       "session_id                                                             \n",
       "1                           NaN      NaN                  NaN    NaN   \n",
       "2           2014-02-22 11:19:51    941.0  2014-02-22 11:19:51  942.0   \n",
       "3           2013-12-16 16:40:19  14769.0  2013-12-16 16:40:19   37.0   \n",
       "4           2014-03-28 10:53:12    782.0  2014-03-28 10:53:42  782.0   \n",
       "5           2014-02-28 10:55:22    178.0  2014-02-28 10:55:23  177.0   \n",
       "\n",
       "                          time5  ...                  time6    site7  \\\n",
       "session_id                       ...                                   \n",
       "1                           NaN  ...                    NaN      NaN   \n",
       "2           2014-02-22 11:19:51  ...    2014-02-22 11:19:51   3847.0   \n",
       "3           2013-12-16 16:40:19  ...    2013-12-16 16:40:19  14768.0   \n",
       "4           2014-03-28 10:54:12  ...    2014-03-28 10:54:42    782.0   \n",
       "5           2014-02-28 10:55:23  ...    2014-02-28 10:55:59    175.0   \n",
       "\n",
       "                          time7    site8                time8    site9  \\\n",
       "session_id                                                               \n",
       "1                           NaN      NaN                  NaN      NaN   \n",
       "2           2014-02-22 11:19:52   3846.0  2014-02-22 11:19:52   1516.0   \n",
       "3           2013-12-16 16:40:20  14768.0  2013-12-16 16:40:21  14768.0   \n",
       "4           2014-03-28 10:55:12    782.0  2014-03-28 10:55:42    782.0   \n",
       "5           2014-02-28 10:55:59    177.0  2014-02-28 10:55:59    177.0   \n",
       "\n",
       "                          time9   site10               time10 target  \n",
       "session_id                                                            \n",
       "1                           NaN      NaN                  NaN      0  \n",
       "2           2014-02-22 11:20:15   1518.0  2014-02-22 11:20:16      0  \n",
       "3           2013-12-16 16:40:22  14768.0  2013-12-16 16:40:24      0  \n",
       "4           2014-03-28 10:56:12    782.0  2014-03-28 10:56:42      0  \n",
       "5           2014-02-28 10:57:06    178.0  2014-02-28 10:57:11      0  \n",
       "\n",
       "[5 rows x 21 columns]"
      ]
     },
     "execution_count": 5,
     "metadata": {},
     "output_type": "execute_result"
    }
   ],
   "source": [
    "train_df.head()"
   ]
  },
  {
   "cell_type": "markdown",
   "metadata": {},
   "source": [
    "**Объединим обучающую и тестовую выборки – это понадобится, чтоб вместе потом привести их к разреженному формату.**"
   ]
  },
  {
   "cell_type": "code",
   "execution_count": 6,
   "metadata": {
    "collapsed": true
   },
   "outputs": [],
   "source": [
    "train_test_df = pd.concat([train_df, test_df])"
   ]
  },
  {
   "cell_type": "markdown",
   "metadata": {},
   "source": [
    "В обучающей выборке видим следующие признаки:\n",
    "    - site1 – индекс первого посещенного сайта в сессии\n",
    "    - time1 – время посещения первого сайта в сессии\n",
    "    - ...\n",
    "    - site10 – индекс 10-го посещенного сайта в сессии\n",
    "    - time10 – время посещения 10-го сайта в сессии\n",
    "    - user_id – ID пользователя\n",
    "    \n",
    "Сессии пользователей выделены таким образом, что они не могут быть длинее получаса или 10 сайтов. То есть сессия считается оконченной либо когда пользователь посетил 10 сайтов подряд, либо когда сессия заняла по времени более 30 минут. "
   ]
  },
  {
   "cell_type": "markdown",
   "metadata": {},
   "source": [
    "**Посмотрим на статистику признаков.**\n",
    "\n",
    "Пропуски возникают там, где сессии короткие (менее 10 сайтов). Скажем, если человек 1 января 2015 года посетил *vk.com* в 20:01, потом *yandex.ru* в 20:29, затем *google.com* в 20:33, то первая его сессия будет состоять только из двух сайтов (site1 – ID сайта *vk.com*, time1 – 2015-01-01 20:01:00, site2 – ID сайта  *yandex.ru*, time2 – 2015-01-01 20:29:00, остальные признаки – NaN), а начиная с *google.com* пойдет новая сессия, потому что уже прошло более 30 минут с момента посещения *vk.com*."
   ]
  },
  {
   "cell_type": "code",
   "execution_count": 7,
   "metadata": {},
   "outputs": [
    {
     "name": "stdout",
     "output_type": "stream",
     "text": [
      "<class 'pandas.core.frame.DataFrame'>\n",
      "Int64Index: 253561 entries, 1 to 253561\n",
      "Data columns (total 21 columns):\n",
      "site1     253561 non-null int64\n",
      "time1     253561 non-null object\n",
      "site2     250098 non-null float64\n",
      "time2     250098 non-null object\n",
      "site3     246919 non-null float64\n",
      "time3     246919 non-null object\n",
      "site4     244321 non-null float64\n",
      "time4     244321 non-null object\n",
      "site5     241829 non-null float64\n",
      "time5     241829 non-null object\n",
      "site6     239495 non-null float64\n",
      "time6     239495 non-null object\n",
      "site7     237297 non-null float64\n",
      "time7     237297 non-null object\n",
      "site8     235224 non-null float64\n",
      "time8     235224 non-null object\n",
      "site9     233084 non-null float64\n",
      "time9     233084 non-null object\n",
      "site10    231052 non-null float64\n",
      "time10    231052 non-null object\n",
      "target    253561 non-null int64\n",
      "dtypes: float64(9), int64(2), object(10)\n",
      "memory usage: 42.6+ MB\n"
     ]
    }
   ],
   "source": [
    "train_df.info()"
   ]
  },
  {
   "cell_type": "code",
   "execution_count": 8,
   "metadata": {},
   "outputs": [
    {
     "data": {
      "text/html": [
       "<div>\n",
       "<style>\n",
       "    .dataframe thead tr:only-child th {\n",
       "        text-align: right;\n",
       "    }\n",
       "\n",
       "    .dataframe thead th {\n",
       "        text-align: left;\n",
       "    }\n",
       "\n",
       "    .dataframe tbody tr th {\n",
       "        vertical-align: top;\n",
       "    }\n",
       "</style>\n",
       "<table border=\"1\" class=\"dataframe\">\n",
       "  <thead>\n",
       "    <tr style=\"text-align: right;\">\n",
       "      <th></th>\n",
       "      <th>site1</th>\n",
       "      <th>time1</th>\n",
       "      <th>site2</th>\n",
       "      <th>time2</th>\n",
       "      <th>site3</th>\n",
       "      <th>time3</th>\n",
       "      <th>site4</th>\n",
       "      <th>time4</th>\n",
       "      <th>site5</th>\n",
       "      <th>time5</th>\n",
       "      <th>site6</th>\n",
       "      <th>time6</th>\n",
       "      <th>site7</th>\n",
       "      <th>time7</th>\n",
       "      <th>site8</th>\n",
       "      <th>time8</th>\n",
       "      <th>site9</th>\n",
       "      <th>time9</th>\n",
       "      <th>site10</th>\n",
       "      <th>time10</th>\n",
       "    </tr>\n",
       "    <tr>\n",
       "      <th>session_id</th>\n",
       "      <th></th>\n",
       "      <th></th>\n",
       "      <th></th>\n",
       "      <th></th>\n",
       "      <th></th>\n",
       "      <th></th>\n",
       "      <th></th>\n",
       "      <th></th>\n",
       "      <th></th>\n",
       "      <th></th>\n",
       "      <th></th>\n",
       "      <th></th>\n",
       "      <th></th>\n",
       "      <th></th>\n",
       "      <th></th>\n",
       "      <th></th>\n",
       "      <th></th>\n",
       "      <th></th>\n",
       "      <th></th>\n",
       "      <th></th>\n",
       "    </tr>\n",
       "  </thead>\n",
       "  <tbody>\n",
       "    <tr>\n",
       "      <th>1</th>\n",
       "      <td>29</td>\n",
       "      <td>2014-10-04 11:19:53</td>\n",
       "      <td>35.0</td>\n",
       "      <td>2014-10-04 11:19:53</td>\n",
       "      <td>22.0</td>\n",
       "      <td>2014-10-04 11:19:54</td>\n",
       "      <td>321.0</td>\n",
       "      <td>2014-10-04 11:19:54</td>\n",
       "      <td>23.0</td>\n",
       "      <td>2014-10-04 11:19:54</td>\n",
       "      <td>2211.0</td>\n",
       "      <td>2014-10-04 11:19:54</td>\n",
       "      <td>6730.0</td>\n",
       "      <td>2014-10-04 11:19:54</td>\n",
       "      <td>21.0</td>\n",
       "      <td>2014-10-04 11:19:54</td>\n",
       "      <td>44582.0</td>\n",
       "      <td>2014-10-04 11:20:00</td>\n",
       "      <td>15336.0</td>\n",
       "      <td>2014-10-04 11:20:00</td>\n",
       "    </tr>\n",
       "    <tr>\n",
       "      <th>2</th>\n",
       "      <td>782</td>\n",
       "      <td>2014-07-03 11:00:28</td>\n",
       "      <td>782.0</td>\n",
       "      <td>2014-07-03 11:00:53</td>\n",
       "      <td>782.0</td>\n",
       "      <td>2014-07-03 11:00:58</td>\n",
       "      <td>782.0</td>\n",
       "      <td>2014-07-03 11:01:06</td>\n",
       "      <td>782.0</td>\n",
       "      <td>2014-07-03 11:01:09</td>\n",
       "      <td>782.0</td>\n",
       "      <td>2014-07-03 11:01:10</td>\n",
       "      <td>782.0</td>\n",
       "      <td>2014-07-03 11:01:23</td>\n",
       "      <td>782.0</td>\n",
       "      <td>2014-07-03 11:01:29</td>\n",
       "      <td>782.0</td>\n",
       "      <td>2014-07-03 11:01:30</td>\n",
       "      <td>782.0</td>\n",
       "      <td>2014-07-03 11:01:53</td>\n",
       "    </tr>\n",
       "    <tr>\n",
       "      <th>3</th>\n",
       "      <td>55</td>\n",
       "      <td>2014-12-05 15:55:12</td>\n",
       "      <td>55.0</td>\n",
       "      <td>2014-12-05 15:55:13</td>\n",
       "      <td>55.0</td>\n",
       "      <td>2014-12-05 15:55:14</td>\n",
       "      <td>55.0</td>\n",
       "      <td>2014-12-05 15:56:15</td>\n",
       "      <td>55.0</td>\n",
       "      <td>2014-12-05 15:56:16</td>\n",
       "      <td>55.0</td>\n",
       "      <td>2014-12-05 15:56:17</td>\n",
       "      <td>55.0</td>\n",
       "      <td>2014-12-05 15:56:18</td>\n",
       "      <td>55.0</td>\n",
       "      <td>2014-12-05 15:56:19</td>\n",
       "      <td>1445.0</td>\n",
       "      <td>2014-12-05 15:56:33</td>\n",
       "      <td>1445.0</td>\n",
       "      <td>2014-12-05 15:56:36</td>\n",
       "    </tr>\n",
       "    <tr>\n",
       "      <th>4</th>\n",
       "      <td>1023</td>\n",
       "      <td>2014-11-04 10:03:19</td>\n",
       "      <td>1022.0</td>\n",
       "      <td>2014-11-04 10:03:19</td>\n",
       "      <td>50.0</td>\n",
       "      <td>2014-11-04 10:03:20</td>\n",
       "      <td>222.0</td>\n",
       "      <td>2014-11-04 10:03:21</td>\n",
       "      <td>202.0</td>\n",
       "      <td>2014-11-04 10:03:21</td>\n",
       "      <td>3374.0</td>\n",
       "      <td>2014-11-04 10:03:22</td>\n",
       "      <td>50.0</td>\n",
       "      <td>2014-11-04 10:03:22</td>\n",
       "      <td>48.0</td>\n",
       "      <td>2014-11-04 10:03:22</td>\n",
       "      <td>48.0</td>\n",
       "      <td>2014-11-04 10:03:23</td>\n",
       "      <td>3374.0</td>\n",
       "      <td>2014-11-04 10:03:23</td>\n",
       "    </tr>\n",
       "    <tr>\n",
       "      <th>5</th>\n",
       "      <td>301</td>\n",
       "      <td>2014-05-16 15:05:31</td>\n",
       "      <td>301.0</td>\n",
       "      <td>2014-05-16 15:05:32</td>\n",
       "      <td>301.0</td>\n",
       "      <td>2014-05-16 15:05:33</td>\n",
       "      <td>66.0</td>\n",
       "      <td>2014-05-16 15:05:39</td>\n",
       "      <td>67.0</td>\n",
       "      <td>2014-05-16 15:05:40</td>\n",
       "      <td>69.0</td>\n",
       "      <td>2014-05-16 15:05:40</td>\n",
       "      <td>70.0</td>\n",
       "      <td>2014-05-16 15:05:40</td>\n",
       "      <td>68.0</td>\n",
       "      <td>2014-05-16 15:05:40</td>\n",
       "      <td>71.0</td>\n",
       "      <td>2014-05-16 15:05:40</td>\n",
       "      <td>167.0</td>\n",
       "      <td>2014-05-16 15:05:44</td>\n",
       "    </tr>\n",
       "  </tbody>\n",
       "</table>\n",
       "</div>"
      ],
      "text/plain": [
       "            site1                time1   site2                time2  site3  \\\n",
       "session_id                                                                   \n",
       "1              29  2014-10-04 11:19:53    35.0  2014-10-04 11:19:53   22.0   \n",
       "2             782  2014-07-03 11:00:28   782.0  2014-07-03 11:00:53  782.0   \n",
       "3              55  2014-12-05 15:55:12    55.0  2014-12-05 15:55:13   55.0   \n",
       "4            1023  2014-11-04 10:03:19  1022.0  2014-11-04 10:03:19   50.0   \n",
       "5             301  2014-05-16 15:05:31   301.0  2014-05-16 15:05:32  301.0   \n",
       "\n",
       "                          time3  site4                time4  site5  \\\n",
       "session_id                                                           \n",
       "1           2014-10-04 11:19:54  321.0  2014-10-04 11:19:54   23.0   \n",
       "2           2014-07-03 11:00:58  782.0  2014-07-03 11:01:06  782.0   \n",
       "3           2014-12-05 15:55:14   55.0  2014-12-05 15:56:15   55.0   \n",
       "4           2014-11-04 10:03:20  222.0  2014-11-04 10:03:21  202.0   \n",
       "5           2014-05-16 15:05:33   66.0  2014-05-16 15:05:39   67.0   \n",
       "\n",
       "                          time5   site6                time6   site7  \\\n",
       "session_id                                                             \n",
       "1           2014-10-04 11:19:54  2211.0  2014-10-04 11:19:54  6730.0   \n",
       "2           2014-07-03 11:01:09   782.0  2014-07-03 11:01:10   782.0   \n",
       "3           2014-12-05 15:56:16    55.0  2014-12-05 15:56:17    55.0   \n",
       "4           2014-11-04 10:03:21  3374.0  2014-11-04 10:03:22    50.0   \n",
       "5           2014-05-16 15:05:40    69.0  2014-05-16 15:05:40    70.0   \n",
       "\n",
       "                          time7  site8                time8    site9  \\\n",
       "session_id                                                             \n",
       "1           2014-10-04 11:19:54   21.0  2014-10-04 11:19:54  44582.0   \n",
       "2           2014-07-03 11:01:23  782.0  2014-07-03 11:01:29    782.0   \n",
       "3           2014-12-05 15:56:18   55.0  2014-12-05 15:56:19   1445.0   \n",
       "4           2014-11-04 10:03:22   48.0  2014-11-04 10:03:22     48.0   \n",
       "5           2014-05-16 15:05:40   68.0  2014-05-16 15:05:40     71.0   \n",
       "\n",
       "                          time9   site10               time10  \n",
       "session_id                                                     \n",
       "1           2014-10-04 11:20:00  15336.0  2014-10-04 11:20:00  \n",
       "2           2014-07-03 11:01:30    782.0  2014-07-03 11:01:53  \n",
       "3           2014-12-05 15:56:33   1445.0  2014-12-05 15:56:36  \n",
       "4           2014-11-04 10:03:23   3374.0  2014-11-04 10:03:23  \n",
       "5           2014-05-16 15:05:40    167.0  2014-05-16 15:05:44  "
      ]
     },
     "execution_count": 8,
     "metadata": {},
     "output_type": "execute_result"
    }
   ],
   "source": [
    "test_df.head()"
   ]
  },
  {
   "cell_type": "code",
   "execution_count": 9,
   "metadata": {},
   "outputs": [
    {
     "name": "stdout",
     "output_type": "stream",
     "text": [
      "<class 'pandas.core.frame.DataFrame'>\n",
      "Int64Index: 82797 entries, 1 to 82797\n",
      "Data columns (total 20 columns):\n",
      "site1     82797 non-null int64\n",
      "time1     82797 non-null object\n",
      "site2     81308 non-null float64\n",
      "time2     81308 non-null object\n",
      "site3     80075 non-null float64\n",
      "time3     80075 non-null object\n",
      "site4     79182 non-null float64\n",
      "time4     79182 non-null object\n",
      "site5     78341 non-null float64\n",
      "time5     78341 non-null object\n",
      "site6     77566 non-null float64\n",
      "time6     77566 non-null object\n",
      "site7     76840 non-null float64\n",
      "time7     76840 non-null object\n",
      "site8     76151 non-null float64\n",
      "time8     76151 non-null object\n",
      "site9     75484 non-null float64\n",
      "time9     75484 non-null object\n",
      "site10    74806 non-null float64\n",
      "time10    74806 non-null object\n",
      "dtypes: float64(9), int64(1), object(10)\n",
      "memory usage: 13.3+ MB\n"
     ]
    }
   ],
   "source": [
    "test_df.info()"
   ]
  },
  {
   "cell_type": "markdown",
   "metadata": {},
   "source": [
    "**В обучающей выборке – 2297 сессий одного пользователя (Alice) и 251264 сессий – других пользователей, не Элис. Дисбаланс классов очень сильный, и смотреть на долю верных ответов (accuracy) непоказательно.**"
   ]
  },
  {
   "cell_type": "code",
   "execution_count": 10,
   "metadata": {},
   "outputs": [
    {
     "data": {
      "text/plain": [
       "0    251264\n",
       "1      2297\n",
       "Name: target, dtype: int64"
      ]
     },
     "execution_count": 10,
     "metadata": {},
     "output_type": "execute_result"
    }
   ],
   "source": [
    "train_df['target'].value_counts()"
   ]
  },
  {
   "cell_type": "markdown",
   "metadata": {},
   "source": [
    "**Пока для прогноза будем использовать только индексы посещенных сайтов. Индексы нумеровались с 1, так что заменим пропуски на нули.**"
   ]
  },
  {
   "cell_type": "code",
   "execution_count": 11,
   "metadata": {
    "collapsed": true
   },
   "outputs": [],
   "source": [
    "train_test_df_sites = train_test_df[['site%d' % i for i in range(1, 11)]].fillna(0).astype('int')"
   ]
  },
  {
   "cell_type": "code",
   "execution_count": 12,
   "metadata": {},
   "outputs": [
    {
     "data": {
      "text/html": [
       "<div>\n",
       "<style>\n",
       "    .dataframe thead tr:only-child th {\n",
       "        text-align: right;\n",
       "    }\n",
       "\n",
       "    .dataframe thead th {\n",
       "        text-align: left;\n",
       "    }\n",
       "\n",
       "    .dataframe tbody tr th {\n",
       "        vertical-align: top;\n",
       "    }\n",
       "</style>\n",
       "<table border=\"1\" class=\"dataframe\">\n",
       "  <thead>\n",
       "    <tr style=\"text-align: right;\">\n",
       "      <th></th>\n",
       "      <th>site1</th>\n",
       "      <th>site2</th>\n",
       "      <th>site3</th>\n",
       "      <th>site4</th>\n",
       "      <th>site5</th>\n",
       "      <th>site6</th>\n",
       "      <th>site7</th>\n",
       "      <th>site8</th>\n",
       "      <th>site9</th>\n",
       "      <th>site10</th>\n",
       "    </tr>\n",
       "    <tr>\n",
       "      <th>session_id</th>\n",
       "      <th></th>\n",
       "      <th></th>\n",
       "      <th></th>\n",
       "      <th></th>\n",
       "      <th></th>\n",
       "      <th></th>\n",
       "      <th></th>\n",
       "      <th></th>\n",
       "      <th></th>\n",
       "      <th></th>\n",
       "    </tr>\n",
       "  </thead>\n",
       "  <tbody>\n",
       "    <tr>\n",
       "      <th>1</th>\n",
       "      <td>718</td>\n",
       "      <td>0</td>\n",
       "      <td>0</td>\n",
       "      <td>0</td>\n",
       "      <td>0</td>\n",
       "      <td>0</td>\n",
       "      <td>0</td>\n",
       "      <td>0</td>\n",
       "      <td>0</td>\n",
       "      <td>0</td>\n",
       "    </tr>\n",
       "    <tr>\n",
       "      <th>2</th>\n",
       "      <td>890</td>\n",
       "      <td>941</td>\n",
       "      <td>3847</td>\n",
       "      <td>941</td>\n",
       "      <td>942</td>\n",
       "      <td>3846</td>\n",
       "      <td>3847</td>\n",
       "      <td>3846</td>\n",
       "      <td>1516</td>\n",
       "      <td>1518</td>\n",
       "    </tr>\n",
       "    <tr>\n",
       "      <th>3</th>\n",
       "      <td>14769</td>\n",
       "      <td>39</td>\n",
       "      <td>14768</td>\n",
       "      <td>14769</td>\n",
       "      <td>37</td>\n",
       "      <td>39</td>\n",
       "      <td>14768</td>\n",
       "      <td>14768</td>\n",
       "      <td>14768</td>\n",
       "      <td>14768</td>\n",
       "    </tr>\n",
       "    <tr>\n",
       "      <th>4</th>\n",
       "      <td>782</td>\n",
       "      <td>782</td>\n",
       "      <td>782</td>\n",
       "      <td>782</td>\n",
       "      <td>782</td>\n",
       "      <td>782</td>\n",
       "      <td>782</td>\n",
       "      <td>782</td>\n",
       "      <td>782</td>\n",
       "      <td>782</td>\n",
       "    </tr>\n",
       "    <tr>\n",
       "      <th>5</th>\n",
       "      <td>22</td>\n",
       "      <td>177</td>\n",
       "      <td>175</td>\n",
       "      <td>178</td>\n",
       "      <td>177</td>\n",
       "      <td>178</td>\n",
       "      <td>175</td>\n",
       "      <td>177</td>\n",
       "      <td>177</td>\n",
       "      <td>178</td>\n",
       "    </tr>\n",
       "    <tr>\n",
       "      <th>6</th>\n",
       "      <td>570</td>\n",
       "      <td>21</td>\n",
       "      <td>570</td>\n",
       "      <td>21</td>\n",
       "      <td>21</td>\n",
       "      <td>0</td>\n",
       "      <td>0</td>\n",
       "      <td>0</td>\n",
       "      <td>0</td>\n",
       "      <td>0</td>\n",
       "    </tr>\n",
       "    <tr>\n",
       "      <th>7</th>\n",
       "      <td>803</td>\n",
       "      <td>23</td>\n",
       "      <td>5956</td>\n",
       "      <td>17513</td>\n",
       "      <td>37</td>\n",
       "      <td>21</td>\n",
       "      <td>803</td>\n",
       "      <td>17514</td>\n",
       "      <td>17514</td>\n",
       "      <td>17514</td>\n",
       "    </tr>\n",
       "    <tr>\n",
       "      <th>8</th>\n",
       "      <td>22</td>\n",
       "      <td>21</td>\n",
       "      <td>29</td>\n",
       "      <td>5041</td>\n",
       "      <td>14422</td>\n",
       "      <td>23</td>\n",
       "      <td>21</td>\n",
       "      <td>5041</td>\n",
       "      <td>14421</td>\n",
       "      <td>14421</td>\n",
       "    </tr>\n",
       "    <tr>\n",
       "      <th>9</th>\n",
       "      <td>668</td>\n",
       "      <td>940</td>\n",
       "      <td>942</td>\n",
       "      <td>941</td>\n",
       "      <td>941</td>\n",
       "      <td>942</td>\n",
       "      <td>940</td>\n",
       "      <td>23</td>\n",
       "      <td>21</td>\n",
       "      <td>22</td>\n",
       "    </tr>\n",
       "    <tr>\n",
       "      <th>10</th>\n",
       "      <td>3700</td>\n",
       "      <td>229</td>\n",
       "      <td>570</td>\n",
       "      <td>21</td>\n",
       "      <td>229</td>\n",
       "      <td>21</td>\n",
       "      <td>21</td>\n",
       "      <td>21</td>\n",
       "      <td>2336</td>\n",
       "      <td>2044</td>\n",
       "    </tr>\n",
       "  </tbody>\n",
       "</table>\n",
       "</div>"
      ],
      "text/plain": [
       "            site1  site2  site3  site4  site5  site6  site7  site8  site9  \\\n",
       "session_id                                                                  \n",
       "1             718      0      0      0      0      0      0      0      0   \n",
       "2             890    941   3847    941    942   3846   3847   3846   1516   \n",
       "3           14769     39  14768  14769     37     39  14768  14768  14768   \n",
       "4             782    782    782    782    782    782    782    782    782   \n",
       "5              22    177    175    178    177    178    175    177    177   \n",
       "6             570     21    570     21     21      0      0      0      0   \n",
       "7             803     23   5956  17513     37     21    803  17514  17514   \n",
       "8              22     21     29   5041  14422     23     21   5041  14421   \n",
       "9             668    940    942    941    941    942    940     23     21   \n",
       "10           3700    229    570     21    229     21     21     21   2336   \n",
       "\n",
       "            site10  \n",
       "session_id          \n",
       "1                0  \n",
       "2             1518  \n",
       "3            14768  \n",
       "4              782  \n",
       "5              178  \n",
       "6                0  \n",
       "7            17514  \n",
       "8            14421  \n",
       "9               22  \n",
       "10            2044  "
      ]
     },
     "execution_count": 12,
     "metadata": {},
     "output_type": "execute_result"
    }
   ],
   "source": [
    "train_test_df_sites.head(10)"
   ]
  },
  {
   "cell_type": "markdown",
   "metadata": {},
   "source": [
    "**Создайте разреженные матрицы *X_train_sparse* и *X_test_sparse* аналогично тому, как мы это делали ранее. Используйте объединенную матрицу *train_test_df_sites*, потом разделите обратно на обучающую и тестовую части.**\n",
    "\n",
    "Обратите внимание на то, что в  сессиях меньше 10 сайтов  у нас остались нули, так что первый признак (сколько раз попался 0) по смыслу отличен от остальных (сколько раз попался сайт с индексом $i$). Поэтому первый столбец разреженной матрицы надо будет удалить.\n",
    "\n",
    "**Выделите в отдельный вектор *y* ответы на обучающей выборке.**"
   ]
  },
  {
   "cell_type": "code",
   "execution_count": 13,
   "metadata": {
    "collapsed": true
   },
   "outputs": [],
   "source": [
    "def sp_matrix(X):\n",
    "    row = []\n",
    "    col = []\n",
    "    val = []\n",
    "    for i in tqdm_notebook(range(len(X))):\n",
    "        un_val = np.unique(X[i,:])\n",
    "        col.extend(un_val)\n",
    "        row.extend([i]*len(un_val))\n",
    "        val.extend([sum(X[i,:]==k) for k in un_val])\n",
    "    return csr_matrix((val,(row,col)))[:,1:]"
   ]
  },
  {
   "cell_type": "code",
   "execution_count": 18,
   "metadata": {},
   "outputs": [
    {
     "data": {
      "application/vnd.jupyter.widget-view+json": {
       "model_id": "b493c26bf3864f8aada4ac4981e55c27",
       "version_major": 2,
       "version_minor": 0
      },
      "text/plain": [
       "A Jupyter Widget"
      ]
     },
     "metadata": {},
     "output_type": "display_data"
    },
    {
     "name": "stdout",
     "output_type": "stream",
     "text": [
      "\n"
     ]
    },
    {
     "name": "stderr",
     "output_type": "stream",
     "text": [
      "Exception in thread Thread-6:\n",
      "Traceback (most recent call last):\n",
      "  File \"C:\\Users\\Alexandra\\Anaconda2\\lib\\threading.py\", line 801, in __bootstrap_inner\n",
      "    self.run()\n",
      "  File \"C:\\Users\\Alexandra\\Anaconda2\\lib\\site-packages\\tqdm\\_tqdm.py\", line 148, in run\n",
      "    for instance in self.tqdm_cls._instances:\n",
      "  File \"C:\\Users\\Alexandra\\Anaconda2\\lib\\_weakrefset.py\", line 60, in __iter__\n",
      "    for itemref in self.data:\n",
      "RuntimeError: Set changed size during iteration\n",
      "\n"
     ]
    }
   ],
   "source": [
    "Xsp = sp_matrix(train_test_df_sites.values)"
   ]
  },
  {
   "cell_type": "code",
   "execution_count": 28,
   "metadata": {
    "collapsed": true
   },
   "outputs": [],
   "source": [
    "train_test_sparse = Xsp\n",
    "X_train_sparse = Xsp[:train_df.shape[0], :]\n",
    "X_test_sparse = Xsp[train_df.shape[0]:, :]\n",
    "y = train_df['target'].values"
   ]
  },
  {
   "cell_type": "markdown",
   "metadata": {},
   "source": [
    "**1. Выведите размерности матриц *X_train_sparse* и *X_test_sparse* – 4 числа на одной строке через пробел: число строк и столбцов матрицы *X_train_sparse*, затем число строк и столбцов матрицы *X_test_sparse*.**"
   ]
  },
  {
   "cell_type": "code",
   "execution_count": 33,
   "metadata": {},
   "outputs": [
    {
     "name": "stdout",
     "output_type": "stream",
     "text": [
      "253561 48371 82797 48371\n"
     ]
    }
   ],
   "source": [
    "print X_train_sparse.shape[0], X_train_sparse.shape[1], X_test_sparse.shape[0], X_test_sparse.shape[1]"
   ]
  },
  {
   "cell_type": "markdown",
   "metadata": {},
   "source": [
    "**Сохраним в pickle-файлы объекты *X_train_sparse*, *X_test_sparse* и *y* (последний – в файл *kaggle_data/train_target.pkl*).**"
   ]
  },
  {
   "cell_type": "code",
   "execution_count": 34,
   "metadata": {
    "collapsed": true
   },
   "outputs": [],
   "source": [
    "with open(os.path.join(PATH_TO_DATA, 'X_train_sparse.pkl'), 'wb') as X_train_sparse_pkl:\n",
    "    pickle.dump(X_train_sparse, X_train_sparse_pkl, protocol=2)\n",
    "with open(os.path.join(PATH_TO_DATA, 'X_test_sparse.pkl'), 'wb') as X_test_sparse_pkl:\n",
    "    pickle.dump(X_test_sparse, X_test_sparse_pkl, protocol=2)\n",
    "with open(os.path.join(PATH_TO_DATA, 'train_target.pkl'), 'wb') as train_target_pkl:\n",
    "    pickle.dump(y, train_target_pkl, protocol=2)"
   ]
  },
  {
   "cell_type": "markdown",
   "metadata": {},
   "source": [
    "**Разобьем обучающую выборку на 2 части в пропорции 7/3, причем не перемешивая. Исходные данные упорядочены по времени, тестовая выборка по времени четко отделена от обучающей, это же соблюдем и здесь.**"
   ]
  },
  {
   "cell_type": "code",
   "execution_count": 35,
   "metadata": {
    "collapsed": true
   },
   "outputs": [],
   "source": [
    "train_share = int(.7 * X_train_sparse.shape[0])\n",
    "X_train, y_train = X_train_sparse[:train_share, :], y[:train_share]\n",
    "X_valid, y_valid  = X_train_sparse[train_share:, :], y[train_share:]"
   ]
  },
  {
   "cell_type": "code",
   "execution_count": null,
   "metadata": {
    "collapsed": true
   },
   "outputs": [],
   "source": []
  },
  {
   "cell_type": "markdown",
   "metadata": {
    "collapsed": true
   },
   "source": [
    "**Создайте объект `sklearn.linear_model.SGDClassifier` с логистической функцией потерь и параметром *random_state*=17. Остальные параметры оставьте по умолчанию, разве что *n_jobs*=-1 никогда не помешает. Обучите  модель на выборке `(X_train, y_train)`.**"
   ]
  },
  {
   "cell_type": "code",
   "execution_count": 36,
   "metadata": {
    "collapsed": true
   },
   "outputs": [],
   "source": [
    "from sklearn.linear_model import SGDClassifier"
   ]
  },
  {
   "cell_type": "code",
   "execution_count": 207,
   "metadata": {},
   "outputs": [
    {
     "data": {
      "text/plain": [
       "SGDClassifier(alpha=0.0001, average=False, class_weight=None, epsilon=0.1,\n",
       "       eta0=0.0, fit_intercept=True, l1_ratio=0.15,\n",
       "       learning_rate='optimal', loss='log', max_iter=5, n_iter=None,\n",
       "       n_jobs=-1, penalty='l2', power_t=0.5, random_state=17, shuffle=True,\n",
       "       tol=None, verbose=0, warm_start=False)"
      ]
     },
     "execution_count": 207,
     "metadata": {},
     "output_type": "execute_result"
    }
   ],
   "source": [
    "sgd_logit = SGDClassifier(loss = 'log', random_state=17, n_jobs=-1)\n",
    "sgd_logit.fit(X_train, y_train)"
   ]
  },
  {
   "cell_type": "markdown",
   "metadata": {},
   "source": [
    "**Сделайте прогноз в виде предсказанных вероятностей того, что это сессия Элис, на отложенной выборке *(X_valid, y_valid)*.**"
   ]
  },
  {
   "cell_type": "code",
   "execution_count": 208,
   "metadata": {
    "collapsed": true
   },
   "outputs": [],
   "source": [
    "logit_valid_pred_proba = sgd_logit.predict_proba(X_valid)[:,1]"
   ]
  },
  {
   "cell_type": "markdown",
   "metadata": {},
   "source": [
    "**2. Напечатайте ROC AUC логистической регрессии, обученной с помощью стохастического градиентного спуска, на отложенной выборке. Округлите до 3 знаков после разделителя.**"
   ]
  },
  {
   "cell_type": "code",
   "execution_count": 209,
   "metadata": {},
   "outputs": [
    {
     "name": "stdout",
     "output_type": "stream",
     "text": [
      "0.934\n"
     ]
    }
   ],
   "source": [
    "print np.round(roc_auc_score(y_valid, logit_valid_pred_proba ),3)"
   ]
  },
  {
   "cell_type": "markdown",
   "metadata": {},
   "source": [
    "**Сделайте прогноз в виде предсказанных вероятностей отнесения к классу 1 для тестовой выборки с помощью той же *sgd_logit*, обученной уже на всей обучающей выборке (а не на 70%).**"
   ]
  },
  {
   "cell_type": "code",
   "execution_count": 121,
   "metadata": {},
   "outputs": [
    {
     "name": "stdout",
     "output_type": "stream",
     "text": [
      "Wall time: 750 ms\n"
     ]
    }
   ],
   "source": [
    "%%time\n",
    "sgd_logit  = SGDClassifier(loss = 'log', random_state=17, n_jobs=-1)\n",
    "sgd_logit.fit(X_train_sparse, y)\n",
    "logit_test_pred_proba = sgd_logit.predict_proba(X_test_sparse)[:,1]"
   ]
  },
  {
   "cell_type": "code",
   "execution_count": 55,
   "metadata": {},
   "outputs": [
    {
     "data": {
      "text/plain": [
       "82797"
      ]
     },
     "execution_count": 55,
     "metadata": {},
     "output_type": "execute_result"
    }
   ],
   "source": [
    "len(logit_test_pred_proba)"
   ]
  },
  {
   "cell_type": "markdown",
   "metadata": {},
   "source": [
    "**Запишите ответы в файл и сделайте посылку на Kaggle. Дайте своей команде (из одного человека) на Kaggle говорящее название – по шаблону \"[YDF & MIPT] Coursera_Username\", чтоб можно было легко идентифицировать Вашу посылку на [лидерборде](https://inclass.kaggle.com/c/catch-me-if-you-can-intruder-detection-through-webpage-session-tracking2/leaderboard/public).**\n",
    "\n",
    "**Результат, который мы только что получили, соответствует бейзлайну \"SGDCLassifer\" на лидерборде, задача на эту неделю – как минимум его побить.**"
   ]
  },
  {
   "cell_type": "code",
   "execution_count": 51,
   "metadata": {
    "collapsed": true
   },
   "outputs": [],
   "source": [
    "def write_to_submission_file(predicted_labels, out_file,\n",
    "                             target='target', index_label=\"session_id\"):\n",
    "    # turn predictions into data frame and save as csv file\n",
    "    predicted_df = pd.DataFrame(predicted_labels,\n",
    "                                index = np.arange(1, predicted_labels.shape[0] + 1),\n",
    "                                columns=[target])\n",
    "    predicted_df.to_csv(out_file, index_label=index_label)"
   ]
  },
  {
   "cell_type": "code",
   "execution_count": 189,
   "metadata": {
    "collapsed": true
   },
   "outputs": [],
   "source": [
    "write_to_submission_file(logit_test_pred_proba, 'logit_test_pred_proba.csv')"
   ]
  },
  {
   "cell_type": "code",
   "execution_count": 212,
   "metadata": {
    "collapsed": true
   },
   "outputs": [],
   "source": [
    "from sklearn.model_selection import KFold, cross_val_score"
   ]
  },
  {
   "cell_type": "code",
   "execution_count": 213,
   "metadata": {
    "collapsed": true
   },
   "outputs": [],
   "source": [
    "kf = KFold(5,shuffle=True, random_state=17)"
   ]
  },
  {
   "cell_type": "code",
   "execution_count": 220,
   "metadata": {
    "scrolled": true
   },
   "outputs": [
    {
     "data": {
      "application/vnd.jupyter.widget-view+json": {
       "model_id": "fb376e0d67054967a91a6a3fd2286dbe",
       "version_major": 2,
       "version_minor": 0
      },
      "text/plain": [
       "A Jupyter Widget"
      ]
     },
     "metadata": {},
     "output_type": "display_data"
    },
    {
     "data": {
      "application/vnd.jupyter.widget-view+json": {
       "model_id": "f7f6e38e308a4b08841a0b037a70e36f",
       "version_major": 2,
       "version_minor": 0
      },
      "text/plain": [
       "A Jupyter Widget"
      ]
     },
     "metadata": {},
     "output_type": "display_data"
    },
    {
     "data": {
      "application/vnd.jupyter.widget-view+json": {
       "model_id": "fe86e1e975374486b44f50cee3bd949f",
       "version_major": 2,
       "version_minor": 0
      },
      "text/plain": [
       "A Jupyter Widget"
      ]
     },
     "metadata": {},
     "output_type": "display_data"
    },
    {
     "name": "stdout",
     "output_type": "stream",
     "text": [
      " hinge l2 1e-05 0.930754853358\n",
      "hinge l2 0.0001 0.939356741783\n",
      "hinge l2 0.001 0.937322686322\n",
      "hinge l2 0.01"
     ]
    },
    {
     "name": "stderr",
     "output_type": "stream",
     "text": [
      "Exception in thread Thread-17:\n",
      "Traceback (most recent call last):\n",
      "  File \"C:\\Users\\Alexandra\\Anaconda2\\lib\\threading.py\", line 801, in __bootstrap_inner\n",
      "    self.run()\n",
      "  File \"C:\\Users\\Alexandra\\Anaconda2\\lib\\site-packages\\tqdm\\_tqdm.py\", line 148, in run\n",
      "    for instance in self.tqdm_cls._instances:\n",
      "  File \"C:\\Users\\Alexandra\\Anaconda2\\lib\\_weakrefset.py\", line 60, in __iter__\n",
      "    for itemref in self.data:\n",
      "RuntimeError: Set changed size during iteration\n",
      "\n"
     ]
    },
    {
     "name": "stdout",
     "output_type": "stream",
     "text": [
      " 0.893202537272\n",
      "hinge l2 0.1 0.516421055155\n",
      "hinge l2 1.0 0.513557446049\n",
      "hinge l2 10.0 0.54472751136\n",
      "hinge l2 100.0 0.544727280539\n",
      "hinge l2 1000.0 0.544727665646\n",
      "hinge l2 10000.0 0.544727512095\n"
     ]
    },
    {
     "data": {
      "application/vnd.jupyter.widget-view+json": {
       "model_id": "754cf070c81a4fdb9206bad72ebb1a9d",
       "version_major": 2,
       "version_minor": 0
      },
      "text/plain": [
       "A Jupyter Widget"
      ]
     },
     "metadata": {},
     "output_type": "display_data"
    },
    {
     "name": "stdout",
     "output_type": "stream",
     "text": [
      "hinge l1 1e-05 0.902368861233\n",
      "hinge l1 0.0001 0.782503407678\n",
      "hinge l1 0.001 0.613980870543\n",
      "hinge l1 0.01 0.521510252702\n",
      "hinge l1 0.1 0.560645178697\n",
      "hinge l1 1.0 0.5\n",
      "hinge l1 10.0 0.5\n",
      "hinge l1 100.0 0.5\n",
      "hinge l1 1000.0 0.5\n",
      "hinge l1 10000.0 0.5\n"
     ]
    },
    {
     "data": {
      "application/vnd.jupyter.widget-view+json": {
       "model_id": "34627a11df2e4e43ac7fd318a8c10ef0",
       "version_major": 2,
       "version_minor": 0
      },
      "text/plain": [
       "A Jupyter Widget"
      ]
     },
     "metadata": {},
     "output_type": "display_data"
    },
    {
     "name": "stdout",
     "output_type": "stream",
     "text": [
      "hinge elasticnet 1e-05 0.1 0.930967059937\n",
      "hinge elasticnet 1e-05 0.15 0.926639969569\n",
      "hinge elasticnet 1e-05 0.2 0.923475087548\n",
      "hinge elasticnet 1e-05 0.25 0.928839010941\n",
      "hinge elasticnet 1e-05 0.3 0.924904968627\n",
      "hinge elasticnet 1e-05 0.35 0.924083642684\n",
      "hinge elasticnet 1e-05 0.4 0.930319364449\n",
      "hinge elasticnet 1e-05 0.45 0.926363682714\n",
      "hinge elasticnet 1e-05 0.5 0.927688341394\n",
      "hinge elasticnet 1e-05 0.55 0.928861891763\n",
      "hinge elasticnet 1e-05 0.6 0.925244437321\n",
      "hinge elasticnet 1e-05 0.65 0.923657937679\n",
      "hinge elasticnet 1e-05 0.7 0.9192746098\n",
      "hinge elasticnet 1e-05 0.75 0.919824613235\n",
      "hinge elasticnet 1e-05 0.8 0.918896224129\n",
      "hinge elasticnet 1e-05 0.85 0.916300487212\n",
      "hinge elasticnet 0.0001 0.1 0.919411135593\n",
      "hinge elasticnet 0.0001 0.15 0.913645958121\n",
      "hinge elasticnet 0.0001 0.2 0.90661582717\n",
      "hinge elasticnet 0.0001 0.25 0.896680773837\n",
      "hinge elasticnet 0.0001 0.3 0.898502330934\n",
      "hinge elasticnet 0.0001 0.35 0.8905062498\n",
      "hinge elasticnet 0.0001 0.4 0.87023521587\n",
      "hinge elasticnet 0.0001 0.45 0.865130171304\n",
      "hinge elasticnet 0.0001 0.5 0.870836782796\n",
      "hinge elasticnet 0.0001 0.55 0.866183291404\n",
      "hinge elasticnet 0.0001 0.6 0.856498618871\n",
      "hinge elasticnet 0.0001 0.65 0.851065419654\n",
      "hinge elasticnet 0.0001 0.7 0.843131730938\n",
      "hinge elasticnet 0.0001 0.75 0.840254877085\n",
      "hinge elasticnet 0.0001 0.8 0.832862329034\n",
      "hinge elasticnet 0.0001 0.85 0.805871471787\n",
      "hinge elasticnet 0.001 0.1 0.832646064861\n",
      "hinge elasticnet 0.001 0.15 0.758503960751\n",
      "hinge elasticnet 0.001 0.2 0.639148302907\n",
      "hinge elasticnet 0.001 0.25 0.626608555199\n",
      "hinge elasticnet 0.001 0.3 0.607314962876\n",
      "hinge elasticnet 0.001 0.35 0.602144476842\n",
      "hinge elasticnet 0.001 0.4 0.611760053869\n",
      "hinge elasticnet 0.001 0.45 0.586768350208\n",
      "hinge elasticnet 0.001 0.5 0.604559294226\n",
      "hinge elasticnet 0.001 0.55 0.590945454417\n",
      "hinge elasticnet 0.001 0.6 0.595931916277\n",
      "hinge elasticnet 0.001 0.65 0.548775910498\n",
      "hinge elasticnet 0.001 0.7 0.55828126833\n",
      "hinge elasticnet 0.001 0.75 0.587844268916\n",
      "hinge elasticnet 0.001 0.8 0.583413186901\n",
      "hinge elasticnet 0.001 0.85 0.586933159907\n",
      "hinge elasticnet 0.01 0.1 0.536336515794\n",
      "hinge elasticnet 0.01 0.15 0.517877003471\n",
      "hinge elasticnet 0.01 0.2 0.511932467229\n",
      "hinge elasticnet 0.01 0.25 0.5\n",
      "hinge elasticnet 0.01 0.3 0.5\n",
      "hinge elasticnet 0.01 0.35 0.5\n",
      "hinge elasticnet 0.01 0.4 0.5\n",
      "hinge elasticnet 0.01 0.45 0.5\n",
      "hinge elasticnet 0.01 0.5 0.5\n",
      "hinge elasticnet 0.01 0.55 0.5\n",
      "hinge elasticnet 0.01 0.6 0.5\n",
      "hinge elasticnet 0.01 0.65 0.5\n",
      "hinge elasticnet 0.01 0.7 0.5\n",
      "hinge elasticnet 0.01 0.75 0.5\n",
      "hinge elasticnet 0.01 0.8 0.5\n",
      "hinge elasticnet 0.01 0.85 0.512969904899\n",
      "hinge elasticnet 0.1 0.1 0.504753498725\n",
      "hinge elasticnet 0.1 0.15 0.502096931372\n",
      "hinge elasticnet 0.1 0.2 0.50196214032\n",
      "hinge elasticnet 0.1 0.25 0.504825994987\n",
      "hinge elasticnet 0.1 0.3 0.506069334024\n",
      "hinge elasticnet 0.1 0.35 0.510996849122\n",
      "hinge elasticnet 0.1 0.4 0.516439308848\n",
      "hinge elasticnet 0.1 0.45 0.522633682796\n",
      "hinge elasticnet 0.1 0.5 0.528363847947\n",
      "hinge elasticnet 0.1 0.55 0.530909473465\n",
      "hinge elasticnet 0.1 0.6 0.529263883362\n",
      "hinge elasticnet 0.1 0.65 0.528752305109\n",
      "hinge elasticnet 0.1 0.7 0.523658233331\n",
      "hinge elasticnet 0.1 0.75 0.520068220499\n",
      "hinge elasticnet 0.1 0.8 0.520306868879\n",
      "hinge elasticnet 0.1 0.85 0.527575751825\n",
      "hinge elasticnet 1.0 0.1 0.586672129571\n",
      "hinge elasticnet 1.0 0.15 0.568324135757\n",
      "hinge elasticnet 1.0 0.2 0.567472861196\n",
      "hinge elasticnet 1.0 0.25 0.57288846751\n",
      "hinge elasticnet 1.0 0.3 0.556345433653\n",
      "hinge elasticnet 1.0 0.35 0.545893426792\n",
      "hinge elasticnet 1.0 0.4 0.525965149011\n",
      "hinge elasticnet 1.0 0.45 0.525965149011\n",
      "hinge elasticnet 1.0 0.5 0.5\n",
      "hinge elasticnet 1.0 0.55 0.5\n",
      "hinge elasticnet 1.0 0.6 0.5\n",
      "hinge elasticnet 1.0 0.65 0.5\n",
      "hinge elasticnet 1.0 0.7 0.5\n",
      "hinge elasticnet 1.0 0.75 0.5\n",
      "hinge elasticnet 1.0 0.8 0.5\n",
      "hinge elasticnet 1.0 0.85 0.5\n",
      "hinge elasticnet 10.0 0.1 0.5\n",
      "hinge elasticnet 10.0 0.15 0.5\n",
      "hinge elasticnet 10.0 0.2 0.5\n",
      "hinge elasticnet 10.0 0.25 0.5\n",
      "hinge elasticnet 10.0 0.3 0.5\n",
      "hinge elasticnet 10.0 0.35 0.5\n",
      "hinge elasticnet 10.0 0.4 0.5\n",
      "hinge elasticnet 10.0 0.45 0.5\n",
      "hinge elasticnet 10.0 0.5 0.5\n",
      "hinge elasticnet 10.0 0.55 0.5\n",
      "hinge elasticnet 10.0 0.6 0.5\n",
      "hinge elasticnet 10.0 0.65 0.5\n",
      "hinge elasticnet 10.0 0.7 0.5\n",
      "hinge elasticnet 10.0 0.75 0.5\n",
      "hinge elasticnet 10.0 0.8 0.5\n",
      "hinge elasticnet 10.0 0.85 0.5\n",
      "hinge elasticnet 100.0 0.1 0.5\n",
      "hinge elasticnet 100.0 0.15 0.5\n",
      "hinge elasticnet 100.0 0.2 0.5\n",
      "hinge elasticnet 100.0 0.25 0.5\n",
      "hinge elasticnet 100.0 0.3 0.5\n",
      "hinge elasticnet 100.0 0.35 0.5\n",
      "hinge elasticnet 100.0 0.4 0.5\n",
      "hinge elasticnet 100.0 0.45 0.5\n",
      "hinge elasticnet 100.0 0.5 0.5\n",
      "hinge elasticnet 100.0 0.55 0.5\n",
      "hinge elasticnet 100.0 0.6 0.5\n",
      "hinge elasticnet 100.0 0.65 0.5\n",
      "hinge elasticnet 100.0 0.7 0.5\n",
      "hinge elasticnet 100.0 0.75 0.5\n",
      "hinge elasticnet 100.0 0.8 0.5\n",
      "hinge elasticnet 100.0 0.85 0.5\n",
      "hinge elasticnet 1000.0 0.1 0.5\n",
      "hinge elasticnet 1000.0 0.15 0.5\n",
      "hinge elasticnet 1000.0 0.2 0.5\n",
      "hinge elasticnet 1000.0 0.25 0.5\n",
      "hinge elasticnet 1000.0 0.3 0.5\n",
      "hinge elasticnet 1000.0 0.35 0.5\n",
      "hinge elasticnet 1000.0 0.4 0.5\n",
      "hinge elasticnet 1000.0 0.45 0.5\n",
      "hinge elasticnet 1000.0 0.5 0.5\n",
      "hinge elasticnet 1000.0 0.55 0.5\n",
      "hinge elasticnet 1000.0 0.6 0.5\n",
      "hinge elasticnet 1000.0 0.65 0.5\n",
      "hinge elasticnet 1000.0 0.7 0.5\n",
      "hinge elasticnet 1000.0 0.75 0.5\n",
      "hinge elasticnet 1000.0 0.8 0.5\n",
      "hinge elasticnet 1000.0 0.85 0.5\n",
      "hinge elasticnet 10000.0 0.1 0.5\n",
      "hinge elasticnet 10000.0 0.15 0.5\n",
      "hinge elasticnet 10000.0 0.2 0.5\n",
      "hinge elasticnet 10000.0 0.25 0.5\n",
      "hinge elasticnet 10000.0 0.3 0.5\n",
      "hinge elasticnet 10000.0 0.35 0.5\n",
      "hinge elasticnet 10000.0 0.4 0.5\n",
      "hinge elasticnet 10000.0 0.45 0.5\n",
      "hinge elasticnet 10000.0 0.5 0.5\n",
      "hinge elasticnet 10000.0 0.55 0.5\n",
      "hinge elasticnet 10000.0 0.6 0.5\n",
      "hinge elasticnet 10000.0 0.65 0.5\n",
      "hinge elasticnet 10000.0 0.7 0.5\n",
      "hinge elasticnet 10000.0 0.75 0.5\n",
      "hinge elasticnet 10000.0 0.8 0.5\n",
      "hinge elasticnet 10000.0 0.85 0.5\n"
     ]
    },
    {
     "data": {
      "application/vnd.jupyter.widget-view+json": {
       "model_id": "ff3226e1fb39424ab56bb28426cf1990",
       "version_major": 2,
       "version_minor": 0
      },
      "text/plain": [
       "A Jupyter Widget"
      ]
     },
     "metadata": {},
     "output_type": "display_data"
    },
    {
     "data": {
      "application/vnd.jupyter.widget-view+json": {
       "model_id": "6ad12fa8e1e24e57a0446dbbe512f314",
       "version_major": 2,
       "version_minor": 0
      },
      "text/plain": [
       "A Jupyter Widget"
      ]
     },
     "metadata": {},
     "output_type": "display_data"
    },
    {
     "name": "stdout",
     "output_type": "stream",
     "text": [
      "log l2 1e-05 0.951435347726\n",
      "log l2 0.0001 0.939520111547\n",
      "log l2 0.001 0.796249887289\n",
      "log l2 0.01 0.600172969433\n",
      "log l2 0.1 0.537570983478\n",
      "log l2 1.0 0.539486405542\n",
      "log l2 10.0 0.544039848803\n",
      "log l2 100.0 0.544659431191\n",
      "log l2 1000.0 0.544725517322\n",
      "log l2 10000.0 0.544729985949\n"
     ]
    },
    {
     "data": {
      "application/vnd.jupyter.widget-view+json": {
       "model_id": "2d1f326a7905488db478dd8e2bca5b18",
       "version_major": 2,
       "version_minor": 0
      },
      "text/plain": [
       "A Jupyter Widget"
      ]
     },
     "metadata": {},
     "output_type": "display_data"
    },
    {
     "name": "stdout",
     "output_type": "stream",
     "text": [
      "log l1 1e-05 0.916238090011\n",
      "log l1 0.0001 0.868193050618\n",
      "log l1 0.001 0.676626753221\n",
      "log l1 0.01 0.560435899511\n",
      "log l1 0.1 0.574166485898\n",
      "log l1 1.0 0.5\n",
      "log l1 10.0 0.5\n",
      "log l1 100.0 0.5\n",
      "log l1 1000.0 0.5\n",
      "log l1 10000.0 0.5\n"
     ]
    },
    {
     "data": {
      "application/vnd.jupyter.widget-view+json": {
       "model_id": "6e99ebba4c8349e580362248365790c7",
       "version_major": 2,
       "version_minor": 0
      },
      "text/plain": [
       "A Jupyter Widget"
      ]
     },
     "metadata": {},
     "output_type": "display_data"
    },
    {
     "name": "stdout",
     "output_type": "stream",
     "text": [
      "log elasticnet 1e-05 0.1 0.950680567685\n",
      "log elasticnet 1e-05 0.15 0.950045593077\n",
      "log elasticnet 1e-05 0.2 0.949353489502\n",
      "log elasticnet 1e-05 0.25 0.94885065911\n",
      "log elasticnet 1e-05 0.3 0.948726652392\n",
      "log elasticnet 1e-05 0.35 0.947919065965\n",
      "log elasticnet 1e-05 0.4 0.947806183994\n",
      "log elasticnet 1e-05 0.45 0.947151021274\n",
      "log elasticnet 1e-05 0.5 0.946836225506\n",
      "log elasticnet 1e-05 0.55 0.945878336125\n",
      "log elasticnet 1e-05 0.6 0.94442106243\n",
      "log elasticnet 1e-05 0.65 0.942807026656\n",
      "log elasticnet 1e-05 0.7 0.940905690055\n",
      "log elasticnet 1e-05 0.75 0.937760704384\n",
      "log elasticnet 1e-05 0.8 0.93500636635\n",
      "log elasticnet 1e-05 0.85 0.92937765898\n",
      "log elasticnet 0.0001 0.1 0.929034002253\n",
      "log elasticnet 0.0001 0.15 0.92522237433\n",
      "log elasticnet 0.0001 0.2 0.922073862614\n",
      "log elasticnet 0.0001 0.25 0.918935460029\n",
      "log elasticnet 0.0001 0.3 0.915720382228\n",
      "log elasticnet 0.0001 0.35 0.91218267651\n",
      "log elasticnet 0.0001 0.4 0.909360343507\n",
      "log elasticnet 0.0001 0.45 0.906300732354\n",
      "log elasticnet 0.0001 0.5 0.902820932071\n",
      "log elasticnet 0.0001 0.55 0.898605322903\n",
      "log elasticnet 0.0001 0.6 0.895116918703\n",
      "log elasticnet 0.0001 0.65 0.892927266832\n",
      "log elasticnet 0.0001 0.7 0.89044137922\n",
      "log elasticnet 0.0001 0.75 0.888080111971\n",
      "log elasticnet 0.0001 0.8 0.886045105334\n",
      "log elasticnet 0.0001 0.85 0.881664884749\n",
      "log elasticnet 0.001 0.1 0.762948606895\n",
      "log elasticnet 0.001 0.15 0.753779934201\n",
      "log elasticnet 0.001 0.2 0.747916435789\n",
      "log elasticnet 0.001 0.25 0.742487333775\n",
      "log elasticnet 0.001 0.3 0.737405416493\n",
      "log elasticnet 0.001 0.35 0.731820509914\n",
      "log elasticnet 0.001 0.4 0.725166544206\n",
      "log elasticnet 0.001 0.45 0.720066826886\n",
      "log elasticnet 0.001 0.5 0.712760112901\n",
      "log elasticnet 0.001 0.55 0.707954045735\n",
      "log elasticnet 0.001 0.6 0.703773566411\n",
      "log elasticnet 0.001 0.65 0.697753488979\n",
      "log elasticnet 0.001 0.7 0.694178777888\n",
      "log elasticnet 0.001 0.75 0.691917655609\n",
      "log elasticnet 0.001 0.8 0.691095724255\n",
      "log elasticnet 0.001 0.85 0.691381293324\n",
      "log elasticnet 0.01 0.1 0.582074442781\n",
      "log elasticnet 0.01 0.15 0.579098155473\n",
      "log elasticnet 0.01 0.2 0.576034163296\n",
      "log elasticnet 0.01 0.25 0.574821905945\n",
      "log elasticnet 0.01 0.3 0.572510360869\n",
      "log elasticnet 0.01 0.35 0.570669390391\n",
      "log elasticnet 0.01 0.4 0.569828400538\n",
      "log elasticnet 0.01 0.45 0.569095326463\n",
      "log elasticnet 0.01 0.5 0.569263604535\n",
      "log elasticnet 0.01 0.55 0.56768918304\n",
      "log elasticnet 0.01 0.6 0.567772422372\n",
      "log elasticnet 0.01 0.65 0.565804370777\n",
      "log elasticnet 0.01 0.7 0.563967727292\n",
      "log elasticnet 0.01 0.75 0.562594318496\n",
      "log elasticnet 0.01 0.8 0.562905455341\n",
      "log elasticnet 0.01 0.85 0.561266661066\n",
      "log elasticnet 0.1 0.1 0.542493115713\n",
      "log elasticnet 0.1 0.15 0.550623485667\n",
      "log elasticnet 0.1 0.2 0.558573218318\n",
      "log elasticnet 0.1 0.25 0.559883350944\n",
      "log elasticnet 0.1 0.3 0.556511653157\n",
      "log elasticnet 0.1 0.35 0.55028640209\n",
      "log elasticnet 0.1 0.4 0.558381741959\n",
      "log elasticnet 0.1 0.45 0.571567062724\n",
      "log elasticnet 0.1 0.5 0.56846851687\n",
      "log elasticnet 0.1 0.55 0.566830086983\n",
      "log elasticnet 0.1 0.6 0.564779824927\n",
      "log elasticnet 0.1 0.65 0.568643852249\n",
      "log elasticnet 0.1 0.7 0.55632399655\n",
      "log elasticnet 0.1 0.75 0.576258106583\n",
      "log elasticnet 0.1 0.8 0.575517090065\n",
      "log elasticnet 0.1 0.85 0.575153842956\n",
      "log elasticnet 1.0 0.1 0.574535368755\n",
      "log elasticnet 1.0 0.15 0.545684481146\n",
      "log elasticnet 1.0 0.2 0.525965149011\n",
      "log elasticnet 1.0 0.25 0.5\n",
      "log elasticnet 1.0 0.3 0.5\n",
      "log elasticnet 1.0 0.35 0.5\n",
      "log elasticnet 1.0 0.4 0.5\n",
      "log elasticnet 1.0 0.45 0.5\n",
      "log elasticnet 1.0 0.5 0.5\n",
      "log elasticnet 1.0 0.55 0.5\n",
      "log elasticnet 1.0 0.6 0.5\n",
      "log elasticnet 1.0 0.65 0.5\n",
      "log elasticnet 1.0 0.7 0.5\n",
      "log elasticnet 1.0 0.75 0.5\n",
      "log elasticnet 1.0 0.8 0.5\n",
      "log elasticnet 1.0 0.85 0.5\n",
      "log elasticnet 10.0 0.1 0.5\n",
      "log elasticnet 10.0 0.15 0.5\n",
      "log elasticnet 10.0 0.2 0.5\n",
      "log elasticnet 10.0 0.25 0.5\n",
      "log elasticnet 10.0 0.3 0.5\n",
      "log elasticnet 10.0 0.35 0.5\n",
      "log elasticnet 10.0 0.4 0.5\n",
      "log elasticnet 10.0 0.45 0.5\n",
      "log elasticnet 10.0 0.5 0.5\n",
      "log elasticnet 10.0 0.55 0.5\n",
      "log elasticnet 10.0 0.6 0.5\n",
      "log elasticnet 10.0 0.65 0.5\n",
      "log elasticnet 10.0 0.7 0.5\n",
      "log elasticnet 10.0 0.75 0.5\n",
      "log elasticnet 10.0 0.8 0.5\n",
      "log elasticnet 10.0 0.85 0.5\n",
      "log elasticnet 100.0 0.1 0.5\n",
      "log elasticnet 100.0 0.15 0.5\n",
      "log elasticnet 100.0 0.2 0.5\n",
      "log elasticnet 100.0 0.25 0.5\n",
      "log elasticnet 100.0 0.3 0.5\n",
      "log elasticnet 100.0 0.35 0.5\n",
      "log elasticnet 100.0 0.4 0.5\n",
      "log elasticnet 100.0 0.45 0.5\n",
      "log elasticnet 100.0 0.5 0.5\n",
      "log elasticnet 100.0 0.55 0.5\n",
      "log elasticnet 100.0 0.6 0.5\n",
      "log elasticnet 100.0 0.65 0.5\n",
      "log elasticnet 100.0 0.7 0.5\n",
      "log elasticnet 100.0 0.75 0.5\n",
      "log elasticnet 100.0 0.8 0.5\n",
      "log elasticnet 100.0 0.85 0.5\n",
      "log elasticnet 1000.0 0.1 0.5\n",
      "log elasticnet 1000.0 0.15 0.5\n",
      "log elasticnet 1000.0 0.2 0.5\n",
      "log elasticnet 1000.0 0.25 0.5\n",
      "log elasticnet 1000.0 0.3 0.5\n",
      "log elasticnet 1000.0 0.35 0.5\n",
      "log elasticnet 1000.0 0.4 0.5\n",
      "log elasticnet 1000.0 0.45 0.5\n",
      "log elasticnet 1000.0 0.5 0.5\n",
      "log elasticnet 1000.0 0.55 0.5\n",
      "log elasticnet 1000.0 0.6 0.5\n",
      "log elasticnet 1000.0 0.65 0.5\n",
      "log elasticnet 1000.0 0.7 0.5\n",
      "log elasticnet 1000.0 0.75 0.5\n",
      "log elasticnet 1000.0 0.8 0.5\n",
      "log elasticnet 1000.0 0.85 0.5\n",
      "log elasticnet 10000.0 0.1 0.5\n",
      "log elasticnet 10000.0 0.15 0.5\n",
      "log elasticnet 10000.0 0.2 0.5\n",
      "log elasticnet 10000.0 0.25 0.5\n",
      "log elasticnet 10000.0 0.3 0.5\n",
      "log elasticnet 10000.0 0.35 0.5\n",
      "log elasticnet 10000.0 0.4 0.5\n",
      "log elasticnet 10000.0 0.45 0.5\n",
      "log elasticnet 10000.0 0.5 0.5\n",
      "log elasticnet 10000.0 0.55 0.5\n",
      "log elasticnet 10000.0 0.6 0.5\n",
      "log elasticnet 10000.0 0.65 0.5\n",
      "log elasticnet 10000.0 0.7 0.5\n",
      "log elasticnet 10000.0 0.75 0.5\n",
      "log elasticnet 10000.0 0.8 0.5\n",
      "log elasticnet 10000.0 0.85 0.5\n"
     ]
    },
    {
     "data": {
      "application/vnd.jupyter.widget-view+json": {
       "model_id": "34e3691622ef4783809991d0c0c279aa",
       "version_major": 2,
       "version_minor": 0
      },
      "text/plain": [
       "A Jupyter Widget"
      ]
     },
     "metadata": {},
     "output_type": "display_data"
    },
    {
     "data": {
      "application/vnd.jupyter.widget-view+json": {
       "model_id": "33a97f55230644c7a632f2e944acfeca",
       "version_major": 2,
       "version_minor": 0
      },
      "text/plain": [
       "A Jupyter Widget"
      ]
     },
     "metadata": {},
     "output_type": "display_data"
    },
    {
     "name": "stdout",
     "output_type": "stream",
     "text": [
      "modified_huber l2 1e-05 0.925659615229\n",
      "modified_huber l2 0.0001 0.9409964722\n",
      "modified_huber l2 0.001 0.945593588418\n",
      "modified_huber l2 0.01 0.915949380532\n",
      "modified_huber l2 0.1 0.602170795708\n",
      "modified_huber l2 1.0 0.528868224588\n",
      "modified_huber l2 10.0 0.54006602593\n",
      "modified_huber l2 100.0 0.544225853937\n",
      "modified_huber l2 1000.0 0.544704132884\n",
      "modified_huber l2 10000.0 0.544743794834\n"
     ]
    },
    {
     "data": {
      "application/vnd.jupyter.widget-view+json": {
       "model_id": "170e8a59d14f457caf3e667e78c76ecc",
       "version_major": 2,
       "version_minor": 0
      },
      "text/plain": [
       "A Jupyter Widget"
      ]
     },
     "metadata": {},
     "output_type": "display_data"
    },
    {
     "name": "stdout",
     "output_type": "stream",
     "text": [
      "modified_huber l1 1e-05 0.907221791855\n",
      "modified_huber l1 0.0001 0.853672193835\n",
      "modified_huber l1 0.001 0.790794313156\n",
      "modified_huber l1 0.01 0.615863429045\n",
      "modified_huber l1 0.1 0.57956906432\n",
      "modified_huber l1 1.0 0.5\n",
      "modified_huber l1 10.0 0.5\n",
      "modified_huber l1 100.0 0.5\n",
      "modified_huber l1 1000.0 0.5\n",
      "modified_huber l1 10000.0 0.5\n"
     ]
    },
    {
     "data": {
      "application/vnd.jupyter.widget-view+json": {
       "model_id": "f122b221c4004ee594ce5310752b8436",
       "version_major": 2,
       "version_minor": 0
      },
      "text/plain": [
       "A Jupyter Widget"
      ]
     },
     "metadata": {},
     "output_type": "display_data"
    },
    {
     "name": "stdout",
     "output_type": "stream",
     "text": [
      "modified_huber elasticnet 1e-05 0.1 0.927597790523\n",
      "modified_huber elasticnet 1e-05 0.15 0.930000674706\n",
      "modified_huber elasticnet 1e-05 0.2 0.930768367338\n",
      "modified_huber elasticnet 1e-05 0.25 0.926309871533\n",
      "modified_huber elasticnet 1e-05 0.3 0.928827605135\n",
      "modified_huber elasticnet 1e-05 0.35 0.932176122471\n",
      "modified_huber elasticnet 1e-05 0.4 0.931784947551\n",
      "modified_huber elasticnet 1e-05 0.45 0.928313812993\n",
      "modified_huber elasticnet 1e-05 0.5 0.931687905987\n",
      "modified_huber elasticnet 1e-05 0.55 0.932215847376\n",
      "modified_huber elasticnet 1e-05 0.6 0.934851764365\n",
      "modified_huber elasticnet 1e-05 0.65 0.932876882895\n",
      "modified_huber elasticnet 1e-05 0.7 0.9292832777\n",
      "modified_huber elasticnet 1e-05 0.75 0.925543497065\n",
      "modified_huber elasticnet 1e-05 0.8 0.925655528247\n",
      "modified_huber elasticnet 1e-05 0.85 0.918502088258\n",
      "modified_huber elasticnet 0.0001 0.1 0.935298176791\n",
      "modified_huber elasticnet 0.0001 0.15 0.932678686319\n",
      "modified_huber elasticnet 0.0001 0.2 0.930964595824\n",
      "modified_huber elasticnet 0.0001 0.25 0.929488864974\n",
      "modified_huber elasticnet 0.0001 0.3 0.92885533513\n",
      "modified_huber elasticnet 0.0001 0.35 0.927925465065\n",
      "modified_huber elasticnet 0.0001 0.4 0.926185130853\n",
      "modified_huber elasticnet 0.0001 0.45 0.925661521667\n",
      "modified_huber elasticnet 0.0001 0.5 0.923813787395\n",
      "modified_huber elasticnet 0.0001 0.55 0.923929745514\n",
      "modified_huber elasticnet 0.0001 0.6 0.922014831474\n",
      "modified_huber elasticnet 0.0001 0.65 0.917927886135\n",
      "modified_huber elasticnet 0.0001 0.7 0.916225617558\n",
      "modified_huber elasticnet 0.0001 0.75 0.911736329546\n",
      "modified_huber elasticnet 0.0001 0.8 0.902399860541\n",
      "modified_huber elasticnet 0.0001 0.85 0.893622110202\n",
      "modified_huber elasticnet 0.001 0.1 0.914378290501\n",
      "modified_huber elasticnet 0.001 0.15 0.903204975161\n",
      "modified_huber elasticnet 0.001 0.2 0.892942591038\n",
      "modified_huber elasticnet 0.001 0.25 0.885617285188\n",
      "modified_huber elasticnet 0.001 0.3 0.8798137973\n",
      "modified_huber elasticnet 0.001 0.35 0.87416501595\n",
      "modified_huber elasticnet 0.001 0.4 0.866254065017\n",
      "modified_huber elasticnet 0.001 0.45 0.856538260126\n",
      "modified_huber elasticnet 0.001 0.5 0.851188714849\n",
      "modified_huber elasticnet 0.001 0.55 0.846428833204\n",
      "modified_huber elasticnet 0.001 0.6 0.840613017342\n",
      "modified_huber elasticnet 0.001 0.65 0.829331852907\n",
      "modified_huber elasticnet 0.001 0.7 0.829003135381\n",
      "modified_huber elasticnet 0.001 0.75 0.827319016008\n",
      "modified_huber elasticnet 0.001 0.8 0.821520437089\n",
      "modified_huber elasticnet 0.001 0.85 0.801498346684\n",
      "modified_huber elasticnet 0.01 0.1 0.827384073254\n",
      "modified_huber elasticnet 0.01 0.15 0.812954734957\n",
      "modified_huber elasticnet 0.01 0.2 0.802312187341\n",
      "modified_huber elasticnet 0.01 0.25 0.782235857575\n",
      "modified_huber elasticnet 0.01 0.3 0.777156719587\n",
      "modified_huber elasticnet 0.01 0.35 0.753881731124\n",
      "modified_huber elasticnet 0.01 0.4 0.738402026481\n",
      "modified_huber elasticnet 0.01 0.45 0.689300039568\n",
      "modified_huber elasticnet 0.01 0.5 0.668940311877\n",
      "modified_huber elasticnet 0.01 0.55 0.668943491306\n",
      "modified_huber elasticnet 0.01 0.6 0.668576019785\n",
      "modified_huber elasticnet 0.01 0.65 0.659213095018\n",
      "modified_huber elasticnet 0.01 0.7 0.659209153389\n",
      "modified_huber elasticnet 0.01 0.75 0.673237258094\n",
      "modified_huber elasticnet 0.01 0.8 0.63506299415\n",
      "modified_huber elasticnet 0.01 0.85 0.635779567923\n",
      "modified_huber elasticnet 0.1 0.1 0.564810205479\n",
      "modified_huber elasticnet 0.1 0.15 0.561091492394\n",
      "modified_huber elasticnet 0.1 0.2 0.559723542952\n",
      "modified_huber elasticnet 0.1 0.25 0.559758439826\n",
      "modified_huber elasticnet 0.1 0.3 0.559493647728\n",
      "modified_huber elasticnet 0.1 0.35 0.56360210182\n",
      "modified_huber elasticnet 0.1 0.4 0.563293335841\n",
      "modified_huber elasticnet 0.1 0.45 0.560299527019\n",
      "modified_huber elasticnet 0.1 0.5 0.577108428151\n",
      "modified_huber elasticnet 0.1 0.55 0.576208368215\n",
      "modified_huber elasticnet 0.1 0.6 0.571618072975\n",
      "modified_huber elasticnet 0.1 0.65 0.571145692835\n",
      "modified_huber elasticnet 0.1 0.7 0.572077477255\n",
      "modified_huber elasticnet 0.1 0.75 0.57775929356\n",
      "modified_huber elasticnet 0.1 0.8 0.575227258727\n",
      "modified_huber elasticnet 0.1 0.85 0.581329761271\n",
      "modified_huber elasticnet 1.0 0.1 0.559399387996\n",
      "modified_huber elasticnet 1.0 0.15 0.561114152836\n",
      "modified_huber elasticnet 1.0 0.2 0.569566581906\n",
      "modified_huber elasticnet 1.0 0.25 0.566602980556\n",
      "modified_huber elasticnet 1.0 0.3 0.564559636314\n",
      "modified_huber elasticnet 1.0 0.35 0.575866227236\n",
      "modified_huber elasticnet 1.0 0.4 0.569760443339\n",
      "modified_huber elasticnet 1.0 0.45 0.567080908322\n",
      "modified_huber elasticnet 1.0 0.5 0.545893426792\n",
      "modified_huber elasticnet 1.0 0.55 0.545893426792\n",
      "modified_huber elasticnet 1.0 0.6 0.545893426792\n",
      "modified_huber elasticnet 1.0 0.65 0.534817208245\n",
      "modified_huber elasticnet 1.0 0.7 0.525965149011\n",
      "modified_huber elasticnet 1.0 0.75 0.5\n",
      "modified_huber elasticnet 1.0 0.8 0.5\n",
      "modified_huber elasticnet 1.0 0.85 0.5\n",
      "modified_huber elasticnet 10.0 0.1 0.5\n",
      "modified_huber elasticnet 10.0 0.15 0.5\n",
      "modified_huber elasticnet 10.0 0.2 0.5\n",
      "modified_huber elasticnet 10.0 0.25 0.5\n",
      "modified_huber elasticnet 10.0 0.3 0.5\n",
      "modified_huber elasticnet 10.0 0.35 0.5\n",
      "modified_huber elasticnet 10.0 0.4 0.5\n",
      "modified_huber elasticnet 10.0 0.45 0.5\n",
      "modified_huber elasticnet 10.0 0.5 0.5\n",
      "modified_huber elasticnet 10.0 0.55 0.5\n",
      "modified_huber elasticnet 10.0 0.6 0.5\n",
      "modified_huber elasticnet 10.0 0.65 0.5\n",
      "modified_huber elasticnet 10.0 0.7 0.5\n",
      "modified_huber elasticnet 10.0 0.75 0.5\n",
      "modified_huber elasticnet 10.0 0.8 0.5\n",
      "modified_huber elasticnet 10.0 0.85 0.5\n",
      "modified_huber elasticnet 100.0 0.1 0.5\n",
      "modified_huber elasticnet 100.0 0.15 0.5\n",
      "modified_huber elasticnet 100.0 0.2 0.5\n",
      "modified_huber elasticnet 100.0 0.25 0.5\n",
      "modified_huber elasticnet 100.0 0.3 0.5\n",
      "modified_huber elasticnet 100.0 0.35 0.5\n",
      "modified_huber elasticnet 100.0 0.4 0.5\n",
      "modified_huber elasticnet 100.0 0.45 0.5\n",
      "modified_huber elasticnet 100.0 0.5 0.5\n",
      "modified_huber elasticnet 100.0 0.55 0.5\n",
      "modified_huber elasticnet 100.0 0.6 0.5\n",
      "modified_huber elasticnet 100.0 0.65 0.5\n",
      "modified_huber elasticnet 100.0 0.7 0.5\n",
      "modified_huber elasticnet 100.0 0.75 0.5\n",
      "modified_huber elasticnet 100.0 0.8 0.5\n",
      "modified_huber elasticnet 100.0 0.85 0.5\n",
      "modified_huber elasticnet 1000.0 0.1 0.5\n",
      "modified_huber elasticnet 1000.0 0.15 0.5\n",
      "modified_huber elasticnet 1000.0 0.2 0.5\n",
      "modified_huber elasticnet 1000.0 0.25 0.5\n",
      "modified_huber elasticnet 1000.0 0.3 0.5\n",
      "modified_huber elasticnet 1000.0 0.35 0.5\n",
      "modified_huber elasticnet 1000.0 0.4 0.5\n",
      "modified_huber elasticnet 1000.0 0.45 0.5\n",
      "modified_huber elasticnet 1000.0 0.5 0.5\n",
      "modified_huber elasticnet 1000.0 0.55 0.5\n",
      "modified_huber elasticnet 1000.0 0.6 0.5\n",
      "modified_huber elasticnet 1000.0 0.65 0.5\n",
      "modified_huber elasticnet 1000.0 0.7 0.5\n",
      "modified_huber elasticnet 1000.0 0.75 0.5\n",
      "modified_huber elasticnet 1000.0 0.8 0.5\n",
      "modified_huber elasticnet 1000.0 0.85 0.5\n",
      "modified_huber elasticnet 10000.0 0.1 0.5\n",
      "modified_huber elasticnet 10000.0 0.15 0.5\n",
      "modified_huber elasticnet 10000.0 0.2 0.5\n",
      "modified_huber elasticnet 10000.0 0.25 0.5\n",
      "modified_huber elasticnet 10000.0 0.3 0.5\n",
      "modified_huber elasticnet 10000.0 0.35 0.5\n",
      "modified_huber elasticnet 10000.0 0.4 0.5\n",
      "modified_huber elasticnet 10000.0 0.45 0.5\n",
      "modified_huber elasticnet 10000.0 0.5 0.5\n",
      "modified_huber elasticnet 10000.0 0.55 0.5\n",
      "modified_huber elasticnet 10000.0 0.6 0.5\n",
      "modified_huber elasticnet 10000.0 0.65 0.5\n",
      "modified_huber elasticnet 10000.0 0.7 0.5\n",
      "modified_huber elasticnet 10000.0 0.75 0.5\n",
      "modified_huber elasticnet 10000.0 0.8 0.5\n",
      "modified_huber elasticnet 10000.0 0.85 0.5\n"
     ]
    },
    {
     "data": {
      "application/vnd.jupyter.widget-view+json": {
       "model_id": "83e9d8966c1f43979f62f157c05f36be",
       "version_major": 2,
       "version_minor": 0
      },
      "text/plain": [
       "A Jupyter Widget"
      ]
     },
     "metadata": {},
     "output_type": "display_data"
    },
    {
     "data": {
      "application/vnd.jupyter.widget-view+json": {
       "model_id": "23ed7b8014f747d4a163b906aa8b990d",
       "version_major": 2,
       "version_minor": 0
      },
      "text/plain": [
       "A Jupyter Widget"
      ]
     },
     "metadata": {},
     "output_type": "display_data"
    },
    {
     "name": "stdout",
     "output_type": "stream",
     "text": [
      "squared_hinge l2 1e-05 0.925795958619\n",
      "squared_hinge l2 0.0001 0.919511264648\n",
      "squared_hinge l2 0.001 0.875360123652\n",
      "squared_hinge l2 0.01 0.823129361294\n",
      "squared_hinge l2 0.1 0.625703614627\n",
      "squared_hinge l2 1.0 0.528860933296\n",
      "squared_hinge l2 10.0 0.54006602593\n",
      "squared_hinge l2 100.0 0.544225853937\n",
      "squared_hinge l2 1000.0 0.544704132884\n",
      "squared_hinge l2 10000.0 0.544743794834\n"
     ]
    },
    {
     "data": {
      "application/vnd.jupyter.widget-view+json": {
       "model_id": "c4b7d7690b284ef4bcf0274a22a6eeaf",
       "version_major": 2,
       "version_minor": 0
      },
      "text/plain": [
       "A Jupyter Widget"
      ]
     },
     "metadata": {},
     "output_type": "display_data"
    },
    {
     "name": "stdout",
     "output_type": "stream",
     "text": [
      "squared_hinge l1 1e-05 0.909581386717\n",
      "squared_hinge l1 0.0001 0.883759085186\n",
      "squared_hinge l1 0.001 0.876985739928\n",
      "squared_hinge l1 0.01 0.750680517474\n",
      "squared_hinge l1 0.1 0.577049772799\n",
      "squared_hinge l1 1.0 0.5\n",
      "squared_hinge l1 10.0 0.5\n",
      "squared_hinge l1 100.0 0.5\n",
      "squared_hinge l1 1000.0 0.5\n",
      "squared_hinge l1 10000.0 0.5\n"
     ]
    },
    {
     "data": {
      "application/vnd.jupyter.widget-view+json": {
       "model_id": "06f29e39adfc4a538a5d63a0123c09b3",
       "version_major": 2,
       "version_minor": 0
      },
      "text/plain": [
       "A Jupyter Widget"
      ]
     },
     "metadata": {},
     "output_type": "display_data"
    },
    {
     "name": "stdout",
     "output_type": "stream",
     "text": [
      "squared_hinge elasticnet 1e-05 0.1 0.925438023672\n",
      "squared_hinge elasticnet 1e-05 0.15 0.930317364159\n",
      "squared_hinge elasticnet 1e-05 0.2 0.922813963068\n",
      "squared_hinge elasticnet 1e-05 0.25 0.934401535397\n",
      "squared_hinge elasticnet 1e-05 0.3 0.931058287133\n",
      "squared_hinge elasticnet 1e-05 0.35 0.926972150304\n",
      "squared_hinge elasticnet 1e-05 0.4 0.935037951036\n",
      "squared_hinge elasticnet 1e-05 0.45 0.936307216309\n",
      "squared_hinge elasticnet 1e-05 0.5 0.934895401821\n",
      "squared_hinge elasticnet 1e-05 0.55 0.934390152732\n",
      "squared_hinge elasticnet 1e-05 0.6 0.933557677873\n",
      "squared_hinge elasticnet 1e-05 0.65 0.930835159342\n",
      "squared_hinge elasticnet 1e-05 0.7 0.930652509564\n",
      "squared_hinge elasticnet 1e-05 0.75 0.927736420185\n",
      "squared_hinge elasticnet 1e-05 0.8 0.928018375603\n",
      "squared_hinge elasticnet 1e-05 0.85 0.922542771705\n",
      "squared_hinge elasticnet 0.0001 0.1 0.922427096656\n",
      "squared_hinge elasticnet 0.0001 0.15 0.923905752191\n",
      "squared_hinge elasticnet 0.0001 0.2 0.925575089646\n",
      "squared_hinge elasticnet 0.0001 0.25 0.927183521739\n",
      "squared_hinge elasticnet 0.0001 0.3 0.928829841693\n",
      "squared_hinge elasticnet 0.0001 0.35 0.930604802662\n",
      "squared_hinge elasticnet 0.0001 0.4 0.932336622524\n",
      "squared_hinge elasticnet 0.0001 0.45 0.934191046778\n",
      "squared_hinge elasticnet 0.0001 0.5 0.933938956023\n",
      "squared_hinge elasticnet 0.0001 0.55 0.934649710893\n",
      "squared_hinge elasticnet 0.0001 0.6 0.933222961695\n",
      "squared_hinge elasticnet 0.0001 0.65 0.931960580835\n",
      "squared_hinge elasticnet 0.0001 0.7 0.929768503386\n",
      "squared_hinge elasticnet 0.0001 0.75 0.926149749477\n",
      "squared_hinge elasticnet 0.0001 0.8 0.92101419435\n",
      "squared_hinge elasticnet 0.0001 0.85 0.916292697412\n",
      "squared_hinge elasticnet 0.001 0.1 0.881700977575\n",
      "squared_hinge elasticnet 0.001 0.15 0.884919737362\n",
      "squared_hinge elasticnet 0.001 0.2 0.88887507819\n",
      "squared_hinge elasticnet 0.001 0.25 0.893071914194\n",
      "squared_hinge elasticnet 0.001 0.3 0.896317245118\n",
      "squared_hinge elasticnet 0.001 0.35 0.899939007717\n",
      "squared_hinge elasticnet 0.001 0.4 0.903727506039\n",
      "squared_hinge elasticnet 0.001 0.45 0.906331193329\n",
      "squared_hinge elasticnet 0.001 0.5 0.908111347814\n",
      "squared_hinge elasticnet 0.001 0.55 0.909846175447\n",
      "squared_hinge elasticnet 0.001 0.6 0.911504283974\n",
      "squared_hinge elasticnet 0.001 0.65 0.910585847394\n",
      "squared_hinge elasticnet 0.001 0.7 0.908642205439\n",
      "squared_hinge elasticnet 0.001 0.75 0.906643978997\n",
      "squared_hinge elasticnet 0.001 0.8 0.903432208437\n",
      "squared_hinge elasticnet 0.001 0.85 0.89734396751\n",
      "squared_hinge elasticnet 0.01 0.1 0.816248282618\n",
      "squared_hinge elasticnet 0.01 0.15 0.816974712318\n",
      "squared_hinge elasticnet 0.01 0.2 0.819534743246\n",
      "squared_hinge elasticnet 0.01 0.25 0.824708073272\n",
      "squared_hinge elasticnet 0.01 0.3 0.830350695832\n",
      "squared_hinge elasticnet 0.01 0.35 0.832294294709\n",
      "squared_hinge elasticnet 0.01 0.4 0.833633201445\n",
      "squared_hinge elasticnet 0.01 0.45 0.83520023417\n",
      "squared_hinge elasticnet 0.01 0.5 0.831104383407\n",
      "squared_hinge elasticnet 0.01 0.55 0.825595550272\n",
      "squared_hinge elasticnet 0.01 0.6 0.818354324133\n",
      "squared_hinge elasticnet 0.01 0.65 0.811820757834\n",
      "squared_hinge elasticnet 0.01 0.7 0.803002275525\n",
      "squared_hinge elasticnet 0.01 0.75 0.793400395411\n",
      "squared_hinge elasticnet 0.01 0.8 0.782567711738\n",
      "squared_hinge elasticnet 0.01 0.85 0.772211462896\n",
      "squared_hinge elasticnet 0.1 0.1 0.571072820372\n",
      "squared_hinge elasticnet 0.1 0.15 0.57195177737\n",
      "squared_hinge elasticnet 0.1 0.2 0.567546409827\n",
      "squared_hinge elasticnet 0.1 0.25 0.567590043861\n",
      "squared_hinge elasticnet 0.1 0.3 0.562578161762\n",
      "squared_hinge elasticnet 0.1 0.35 0.565947911378\n",
      "squared_hinge elasticnet 0.1 0.4 0.565490345618\n",
      "squared_hinge elasticnet 0.1 0.45 0.558390288438\n",
      "squared_hinge elasticnet 0.1 0.5 0.55976534382\n",
      "squared_hinge elasticnet 0.1 0.55 0.560191962657\n",
      "squared_hinge elasticnet 0.1 0.6 0.558811655819\n",
      "squared_hinge elasticnet 0.1 0.65 0.556377483302\n",
      "squared_hinge elasticnet 0.1 0.7 0.556962638486\n",
      "squared_hinge elasticnet 0.1 0.75 0.560062003692\n",
      "squared_hinge elasticnet 0.1 0.8 0.563025517626\n",
      "squared_hinge elasticnet 0.1 0.85 0.579486791584\n",
      "squared_hinge elasticnet 1.0 0.1 0.559397317255\n",
      "squared_hinge elasticnet 1.0 0.15 0.561117880483\n",
      "squared_hinge elasticnet 1.0 0.2 0.569566386429\n",
      "squared_hinge elasticnet 1.0 0.25 0.566603754023\n",
      "squared_hinge elasticnet 1.0 0.3 0.564559719183\n",
      "squared_hinge elasticnet 1.0 0.35 0.575866172617\n",
      "squared_hinge elasticnet 1.0 0.4 0.569760443339\n",
      "squared_hinge elasticnet 1.0 0.45 0.567080908322\n",
      "squared_hinge elasticnet 1.0 0.5 0.545893426792\n",
      "squared_hinge elasticnet 1.0 0.55 0.545893426792\n",
      "squared_hinge elasticnet 1.0 0.6 0.545893426792\n",
      "squared_hinge elasticnet 1.0 0.65 0.534817208245\n",
      "squared_hinge elasticnet 1.0 0.7 0.525965149011\n",
      "squared_hinge elasticnet 1.0 0.75 0.5\n",
      "squared_hinge elasticnet 1.0 0.8 0.5\n",
      "squared_hinge elasticnet 1.0 0.85 0.5\n",
      "squared_hinge elasticnet 10.0 0.1 0.5\n",
      "squared_hinge elasticnet 10.0 0.15 0.5\n",
      "squared_hinge elasticnet 10.0 0.2 0.5\n",
      "squared_hinge elasticnet 10.0 0.25 0.5\n",
      "squared_hinge elasticnet 10.0 0.3 0.5\n",
      "squared_hinge elasticnet 10.0 0.35 0.5\n",
      "squared_hinge elasticnet 10.0 0.4 0.5\n",
      "squared_hinge elasticnet 10.0 0.45 0.5\n",
      "squared_hinge elasticnet 10.0 0.5 0.5\n",
      "squared_hinge elasticnet 10.0 0.55 0.5\n",
      "squared_hinge elasticnet 10.0 0.6 0.5\n",
      "squared_hinge elasticnet 10.0 0.65 0.5\n",
      "squared_hinge elasticnet 10.0 0.7 0.5\n",
      "squared_hinge elasticnet 10.0 0.75 0.5\n",
      "squared_hinge elasticnet 10.0 0.8 0.5\n",
      "squared_hinge elasticnet 10.0 0.85 0.5\n",
      "squared_hinge elasticnet 100.0 0.1 0.5\n",
      "squared_hinge elasticnet 100.0 0.15 0.5\n",
      "squared_hinge elasticnet 100.0 0.2 0.5\n",
      "squared_hinge elasticnet 100.0 0.25 0.5\n",
      "squared_hinge elasticnet 100.0 0.3 0.5\n",
      "squared_hinge elasticnet 100.0 0.35 0.5\n",
      "squared_hinge elasticnet 100.0 0.4 0.5\n",
      "squared_hinge elasticnet 100.0 0.45 0.5\n",
      "squared_hinge elasticnet 100.0 0.5 0.5\n",
      "squared_hinge elasticnet 100.0 0.55 0.5\n",
      "squared_hinge elasticnet 100.0 0.6 0.5\n",
      "squared_hinge elasticnet 100.0 0.65 0.5\n",
      "squared_hinge elasticnet 100.0 0.7 0.5\n",
      "squared_hinge elasticnet 100.0 0.75 0.5\n",
      "squared_hinge elasticnet 100.0 0.8 0.5\n",
      "squared_hinge elasticnet 100.0 0.85 0.5\n",
      "squared_hinge elasticnet 1000.0 0.1 0.5\n",
      "squared_hinge elasticnet 1000.0 0.15 0.5\n",
      "squared_hinge elasticnet 1000.0 0.2 0.5\n",
      "squared_hinge elasticnet 1000.0 0.25 0.5\n",
      "squared_hinge elasticnet 1000.0 0.3 0.5\n",
      "squared_hinge elasticnet 1000.0 0.35 0.5\n",
      "squared_hinge elasticnet 1000.0 0.4 0.5\n",
      "squared_hinge elasticnet 1000.0 0.45 0.5\n",
      "squared_hinge elasticnet 1000.0 0.5 0.5\n",
      "squared_hinge elasticnet 1000.0 0.55 0.5\n",
      "squared_hinge elasticnet 1000.0 0.6 0.5\n",
      "squared_hinge elasticnet 1000.0 0.65 0.5\n",
      "squared_hinge elasticnet 1000.0 0.7 0.5\n",
      "squared_hinge elasticnet 1000.0 0.75 0.5\n",
      "squared_hinge elasticnet 1000.0 0.8 0.5\n",
      "squared_hinge elasticnet 1000.0 0.85 0.5\n",
      "squared_hinge elasticnet 10000.0 0.1 0.5\n",
      "squared_hinge elasticnet 10000.0 0.15 0.5\n",
      "squared_hinge elasticnet 10000.0 0.2 0.5\n",
      "squared_hinge elasticnet 10000.0 0.25 0.5\n",
      "squared_hinge elasticnet 10000.0 0.3 0.5\n",
      "squared_hinge elasticnet 10000.0 0.35 0.5\n",
      "squared_hinge elasticnet 10000.0 0.4 0.5\n",
      "squared_hinge elasticnet 10000.0 0.45 0.5\n",
      "squared_hinge elasticnet 10000.0 0.5 0.5\n",
      "squared_hinge elasticnet 10000.0 0.55 0.5\n",
      "squared_hinge elasticnet 10000.0 0.6 0.5\n",
      "squared_hinge elasticnet 10000.0 0.65 0.5\n",
      "squared_hinge elasticnet 10000.0 0.7 0.5\n",
      "squared_hinge elasticnet 10000.0 0.75 0.5\n",
      "squared_hinge elasticnet 10000.0 0.8 0.5\n",
      "squared_hinge elasticnet 10000.0 0.85 0.5\n"
     ]
    },
    {
     "data": {
      "application/vnd.jupyter.widget-view+json": {
       "model_id": "5e7ad7d8a872425bb62352d0f6a16215",
       "version_major": 2,
       "version_minor": 0
      },
      "text/plain": [
       "A Jupyter Widget"
      ]
     },
     "metadata": {},
     "output_type": "display_data"
    },
    {
     "data": {
      "application/vnd.jupyter.widget-view+json": {
       "model_id": "0d08570cd3424606914fc82d70a386aa",
       "version_major": 2,
       "version_minor": 0
      },
      "text/plain": [
       "A Jupyter Widget"
      ]
     },
     "metadata": {},
     "output_type": "display_data"
    },
    {
     "name": "stdout",
     "output_type": "stream",
     "text": [
      "perceptron l2 1e-05 0.934130789281\n",
      "perceptron l2 0.0001 0.932811590029\n",
      "perceptron l2 0.001 0.923319586415\n",
      "perceptron l2 0.01 0.905816698071\n",
      "perceptron l2 0.1 0.865955970169\n",
      "perceptron l2 1.0 0.802971992581\n",
      "perceptron l2 10.0 0.76850659767\n",
      "perceptron l2 100.0 0.768473770547\n",
      "perceptron l2 1000.0 0.768460638189\n",
      "perceptron l2 10000.0 0.768458297091\n"
     ]
    },
    {
     "data": {
      "application/vnd.jupyter.widget-view+json": {
       "model_id": "2bc75daa1c27421d9dcc720af33d3177",
       "version_major": 2,
       "version_minor": 0
      },
      "text/plain": [
       "A Jupyter Widget"
      ]
     },
     "metadata": {},
     "output_type": "display_data"
    },
    {
     "name": "stdout",
     "output_type": "stream",
     "text": [
      "perceptron l1 1e-05 0.902287623631\n",
      "perceptron l1 0.0001 0.816350017157\n",
      "perceptron l1 0.001 0.536097914731\n",
      "perceptron l1 0.01 0.498768429351\n",
      "perceptron l1 0.1 0.5\n",
      "perceptron l1 1.0 0.5\n",
      "perceptron l1 10.0 0.5\n",
      "perceptron l1 100.0 0.5\n",
      "perceptron l1 1000.0 0.5\n",
      "perceptron l1 10000.0 0.5\n"
     ]
    },
    {
     "data": {
      "application/vnd.jupyter.widget-view+json": {
       "model_id": "96b6e2bd64954f7eb63729f4d3d11ffe",
       "version_major": 2,
       "version_minor": 0
      },
      "text/plain": [
       "A Jupyter Widget"
      ]
     },
     "metadata": {},
     "output_type": "display_data"
    },
    {
     "name": "stdout",
     "output_type": "stream",
     "text": [
      "perceptron elasticnet 1e-05 0.1 0.924229757151\n",
      "perceptron elasticnet 1e-05 0.15 0.918719437048\n",
      "perceptron elasticnet 1e-05 0.2 0.930867226168\n",
      "perceptron elasticnet 1e-05 0.25 0.925543668979\n",
      "perceptron elasticnet 1e-05 0.3 0.92408135277\n",
      "perceptron elasticnet 1e-05 0.35 0.922651022869\n",
      "perceptron elasticnet 1e-05 0.4 0.925824594208\n",
      "perceptron elasticnet 1e-05 0.45 0.925449103181\n",
      "perceptron elasticnet 1e-05 0.5 0.925438365618\n",
      "perceptron elasticnet 1e-05 0.55 0.923258422011\n",
      "perceptron elasticnet 1e-05 0.6 0.918977435502\n",
      "perceptron elasticnet 1e-05 0.65 0.919223514922\n",
      "perceptron elasticnet 1e-05 0.7 0.918172284613\n",
      "perceptron elasticnet 1e-05 0.75 0.91563182873\n",
      "perceptron elasticnet 1e-05 0.8 0.916004300436\n",
      "perceptron elasticnet 1e-05 0.85 0.912183796271\n",
      "perceptron elasticnet 0.0001 0.1 0.909241355173\n",
      "perceptron elasticnet 0.0001 0.15 0.907276320925\n",
      "perceptron elasticnet 0.0001 0.2 0.893940358645\n",
      "perceptron elasticnet 0.0001 0.25 0.888594222415\n",
      "perceptron elasticnet 0.0001 0.3 0.883177425955\n",
      "perceptron elasticnet 0.0001 0.35 0.883120154709\n",
      "perceptron elasticnet 0.0001 0.4 0.878133057181\n",
      "perceptron elasticnet 0.0001 0.45 0.871521120821\n",
      "perceptron elasticnet 0.0001 0.5 0.860465238674\n",
      "perceptron elasticnet 0.0001 0.55 0.869328826451\n",
      "perceptron elasticnet 0.0001 0.6 0.840042306977\n",
      "perceptron elasticnet 0.0001 0.65 0.844036366481\n",
      "perceptron elasticnet 0.0001 0.7 0.835811479044\n",
      "perceptron elasticnet 0.0001 0.75 0.847214977832\n",
      "perceptron elasticnet 0.0001 0.8 0.828405354451\n",
      "perceptron elasticnet 0.0001 0.85 0.828803629764\n",
      "perceptron elasticnet 0.001 0.1 0.835724812934\n",
      "perceptron elasticnet 0.001 0.15 0.807856674717\n",
      "perceptron elasticnet 0.001 0.2 0.791190372845\n",
      "perceptron elasticnet 0.001 0.25 0.765372128347\n",
      "perceptron elasticnet 0.001 0.3 0.695880215774\n",
      "perceptron elasticnet 0.001 0.35 0.638793277608\n",
      "perceptron elasticnet 0.001 0.4 0.58328484449\n",
      "perceptron elasticnet 0.001 0.45 0.574243333077\n",
      "perceptron elasticnet 0.001 0.5 0.564146647707\n",
      "perceptron elasticnet 0.001 0.55 0.524404048566\n",
      "perceptron elasticnet 0.001 0.6 0.530328767458\n",
      "perceptron elasticnet 0.001 0.65 0.526643380859\n",
      "perceptron elasticnet 0.001 0.7 0.524465732743\n",
      "perceptron elasticnet 0.001 0.75 0.524465732743\n",
      "perceptron elasticnet 0.001 0.8 0.523172477917\n",
      "perceptron elasticnet 0.001 0.85 0.523636708767\n",
      "perceptron elasticnet 0.01 0.1 0.656590509572\n",
      "perceptron elasticnet 0.01 0.15 0.581698334085\n",
      "perceptron elasticnet 0.01 0.2 0.524404048566\n",
      "perceptron elasticnet 0.01 0.25 0.5\n",
      "perceptron elasticnet 0.01 0.3 0.5\n",
      "perceptron elasticnet 0.01 0.35 0.5\n",
      "perceptron elasticnet 0.01 0.4 0.5\n",
      "perceptron elasticnet 0.01 0.45 0.5\n",
      "perceptron elasticnet 0.01 0.5 0.5\n",
      "perceptron elasticnet 0.01 0.55 0.5\n",
      "perceptron elasticnet 0.01 0.6 0.5\n",
      "perceptron elasticnet 0.01 0.65 0.5\n",
      "perceptron elasticnet 0.01 0.7 0.5\n",
      "perceptron elasticnet 0.01 0.75 0.5\n",
      "perceptron elasticnet 0.01 0.8 0.5\n",
      "perceptron elasticnet 0.01 0.85 0.5\n",
      "perceptron elasticnet 0.1 0.1 0.5\n",
      "perceptron elasticnet 0.1 0.15 0.5\n",
      "perceptron elasticnet 0.1 0.2 0.5\n",
      "perceptron elasticnet 0.1 0.25 0.5\n",
      "perceptron elasticnet 0.1 0.3 0.5\n",
      "perceptron elasticnet 0.1 0.35 0.5\n",
      "perceptron elasticnet 0.1 0.4 0.5\n",
      "perceptron elasticnet 0.1 0.45 0.5\n",
      "perceptron elasticnet 0.1 0.5 0.5\n",
      "perceptron elasticnet 0.1 0.55 0.5\n",
      "perceptron elasticnet 0.1 0.6 0.5\n",
      "perceptron elasticnet 0.1 0.65 0.5\n",
      "perceptron elasticnet 0.1 0.7 0.5\n",
      "perceptron elasticnet 0.1 0.75 0.5\n",
      "perceptron elasticnet 0.1 0.8 0.5\n",
      "perceptron elasticnet 0.1 0.85 0.5\n",
      "perceptron elasticnet 1.0 0.1 0.5\n",
      "perceptron elasticnet 1.0 0.15 0.5\n",
      "perceptron elasticnet 1.0 0.2 0.5\n",
      "perceptron elasticnet 1.0 0.25 0.5\n",
      "perceptron elasticnet 1.0 0.3 0.5\n",
      "perceptron elasticnet 1.0 0.35 0.5\n",
      "perceptron elasticnet 1.0 0.4 0.5\n",
      "perceptron elasticnet 1.0 0.45 0.5\n",
      "perceptron elasticnet 1.0 0.5 0.5\n",
      "perceptron elasticnet 1.0 0.55 0.5\n",
      "perceptron elasticnet 1.0 0.6 0.5\n",
      "perceptron elasticnet 1.0 0.65 0.5\n",
      "perceptron elasticnet 1.0 0.7 0.5\n",
      "perceptron elasticnet 1.0 0.75 0.5\n",
      "perceptron elasticnet 1.0 0.8 0.5\n",
      "perceptron elasticnet 1.0 0.85 0.5\n",
      "perceptron elasticnet 10.0 0.1 0.5\n",
      "perceptron elasticnet 10.0 0.15 0.5\n",
      "perceptron elasticnet 10.0 0.2 0.5\n",
      "perceptron elasticnet 10.0 0.25 0.5\n",
      "perceptron elasticnet 10.0 0.3 0.5\n",
      "perceptron elasticnet 10.0 0.35 0.5\n",
      "perceptron elasticnet 10.0 0.4 0.5\n",
      "perceptron elasticnet 10.0 0.45 0.5\n",
      "perceptron elasticnet 10.0 0.5 0.5\n",
      "perceptron elasticnet 10.0 0.55 0.5\n",
      "perceptron elasticnet 10.0 0.6 0.5\n",
      "perceptron elasticnet 10.0 0.65 0.5\n",
      "perceptron elasticnet 10.0 0.7 0.5\n",
      "perceptron elasticnet 10.0 0.75 0.5\n",
      "perceptron elasticnet 10.0 0.8 0.5\n",
      "perceptron elasticnet 10.0 0.85 0.5\n",
      "perceptron elasticnet 100.0 0.1 0.5\n",
      "perceptron elasticnet 100.0 0.15 0.5\n",
      "perceptron elasticnet 100.0 0.2 0.5\n",
      "perceptron elasticnet 100.0 0.25 0.5\n",
      "perceptron elasticnet 100.0 0.3 0.5\n",
      "perceptron elasticnet 100.0 0.35 0.5\n",
      "perceptron elasticnet 100.0 0.4 0.5\n",
      "perceptron elasticnet 100.0 0.45 0.5\n",
      "perceptron elasticnet 100.0 0.5 0.5\n",
      "perceptron elasticnet 100.0 0.55 0.5\n",
      "perceptron elasticnet 100.0 0.6 0.5\n",
      "perceptron elasticnet 100.0 0.65 0.5\n",
      "perceptron elasticnet 100.0 0.7 0.5\n",
      "perceptron elasticnet 100.0 0.75 0.5\n",
      "perceptron elasticnet 100.0 0.8 0.5\n",
      "perceptron elasticnet 100.0 0.85 0.5\n",
      "perceptron elasticnet 1000.0 0.1 0.5\n",
      "perceptron elasticnet 1000.0 0.15 0.5\n",
      "perceptron elasticnet 1000.0 0.2 0.5\n",
      "perceptron elasticnet 1000.0 0.25 0.5\n",
      "perceptron elasticnet 1000.0 0.3 0.5\n",
      "perceptron elasticnet 1000.0 0.35 0.5\n",
      "perceptron elasticnet 1000.0 0.4 0.5\n",
      "perceptron elasticnet 1000.0 0.45 0.5\n",
      "perceptron elasticnet 1000.0 0.5 0.5\n",
      "perceptron elasticnet 1000.0 0.55 0.5\n",
      "perceptron elasticnet 1000.0 0.6 0.5\n",
      "perceptron elasticnet 1000.0 0.65 0.5\n",
      "perceptron elasticnet 1000.0 0.7 0.5\n",
      "perceptron elasticnet 1000.0 0.75 0.5\n",
      "perceptron elasticnet 1000.0 0.8 0.5\n",
      "perceptron elasticnet 1000.0 0.85 0.5\n",
      "perceptron elasticnet 10000.0 0.1 0.5\n",
      "perceptron elasticnet 10000.0 0.15 0.5\n",
      "perceptron elasticnet 10000.0 0.2 0.5\n",
      "perceptron elasticnet 10000.0 0.25 0.5\n",
      "perceptron elasticnet 10000.0 0.3 0.5\n",
      "perceptron elasticnet 10000.0 0.35 0.5\n",
      "perceptron elasticnet 10000.0 0.4 0.5\n",
      "perceptron elasticnet 10000.0 0.45 0.5\n",
      "perceptron elasticnet 10000.0 0.5 0.5\n",
      "perceptron elasticnet 10000.0 0.55 0.5\n",
      "perceptron elasticnet 10000.0 0.6 0.5\n",
      "perceptron elasticnet 10000.0 0.65 0.5\n",
      "perceptron elasticnet 10000.0 0.7 0.5\n",
      "perceptron elasticnet 10000.0 0.75 0.5\n",
      "perceptron elasticnet 10000.0 0.8 0.5\n",
      "perceptron elasticnet 10000.0 0.85 0.5\n"
     ]
    }
   ],
   "source": [
    "loss = ['hinge', 'log', 'modified_huber', 'squared_hinge', 'perceptron']\n",
    "penalty = ['l2', 'l1', 'elasticnet']\n",
    "alpha = np.power(10.,np.arange(-5,5))\n",
    "l1_ratio = np.arange(0.1,0.9,0.05)\n",
    "for p1 in tqdm_notebook(loss):\n",
    "    for p2 in tqdm_notebook(penalty):\n",
    "        for p3 in tqdm_notebook(alpha):\n",
    "            if p2=='elasticnet':\n",
    "                for p4 in l1_ratio:\n",
    "                    print p1, p2, p3, p4, np.mean(cross_val_score(SGDClassifier(loss = p1, penalty = p2, alpha = p3, l1_ratio=p4, random_state=17, n_jobs=-1), X_train_sparse, y, cv = kf, scoring='roc_auc'))\n",
    "            else:\n",
    "                print p1, p2, p3, np.mean(cross_val_score(SGDClassifier(loss = p1, penalty = p2, alpha = p3,  random_state=17, n_jobs=-1), X_train_sparse, y, cv = kf, scoring='roc_auc'))\n",
    "          \n",
    "                \n",
    "           "
   ]
  },
  {
   "cell_type": "code",
   "execution_count": 223,
   "metadata": {},
   "outputs": [],
   "source": [
    "alpha = np.power(10.,np.arange(-7,-3.9,0.1))"
   ]
  },
  {
   "cell_type": "code",
   "execution_count": 227,
   "metadata": {},
   "outputs": [
    {
     "data": {
      "application/vnd.jupyter.widget-view+json": {
       "model_id": "fc9b87b7c3f04beab548ad673824e805",
       "version_major": 2,
       "version_minor": 0
      },
      "text/plain": [
       "A Jupyter Widget"
      ]
     },
     "metadata": {},
     "output_type": "display_data"
    },
    {
     "name": "stdout",
     "output_type": "stream",
     "text": [
      "1e-07 0.838621063412\n",
      "1.25892541179e-07 0.834897322423\n",
      "1.58489319246e-07 0.843720734326\n",
      "1.99526231497e-07 0.856313294004\n",
      "2.51188643151e-07 0.863655038077\n",
      "3.16227766017e-07 0.855270594406\n",
      "3.98107170553e-07 0.889225410547\n",
      "5.01187233627e-07 0.879998290048\n",
      "6.3095734448e-07 0.904365900652\n",
      "7.94328234724e-07 0.883337166471\n",
      "1e-06 0.886633987525\n",
      "1.25892541179e-06 0.89610665294\n",
      "1.58489319246e-06 0.903058832633\n",
      "1.99526231497e-06 0.91395671657\n",
      "2.51188643151e-06 0.912851532669\n",
      "3.16227766017e-06 0.922844373693\n",
      "3.98107170553e-06 0.931866352834\n",
      "5.01187233627e-06 0.938580528584\n",
      "6.3095734448e-06 0.944353440642\n",
      "7.94328234724e-06 0.948616795982\n",
      "1e-05 0.951322409824\n",
      "1.25892541179e-05 0.952992254627\n",
      "1.58489319246e-05 0.953753748102\n",
      "1.99526231497e-05 0.954006245228\n",
      "2.51188643151e-05 0.953751074399\n",
      "3.16227766017e-05 0.953067551868\n",
      "3.98107170553e-05 0.951845814973\n",
      "5.01187233627e-05 0.95003189415\n",
      "6.3095734448e-05 0.947467247577\n",
      "7.94328234724e-05 0.944160922049\n",
      "0.0001 0.939520111547\n",
      "\n"
     ]
    }
   ],
   "source": [
    "for a in tqdm_notebook(alpha):\n",
    "     print a, np.mean(cross_val_score(SGDClassifier(loss = 'log', penalty = 'l2', alpha = a,  random_state=17, n_jobs=-1), X_train_sparse, y, cv = kf, scoring='roc_auc'))\n",
    "          "
   ]
  },
  {
   "cell_type": "code",
   "execution_count": 228,
   "metadata": {
    "collapsed": true
   },
   "outputs": [],
   "source": [
    "a = 1.99526231497e-05"
   ]
  },
  {
   "cell_type": "code",
   "execution_count": 237,
   "metadata": {},
   "outputs": [
    {
     "name": "stdout",
     "output_type": "stream",
     "text": [
      "Wall time: 729 ms\n"
     ]
    }
   ],
   "source": [
    "%%time\n",
    "sgd_logit  = SGDClassifier(loss = 'log', penalty = 'l2', alpha = a,  n_jobs=-1)\n",
    "sgd_logit.fit(X_train_sparse, y)\n",
    "logit_test_pred_proba = sgd_logit.predict_proba(X_test_sparse)[:,1]"
   ]
  },
  {
   "cell_type": "code",
   "execution_count": 238,
   "metadata": {
    "collapsed": true
   },
   "outputs": [],
   "source": [
    "write_to_submission_file(logit_test_pred_proba, 'logit_test_pred_proba.csv')"
   ]
  },
  {
   "cell_type": "code",
   "execution_count": null,
   "metadata": {
    "collapsed": true
   },
   "outputs": [],
   "source": []
  },
  {
   "cell_type": "markdown",
   "metadata": {},
   "source": [
    "## Критерии оценки работы:\n",
    "- Правильные ли получились размерности матриц в п. 1? (max. 2 балла)\n",
    "- Правильным ли получилось значения ROC AUC в п. 2? (max. 4 балла)\n",
    "- Побит ли бенчмарк \"sgd_logit_benchmark.csv\" на публичной части рейтинга в соревновании Kaggle? (max. 2 балла)\n",
    "- Побит ли бенчмарк \"Logit +3 features\" на публичной части рейтинга в соревновании Kaggle? (max. 2 балла)"
   ]
  },
  {
   "cell_type": "markdown",
   "metadata": {
    "collapsed": true
   },
   "source": [
    "## Пути улучшения\n",
    "На этой неделе дается много времени на соревнование. Не забывайте вносить хорошие идеи, к которым Вы пришли по ходу соревнования, в описание финального проекта (`html`, `pdf` или `ipynb`).\n",
    "Что можно попробовать:\n",
    " - Использовать ранее построенные признаки для улучшения модели (проверить их можно на меньшей выборке по 150 пользователям, отделив одного из пользователей от остальных – это быстрее)\n",
    " - Настроить параметры моделей (например, коэффициенты регуляризации)\n",
    " - Если позволяют мощности (или хватает терпения), можно попробовать смешивание (блендинг) ответов бустинга и линейной модели. [Вот](http://mlwave.com/kaggle-ensembling-guide/) один из самых известных тьюториалов по смешиванию ответов алгоритмов, также хороша [статья](https://alexanderdyakonov.wordpress.com/2017/03/10/cтекинг-stacking-и-блендинг-blending) Александра Дьяконова\n",
    " - Обратите внимание, что в соревновании также даны исходные данные о посещенных веб-страницах Элис и остальными 1557 пользователями (*train.zip*). По этим данным можно сформировать свою обучающую выборку. \n",
    "\n",
    "На 6 неделе мы пройдем большой тьюториал по Vowpal Wabbit и попробуем его в деле, на данных соревнования."
   ]
  }
 ],
 "metadata": {
  "kernelspec": {
   "display_name": "Python 2",
   "language": "python",
   "name": "python2"
  },
  "language_info": {
   "codemirror_mode": {
    "name": "ipython",
    "version": 2
   },
   "file_extension": ".py",
   "mimetype": "text/x-python",
   "name": "python",
   "nbconvert_exporter": "python",
   "pygments_lexer": "ipython2",
   "version": "2.7.13"
  }
 },
 "nbformat": 4,
 "nbformat_minor": 1
}
